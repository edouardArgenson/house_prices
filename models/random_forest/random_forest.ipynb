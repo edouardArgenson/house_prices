{
 "cells": [
  {
   "cell_type": "code",
   "execution_count": 1,
   "metadata": {
    "collapsed": false
   },
   "outputs": [
    {
     "name": "stderr",
     "output_type": "stream",
     "text": [
      "\n",
      "Attaching package: ‘kernlab’\n",
      "\n",
      "The following object is masked from ‘package:ggplot2’:\n",
      "\n",
      "    alpha\n",
      "\n"
     ]
    }
   ],
   "source": [
    "library('lattice')\n",
    "library('ggplot2')\n",
    "library('caret')\n",
    "library('data.table')\n",
    "library('Metrics')\n",
    "library('MASS')\n",
    "library('e1071')\n",
    "library('kernlab')\n",
    "library('ranger')"
   ]
  },
  {
   "cell_type": "code",
   "execution_count": 2,
   "metadata": {
    "collapsed": false
   },
   "outputs": [],
   "source": [
    "#print(train)\n",
    "#print(test)\n"
   ]
  },
  {
   "cell_type": "code",
   "execution_count": 3,
   "metadata": {
    "collapsed": true
   },
   "outputs": [],
   "source": [
    "train = fread('~/kaggle/house_prices/data/train.csv',\n",
    "              colClasses=c('MiscFeature'='character','PoolQC'='character','Alley'='character'))\n",
    "\n",
    "# Il faut renommer les colonnes 1stFlrSF, 2ndFlrSF, et 3SsnPorch pour pas avoir d'emmerdes\n",
    "FirstFlrSF=train$'1stFlrSF'\n",
    "SecondFlrSF=train$'2ndFlrSF'\n",
    "ThreeSsnPorch=train$'3SsnPorch'\n",
    "new_names = names(train)[-which(names(train)=='1stFlrSF'|names(train)=='2ndFlrSF'|names(train)=='3SsnPorch')]\n",
    "to_add = data.table(FirstFlrSF,SecondFlrSF,ThreeSsnPorch)\n",
    "train = cbind(train[,new_names,with=FALSE],to_add)\n",
    "\n",
    "# Transform categorical arguments KitchenQual, ExterQual, BsmtQual, GarageFinish, into numerical\n",
    "\n",
    "# KitchenQual\n",
    "nKitchenQual = numeric(length(train$KitchenQual))\n",
    "nKitchenQual[train$KitchenQual=='TA']=1.0\n",
    "nKitchenQual[train$KitchenQual=='Gd']=2.0\n",
    "nKitchenQual[train$KitchenQual=='Ex']=3.0\n",
    "train=cbind(train,nKitchenQual)\n",
    "\n",
    "# ExterQual\n",
    "nExterQual = numeric(length(train$ExterQual))\n",
    "nExterQual[train$ExterQual=='TA']=1.0\n",
    "nExterQual[train$ExterQual=='Gd']=2.0\n",
    "nExterQual[train$ExterQual=='Ex']=3.0\n",
    "train=cbind(train,nExterQual)\n",
    "\n",
    "# BsmtQual\n",
    "nBsmtQual = numeric(length(train$BsmtQual))\n",
    "nBsmtQual[train$BsmtQual=='TA']=1.0\n",
    "nBsmtQual[train$BsmtQual=='Gd']=2.0\n",
    "nBsmtQual[train$BsmtQual=='Ex']=3.0\n",
    "train=cbind(train,nBsmtQual)\n",
    "\n",
    "# GarageFinish\n",
    "nGarageFinish = numeric(length(train$GarageFinish))\n",
    "nGarageFinish[train$GarageFinish=='Unf']=1.0\n",
    "nGarageFinish[train$GarageFinish=='RFn']=2.0\n",
    "nGarageFinish[train$GarageFinish=='Fin']=3.0\n",
    "train=cbind(train,nGarageFinish)\n",
    "\n",
    "# Full and half bathrooms\n",
    "train$Bath = train$FullBath + train$HalfBath\n",
    "train$BsmtBaths = train$BsmtFullBath + train$BsmtHalfBath\n",
    "\n",
    "# MSSubClassCat\n",
    "train$MSSubClassCat = train[,.(MSSubClassCat=sapply(MSSubClass,toString)),with=TRUE]"
   ]
  },
  {
   "cell_type": "code",
   "execution_count": 4,
   "metadata": {
    "collapsed": true
   },
   "outputs": [],
   "source": [
    "test = fread('~/kaggle/house_prices/data/test.csv',\n",
    "              colClasses=c('MiscFeature'='character','PoolQC'='character','Alley'='character'))\n",
    "\n",
    "# Il faut renommer les colonnes 1stFlrSF, 2ndFlrSF, et 3SsnPorch pour pas avoir d'emmerdes\n",
    "FirstFlrSF=test$'1stFlrSF'\n",
    "SecondFlrSF=test$'2ndFlrSF'\n",
    "ThreeSsnPorch=test$'3SsnPorch'\n",
    "new_names = names(test)[-which(names(test)=='1stFlrSF'|names(test)=='2ndFlrSF'|names(test)=='3SsnPorch')]\n",
    "to_add = data.table(FirstFlrSF,SecondFlrSF,ThreeSsnPorch)\n",
    "test = cbind(test[,new_names,with=FALSE],to_add)\n",
    "\n",
    "# Transform categorical arguments KitchenQual, ExterQual, BsmtQual, GarageFinish, into numerical\n",
    "\n",
    "# KitchenQual\n",
    "nKitchenQual = numeric(length(test$KitchenQual))\n",
    "nKitchenQual[test$KitchenQual=='TA']=1.0\n",
    "nKitchenQual[test$KitchenQual=='Gd']=2.0\n",
    "nKitchenQual[test$KitchenQual=='Ex']=3.0\n",
    "test=cbind(test,nKitchenQual)\n",
    "\n",
    "# ExterQual\n",
    "nExterQual = numeric(length(test$ExterQual))\n",
    "nExterQual[test$ExterQual=='TA']=1.0\n",
    "nExterQual[test$ExterQual=='Gd']=2.0\n",
    "nExterQual[test$ExterQual=='Ex']=3.0\n",
    "test=cbind(test,nExterQual)\n",
    "\n",
    "# BsmtQual\n",
    "nBsmtQual = numeric(length(test$BsmtQual))\n",
    "nBsmtQual[test$BsmtQual=='TA']=1.0\n",
    "nBsmtQual[test$BsmtQual=='Gd']=2.0\n",
    "nBsmtQual[test$BsmtQual=='Ex']=3.0\n",
    "test=cbind(test,nBsmtQual)\n",
    "\n",
    "# GarageFinish\n",
    "nGarageFinish = numeric(length(test$GarageFinish))\n",
    "nGarageFinish[test$GarageFinish=='Unf']=1.0\n",
    "nGarageFinish[test$GarageFinish=='RFn']=2.0\n",
    "nGarageFinish[test$GarageFinish=='Fin']=3.0\n",
    "test=cbind(test,nGarageFinish)\n",
    "\n",
    "# Full and half bathrooms\n",
    "test$Bath = test$FullBath + test$HalfBath\n",
    "test$BsmtBaths = test$BsmtFullBath + test$BsmtHalfBath\n",
    "\n",
    "# TotalBsmtSF_on_GrLivArea\n",
    "test$TotalBsmtSF_on_GrLivArea = test$TotalBsmtSF/test$GrLivArea\n",
    "\n",
    "# MSSubClassCat\n",
    "test$MSSubClassCat = test[,.(MSSubClassCat=sapply(MSSubClass,toString)),with=TRUE]"
   ]
  },
  {
   "cell_type": "code",
   "execution_count": 5,
   "metadata": {
    "collapsed": false
   },
   "outputs": [],
   "source": [
    "#which(is.na(train$Exterior2nd))\n",
    "#table(train$Exterior2nd)\n",
    "#which(is.na(test$Exterior2nd))"
   ]
  },
  {
   "cell_type": "code",
   "execution_count": 6,
   "metadata": {
    "collapsed": false
   },
   "outputs": [],
   "source": [
    "# Separate numerical and categorical features\n",
    "num_features = names(which(sapply(train,is.numeric)))\n",
    "cat_features = names(which(sapply(train,is.character)))"
   ]
  },
  {
   "cell_type": "code",
   "execution_count": 7,
   "metadata": {
    "collapsed": false
   },
   "outputs": [
    {
     "data": {
      "text/html": [
       "<ol class=list-inline>\n",
       "\t<li>'Id'</li>\n",
       "\t<li>'MSSubClass'</li>\n",
       "\t<li>'LotFrontage'</li>\n",
       "\t<li>'LotArea'</li>\n",
       "\t<li>'OverallQual'</li>\n",
       "\t<li>'OverallCond'</li>\n",
       "\t<li>'YearBuilt'</li>\n",
       "\t<li>'YearRemodAdd'</li>\n",
       "\t<li>'MasVnrArea'</li>\n",
       "\t<li>'BsmtFinSF1'</li>\n",
       "\t<li>'BsmtFinSF2'</li>\n",
       "\t<li>'BsmtUnfSF'</li>\n",
       "\t<li>'TotalBsmtSF'</li>\n",
       "\t<li>'LowQualFinSF'</li>\n",
       "\t<li>'GrLivArea'</li>\n",
       "\t<li>'BsmtFullBath'</li>\n",
       "\t<li>'BsmtHalfBath'</li>\n",
       "\t<li>'FullBath'</li>\n",
       "\t<li>'HalfBath'</li>\n",
       "\t<li>'BedroomAbvGr'</li>\n",
       "\t<li>'KitchenAbvGr'</li>\n",
       "\t<li>'TotRmsAbvGrd'</li>\n",
       "\t<li>'Fireplaces'</li>\n",
       "\t<li>'GarageYrBlt'</li>\n",
       "\t<li>'GarageCars'</li>\n",
       "\t<li>'GarageArea'</li>\n",
       "\t<li>'WoodDeckSF'</li>\n",
       "\t<li>'OpenPorchSF'</li>\n",
       "\t<li>'EnclosedPorch'</li>\n",
       "\t<li>'ScreenPorch'</li>\n",
       "\t<li>'PoolArea'</li>\n",
       "\t<li>'MiscVal'</li>\n",
       "\t<li>'MoSold'</li>\n",
       "\t<li>'YrSold'</li>\n",
       "\t<li>'SalePrice'</li>\n",
       "\t<li>'FirstFlrSF'</li>\n",
       "\t<li>'SecondFlrSF'</li>\n",
       "\t<li>'ThreeSsnPorch'</li>\n",
       "\t<li>'nKitchenQual'</li>\n",
       "\t<li>'nExterQual'</li>\n",
       "\t<li>'nBsmtQual'</li>\n",
       "\t<li>'nGarageFinish'</li>\n",
       "\t<li>'Bath'</li>\n",
       "\t<li>'BsmtBaths'</li>\n",
       "</ol>\n"
      ],
      "text/latex": [
       "\\begin{enumerate*}\n",
       "\\item 'Id'\n",
       "\\item 'MSSubClass'\n",
       "\\item 'LotFrontage'\n",
       "\\item 'LotArea'\n",
       "\\item 'OverallQual'\n",
       "\\item 'OverallCond'\n",
       "\\item 'YearBuilt'\n",
       "\\item 'YearRemodAdd'\n",
       "\\item 'MasVnrArea'\n",
       "\\item 'BsmtFinSF1'\n",
       "\\item 'BsmtFinSF2'\n",
       "\\item 'BsmtUnfSF'\n",
       "\\item 'TotalBsmtSF'\n",
       "\\item 'LowQualFinSF'\n",
       "\\item 'GrLivArea'\n",
       "\\item 'BsmtFullBath'\n",
       "\\item 'BsmtHalfBath'\n",
       "\\item 'FullBath'\n",
       "\\item 'HalfBath'\n",
       "\\item 'BedroomAbvGr'\n",
       "\\item 'KitchenAbvGr'\n",
       "\\item 'TotRmsAbvGrd'\n",
       "\\item 'Fireplaces'\n",
       "\\item 'GarageYrBlt'\n",
       "\\item 'GarageCars'\n",
       "\\item 'GarageArea'\n",
       "\\item 'WoodDeckSF'\n",
       "\\item 'OpenPorchSF'\n",
       "\\item 'EnclosedPorch'\n",
       "\\item 'ScreenPorch'\n",
       "\\item 'PoolArea'\n",
       "\\item 'MiscVal'\n",
       "\\item 'MoSold'\n",
       "\\item 'YrSold'\n",
       "\\item 'SalePrice'\n",
       "\\item 'FirstFlrSF'\n",
       "\\item 'SecondFlrSF'\n",
       "\\item 'ThreeSsnPorch'\n",
       "\\item 'nKitchenQual'\n",
       "\\item 'nExterQual'\n",
       "\\item 'nBsmtQual'\n",
       "\\item 'nGarageFinish'\n",
       "\\item 'Bath'\n",
       "\\item 'BsmtBaths'\n",
       "\\end{enumerate*}\n"
      ],
      "text/markdown": [
       "1. 'Id'\n",
       "2. 'MSSubClass'\n",
       "3. 'LotFrontage'\n",
       "4. 'LotArea'\n",
       "5. 'OverallQual'\n",
       "6. 'OverallCond'\n",
       "7. 'YearBuilt'\n",
       "8. 'YearRemodAdd'\n",
       "9. 'MasVnrArea'\n",
       "10. 'BsmtFinSF1'\n",
       "11. 'BsmtFinSF2'\n",
       "12. 'BsmtUnfSF'\n",
       "13. 'TotalBsmtSF'\n",
       "14. 'LowQualFinSF'\n",
       "15. 'GrLivArea'\n",
       "16. 'BsmtFullBath'\n",
       "17. 'BsmtHalfBath'\n",
       "18. 'FullBath'\n",
       "19. 'HalfBath'\n",
       "20. 'BedroomAbvGr'\n",
       "21. 'KitchenAbvGr'\n",
       "22. 'TotRmsAbvGrd'\n",
       "23. 'Fireplaces'\n",
       "24. 'GarageYrBlt'\n",
       "25. 'GarageCars'\n",
       "26. 'GarageArea'\n",
       "27. 'WoodDeckSF'\n",
       "28. 'OpenPorchSF'\n",
       "29. 'EnclosedPorch'\n",
       "30. 'ScreenPorch'\n",
       "31. 'PoolArea'\n",
       "32. 'MiscVal'\n",
       "33. 'MoSold'\n",
       "34. 'YrSold'\n",
       "35. 'SalePrice'\n",
       "36. 'FirstFlrSF'\n",
       "37. 'SecondFlrSF'\n",
       "38. 'ThreeSsnPorch'\n",
       "39. 'nKitchenQual'\n",
       "40. 'nExterQual'\n",
       "41. 'nBsmtQual'\n",
       "42. 'nGarageFinish'\n",
       "43. 'Bath'\n",
       "44. 'BsmtBaths'\n",
       "\n",
       "\n"
      ],
      "text/plain": [
       " [1] \"Id\"            \"MSSubClass\"    \"LotFrontage\"   \"LotArea\"      \n",
       " [5] \"OverallQual\"   \"OverallCond\"   \"YearBuilt\"     \"YearRemodAdd\" \n",
       " [9] \"MasVnrArea\"    \"BsmtFinSF1\"    \"BsmtFinSF2\"    \"BsmtUnfSF\"    \n",
       "[13] \"TotalBsmtSF\"   \"LowQualFinSF\"  \"GrLivArea\"     \"BsmtFullBath\" \n",
       "[17] \"BsmtHalfBath\"  \"FullBath\"      \"HalfBath\"      \"BedroomAbvGr\" \n",
       "[21] \"KitchenAbvGr\"  \"TotRmsAbvGrd\"  \"Fireplaces\"    \"GarageYrBlt\"  \n",
       "[25] \"GarageCars\"    \"GarageArea\"    \"WoodDeckSF\"    \"OpenPorchSF\"  \n",
       "[29] \"EnclosedPorch\" \"ScreenPorch\"   \"PoolArea\"      \"MiscVal\"      \n",
       "[33] \"MoSold\"        \"YrSold\"        \"SalePrice\"     \"FirstFlrSF\"   \n",
       "[37] \"SecondFlrSF\"   \"ThreeSsnPorch\" \"nKitchenQual\"  \"nExterQual\"   \n",
       "[41] \"nBsmtQual\"     \"nGarageFinish\" \"Bath\"          \"BsmtBaths\"    "
      ]
     },
     "metadata": {},
     "output_type": "display_data"
    }
   ],
   "source": [
    "num_features\n",
    "num_features = num_features[-match(c('LotFrontage','OverallQual'),num_features)]\n",
    "#cat_features"
   ]
  },
  {
   "cell_type": "code",
   "execution_count": 8,
   "metadata": {
    "collapsed": false,
    "scrolled": true
   },
   "outputs": [
    {
     "name": "stdout",
     "output_type": "stream",
     "text": [
      " [1] \"LotArea\"       \"OverallCond\"   \"YearBuilt\"     \"YearRemodAdd\" \n",
      " [5] \"MasVnrArea\"    \"BsmtFinSF1\"    \"BsmtFinSF2\"    \"BsmtUnfSF\"    \n",
      " [9] \"TotalBsmtSF\"   \"LowQualFinSF\"  \"GrLivArea\"     \"BsmtFullBath\" \n",
      "[13] \"BsmtHalfBath\"  \"FullBath\"      \"HalfBath\"      \"BedroomAbvGr\" \n",
      "[17] \"KitchenAbvGr\"  \"TotRmsAbvGrd\"  \"Fireplaces\"    \"GarageYrBlt\"  \n",
      "[21] \"GarageCars\"    \"GarageArea\"    \"WoodDeckSF\"    \"OpenPorchSF\"  \n",
      "[25] \"EnclosedPorch\" \"ScreenPorch\"   \"PoolArea\"      \"MiscVal\"      \n",
      "[29] \"MoSold\"        \"YrSold\"        \"SalePrice\"     \"FirstFlrSF\"   \n",
      "[33] \"SecondFlrSF\"   \"ThreeSsnPorch\" \"nKitchenQual\"  \"nExterQual\"   \n",
      "[37] \"nBsmtQual\"     \"nGarageFinish\" \"Bath\"          \"BsmtBaths\"    \n",
      "[41] \"MSSubClassCat\" \"MSZoning\"      \"Neighborhood\"  \"HeatingQC\"    \n",
      "[45] \"CentralAir\"    \"SaleType\"      \"SaleCondition\" \"LotShape\"     \n",
      "[49] \"LandContour\"   \"BldgType\"      \"HouseStyle\"    \"Foundation\"   \n",
      "[53] \"Exterior1st\"   \"Exterior2nd\"   \"Functional\"    \"PavedDrive\"   \n",
      "[57] \"IsGarage\"      \"BsmtCond\"      \"BsmtFinType1\" \n"
     ]
    }
   ],
   "source": [
    "# Select features for training\n",
    "kept_features = c(num_features,\"MSSubClassCat\",\"MSZoning\",\"Neighborhood\",\"HeatingQC\",\"CentralAir\",\"SaleType\",\"SaleCondition\",\n",
    "                 \"LotShape\",\"LandContour\",\"BldgType\",\"HouseStyle\",\"Foundation\",\"Exterior1st\",\"Exterior2nd\",\"Functional\",\n",
    "                 \"PavedDrive\",\"IsGarage\",\"BsmtCond\",\"BsmtFinType1\")\n",
    "kept_features = kept_features[-1] #Get rid of 'Id'\n",
    "kept_features = kept_features[-1] #Get rid of 'MSSubClass' which have been replaced by 'MSSubClassCat'\n",
    "print(kept_features)"
   ]
  },
  {
   "cell_type": "code",
   "execution_count": 9,
   "metadata": {
    "collapsed": false
   },
   "outputs": [],
   "source": [
    "# Deal with missing values\n",
    "LotFrontage_mean = round(mean(train$LotFrontage,na.rm=TRUE))\n",
    "train[which(is.na(LotFrontage)),'LotFrontage'] <- LotFrontage_mean\n",
    "train=cbind(train,\"IsGarage\"=1+numeric(nrow(train)))\n",
    "train[which(is.na(GarageYrBlt)),'GarageYrBlt'] <- -1\n",
    "#train[which(is.na(GarageQual)),'IsGarage'] <- 0\n",
    "train[which(is.na(MasVnrArea)),'MasVnrArea'] <- 0\n",
    "train[which(is.na(BsmtCond)),'BsmtCond'] <- 'MISSING'\n",
    "train[which(is.na(BsmtFinType1)),'BsmtFinType1'] <- 'MISSING'\n",
    "train[which(is.na(BsmtFinType2)),'BsmtFinType2'] <- 'MISSING'\n",
    "train[which(is.na(BsmtFinSF1)),'BsmtFinSF1'] <- 0\n",
    "train[which(is.na(BsmtFinSF2)),'BsmtFinSF2'] <- 0\n",
    "train[which(is.na(TotalBsmtSF)),'TotalBsmtSF'] <- 0\n",
    "train[which(is.na(GarageCars)),'GarageCars'] <- 0\n",
    "train[which(is.na(GarageArea)),'GarageArea'] <- 0\n",
    "train[which(is.na(BsmtUnfSF)),'BsmtUnfSF'] <- 0\n",
    "train[which(is.na(BsmtFullBath)),'BsmtFullBath'] <- 0\n",
    "train[which(is.na(BsmtHalfBath)),'BsmtHalfBath'] <- 0\n",
    "train[which(is.na(MSZoning)),'MSZoning'] <- 'RL'\n",
    "train[which(is.na(SaleType)),'SaleType'] <- 'Oth'\n",
    "train[which(is.na(Exterior1st)),'Exterior1st'] <- 'Other'\n",
    "train[which(is.na(Exterior2nd)),'Exterior2nd'] <- 'Other'\n",
    "train[which(is.na(Functional)),'Functional'] <- 'Typ'\n",
    "\n",
    "# Deal with missing values\n",
    "test[which(is.na(LotFrontage)),'LotFrontage'] <- LotFrontage_mean\n",
    "test=cbind(test,\"IsGarage\"=1+numeric(nrow(test)))\n",
    "test[which(is.na(GarageYrBlt)),'GarageYrBlt'] <- -1\n",
    "#test.sample[which(is.na(GarageQual)),'IsGarage'] <- 0\n",
    "test[which(is.na(MasVnrArea)),'MasVnrArea'] <- 0\n",
    "test[which(is.na(BsmtCond)),'BsmtCond'] <- 'MISSING'\n",
    "test[which(is.na(BsmtFinType1)),'BsmtFinType1'] <- 'MISSING'\n",
    "test[which(is.na(BsmtFinType2)),'BsmtFinType2'] <- 'MISSING'\n",
    "test[which(is.na(BsmtFinSF1)),'BsmtFinSF1'] <- 0\n",
    "test[which(is.na(BsmtFinSF2)),'BsmtFinSF2'] <- 0\n",
    "test[which(is.na(TotalBsmtSF)),'TotalBsmtSF'] <- 0\n",
    "test[which(is.na(GarageCars)),'GarageCars'] <- 0\n",
    "test[which(is.na(GarageArea)),'GarageArea'] <- 0\n",
    "test[which(is.na(BsmtUnfSF)),'BsmtUnfSF'] <- 0\n",
    "test[which(is.na(BsmtFullBath)),'BsmtFullBath'] <- 0\n",
    "test[which(is.na(BsmtHalfBath)),'BsmtHalfBath'] <- 0\n",
    "test[which(is.na(MSZoning)),'MSZoning'] <- 'RL'\n",
    "test[which(is.na(SaleType)),'SaleType'] <- 'Oth'\n",
    "test[which(is.na(Exterior1st)),'Exterior1st'] <- 'Other'\n",
    "test[which(is.na(Exterior2nd)),'Exterior2nd'] <- 'Other'\n",
    "test[which(is.na(Functional)),'Functional'] <- 'Typ'\n",
    "test$BsmtBaths = test$BsmtFullBath + test$BsmtHalfBath\n",
    "\n",
    "train.kept = train[,kept_features,with=FALSE]\n",
    "test.kept = test[,kept_features[-which(kept_features==\"SalePrice\")],with=FALSE]"
   ]
  },
  {
   "cell_type": "code",
   "execution_count": 16,
   "metadata": {
    "collapsed": false
   },
   "outputs": [],
   "source": [
    "## For tests on train data\n",
    "#set.seed(8)\n",
    "#inTrain = createDataPartition(train.kept$SalePrice,p=.75,list=FALSE)\n",
    "##print(inTrain)\n",
    "#train.sample = train.kept[inTrain,-\"SalePrice\",with=FALSE]\n",
    "#train.target = train.kept[inTrain,.(SalePrice=as.numeric(SalePrice))]\n",
    "#test.sample = train.kept[-inTrain,-\"SalePrice\",with=FALSE]\n",
    "#test.target = train.kept[-inTrain,.(SalePrice=as.numeric(SalePrice))]\n",
    "\n",
    "# For predictions for leaderboard\n",
    "train.sample = train.kept[,-\"SalePrice\",with=FALSE]\n",
    "train.target = train.kept[,.(SalePrice=as.numeric(SalePrice))]\n",
    "#test.sample = scale(test.kept)\n",
    "test.sample = test.kept"
   ]
  },
  {
   "cell_type": "code",
   "execution_count": 19,
   "metadata": {
    "collapsed": true
   },
   "outputs": [],
   "source": [
    "bootControl <- trainControl(number = 20, verboseIter=TRUE)\n",
    "tuneGrid = expand.grid(mtry=4:25)\n",
    "#bootControl\n",
    "#tuneGrid\n",
    "set.seed(7)"
   ]
  },
  {
   "cell_type": "code",
   "execution_count": 26,
   "metadata": {
    "collapsed": false
   },
   "outputs": [
    {
     "name": "stdout",
     "output_type": "stream",
     "text": [
      "[1] \"rfFit = train(x=train.sample,y=train.target$SalePrice,method='ranger',num.trees=900,min.node.size=4,trControl=bootControl,tuneGrid = tuneGrid, scale=FALSE)\"\n"
     ]
    }
   ],
   "source": [
    "print('rfFit = train(x=train.sample,y=train.target$SalePrice,method=\\'ranger\\',num.trees=900,min.node.size=4,trControl=bootControl,tuneGrid = tuneGrid, scale=FALSE)')"
   ]
  },
  {
   "cell_type": "code",
   "execution_count": 21,
   "metadata": {
    "collapsed": true
   },
   "outputs": [],
   "source": [
    "#0.147776"
   ]
  },
  {
   "cell_type": "code",
   "execution_count": null,
   "metadata": {
    "collapsed": true
   },
   "outputs": [],
   "source": []
  },
  {
   "cell_type": "code",
   "execution_count": 14,
   "metadata": {
    "collapsed": true
   },
   "outputs": [],
   "source": [
    "# get prediction error\n",
    "\n",
    "#rfFit.prediction = predict(rfFit,newdata=test.sample)\n",
    "#rmsle(test.target$SalePrice,rfFit.prediction)\n",
    "\n",
    "## write submition file\n",
    "#test.sample_submission = fread('~/kaggle/house_prices/data/sample_submission.csv')\n",
    "#test.sample_submission = test.sample_submission[,.(Id)]\n",
    "#test.sample_submission.new = cbind(test.sample_submission,SalePrice=rfFit.prediction)\n",
    "#write.csv(test.sample_submission.new,'~/kaggle/house_prices/data/my_submission_rf2.csv',row.names=FALSE)"
   ]
  },
  {
   "cell_type": "code",
   "execution_count": 11,
   "metadata": {
    "collapsed": true
   },
   "outputs": [],
   "source": [
    "# num.trees = 900, mtry = 12, min.node.size = 5 -> rmsle=0.1451406\n",
    "# num.trees = 900, mtry = 12, min.node.size = 7 -> rmsle=0.1456314\n",
    "\n",
    "# after full grid search, best min.node.size for 900 trees is min.node.size=4"
   ]
  },
  {
   "cell_type": "code",
   "execution_count": 24,
   "metadata": {
    "collapsed": false
   },
   "outputs": [
    {
     "data": {
      "text/html": [
       "1117"
      ],
      "text/latex": [
       "1117"
      ],
      "text/markdown": [
       "1117"
      ],
      "text/plain": [
       "[1] 1117"
      ]
     },
     "metadata": {},
     "output_type": "display_data"
    }
   ],
   "source": [
    "which(is.na(test.sample$GarageArea))"
   ]
  },
  {
   "cell_type": "code",
   "execution_count": 15,
   "metadata": {
    "collapsed": true
   },
   "outputs": [],
   "source": [
    "# leaderboard score 0.15569 =("
   ]
  },
  {
   "cell_type": "code",
   "execution_count": null,
   "metadata": {
    "collapsed": true
   },
   "outputs": [],
   "source": []
  }
 ],
 "metadata": {
  "kernelspec": {
   "display_name": "R",
   "language": "R",
   "name": "ir"
  },
  "language_info": {
   "codemirror_mode": "r",
   "file_extension": ".r",
   "mimetype": "text/x-r-source",
   "name": "R",
   "pygments_lexer": "r",
   "version": "3.3.1"
  }
 },
 "nbformat": 4,
 "nbformat_minor": 1
}
