{
 "cells": [
  {
   "cell_type": "code",
   "execution_count": 68,
   "metadata": {
    "collapsed": false
   },
   "outputs": [],
   "source": [
    "library('lattice')\n",
    "library('ggplot2')\n",
    "library('caret')\n",
    "library('data.table')\n",
    "library('Metrics')\n",
    "library('MASS')\n",
    "library('e1071')\n",
    "library('kernlab')\n",
    "library('ranger')"
   ]
  },
  {
   "cell_type": "code",
   "execution_count": 69,
   "metadata": {
    "collapsed": true
   },
   "outputs": [],
   "source": [
    "train = fread('~/kaggle/house_prices/data/train.csv',\n",
    "              colClasses=c('MiscFeature'='character','PoolQC'='character','Alley'='character'))\n",
    "\n",
    "# Il faut renommer les colonnes 1stFlrSF, 2ndFlrSF, et 3SsnPorch pour pas avoir d'emmerdes\n",
    "FirstFlrSF=train$'1stFlrSF'\n",
    "SecondFlrSF=train$'2ndFlrSF'\n",
    "ThreeSsnPorch=train$'3SsnPorch'\n",
    "new_names = names(train)[-which(names(train)=='1stFlrSF'|names(train)=='2ndFlrSF'|names(train)=='3SsnPorch')]\n",
    "to_add = data.table(FirstFlrSF,SecondFlrSF,ThreeSsnPorch)\n",
    "train = cbind(train[,new_names,with=FALSE],to_add)\n",
    "\n",
    "# Transform categorical arguments KitchenQual, ExterQual, BsmtQual, GarageFinish, into numerical\n",
    "\n",
    "# KitchenQual\n",
    "nKitchenQual = numeric(length(train$KitchenQual))\n",
    "nKitchenQual[train$KitchenQual=='TA']=1.0\n",
    "nKitchenQual[train$KitchenQual=='Gd']=2.0\n",
    "nKitchenQual[train$KitchenQual=='Ex']=3.0\n",
    "train=cbind(train,nKitchenQual)\n",
    "\n",
    "# ExterQual\n",
    "nExterQual = numeric(length(train$ExterQual))\n",
    "nExterQual[train$ExterQual=='TA']=1.0\n",
    "nExterQual[train$ExterQual=='Gd']=2.0\n",
    "nExterQual[train$ExterQual=='Ex']=3.0\n",
    "train=cbind(train,nExterQual)\n",
    "\n",
    "# BsmtQual\n",
    "nBsmtQual = numeric(length(train$BsmtQual))\n",
    "nBsmtQual[train$BsmtQual=='TA']=1.0\n",
    "nBsmtQual[train$BsmtQual=='Gd']=2.0\n",
    "nBsmtQual[train$BsmtQual=='Ex']=3.0\n",
    "train=cbind(train,nBsmtQual)\n",
    "\n",
    "# GarageFinish\n",
    "nGarageFinish = numeric(length(train$GarageFinish))\n",
    "nGarageFinish[train$GarageFinish=='Unf']=1.0\n",
    "nGarageFinish[train$GarageFinish=='RFn']=2.0\n",
    "nGarageFinish[train$GarageFinish=='Fin']=3.0\n",
    "train=cbind(train,nGarageFinish)\n",
    "\n",
    "# Full and half bathrooms\n",
    "train$Bath = train$FullBath + train$HalfBath\n",
    "train$BsmtBaths = train$BsmtFullBath + train$BsmtHalfBath\n",
    "\n",
    "train$MSSubClassCat = train[,.(MSSubClassCat=sapply(MSSubClass,toString)),with=TRUE]"
   ]
  },
  {
   "cell_type": "code",
   "execution_count": 56,
   "metadata": {
    "collapsed": false
   },
   "outputs": [],
   "source": [
    "# Separate numerical and categorical features\n",
    "num_features = names(which(sapply(train,is.numeric)))\n",
    "cat_features = names(which(sapply(train,is.character)))"
   ]
  },
  {
   "cell_type": "code",
   "execution_count": 66,
   "metadata": {
    "collapsed": false
   },
   "outputs": [],
   "source": [
    "#num_features\n",
    "#cat_features"
   ]
  },
  {
   "cell_type": "code",
   "execution_count": 67,
   "metadata": {
    "collapsed": false,
    "scrolled": true
   },
   "outputs": [
    {
     "name": "stdout",
     "output_type": "stream",
     "text": [
      " [1] \"LotFrontage\"   \"LotArea\"       \"OverallQual\"   \"OverallCond\"  \n",
      " [5] \"YearRemodAdd\"  \"MasVnrArea\"    \"BsmtFinSF1\"    \"BsmtFinSF2\"   \n",
      " [9] \"BsmtUnfSF\"     \"TotalBsmtSF\"   \"LowQualFinSF\"  \"GrLivArea\"    \n",
      "[13] \"BsmtFullBath\"  \"BsmtHalfBath\"  \"FullBath\"      \"HalfBath\"     \n",
      "[17] \"BedroomAbvGr\"  \"KitchenAbvGr\"  \"TotRmsAbvGrd\"  \"Fireplaces\"   \n",
      "[21] \"GarageYrBlt\"   \"GarageCars\"    \"GarageArea\"    \"WoodDeckSF\"   \n",
      "[25] \"OpenPorchSF\"   \"EnclosedPorch\" \"ScreenPorch\"   \"PoolArea\"     \n",
      "[29] \"MiscVal\"       \"MoSold\"        \"YrSold\"        \"SalePrice\"    \n",
      "[33] \"FirstFlrSF\"    \"SecondFlrSF\"   \"ThreeSsnPorch\" \"nKitchenQual\" \n",
      "[37] \"nExterQual\"    \"nBsmtQual\"     \"nGarageFinish\" \"Bath\"         \n",
      "[41] \"BsmtBaths\"     \"Neighborhood\"  \"HeatingQC\"     \"CentralAir\"   \n",
      "[45] \"SaleType\"      \"SaleCondition\" \"IsGarage\"     \n"
     ]
    }
   ],
   "source": [
    "# Select features for training\n",
    "kept_features = c(num_features,\"MSSubClassCat\",\"MSZoning\",\"Neighborhood\",\"HeatingQC\",\"CentralAir\",\"SaleType\",\"SaleCondition\",\"IsGarage\",\n",
    "                 \"LotShape\",\"LandContour\",\"BldgType\",\"HouseStyle\",\"Foundation\",\"Exterior1st\",\"Exterior2nd\",\"Functional\",\n",
    "                 \"PavedDrive\")\n",
    "kept_features = kept_features[-7]\n",
    "kept_features = kept_features[-1]\n",
    "kept_features = kept_features[-1]\n",
    "print(kept_features)"
   ]
  },
  {
   "cell_type": "code",
   "execution_count": 59,
   "metadata": {
    "collapsed": false
   },
   "outputs": [],
   "source": [
    "# Deal with missing values\n",
    "LotFrontage_mean = round(mean(train$LotFrontage,na.rm=TRUE))\n",
    "train[which(is.na(LotFrontage)),'LotFrontage'] <- LotFrontage_mean\n",
    "train=cbind(train,\"IsGarage\"=1+numeric(nrow(train)))\n",
    "train[which(is.na(GarageYrBlt)),'GarageYrBlt'] <- 1900\n",
    "train[which(is.na(GarageQual)),'IsGarage'] <- 0\n",
    "train[which(is.na(MasVnrArea)),'MasVnrArea'] <- 0\n",
    "\n",
    "## Deal with missing values\n",
    "#test.sample[which(is.na(LotFrontage)),'LotFrontage'] <- LotFrontage_mean\n",
    "#test.sample=cbind(test.sample,\"IsGarage\"=1+numeric(nrow(test.sample)))\n",
    "#test.sample[which(is.na(GarageYrBlt)),'GarageYrBlt'] <- 1900\n",
    "#test.sample[which(is.na(GarageQual)),'IsGarage'] <- 0\n",
    "#test[which.is.na(MasVnrArea)),'MasVnrArea'] <- 0\n",
    "\n",
    "train.kept = train[,kept_features,with=FALSE]"
   ]
  },
  {
   "cell_type": "code",
   "execution_count": 60,
   "metadata": {
    "collapsed": false
   },
   "outputs": [],
   "source": [
    "# For tests on train data\n",
    "set.seed(8)\n",
    "inTrain = createDataPartition(train.kept$SalePrice,p=.75,list=FALSE)\n",
    "#print(inTrain)\n",
    "train.sample = train.kept[inTrain,-\"SalePrice\",with=FALSE]\n",
    "train.target = train.kept[inTrain,.(SalePrice=as.numeric(SalePrice))]\n",
    "test.sample = train.kept[-inTrain,-\"SalePrice\",with=FALSE]\n",
    "test.target = train.kept[-inTrain,.(SalePrice=as.numeric(SalePrice))]\n",
    "\n",
    "## For predictions for leaderboard\n",
    "#train.sample = train.kept[,-\"SalePrice\",with=FALSE]\n",
    "#train.target = train.kept[,.(SalePrice=as.numeric(SalePrice))]\n",
    "#test.sample = scale(test.kept)\n",
    "##test.target = train.kept8[-inTrain,.(SalePrice=as.numeric(SalePrice))]"
   ]
  },
  {
   "cell_type": "code",
   "execution_count": 61,
   "metadata": {
    "collapsed": true
   },
   "outputs": [],
   "source": [
    "bootControl <- trainControl(number = 50, verboseIter=TRUE)\n",
    "tuneGrid = expand.grid(mtry=4:12)\n",
    "#bootControl\n",
    "#tuneGrid\n",
    "set.seed(7)"
   ]
  },
  {
   "cell_type": "code",
   "execution_count": 70,
   "metadata": {
    "collapsed": false
   },
   "outputs": [
    {
     "name": "stdout",
     "output_type": "stream",
     "text": [
      "[1] \"rfFit = train(x=train.sample,y=train.target$SalePrice,method='ranger',num.trees=500,trControl=bootControl,tuneGrid = tuneGrid, scale=FALSE)\"\n"
     ]
    }
   ],
   "source": [
    "print('rfFit = train(x=train.sample,y=train.target$SalePrice,method=\\'ranger\\',num.trees=500,trControl=bootControl,tuneGrid = tuneGrid, scale=FALSE)')"
   ]
  },
  {
   "cell_type": "code",
   "execution_count": null,
   "metadata": {
    "collapsed": true
   },
   "outputs": [],
   "source": []
  }
 ],
 "metadata": {
  "kernelspec": {
   "display_name": "R",
   "language": "R",
   "name": "ir"
  },
  "language_info": {
   "codemirror_mode": "r",
   "file_extension": ".r",
   "mimetype": "text/x-r-source",
   "name": "R",
   "pygments_lexer": "r",
   "version": "3.3.1"
  }
 },
 "nbformat": 4,
 "nbformat_minor": 1
}
