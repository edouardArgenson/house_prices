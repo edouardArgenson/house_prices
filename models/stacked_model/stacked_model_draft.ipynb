{
 "cells": [
  {
   "cell_type": "code",
   "execution_count": 41,
   "metadata": {
    "collapsed": false
   },
   "outputs": [],
   "source": [
    "library('lattice')\n",
    "library('ggplot2')\n",
    "library('kernlab')\n",
    "library('survival')\n",
    "library('caret')\n",
    "library('data.table')\n",
    "library('Metrics')\n",
    "library('MASS')\n",
    "library('e1071')\n",
    "library('splines')\n",
    "library('parallel')\n",
    "library('gbm')\n",
    "library('plyr')"
   ]
  },
  {
   "cell_type": "code",
   "execution_count": 42,
   "metadata": {
    "collapsed": true
   },
   "outputs": [],
   "source": [
    "train = fread('~/kaggle/house_prices/data/train.csv',\n",
    "              colClasses=c('MiscFeature'='character','PoolQC'='character','Alley'='character'))\n",
    "\n",
    "# Rename columns 1stFlrSF, 2ndFlrSF, and 3SsnPorch\n",
    "FirstFlrSF=train$'1stFlrSF'\n",
    "SecondFlrSF=train$'2ndFlrSF'\n",
    "ThreeSsnPorch=train$'3SsnPorch'\n",
    "new_names = names(train)[-which(names(train)=='1stFlrSF'|names(train)=='2ndFlrSF'|names(train)=='3SsnPorch')]\n",
    "to_add = data.table(FirstFlrSF,SecondFlrSF,ThreeSsnPorch)\n",
    "train = cbind(train[,new_names,with=FALSE],to_add)\n",
    "\n",
    "# Transform categorical arguments KitchenQual, ExterQual, BsmtQual, GarageFinish, into numerical\n",
    "\n",
    "# KitchenQual\n",
    "nKitchenQual = numeric(length(train$KitchenQual))\n",
    "nKitchenQual[train$KitchenQual=='TA']=1.0\n",
    "nKitchenQual[train$KitchenQual=='Gd']=2.0\n",
    "nKitchenQual[train$KitchenQual=='Ex']=3.0\n",
    "train=cbind(train,nKitchenQual)\n",
    "\n",
    "# ExterQual\n",
    "nExterQual = numeric(length(train$ExterQual))\n",
    "nExterQual[train$ExterQual=='TA']=1.0\n",
    "nExterQual[train$ExterQual=='Gd']=2.0\n",
    "nExterQual[train$ExterQual=='Ex']=3.0\n",
    "train=cbind(train,nExterQual)\n",
    "\n",
    "# BsmtQual\n",
    "nBsmtQual = numeric(length(train$BsmtQual))\n",
    "nBsmtQual[train$BsmtQual=='TA']=1.0\n",
    "nBsmtQual[train$BsmtQual=='Gd']=2.0\n",
    "nBsmtQual[train$BsmtQual=='Ex']=3.0\n",
    "train=cbind(train,nBsmtQual)\n",
    "\n",
    "# GarageFinish\n",
    "nGarageFinish = numeric(length(train$GarageFinish))\n",
    "nGarageFinish[train$GarageFinish=='Unf']=1.0\n",
    "nGarageFinish[train$GarageFinish=='RFn']=2.0\n",
    "nGarageFinish[train$GarageFinish=='Fin']=3.0\n",
    "train=cbind(train,nGarageFinish)\n",
    "\n",
    "# Full and half bathrooms\n",
    "train$Bath = train$FullBath + train$HalfBath\n",
    "train$BsmtBaths = train$BsmtFullBath + train$BsmtHalfBath\n",
    "\n",
    "# TotalBsmtSF_on_GRLivArea (for SVR)\n",
    "train$TotalBsmtSF_on_GrLivArea = train$TotalBsmtSF/train$GrLivArea\n",
    "\n",
    "# MSSubClassCat\n",
    "train$MSSubClassCat = train[,.(MSSubClassCat=sapply(MSSubClass,toString)),with=TRUE]"
   ]
  },
  {
   "cell_type": "code",
   "execution_count": 43,
   "metadata": {
    "collapsed": false
   },
   "outputs": [],
   "source": [
    "# Deal with missing values\n",
    "LotFrontage_mean = round(mean(train$LotFrontage,na.rm=TRUE))\n",
    "train[which(is.na(LotFrontage)),'LotFrontage'] <- LotFrontage_mean\n",
    "train=cbind(train,\"IsGarage\"=1+numeric(nrow(train)))\n",
    "train[which(is.na(GarageYrBlt)),'GarageYrBlt'] <- 1900\n",
    "#train[which(is.na(GarageQual)),'IsGarage'] <- 0\n",
    "train[which(is.na(MasVnrArea)),'MasVnrArea'] <- 0\n",
    "train[which(is.na(BsmtCond)),'BsmtCond'] <- 'MISSING'\n",
    "train[which(is.na(BsmtFinType1)),'BsmtFinType1'] <- 'MISSING'\n",
    "train[which(is.na(BsmtFinType2)),'BsmtFinType2'] <- 'MISSING'\n",
    "train[which(is.na(BsmtFinSF1)),'BsmtFinSF1'] <- 0\n",
    "train[which(is.na(BsmtFinSF2)),'BsmtFinSF2'] <- 0\n",
    "train[which(is.na(TotalBsmtSF)),'TotalBsmtSF'] <- 0\n",
    "train[which(is.na(GarageCars)),'GarageCars'] <- 0\n",
    "train[which(is.na(GarageArea)),'GarageArea'] <- 0\n",
    "train[which(is.na(BsmtUnfSF)),'BsmtUnfSF'] <- 0\n",
    "train[which(is.na(BsmtFullBath)),'BsmtFullBath'] <- 0\n",
    "train[which(is.na(BsmtHalfBath)),'BsmtHalfBath'] <- 0\n",
    "train[which(is.na(MSZoning)),'MSZoning'] <- 'RL'\n",
    "train[which(is.na(SaleType)),'SaleType'] <- 'Oth'\n",
    "train[which(is.na(Exterior1st)),'Exterior1st'] <- 'Other'\n",
    "train[which(is.na(Exterior2nd)),'Exterior2nd'] <- 'Other'\n",
    "train[which(is.na(Functional)),'Functional'] <- 'Typ'\n",
    "\n",
    "\n",
    "## Deal with missing values\n",
    "#test[which(is.na(LotFrontage)),'LotFrontage'] <- LotFrontage_mean\n",
    "#test=cbind(test,\"IsGarage\"=1+numeric(nrow(test)))\n",
    "#test[which(is.na(GarageYrBlt)),'GarageYrBlt'] <- 1900\n",
    "##test.sample[which(is.na(GarageQual)),'IsGarage'] <- 0\n",
    "#test[which(is.na(MasVnrArea)),'MasVnrArea'] <- 0\n",
    "#test[which(is.na(BsmtCond)),'BsmtCond'] <- 'MISSING'\n",
    "#test[which(is.na(BsmtFinType1)),'BsmtFinType1'] <- 'MISSING'\n",
    "#test[which(is.na(BsmtFinType2)),'BsmtFinType2'] <- 'MISSING'\n",
    "#test[which(is.na(BsmtFinSF1)),'BsmtFinSF1'] <- 0\n",
    "#test[which(is.na(BsmtFinSF2)),'BsmtFinSF2'] <- 0\n",
    "#test[which(is.na(TotalBsmtSF)),'TotalBsmtSF'] <- 0\n",
    "#test[which(is.na(GarageCars)),'GarageCars'] <- 0\n",
    "#test[which(is.na(GarageArea)),'GarageArea'] <- 0\n",
    "#test[which(is.na(BsmtUnfSF)),'BsmtUnfSF'] <- 0\n",
    "#test[which(is.na(BsmtFullBath)),'BsmtFullBath'] <- 0\n",
    "#test[which(is.na(BsmtHalfBath)),'BsmtHalfBath'] <- 0\n",
    "#test[which(is.na(MSZoning)),'MSZoning'] <- 'RL'\n",
    "#test[which(is.na(SaleType)),'SaleType'] <- 'Oth'\n",
    "#test[which(is.na(Exterior1st)),'Exterior1st'] <- 'Other'\n",
    "#test[which(is.na(Exterior2nd)),'Exterior2nd'] <- 'Other'\n",
    "#test[which(is.na(Functional)),'Functional'] <- 'Typ'\n",
    "#test$BsmtBaths = test$BsmtFullBath + test$BsmtHalfBath\n",
    "\n",
    "#train.kept = train[,kept_features,with=FALSE]\n",
    "#test.kept = test[,kept_features[-which(kept_features==\"SalePrice\")],with=FALSE]"
   ]
  },
  {
   "cell_type": "code",
   "execution_count": 44,
   "metadata": {
    "collapsed": false
   },
   "outputs": [],
   "source": [
    "# separate train set in two parts: train_a and train_b\n",
    "# train_a for fitting base models\n",
    "# train_b for fitting stage 2 model\n",
    "\n",
    "set.seed(10)\n",
    "train_a_part = createDataPartition(train$SalePrice,p=.80,list=FALSE)\n",
    "\n",
    "#train.sample = train.kept[inTrain,-\"SalePrice\",with=FALSE]\n",
    "#train.target = train.kept[inTrain,.(SalePrice=as.numeric(SalePrice))]\n",
    "#test.sample = train.kept[-inTrain,-\"SalePrice\",with=FALSE]\n",
    "#test.target = train.kept[-inTrain,.(SalePrice=as.numeric(SalePrice))]\n",
    "\n"
   ]
  },
  {
   "cell_type": "code",
   "execution_count": 45,
   "metadata": {
    "collapsed": false,
    "scrolled": true
   },
   "outputs": [
    {
     "name": "stdout",
     "output_type": "stream",
     "text": [
      "+ Resample01: C=1.25, sigma=0.015 \n",
      "- Resample01: C=1.25, sigma=0.015 \n",
      "+ Resample02: C=1.25, sigma=0.015 \n",
      "- Resample02: C=1.25, sigma=0.015 \n",
      "+ Resample03: C=1.25, sigma=0.015 \n",
      "- Resample03: C=1.25, sigma=0.015 \n",
      "+ Resample04: C=1.25, sigma=0.015 \n",
      "- Resample04: C=1.25, sigma=0.015 \n",
      "+ Resample05: C=1.25, sigma=0.015 \n",
      "- Resample05: C=1.25, sigma=0.015 \n",
      "+ Resample06: C=1.25, sigma=0.015 \n",
      "- Resample06: C=1.25, sigma=0.015 \n",
      "+ Resample07: C=1.25, sigma=0.015 \n",
      "- Resample07: C=1.25, sigma=0.015 \n",
      "+ Resample08: C=1.25, sigma=0.015 \n",
      "- Resample08: C=1.25, sigma=0.015 \n",
      "+ Resample09: C=1.25, sigma=0.015 \n",
      "- Resample09: C=1.25, sigma=0.015 \n",
      "+ Resample10: C=1.25, sigma=0.015 \n",
      "- Resample10: C=1.25, sigma=0.015 \n",
      "Aggregating results\n",
      "Fitting final model on full training set\n"
     ]
    }
   ],
   "source": [
    "# fit SVR model on train_a\n",
    "# meta params: C=1.25, sigma=0.015 \n",
    "\n",
    "kept_features_svr = c(\"LotArea\",\"OverallQual\",\"YearBuilt\",\"YearRemodAdd\",\"nKitchenQual\",\"nExterQual\",\n",
    "                   \"nBsmtQual\",\"GrLivArea\",\"Bath\",\"nGarageFinish\",\n",
    "                   \"BsmtFinSF1\",\"GarageCars\",\"TotalBsmtSF\",\"KitchenAbvGr\",\"BedroomAbvGr\",\"TotRmsAbvGrd\",\"OverallCond\",\n",
    "                   \"TotalBsmtSF_on_GrLivArea\")\n",
    "\n",
    "train.kept_svr = train[,c(kept_features_svr,\"SalePrice\"),with=FALSE]\n",
    "\n",
    "train_a.sample = train.kept_svr[train_a_part,-\"SalePrice\",with=FALSE]\n",
    "train_a.target = train.kept_svr[train_a_part,.(SalePrice=as.numeric(SalePrice))]\n",
    "\n",
    "\n",
    "bootControl <- trainControl(number = 10, verboseIter=TRUE)\n",
    "tuneGrid = expand.grid(C=c(1.25),sigma=c(0.015)) # mandatory\n",
    "\n",
    "svrFit_a = train(x=train_a.sample,y=train_a.target$SalePrice,method='svmRadial',trControl=bootControl,\n",
    "               tuneGrid=tuneGrid, preProcess=c(\"center\",\"scale\"))\n",
    "\n"
   ]
  },
  {
   "cell_type": "code",
   "execution_count": 46,
   "metadata": {
    "collapsed": false
   },
   "outputs": [
    {
     "name": "stdout",
     "output_type": "stream",
     "text": [
      "[1] \"train_b.sample SalePrice predicted with model svrFit_a\"\n",
      "[1] \"rmsle:\"\n",
      "[1] 0.1294468\n"
     ]
    }
   ],
   "source": [
    "# predict train_b with SVR model\n",
    "\n",
    "train_b.sample = data.table(scale(train.kept_svr[-train_a_part,-\"SalePrice\",with=FALSE]))\n",
    "train_b.target = train.kept_svr[-train_a_part,.(SalePrice=as.numeric(SalePrice))]\n",
    "\n",
    "svrFit_a.predict_b = predict(svrFit_a$finalModel,newdata=train_b.sample)\n",
    "\n",
    "print(\"train_b.sample SalePrice predicted with model svrFit_a\")\n",
    "\n",
    "# print rmsle\n",
    "print(\"rmsle:\")\n",
    "print(rmsle(train_b.target$SalePrice,svrFit_a.predict_b))"
   ]
  },
  {
   "cell_type": "code",
   "execution_count": 80,
   "metadata": {
    "collapsed": false
   },
   "outputs": [],
   "source": [
    "# fit gbm model on train_a\n",
    "# meta parameters: 1950 trees, depth=4, shrinkage=.03\n",
    "\n",
    "\n",
    "kept_num_features_gbm = c(\"LotFrontage\", \"LotArea\", \"OverallQual\", \"OverallCond\",  \n",
    "                        \"YearBuilt\", \"YearRemodAdd\", \"BsmtFinSF1\", \"BsmtFinSF2\", \"BsmtUnfSF\",\n",
    "                        \"TotalBsmtSF\", \"FirstFlrSF\", \"SecondFlrSF\", \"LowQualFinSF\", \"GrLivArea\", \"BsmtFullBath\",\n",
    "                        \"BsmtHalfBath\", \"FullBath\", \"HalfBath\", \"BedroomAbvGr\", \"KitchenAbvGr\", \"TotRmsAbvGrd\",\n",
    "                        \"Fireplaces\", \"GarageYrBlt\", \"GarageCars\", \"GarageArea\", \"WoodDeckSF\", \"OpenPorchSF\",\n",
    "                        \"EnclosedPorch\", \"ThreeSsnPorch\", \"ScreenPorch\", \"PoolArea\", \"MiscVal\", \"MoSold\", \"YrSold\")\n",
    "kept_cat_features_gbm = c(\"Neighborhood\",\"ExterQual\",\"HeatingQC\",\"CentralAir\",\"KitchenQual\",\"SaleType\",\n",
    "                  \"SaleCondition\",\"IsGarage\")\n",
    "kept_features_gbm = c(kept_num_features_gbm,kept_cat_features_gbm)\n",
    "\n",
    "\n",
    "train.kept_gbm = train[,c(kept_features_gbm,\"SalePrice\"),with=FALSE]\n",
    "\n",
    "# Separate numeric and categorical features for conversion (as numeric and factor)\n",
    "train_a.sample.num_features = train[train_a_part,kept_num_features_gbm,with=FALSE]\n",
    "train_a.sample.cat_features = train[train_a_part,kept_cat_features_gbm,with=FALSE]\n",
    "# Change class of data and merge back numeric and categorical\n",
    "train_a.sample.num_features.toFit = train_a.sample.num_features[,lapply(.SD,as.numeric)]\n",
    "train_a.sample.cat_features.toFit = train_a.sample.cat_features[,lapply(.SD,as.factor)]\n",
    "train_a.sample = cbind(train_a.sample.num_features.toFit,train_a.sample.cat_features.toFit)\n",
    "\n",
    "train_a.target = train.kept_gbm[train_a_part,.(SalePrice=as.numeric(SalePrice))]\n",
    "\n",
    "bootControl <- trainControl(number = 10, verboseIter=TRUE)\n",
    "gbmGrid = expand.grid(interaction.depth = (3:5),n.trees = c(1950),shrinkage=c(.02,.03,.04),\n",
    "                      n.minobsinnode=10)\n",
    "\n",
    "gbmFit_a = train(train_a.sample,train_a.target$SalePrice,method='gbm',trControl=bootControl,verbose=TRUE,\n",
    "               bag.fraction=.8,tuneGrid=gbmGrid,metric='RMSE')\n",
    "\n",
    "# .1353"
   ]
  },
  {
   "cell_type": "code",
   "execution_count": 48,
   "metadata": {
    "collapsed": false
   },
   "outputs": [
    {
     "name": "stdout",
     "output_type": "stream",
     "text": [
      "[1] \"train_b.sample SalePrice predicted with model gbmFit_a\"\n",
      "[1] \"rmsle:\"\n",
      "[1] 0.1252468\n"
     ]
    }
   ],
   "source": [
    "# predict train_b with gbm model\n",
    "\n",
    "\n",
    "# Separate numeric and categorical features for conversion (as numeric and factor)\n",
    "train_b.sample.num_features = train[-train_a_part,kept_num_features_gbm,with=FALSE]\n",
    "train_b.sample.cat_features = train[-train_a_part,kept_cat_features_gbm,with=FALSE]\n",
    "# Change class of data and merge back numeric and categorical\n",
    "train_b.sample.num_features.toFit = train_b.sample.num_features[,lapply(.SD,as.numeric)]\n",
    "train_b.sample.cat_features.toFit = train_b.sample.cat_features[,lapply(.SD,as.factor)]\n",
    "train_b.sample = cbind(train_b.sample.num_features.toFit,train_b.sample.cat_features.toFit)\n",
    "\n",
    "train_b.target = train.kept_gbm[-train_a_part,.(SalePrice=as.numeric(SalePrice))]\n",
    "\n",
    "\n",
    "\n",
    "gbmFit_a.predict_b = predict(gbmFit_a$finalModel,newdata=train_b.sample,n.trees=1950)\n",
    "\n",
    "print(\"train_b.sample SalePrice predicted with model gbmFit_a\")\n",
    "\n",
    "# print rmsle\n",
    "print(\"rmsle:\")\n",
    "print(rmsle(train_b.target$SalePrice,gbmFit_a.predict_b))"
   ]
  },
  {
   "cell_type": "code",
   "execution_count": 77,
   "metadata": {
    "collapsed": false
   },
   "outputs": [
    {
     "data": {
      "text/html": [
       "<table>\n",
       "<thead><tr><th></th><th scope=col>preds_svr.V1</th><th scope=col>preds_gbm</th></tr></thead>\n",
       "<tbody>\n",
       "\t<tr><th scope=row>1</th><td>219944.8</td><td>206148.5</td></tr>\n",
       "\t<tr><th scope=row>2</th><td>219873.0</td><td>206201.2</td></tr>\n",
       "\t<tr><th scope=row>3</th><td>151073.1</td><td>200987.0</td></tr>\n",
       "\t<tr><th scope=row>4</th><td>165853.9</td><td>148602.8</td></tr>\n",
       "\t<tr><th scope=row>5</th><td>287174.7</td><td>269136.8</td></tr>\n",
       "\t<tr><th scope=row>6</th><td>124806.3</td><td>125436.3</td></tr>\n",
       "</tbody>\n",
       "</table>\n"
      ],
      "text/latex": [
       "\\begin{tabular}{r|ll}\n",
       "  & preds\\_svr.V1 & preds\\_gbm\\\\\n",
       "\\hline\n",
       "\t1 & 219944.8 & 206148.5\\\\\n",
       "\t2 & 219873.0 & 206201.2\\\\\n",
       "\t3 & 151073.1 & 200987.0\\\\\n",
       "\t4 & 165853.9 & 148602.8\\\\\n",
       "\t5 & 287174.7 & 269136.8\\\\\n",
       "\t6 & 124806.3 & 125436.3\\\\\n",
       "\\end{tabular}\n"
      ],
      "text/plain": [
       "  preds_svr.V1 preds_gbm\n",
       "1     219944.8  206148.5\n",
       "2     219873.0  206201.2\n",
       "3     151073.1  200987.0\n",
       "4     165853.9  148602.8\n",
       "5     287174.7  269136.8\n",
       "6     124806.3  125436.3"
      ]
     },
     "metadata": {},
     "output_type": "display_data"
    },
    {
     "data": {
      "text/html": [
       "<table>\n",
       "<thead><tr><th></th><th scope=col>SalePrice</th></tr></thead>\n",
       "<tbody>\n",
       "\t<tr><th scope=row>1</th><td>208500</td></tr>\n",
       "\t<tr><th scope=row>2</th><td>223500</td></tr>\n",
       "\t<tr><th scope=row>3</th><td>140000</td></tr>\n",
       "\t<tr><th scope=row>4</th><td>143000</td></tr>\n",
       "\t<tr><th scope=row>5</th><td>307000</td></tr>\n",
       "\t<tr><th scope=row>6</th><td>118000</td></tr>\n",
       "</tbody>\n",
       "</table>\n"
      ],
      "text/latex": [
       "\\begin{tabular}{r|l}\n",
       "  & SalePrice\\\\\n",
       "\\hline\n",
       "\t1 & 208500\\\\\n",
       "\t2 & 223500\\\\\n",
       "\t3 & 140000\\\\\n",
       "\t4 & 143000\\\\\n",
       "\t5 & 307000\\\\\n",
       "\t6 & 118000\\\\\n",
       "\\end{tabular}\n"
      ],
      "text/plain": [
       "  SalePrice\n",
       "1    208500\n",
       "2    223500\n",
       "3    140000\n",
       "4    143000\n",
       "5    307000\n",
       "6    118000"
      ]
     },
     "metadata": {},
     "output_type": "display_data"
    }
   ],
   "source": [
    "# Create new data.table with predictions on train_b, for level 1 model training\n",
    "\n",
    "#train_2 = data.table(preds_svr=svrFit_a.predict_b,\n",
    "#                     preds_gbm=gbmFit_a.predict_b,SalePrice=train[-train_a_part,SalePrice])\n",
    "\n",
    "train_2.sample = data.table(preds_svr=svrFit_a.predict_b,preds_gbm=gbmFit_a.predict_b)\n",
    "train_2.target = data.table(SalePrice=train[-train_a_part,SalePrice])\n",
    "\n",
    "\n",
    "#head(train_2.sample)\n",
    "#head(train_2.target)"
   ]
  },
  {
   "cell_type": "code",
   "execution_count": 78,
   "metadata": {
    "collapsed": false
   },
   "outputs": [],
   "source": [
    "# Fitting a gbm as level 1 model\n",
    "\n",
    "gbmGrid <- expand.grid(interaction.depth = (1:3),n.trees = (30:40)*5, \n",
    "                       shrinkage = c(.02,.03,.04,.05,.06,.07,.08),n.minobsinnode = (2:10))\n",
    "bootControl <- trainControl(number = 10, verboseIter=TRUE)\n",
    "\n",
    "\n",
    "gbmFit_2 = train(train_2.sample,train_2.target$SalePrice,method='gbm',trControl=bootControl,verbose=TRUE,\n",
    "               bag.fraction=.6,tuneGrid=gbmGrid,metric='RMSE')\n",
    "\n",
    "\n",
    "# grid-search result:\n",
    "# n.trees = 165, interaction.depth = 1, shrinkage = 0.05, n.minobsinnode = 5"
   ]
  },
  {
   "cell_type": "code",
   "execution_count": null,
   "metadata": {
    "collapsed": false
   },
   "outputs": [],
   "source": [
    "# load test file\n",
    "\n",
    "test = fread('~/kaggle/house_prices/data/test.csv',\n",
    "              colClasses=c('MiscFeature'='character','PoolQC'='character','Alley'='character'))\n",
    "\n",
    "# Il faut renommer les colonnes 1stFlrSF, 2ndFlrSF, et 3SsnPorch pour pas avoir d'emmerdes\n",
    "FirstFlrSF=test$'1stFlrSF'\n",
    "SecondFlrSF=test$'2ndFlrSF'\n",
    "ThreeSsnPorch=test$'3SsnPorch'\n",
    "new_names = names(test)[-which(names(test)=='1stFlrSF'|names(test)=='2ndFlrSF'|names(test)=='3SsnPorch')]\n",
    "to_add = data.table(FirstFlrSF,SecondFlrSF,ThreeSsnPorch)\n",
    "test = cbind(test[,new_names,with=FALSE],to_add)\n",
    "\n",
    "# Transform categorical arguments KitchenQual, ExterQual, BsmtQual, GarageFinish, into numerical\n",
    "\n",
    "# KitchenQual\n",
    "nKitchenQual = numeric(length(test$KitchenQual))\n",
    "nKitchenQual[test$KitchenQual=='TA']=1.0\n",
    "nKitchenQual[test$KitchenQual=='Gd']=2.0\n",
    "nKitchenQual[test$KitchenQual=='Ex']=3.0\n",
    "test=cbind(test,nKitchenQual)\n",
    "\n",
    "# ExterQual\n",
    "nExterQual = numeric(length(test$ExterQual))\n",
    "nExterQual[test$ExterQual=='TA']=1.0\n",
    "nExterQual[test$ExterQual=='Gd']=2.0\n",
    "nExterQual[test$ExterQual=='Ex']=3.0\n",
    "test=cbind(test,nExterQual)\n",
    "\n",
    "# BsmtQual\n",
    "nBsmtQual = numeric(length(test$BsmtQual))\n",
    "nBsmtQual[test$BsmtQual=='TA']=1.0\n",
    "nBsmtQual[test$BsmtQual=='Gd']=2.0\n",
    "nBsmtQual[test$BsmtQual=='Ex']=3.0\n",
    "test=cbind(test,nBsmtQual)\n",
    "\n",
    "# GarageFinish\n",
    "nGarageFinish = numeric(length(test$GarageFinish))\n",
    "nGarageFinish[test$GarageFinish=='Unf']=1.0\n",
    "nGarageFinish[test$GarageFinish=='RFn']=2.0\n",
    "nGarageFinish[test$GarageFinish=='Fin']=3.0\n",
    "test=cbind(test,nGarageFinish)\n",
    "\n",
    "# Full and half bathrooms\n",
    "test$Bath = test$FullBath + test$HalfBath\n",
    "test$BsmtBaths = test$BsmtFullBath + test$BsmtHalfBath\n",
    "\n",
    "# TotalBsmtSF_on_GrLivArea\n",
    "test$TotalBsmtSF_on_GrLivArea = test$TotalBsmtSF/test$GrLivArea\n",
    "\n",
    "# MSSubClassCat\n",
    "test$MSSubClassCat = test[,.(MSSubClassCat=sapply(MSSubClass,toString)),with=TRUE]\n"
   ]
  },
  {
   "cell_type": "code",
   "execution_count": 33,
   "metadata": {
    "collapsed": true
   },
   "outputs": [],
   "source": [
    "# Deal with missing values\n",
    "test[which(is.na(LotFrontage)),'LotFrontage'] <- LotFrontage_mean\n",
    "test=cbind(test,\"IsGarage\"=1+numeric(nrow(test)))\n",
    "test[which(is.na(GarageYrBlt)),'GarageYrBlt'] <- 1900\n",
    "#test.sample[which(is.na(GarageQual)),'IsGarage'] <- 0\n",
    "test[which(is.na(MasVnrArea)),'MasVnrArea'] <- 0\n",
    "test[which(is.na(BsmtCond)),'BsmtCond'] <- 'MISSING'\n",
    "test[which(is.na(BsmtFinType1)),'BsmtFinType1'] <- 'MISSING'\n",
    "test[which(is.na(BsmtFinType2)),'BsmtFinType2'] <- 'MISSING'\n",
    "test[which(is.na(BsmtFinSF1)),'BsmtFinSF1'] <- 0\n",
    "test[which(is.na(BsmtFinSF2)),'BsmtFinSF2'] <- 0\n",
    "test[which(is.na(TotalBsmtSF)),'TotalBsmtSF'] <- 0\n",
    "test[which(is.na(GarageCars)),'GarageCars'] <- 0\n",
    "test[which(is.na(GarageArea)),'GarageArea'] <- 0\n",
    "test[which(is.na(BsmtUnfSF)),'BsmtUnfSF'] <- 0\n",
    "test[which(is.na(BsmtFullBath)),'BsmtFullBath'] <- 0\n",
    "test[which(is.na(BsmtHalfBath)),'BsmtHalfBath'] <- 0\n",
    "test[which(is.na(MSZoning)),'MSZoning'] <- 'RL'\n",
    "test[which(is.na(SaleType)),'SaleType'] <- 'Oth'\n",
    "test[which(is.na(Exterior1st)),'Exterior1st'] <- 'Other'\n",
    "test[which(is.na(Exterior2nd)),'Exterior2nd'] <- 'Other'\n",
    "test[which(is.na(Functional)),'Functional'] <- 'Typ'\n",
    "test$BsmtBaths = test$BsmtFullBath + test$BsmtHalfBath\n",
    "test$TotalBsmtSF_on_GrLivArea = test$TotalBsmtSF/test$GrLivArea\n",
    "\n",
    "#train.kept = train[,kept_features,with=FALSE]\n",
    "#test.kept = test[,kept_features[-which(kept_features==\"SalePrice\")],with=FALSE]"
   ]
  },
  {
   "cell_type": "code",
   "execution_count": null,
   "metadata": {
    "collapsed": true
   },
   "outputs": [],
   "source": [
    "# predict test with lvl0 SVR and gbm models\n",
    "\n",
    "#---------------------------------\n",
    "# SVR\n",
    "\n",
    "test.sample_svr = data.table(scale(test[,kept_features_svr,with=FALSE])) # don't forget to scale\n",
    "svrFit_a.test_preds = predict(svrFit_a$finalModel,newdata=test.sample_svr)\n",
    "\n",
    "\n",
    "#---------------------------------\n",
    "# gbm\n",
    "\n",
    "\n",
    "# Separate numeric and categorical features for conversion (as numeric and factor)\n",
    "test.sample.num_features_gbm = test[,kept_num_features_gbm,with=FALSE]\n",
    "test.sample.cat_features_gbm = test[,kept_cat_features_gbm,with=FALSE]\n",
    "# Change class of data and merge back numeric and categorical\n",
    "test.sample.num_features_gbm.tp = test.sample.num_features_gbm[,lapply(.SD,as.numeric)]\n",
    "test.sample.cat_features_gbm.tp = test.sample.cat_features_gbm[,lapply(.SD,as.factor)]\n",
    "test.sample_gbm = cbind(test.sample.num_features_gbm.tp,test.sample.cat_features_gbm.tp)\n",
    "\n",
    "gbmFit_a.test_preds = predict(gbmFit_a$finalModel,newdata=test.sample_gbm,n.trees=1950)"
   ]
  },
  {
   "cell_type": "code",
   "execution_count": null,
   "metadata": {
    "collapsed": true
   },
   "outputs": [],
   "source": [
    "# build lvl1 test set\n",
    "\n",
    "test_2.sample = data.table(test_preds_svr=svrFit_a.test_preds,test_preds_gbm=gbmFit_a.test_preds)"
   ]
  },
  {
   "cell_type": "code",
   "execution_count": null,
   "metadata": {
    "collapsed": true
   },
   "outputs": [],
   "source": [
    "# predict test with lvl1 gbm aka gbmFit_2\n",
    "gbmFit_2.test_preds = predict(gbmFit_2$finalModel,newdata=test_2.sample,n.trees=165)\n",
    "\n",
    "\n"
   ]
  },
  {
   "cell_type": "code",
   "execution_count": 79,
   "metadata": {
    "collapsed": true
   },
   "outputs": [],
   "source": [
    "# write submission file\n",
    "\n",
    "test.sample_submission = fread('~/kaggle/house_prices/data/sample_submission.csv')\n",
    "test.sample_submission = test.sample_submission[,.(Id)]\n",
    "test.sample_submission.new = cbind(test.sample_submission,SalePrice=gbmFit_2.test_preds)\n",
    "write.csv(test.sample_submission.new,'~/kaggle/house_prices/data/my_submission_stacked.csv',row.names=FALSE)\n",
    "\n",
    "test.sample_submission.new = cbind(test.sample_submission,SalePrice=final)\n",
    "write.csv(test.sample_submission.new,'~/kaggle/house_prices/data/my_submission_meaned.csv',row.names=FALSE)\n",
    "\n",
    "\n",
    "test.sample_submission.new = data.table(Id=test.sample_submission.new$Id,\n",
    "                                        SalePrice=test.sample_submission.new$SalePrice.V1 )\n",
    "# leaderboard score = 0.13956 (with train_a=60% of dataset)"
   ]
  },
  {
   "cell_type": "code",
   "execution_count": null,
   "metadata": {
    "collapsed": true
   },
   "outputs": [],
   "source": []
  }
 ],
 "metadata": {
  "kernelspec": {
   "display_name": "R",
   "language": "R",
   "name": "ir"
  },
  "language_info": {
   "codemirror_mode": "r",
   "file_extension": ".r",
   "mimetype": "text/x-r-source",
   "name": "R",
   "pygments_lexer": "r",
   "version": "3.3.1"
  }
 },
 "nbformat": 4,
 "nbformat_minor": 1
}
