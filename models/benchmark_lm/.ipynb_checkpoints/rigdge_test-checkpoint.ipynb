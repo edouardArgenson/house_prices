{
 "cells": [
  {
   "cell_type": "code",
   "execution_count": 1,
   "metadata": {
    "collapsed": false
   },
   "outputs": [
    {
     "name": "stderr",
     "output_type": "stream",
     "text": [
      "Loaded lars 1.2\n",
      "\n",
      "\n",
      "Attaching package: ‘survival’\n",
      "\n",
      "The following object is masked from ‘package:caret’:\n",
      "\n",
      "    cluster\n",
      "\n",
      "Welcome to penalized. For extended examples, see vignette(\"penalized\").\n"
     ]
    }
   ],
   "source": [
    "library('lattice')\n",
    "library('ggplot2')\n",
    "library('caret')\n",
    "library('data.table')\n",
    "library('Metrics')\n",
    "library('MASS')\n",
    "library('e1071')\n",
    "library('lars')\n",
    "library('elasticnet')\n",
    "library('survival')\n",
    "library('penalized')"
   ]
  },
  {
   "cell_type": "code",
   "execution_count": 2,
   "metadata": {
    "collapsed": true
   },
   "outputs": [],
   "source": [
    "train = fread('~/kaggle/house_prices/data/train.csv',\n",
    "              colClasses=c('MiscFeature'='character','PoolQC'='character'))\n",
    "\n",
    "# Il faut renommer les colonnes 1stFlrSF, 2ndFlrSF, et 3SsnPorch pour pas avoir d'emmerdes\n",
    "FirstFlrSF=train$'1stFlrSF'\n",
    "SecondFlrSF=train$'2ndFlrSF'\n",
    "ThreeSsnPorch=train$'3SsnPorch'\n",
    "new_names = names(train)[-which(names(train)=='1stFlrSF'|names(train)=='2ndFlrSF'|names(train)=='3SsnPorch')]\n",
    "to_add = data.table(FirstFlrSF,SecondFlrSF,ThreeSsnPorch)\n",
    "train = cbind(train[,new_names,with=FALSE],to_add)\n",
    "\n",
    "# Transform categorical arguments KitchenQual, ExterQual, BsmtQual, GarageFinish, into numerical\n",
    "\n",
    "# KitchenQual\n",
    "nKitchenQual = numeric(length(train$KitchenQual))\n",
    "nKitchenQual[train$KitchenQual=='TA']=1.0\n",
    "nKitchenQual[train$KitchenQual=='Gd']=2.0\n",
    "nKitchenQual[train$KitchenQual=='Ex']=3.0\n",
    "train=cbind(train,nKitchenQual)\n",
    "\n",
    "# ExterQual\n",
    "nExterQual = numeric(length(train$ExterQual))\n",
    "nExterQual[train$ExterQual=='TA']=1.0\n",
    "nExterQual[train$ExterQual=='Gd']=2.0\n",
    "nExterQual[train$ExterQual=='Ex']=3.0\n",
    "train=cbind(train,nExterQual)\n",
    "\n",
    "# BsmtQual\n",
    "nBsmtQual = numeric(length(train$BsmtQual))\n",
    "nBsmtQual[train$BsmtQual=='TA']=1.0\n",
    "nBsmtQual[train$BsmtQual=='Gd']=2.0\n",
    "nBsmtQual[train$BsmtQual=='Ex']=3.0\n",
    "train=cbind(train,nBsmtQual)\n",
    "\n",
    "# GarageFinish\n",
    "nGarageFinish = numeric(length(train$GarageFinish))\n",
    "nGarageFinish[train$GarageFinish=='Unf']=1.0\n",
    "nGarageFinish[train$GarageFinish=='RFn']=2.0\n",
    "nGarageFinish[train$GarageFinish=='Fin']=3.0\n",
    "train=cbind(train,nGarageFinish)\n",
    "\n",
    "# Full and half bathrooms\n",
    "train$Bath = train$FullBath + train$HalfBath\n",
    "train$BsmtBaths = train$BsmtFullBath + train$BsmtHalfBath\n",
    "\n",
    "# Take log of SalePrice\n",
    "train$log_SalePrice = train[,.(log_SalePrice=log(SalePrice))]\n",
    "\n",
    "# Take log of a few features\n",
    "train$log_LotArea = train[,.(log_LotArea=log(LotArea))]\n",
    "train$log_OverallQual = train[,.(log_OverallQual=log(OverallQual))]\n",
    "train$log_YearBuilt = train[,.(log_YearBuilt=log(YearBuilt))]\n",
    "train$log_YearRemodAdd = train[,.(log_YearRemodAdd=log(YearRemodAdd))]\n",
    "train$log_GrLivArea = train[,.(log_GrLivArea=log(GrLivArea))]\n",
    "train$log_Bath = train[,.(log_Bath=log(1+Bath))]\n",
    "train$log_nKitchenQual = train[,.(log_nKitchenQual=log(1+nKitchenQual))]\n",
    "train$log_nBsmtQual = train[,.(log_nBsmtQual=log(1+nBsmtQual))]\n",
    "train$log_nExterQual = train[,.(log_nExterQual=log(1+nExterQual))]\n",
    "train$log_nGarageFinish = train[,.(log_nGarageFinish=log(1+nGarageFinish))]\n",
    "train$log_BsmtFinSF1 = train[,.(log(1+BsmtFinSF1))]\n",
    "train$log_GarageCars = train[,.(log(1+GarageCars))]\n",
    "train$log_TotalBsmtSF = train[,.(log(1+TotalBsmtSF))]\n",
    "train$log_KitchenAbvGr = train[,.(log(1+KitchenAbvGr))]\n",
    "train$log_BedroomAbvGr = train[,.(log(1+BedroomAbvGr))]\n",
    "train$log_TotRmsAbvGrd = train[,.(log(TotRmsAbvGrd))]\n",
    "train$log_OverallCond = train[,.(log(OverallCond))]\n",
    "\n",
    "# Try exp of a few features\n",
    "# None useful\n",
    "\n",
    "# Try powers of a few features\n",
    "train$OverallQual_Square = train$OverallQual*train$OverallQual\n",
    "train$OverallQual_3 = train$OverallQual*train$OverallQual*train$OverallQual\n",
    "train$GrLivArea_Square = train$GrLivArea*train$GrLivArea\n",
    "train$TotalBsmtSF_on_GrLivArea = train$TotalBsmtSF/train$GrLivArea\n",
    "train$OverallCond_sqrt = sqrt(train$OverallCond)\n",
    "train$OverallCond_square = train$OverallCond*train$OverallCond\n",
    "train$LotArea_sqrt = sqrt(train$LotArea)\n",
    "train$FirstFlrSF_sqrt = sqrt(train$FirstFlrSF)\n",
    "train$TotRmsAbvGrd_sqrt = sqrt(train$TotRmsAbvGrd)"
   ]
  },
  {
   "cell_type": "code",
   "execution_count": 3,
   "metadata": {
    "collapsed": true
   },
   "outputs": [],
   "source": [
    "kept_features7 = c(\"LotArea\",\"OverallQual\",\"YearBuilt\",\"YearRemodAdd\",\"nKitchenQual\",\"nExterQual\",\n",
    "                   \"nBsmtQual\",\"GrLivArea\",\"Bath\",\"nGarageFinish\",\n",
    "                  \"log_LotArea\",\"log_OverallQual\",\"log_YearBuilt\",\"log_YearRemodAdd\",\"log_nKitchenQual\",\"log_nExterQual\",\n",
    "                   \"log_nBsmtQual\",\"log_GrLivArea\",\"log_Bath\",\"log_nGarageFinish\",\n",
    "                   \"BsmtFinSF1\",\"GarageCars\",\"TotalBsmtSF\",\"KitchenAbvGr\",\"BedroomAbvGr\",\"TotRmsAbvGrd\",\"OverallCond\",\n",
    "                  \"log_BsmtFinSF1\",\"log_GarageCars\",\"log_TotalBsmtSF\",\"log_KitchenAbvGr\",\"log_BedroomAbvGr\",\n",
    "                   \"log_TotRmsAbvGrd\",\"log_OverallCond\",\"OverallQual_Square\",\"OverallQual_3\",\n",
    "                    \"GrLivArea_Square\",\"TotalBsmtSF_on_GrLivArea\",\"OverallCond_sqrt\",\n",
    "                    \"OverallCond_square\",\"LotArea_sqrt\",\"FirstFlrSF_sqrt\",\"TotRmsAbvGrd_sqrt\")\n",
    "train.kept7 = train[,c(kept_features7,\"log_SalePrice\",\"SalePrice\"),with=FALSE]"
   ]
  },
  {
   "cell_type": "code",
   "execution_count": 4,
   "metadata": {
    "collapsed": true
   },
   "outputs": [],
   "source": [
    "set.seed(4)\n",
    "inTrain = createDataPartition(train.kept7$log_SalePrice,p=.75,list=FALSE)\n",
    "#print(inTrain)\n",
    "train.sample = train.kept7[inTrain,]\n",
    "test.sample = train.kept7[-inTrain,]"
   ]
  },
  {
   "cell_type": "code",
   "execution_count": 33,
   "metadata": {
    "collapsed": true
   },
   "outputs": [],
   "source": [
    "ridgeGrid = expand.grid(lambda1 = c(0.05),lambda2 = c(.05))\n",
    "bootControl <- trainControl(number = 25, verboseIter = TRUE)"
   ]
  },
  {
   "cell_type": "code",
   "execution_count": 34,
   "metadata": {
    "collapsed": false
   },
   "outputs": [
    {
     "name": "stdout",
     "output_type": "stream",
     "text": [
      "+ Resample01: lambda1=0.05, lambda2=0.05 \n",
      "# nonzero coefficients: 16\b\b16\b\b16\b\b16\b\b16\b\b16\b\b16\b\b16\b\b16\b\b16\b\b16\b\b16\b\b16\b\b16\b\b16\b\b16\b\b16\b\b16\b\b16\b\b16\b\b16\b\b16\b\b16\b\b16\b\b16\b\b16\b\b16\b\b16\b\b16\b\b16\b\b16\b\b16\b\b16\b\b16\b\b16\b\b16\b\b16\b\b16\b\b16\b\b16\b\b16\b\b16\b\b16\b\b16\b\b16\b\b16\b\b16\b\b16\b\b16\b\b16\b\b16\b\b16\b\b16\b\b16\b\b16\b\b16\b\b16\b\b16\b\b16\b\b16\b\b16\b\b16\b\b16\b\b16\b\b16\b\b16\b\b16\b\b16\b\b16\b\b16\b\b15\b\b16\b\b16\b\b16\b\b16\b\b16\b\b16\b\b16\b\b16\b\b16\b\b16\b\b16\b\b16\b\b16\b\b16\b\b16\b\b16\b\b16\b\b16\b\b16\b\b16\b\b16\b\b16\b\b16\b\b16\b\b16\b\b16\b\b16\b\b16\b\b16\b\b16\b\b16\n",
      "- Resample01: lambda1=0.05, lambda2=0.05 \n",
      "+ Resample02: lambda1=0.05, lambda2=0.05 \n",
      "# nonzero coefficients: 16\b\b16\b\b16\b\b16\b\b16\b\b16\b\b16\b\b16\b\b16\b\b16\b\b16\b\b16\b\b16\b\b16\b\b16\b\b16\b\b16\b\b16\b\b16\b\b16\b\b16\b\b16\b\b16\b\b16\b\b16\b\b16\b\b16\b\b16\b\b16\b\b16\b\b16\b\b16\b\b16\b\b16\b\b16\b\b16\b\b16\b\b16\b\b16\b\b16\b\b16\b\b16\b\b16\b\b16\b\b16\b\b16\b\b16\b\b16\b\b16\b\b16\b\b16\b\b16\b\b16\b\b16\b\b16\b\b16\b\b16\b\b16\b\b16\b\b16\b\b16\b\b16\b\b16\b\b16\b\b16\b\b16\b\b16\b\b16\b\b16\b\b16\b\b16\b\b16\b\b16\b\b16\b\b16\b\b16\b\b16\b\b16\b\b16\b\b16\b\b16\b\b16\b\b16\b\b16\b\b16\b\b16\b\b16\b\b16\b\b16\b\b15\b\b15\b\b16\b\b16\b\b15\b\b16\b\b16\b\b15\b\b16\b\b16\b\b16\b\b16\b\b16\n",
      "- Resample02: lambda1=0.05, lambda2=0.05 \n",
      "+ Resample03: lambda1=0.05, lambda2=0.05 \n",
      "# nonzero coefficients: 16\b\b16\b\b16\b\b16\b\b16\b\b16\b\b16\b\b16\b\b16\b\b16\b\b16\b\b16\b\b16\b\b16\b\b16\b\b16\b\b16\b\b16\b\b16\b\b16\b\b16\b\b16\b\b16\b\b16\b\b16\b\b16\b\b16\b\b16\b\b16\b\b16\b\b16\b\b16\b\b16\b\b16\b\b16\b\b16\b\b16\b\b16\b\b16\b\b16\b\b16\b\b16\b\b16\b\b16\b\b16\b\b16\b\b16\b\b16\b\b16\b\b16\b\b16\b\b16\b\b16\b\b16\b\b16\b\b16\b\b16\b\b16\b\b16\b\b16\b\b16\b\b16\b\b16\b\b16\b\b16\b\b16\b\b16\b\b16\b\b16\b\b16\b\b16\b\b16\b\b16\b\b16\b\b16\b\b16\b\b16\b\b16\b\b16\b\b16\b\b16\b\b16\b\b16\b\b16\b\b16\b\b16\b\b16\b\b16\b\b16\b\b16\b\b16\b\b16\b\b16\b\b16\b\b16\b\b16\b\b16\b\b16\b\b16\b\b16\b\b16\b\b16\b\b16\b\b16\b\b16\b\b16\b\b16\b\b16\b\b16\b\b16\b\b16\b\b16\b\b16\b\b16\b\b16\b\b16\b\b16\b\b16\b\b16\b\b16\b\b16\b\b16\b\b16\b\b15\b\b15\b\b15\b\b15\b\b15\b\b15\b\b16\b\b16\b\b16\b\b15\b\b15\b\b15\b\b14\b\b16\b\b16\b\b15\b\b16\b\b16\b\b16\b\b16\b\b16\b\b16\n",
      "- Resample03: lambda1=0.05, lambda2=0.05 \n",
      "+ Resample04: lambda1=0.05, lambda2=0.05 \n",
      "# nonzero coefficients: 16\b\b16\b\b16\b\b16\b\b16\b\b16\b\b16\b\b16\b\b16\b\b16\b\b16\b\b16\b\b16\b\b16\b\b16\b\b16\b\b16\b\b16\b\b16\b\b16\b\b16\b\b16\b\b16\b\b16\b\b16\b\b16\b\b16\b\b16\b\b16\b\b16\b\b16\b\b16\b\b16\b\b16\b\b16\b\b16\b\b16\b\b16\b\b16\b\b16\b\b16\b\b16\b\b16\b\b16\b\b16\b\b16\b\b16\b\b16\b\b16\b\b16\b\b16\b\b16\b\b16\b\b16\b\b16\b\b16\b\b16\b\b16\b\b16\b\b16\b\b16\b\b16\b\b16\b\b16\b\b16\b\b16\b\b16\b\b16\b\b16\b\b16\b\b16\b\b16\b\b16\b\b16\b\b16\b\b16\b\b16\b\b16\b\b16\b\b16\b\b16\b\b16\b\b16\b\b16\b\b16\b\b16\b\b16\b\b16\b\b16\b\b16\b\b16\b\b16\b\b16\b\b16\b\b16\b\b16\b\b16\b\b16\b\b16\b\b16\b\b16\b\b16\b\b16\b\b16\b\b16\b\b16\b\b16\b\b16\b\b16\b\b16\b\b16\b\b16\b\b16\b\b16\b\b16\b\b16\b\b16\b\b16\b\b16\b\b16\b\b16\b\b16\b\b16\b\b16\b\b16\b\b16\b\b16\b\b16\b\b16\b\b16\b\b16\b\b16\b\b16\b\b16\b\b16\b\b16\b\b16\b\b16\b\b16\b\b16\b\b16\b\b16\b\b16\b\b16\b\b16\b\b16\b\b16\b\b16\b\b16\b\b16\b\b16\b\b16\b\b16\b\b16\b\b16\b\b16\b\b16\b\b16\b\b16\b\b16\b\b16\b\b16\b\b16\b\b16\b\b16\b\b16\b\b16\b\b16\b\b16\b\b16\b\b16\b\b16\b\b16\b\b16\b\b16\b\b16\b\b16\b\b16\b\b16\b\b16\b\b16\b\b16\b\b16\b\b16\b\b16\b\b16\b\b16\b\b16\b\b16\b\b16\b\b16\b\b16\b\b16\b\b16\b\b16\b\b16\b\b16\b\b16\b\b16\b\b16\b\b16\b\b16\b\b16\b\b16\b\b16\b\b16\b\b16\b\b16\b\b16\b\b16\b\b16\b\b16\b\b16\b\b16\b\b16\b\b16\b\b16\b\b16\b\b16\b\b16\b\b16\b\b16\b\b16\b\b16\b\b16\b\b16\b\b16\b\b16\b\b16\b\b16\b\b16\b\b16\b\b16\b\b16\b\b16\b\b16\b\b16\b\b16\b\b16\b\b16\b\b16\b\b16\b\b16\b\b16\b\b16\b\b16\b\b16\b\b16\b\b16\b\b16\b\b16\b\b16\b\b16\b\b16\b\b16\b\b16\b\b16\b\b16\b\b16\b\b16\b\b16\b\b16\b\b16\b\b16\b\b16\b\b16\b\b16\b\b16\b\b16\b\b16\b\b16\b\b16\b\b16\b\b16\b\b16\b\b16\b\b16\b\b16\b\b16\b\b16\b\b16\b\b16\b\b16\b\b16\b\b16\b\b16\b\b16\b\b16\b\b16\b\b16\b\b16\b\b16\b\b16\b\b16\b\b16\b\b16\b\b16\b\b16\b\b16\b\b16\b\b16\b\b16\b\b16\b\b16\b\b16\b\b16\b\b16\b\b16\b\b16\b\b16\b\b16\b\b16\b\b16\b\b16\b\b16\b\b16\b\b16\b\b16\b\b16\b\b16\b\b16\b\b16\b\b16\b\b16\b\b16\b\b16\b\b16\b\b16\b\b16\b\b16\b\b16\b\b16\b\b16\b\b16\b\b16\b\b16\b\b16\b\b16\b\b16\b\b16\b\b16\b\b16\b\b16\b\b16\b\b16\b\b16\b\b16\b\b16\b\b16\b\b16\b\b16\b\b16\b\b16\b\b16\b\b16\b\b16\b\b16\b\b16\b\b16\b\b16\b\b16\b\b16\b\b16\b\b16\b\b16\b\b16\b\b16\b\b16\b\b16\b\b16\b\b16\b\b16\b\b16\b\b16\b\b16\b\b16\b\b16\b\b16\b\b16\b\b16\b\b16\b\b16\b\b16\b\b16\b\b16\b\b16\b\b16\b\b16\b\b16\b\b16\b\b16\b\b16\b\b16\b\b16\b\b16\b\b16\b\b16\b\b16\b\b16\b\b16\b\b16\b\b16\b\b16\b\b16\b\b16\b\b16\b\b16\b\b16\b\b16\b\b16\b\b16\b\b16\b\b16\b\b16\b\b16\b\b16\b\b16\b\b16\b\b16\b\b16\b\b16\b\b16\b\b16\b\b16\b\b16\b\b16\b\b16\b\b16\b\b16\b\b16\b\b16\b\b16\b\b16\b\b16\b\b16\b\b16\b\b16\b\b16\b\b16\b\b16\b\b16\b\b16\b\b16\b\b16\b\b16\b\b16\b\b16\b\b16\b\b16\b\b16\b\b16\b\b16\b\b16\b\b16\b\b16\b\b16\b\b16\b\b16\b\b16\b\b16\b\b16\b\b16\b\b16\b\b16\b\b15\b\b15\b\b15\b\b16\b\b16\b\b16\b\b16\b\b16\b\b16\b\b16\b\b16\b\b16\b\b16\b\b16\b\b16\b\b16\b\b16\b\b16\b\b16\b\b16\b\b16\b\b16\b\b16\b\b16\b\b16\b\b16\b\b16\b\b16\b\b16\b\b16\b\b16\b\b16\b\b16\b\b16\b\b16\b\b16\b\b16\b\b16\b\b16\b\b16\b\b16\b\b16\b\b16\b\b16\b\b16\b\b16\b\b16\b\b16\b\b16\b\b16\b\b16\b\b16\b\b16\b\b16\b\b16\b\b16\b\b16\b\b16\b\b16\b\b16\b\b16\b\b16\b\b16\b\b16\b\b16\b\b16\b\b16\b\b16\b\b16\b\b16\b\b16\b\b16\b\b16\b\b16\b\b16\b\b16\b\b16\b\b16\b\b16\b\b16\b\b16\b\b16\b\b16\b\b16\b\b16\b\b16\b\b16\b\b16\b\b16\b\b16\b\b16\b\b16\b\b16\b\b16\b\b16\b\b16\b\b16\b\b16\b\b16\b\b16\b\b16\b\b16\b\b16\b\b16\b\b16\b\b16\b\b16\b\b16\b\b16\b\b16\b\b16\b\b16\b\b16\b\b16\b\b16\b\b16\b\b16\b\b16\b\b16\b\b16\b\b16\b\b16\b\b16\b\b16\b\b16\b\b16\b\b16\b\b16\b\b16\b\b16\b\b16\b\b16\b\b16\b\b16\b\b16\b\b16\b\b16\b\b16\b\b16\b\b16\b\b16\b\b16\b\b16\b\b16\b\b16\b\b16\b\b16\b\b16\b\b16\b\b16\b\b16\b\b16\b\b16\b\b16\b\b16\b\b16\b\b16\b\b16\b\b16\b\b16\b\b16\b\b16\b\b16\b\b16\b\b16\b\b16\b\b16\b\b16\b\b16\b\b16\b\b16\b\b16\b\b16\b\b16\b\b16\b\b16\b\b16\b\b16\b\b16\b\b16\b\b16\b\b16\b\b16\b\b16\b\b16\b\b16\b\b16\b\b16\b\b16\b\b16\b\b16\b\b16\b\b16\b\b16\b\b16\b\b16\b\b16\b\b16\b\b16\b\b16\b\b16\b\b16\b\b16\b\b16\b\b16\b\b16\b\b16\b\b16\b\b16\b\b16\b\b16\b\b16\b\b16\b\b16\b\b16\b\b16\b\b16\b\b16\b\b16\b\b16\b\b16\b\b16\b\b16\b\b16\b\b16\b\b16\b\b16\b\b16\b\b16\b\b16\b\b16\b\b16\b\b16\b\b16\b\b16\b\b16\b\b16\b\b16\b\b16\b\b16\b\b16\b\b16\b\b16\b\b16\b\b16\b\b16\b\b16\b\b16\b\b16\b\b16\b\b16\b\b16\b\b16\b\b16\b\b16\b\b16\b\b16\b\b16\b\b16\b\b16\b\b16\b\b16\b\b16\b\b16\b\b16\b\b16\b\b16\b\b16\b\b16\b\b16\b\b16\b\b16\b\b16\b\b16\b\b16\b\b16\b\b16\b\b16\b\b16\b\b16\b\b16\b\b16\b\b16\b\b16\b\b16\b\b16\b\b16\b\b16\b\b16\b\b16\b\b16\b\b16\b\b16\b\b16\b\b16\b\b16\b\b16\b\b16\b\b16\b\b16\b\b16\b\b16\b\b16\b\b16\b\b16\b\b16\b\b16\b\b16\b\b16\b\b16\b\b16\b\b16\b\b16\b\b16\b\b16\b\b16\b\b16\b\b16\b\b16\b\b16\b\b16\b\b16\b\b16\b\b16\b\b16\b\b16\b\b16\b\b16\b\b16\b\b16\b\b16\b\b16\b\b16\b\b16\b\b16\b\b16\b\b16\b\b16\b\b16\b\b16\b\b16\b\b16\b\b16\b\b16\b\b16\b\b16\b\b16\b\b16\b\b16\b\b16\b\b16\b\b16\b\b16\b\b16\b\b16\b\b16\b\b16\b\b16\b\b16\b\b16\b\b16\b\b16\b\b16\b\b16\b\b16\b\b16\b\b16\b\b16\b\b16\b\b16\b\b16\b\b16\b\b16\b\b16\b\b16\b\b16\b\b16\b\b16\b\b16\b\b16\b\b16\b\b16\b\b16\b\b16\b\b16\b\b16\b\b16\b\b16\b\b16\b\b16\b\b16\b\b16\b\b16\b\b16\b\b16\b\b16\b\b16\b\b16\b\b16\b\b16\b\b16\b\b16\b\b16\b\b16\b\b16\b\b16\b\b16\b\b16\b\b16\b\b16\b\b16\b\b16\b\b16\b\b16\b\b16\b\b16\b\b16\b\b16\b\b16\b\b16\b\b16\b\b16\b\b16\b\b16\b\b16\b\b16\b\b16\b\b16\b\b16\b\b16\b\b16\b\b16\b\b16\b\b16\b\b16\b\b16\b\b16\b\b16\b\b16\b\b16\b\b16\b\b16\b\b16\b\b16\b\b16\b\b16\b\b16\b\b16\b\b16\b\b16\b\b16\b\b16\b\b16\b\b16\b\b16\b\b16\b\b16\b\b16\b\b16\b\b16\b\b16\b\b16\b\b16\b\b16\b\b16\b\b16\b\b16\b\b16\b\b16\b\b16\b\b16\b\b16\b\b16\b\b16\b\b16\b\b16\b\b16\b\b16\b\b16\b\b16\b\b16\b\b16\b\b16\b\b16\b\b16\b\b16\b\b16\b\b16\b\b16\b\b16\b\b16\b\b16\b\b16\b\b16\b\b16\b\b16\b\b16\b\b16\b\b16\b\b16\b\b16\b\b16\b\b16\b\b16\b\b16\b\b16\b\b16\b\b16\b\b16\b\b16\b\b16\b\b16\b\b16\b\b16\b\b16\b\b16\b\b16\b\b16\b\b16\b\b16\b\b16\b\b16\b\b16\b\b16\b\b16\b\b16\b\b16\b\b16\b\b16\b\b16\b\b16\b\b16\b\b16\b\b16\b\b16\b\b16\b\b16\b\b16\b\b16\b\b16\b\b16\b\b16\b\b16\b\b16\b\b16\b\b16\b\b16\b\b16\b\b16\b\b16\b\b16\b\b16\b\b16\b\b16\b\b16\b\b16\b\b16\b\b16\b\b16\b\b16\b\b16\b\b16\b\b16\b\b16\b\b16\b\b16\b\b16\b\b16\b\b16\b\b16\b\b16\b\b16\b\b16\b\b16\b\b16\b\b16\b\b16\b\b16\b\b16\b\b16\b\b16\b\b16\b\b16\b\b16\b\b16\b\b16\b\b16\b\b16\b\b16\b\b16\b\b16\b\b16\b\b16\b\b16\b\b16\b\b16\b\b16\b\b16\b\b16\b\b16\b\b16\b\b16\b\b16\b\b16\b\b16\b\b16\b\b16\b\b16\b\b16\b\b16\b\b16\b\b16\b\b16\b\b16\b\b16\b\b16\b\b16\b\b16\b\b16\b\b16\b\b16\b\b16\b\b16\b\b16\b\b16\b\b16\b\b16\b\b16\b\b16\b\b16\b\b16\b\b16\b\b16\b\b16\b\b16\b\b16\b\b16\b\b16\b\b16\b\b16\b\b16\b\b16\b\b16\b\b16\b\b16\b\b16\b\b16\b\b16\b\b16\b\b16\b\b16\b\b16\b\b16\b\b16\b\b16\b\b16\b\b16\b\b16\b\b16\b\b16\b\b16\b\b16\b\b16\b\b16\b\b16\b\b16\b\b16\b\b16\b\b16\b\b16\b\b16\b\b16\b\b16\b\b16\b\b16\b\b16\b\b16\b\b16\b\b16\b\b16\b\b16\b\b16\b\b16\b\b16\b\b16\b\b16\b\b16\b\b16\b\b16\b\b16\b\b16\b\b16\b\b16\b\b16\b\b16\b\b16\b\b16\b\b16\b\b16\b\b16\b\b16\b\b16\b\b16\b\b16\b\b16\b\b16\b\b16\b\b16\b\b16\b\b16\b\b16\b\b16\b\b16\b\b16\b\b16\b\b16\b\b16\b\b16\b\b16\b\b16\b\b16\b\b16\b\b16\b\b16\b\b16\b\b16\b\b16\b\b16\b\b16\b\b16\b\b16\b\b16\b\b16\b\b16\b\b16\b\b16\b\b16\b\b16\b\b16\b\b16\b\b16\b\b16\b\b16\b\b16\b\b16\b\b16\b\b16\b\b16\b\b16\b\b16\b\b16\b\b16\b\b16\b\b16\b\b16\b\b16\b\b16\b\b16\b\b16\b\b16\b\b16\b\b16\b\b16\b\b16\b\b16\b\b16\b\b16\b\b16\b\b16\b\b16\b\b16\b\b16\b\b16\b\b16\b\b16\b\b16\b\b16\b\b16\b\b16\b\b16\b\b16\b\b16\b\b16\b\b16\b\b16\b\b16\b\b16\b\b16\b\b16\b\b16\b\b16\b\b16\b\b16\b\b16\b\b16\b\b16\b\b16\b\b16\b\b16\b\b16\b\b16\b\b16\b\b16\b\b16\b\b16\b\b16\b\b16\b\b16\b\b16\b\b16\b\b16\b\b16\b\b16\b\b16\b\b16\b\b16\b\b16\b\b16\b\b16\b\b16\b\b16\b\b16\b\b16\b\b16\b\b16\b\b16\b\b16\b\b16\b\b16\b\b16\b\b16\b\b16\b\b16\b\b16\b\b16\b\b16\b\b16\b\b16\b\b16\b\b16\b\b16\b\b16\b\b16\b\b16\b\b16\b\b16\b\b16\b\b16\b\b16\b\b16\b\b16\b\b16\b\b16\b\b16\b\b16\b\b16\b\b16\b\b16\b\b16\b\b16\b\b16\b\b16\b\b16\b\b16\b\b16\b\b16\b\b16\b\b16\b\b16\b\b16\b\b16\b\b16\b\b16\b\b16\b\b16\b\b16\b\b16\b\b16\b\b16\b\b16\b\b16\b\b16\b\b16\b\b16\b\b16\b\b16\b\b16\b\b16\b\b16\b\b16\b\b16\b\b16\b\b16\b\b16\b\b16\b\b16\b\b16\b\b16\b\b16\b\b16\b\b16\b\b16\b\b16\b\b16\b\b16\b\b16\b\b16\b\b16\b\b16\b\b16\b\b16\b\b16\b\b16\b\b16\b\b16\b\b16\b\b16\b\b16\b\b16\b\b16\b\b16\b\b16\b\b16\b\b16\b\b16\b\b16\b\b16\b\b16\b\b16\b\b16\b\b16\b\b16\b\b16\b\b16\b\b16\b\b16\b\b16\b\b16\b\b16\b\b16\b\b16\b\b16\b\b16\b\b16\b\b16\b\b16\b\b16\b\b16\b\b16\b\b16\b\b16\b\b16\b\b16\b\b16\b\b16\b\b16\b\b16\b\b16\b\b16\b\b16\b\b16\b\b16\b\b16\b\b16\b\b16\b\b16\b\b16\b\b16\b\b16\b\b16\b\b16\b\b16\b\b16\b\b16\b\b16\b\b16\b\b16\b\b16\b\b16\b\b16\b\b16\b\b16\b\b16\b\b16\b\b16\b\b16\b\b16\b\b16\b\b16\b\b16\b\b16\b\b16\b\b16\b\b16\b\b16\b\b16\b\b16\b\b16\b\b16\b\b16\b\b16\b\b16\b\b16\b\b16\b\b16\b\b16\b\b16\b\b16\b\b16\b\b16\b\b16\b\b16\b\b16\b\b16\b\b16\b\b16\b\b16\b\b16\b\b16\b\b16\b\b16\b\b16\b\b16\b\b16\b\b16\b\b16\b\b16\b\b16\b\b16\b\b16\b\b16\b\b16\b\b16\b\b16\b\b16\b\b16\b\b16\b\b16\b\b16\b\b16\b\b16\b\b16\b\b16\b\b16\b\b16\b\b16\b\b16\b\b16\b\b16\b\b16\b\b16\b\b16\b\b16\b\b16\b\b16\b\b16\b\b16\b\b16\b\b16\b\b16\b\b16\b\b16\b\b16\b\b16\b\b16\b\b16\b\b16\b\b16\b\b16\b\b16\b\b16\b\b16\b\b16\b\b16\b\b16\b\b16\b\b16\b\b16\b\b16\b\b16\b\b16\b\b16\b\b16\b\b16\b\b16\b\b16\b\b16\b\b16\b\b16\b\b16\b\b16\b\b16\b\b16\b\b16\b\b16\b\b16\b\b16\b\b16\b\b16\b\b16\b\b16\b\b16\b\b16\b\b16\b\b16\b\b16\b\b16\b\b16\b\b16\b\b16\b\b16\b\b16\b\b16\b\b16\b\b16\b\b16\b\b16\b\b16\b\b16\b\b16\b\b16\b\b16\b\b16\b\b16\b\b16\b\b16\b\b16\b\b16\b\b16\b\b16\b\b16\b\b16\b\b16\b\b16\b\b16\b\b16\b\b16\b\b16\b\b16\b\b16\b\b16\b\b16\b\b16\b\b16\b\b16\b\b16\b\b16\b\b16\b\b16\b\b16\b\b16\b\b16\b\b16\b\b16\b\b16\b\b16\b\b16\b\b16\b\b16\b\b16\b\b16\b\b16\b\b16\b\b16\b\b16\b\b16\b\b16\b\b16\b\b16\b\b16\b\b16\b\b16\b\b16\b\b16\b\b16\b\b16\b\b16\b\b16\b\b16\b\b16\b\b16\b\b16\b\b16\b\b16\b\b16\b\b16\b\b16\b\b16\b\b16\b\b16\b\b16\b\b16\b\b16\b\b16\b\b16\b\b16\b\b16\b\b16\b\b16\b\b16\b\b16\b\b16\b\b16\b\b16\b\b16\b\b16\b\b16\b\b16\b\b16\b\b16\b\b16\b\b16\b\b16\b\b16\b\b16\b\b16\b\b16\b\b16\b\b16\b\b16\b\b16\b\b16\b\b16\b\b16\b\b16\b\b16\b\b16\b\b16\b\b16\b\b16\b\b16\b\b16\b\b16\b\b16\b\b16\b\b16\b\b16\b\b16\b\b16\b\b16\b\b16\b\b16\b\b16\b\b16\b\b16\b\b16\b\b16\b\b16\b\b16\b\b16\b\b16\b\b16\b\b16\b\b16\b\b16\b\b16\b\b16\b\b16\b\b16\b\b16\b\b16\b\b16\b\b16\b\b16\b\b16\b\b16\b\b16\b\b16\b\b16\b\b16\b\b16\b\b16\b\b16\b\b16\b\b16\b\b16\b\b16\b\b16\b\b16\b\b16\b\b16\b\b16\b\b16\b\b16\b\b16\b\b16\b\b16\b\b16\b\b16\b\b16\b\b16\b\b16\b\b16\b\b16\b\b16\b\b16\b\b16\b\b16\b\b16\b\b16\b\b16\b\b16\b\b16\b\b16\b\b16\b\b16\b\b16\b\b16\b\b16\b\b16\b\b16\b\b16\b\b16\b\b16\b\b16\b\b16\b\b16\b\b16\b\b16\b\b16\b\b16\b\b16\b\b16\b\b16\b\b16\b\b16\b\b16\b\b16\b\b16\b\b16\b\b16\b\b16\b\b16\b\b16\b\b16\b\b16\b\b16\b\b16\b\b16\b\b16\b\b16\b\b16\b\b16\b\b16\b\b16\b\b16\b\b16\b\b16\b\b16\b\b16\b\b16\b\b16\b\b16\b\b16\b\b16\b\b16\b\b16\b\b16\b\b16\b\b16\b\b16\b\b16\b\b16\b\b16\b\b16\b\b16\b\b16\b\b16\b\b16\b\b16\b\b16\b\b16\b\b16\b\b16\b\b16\b\b16\b\b16\b\b16\b\b16\b\b16\b\b16\b\b16\b\b16\b\b16\b\b16\b\b16\b\b16\b\b16\b\b16\b\b16\b\b16\b\b16\b\b16\b\b16\b\b16\b\b16\b\b16\b\b16\b\b16\b\b16\b\b16\b\b16\b\b16\b\b16\b\b16\b\b16\b\b16\b\b16\b\b16\b\b16\b\b16\b\b16\b\b16\b\b16\b\b16\b\b16\b\b16\b\b16\b\b16\b\b16\b\b16\b\b16\b\b16\b\b16\b\b16\b\b16\b\b16\b\b16\b\b16\b\b16\b\b16\b\b16\b\b16\b\b16\b\b16\b\b16\b\b16\b\b16\b\b16\b\b16\b\b16\b\b16\b\b16\b\b16\b\b16\b\b16\b\b16\b\b16\b\b16\b\b16\b\b16\b\b16\b\b16\b\b16\b\b16\b\b16\b\b16\b\b16\b\b16\b\b16\b\b16\b\b16\b\b16\b\b16\b\b16\b\b16\b\b16\b\b16\b\b16\b\b16\b\b16\b\b16\b\b16\b\b16\b\b16\b\b16\b\b16\b\b16\b\b16\b\b16\b\b16\b\b16\b\b16\b\b16\b\b16\b\b16\b\b16\b\b16\b\b16\b\b16\b\b16\b\b16\b\b16\b\b16\b\b16\b\b16\b\b16\b\b16\b\b16\b\b16\b\b16\b\b16\b\b16\b\b16\b\b16\b\b16\b\b16\b\b16\b\b16\b\b16\b\b16\b\b16\b\b16\b\b16\b\b16\b\b16\b\b16\b\b16\b\b16\b\b16\b\b16\b\b16\b\b16\b\b16\b\b16\b\b16\b\b16\b\b16\b\b16\b\b16\b\b16\b\b16\b\b16\b\b16\b\b16\b\b16\b\b16\b\b16\b\b16\b\b16\b\b16\b\b16\b\b16\b\b16\b\b16\b\b16\b\b16\b\b16\b\b16\b\b16\b\b16\b\b16\b\b16\b\b16\b\b16\b\b16\b\b16\b\b16\b\b16\b\b16\b\b16\b\b16\b\b16\b\b16\b\b16\b\b16\b\b16\b\b16\b\b16\b\b16\b\b16\b\b16\b\b16\b\b16\b\b16\b\b16\b\b16\b\b16\b\b16\b\b16\b\b16\b\b16\b\b16\b\b16\b\b16\b\b16\b\b16\b\b16\b\b16\b\b16\b\b16\b\b16\b\b16\b\b16\b\b16\b\b16\b\b16\b\b16\b\b16\b\b16\b\b16\b\b16\b\b16\b\b16\b\b16\b\b16\b\b16\b\b16\b\b16\b\b16\b\b16\b\b16\b\b16\b\b16\b\b16\b\b16\b\b16\b\b16\b\b16\b\b16\b\b16\b\b16\b\b16\b\b16\b\b16\b\b16\b\b16\b\b16\b\b16\b\b16\b\b16\b\b16\b\b16\b\b16\b\b16\b\b16\b\b16\b\b16\b\b16\b\b16\b\b16\b\b16\b\b16\b\b16\b\b16\b\b16\b\b16\b\b16\b\b16\b\b16\b\b16\b\b16\b\b16\b\b16\b\b16\b\b16\b\b16\b\b16\b\b16\b\b16\b\b16\b\b16\b\b16\b\b16\b\b16\b\b16\b\b16\b\b16\b\b16\b\b16\b\b16\b\b16\b\b16\b\b16\b\b16\b\b16\b\b16\b\b16\b\b16\b\b16\b\b16\b\b16\b\b16\b\b16\b\b16\b\b16\b\b16\b\b16\b\b16\b\b16\b\b16\b\b16\b\b16\b\b16\b\b16\b\b16\b\b16\b\b16\b\b16\b\b16\b\b16\b\b16\b\b16\b\b16\b\b16\b\b16\b\b16\b\b16\b\b16\b\b16\b\b16\b\b16\b\b16\b\b16\b\b16\b\b16\b\b16\b\b16\b\b16\b\b16\b\b16\b\b16\b\b16\b\b16\b\b16\b\b16\b\b16\b\b16\b\b16\b\b16\b\b16\b\b16\b\b16\b\b16\b\b16\b\b16\b\b16\b\b16\b\b16\b\b16\b\b16\b\b16\b\b16\b\b16\b\b16\b\b16\b\b16\b\b16\b\b16\b\b16\b\b16\b\b16\b\b16\b\b16\b\b16\b\b16\b\b16\b\b16\b\b16\b\b16\b\b16\b\b16\b\b16\b\b16\b\b16\b\b16\b\b16\b\b16\b\b16\b\b16\b\b16\b\b16\b\b16\b\b16\b\b16\b\b16\b\b16\b\b16\b\b16\b\b16\b\b16\b\b16\b\b16\b\b16\b\b16\b\b16\b\b16\b\b16\b\b16\b\b16\b\b16\b\b16\b\b16\b\b16\b\b16\b\b16\b\b16\b\b16\b\b16\b\b16\b\b16\b\b16\b\b16\b\b16\b\b16\b\b16\b\b16\b\b16\b\b16\b\b16\b\b16\b\b16\b\b16\b\b16\b\b16\b\b16\b\b16\b\b16\b\b16\b\b16\b\b16\b\b16\b\b16\b\b16\b\b16\b\b16\b\b16\b\b16\b\b16\b\b16\b\b16\b\b16\b\b16\b\b16\b\b16\b\b16\b\b16\b\b16\b\b16\b\b16\b\b16\b\b16\b\b16\b\b16\b\b16\b\b16\b\b16\b\b16\b\b16\b\b16\b\b16\b\b16\b\b16\b\b16\b\b16\b\b16\b\b16\b\b16\b\b16\b\b16\b\b16\b\b16\b\b16\b\b16\b\b16\b\b16\b\b16\b\b16\b\b16\b\b16\b\b16\b\b16\b\b16\b\b16\b\b16\b\b16\b\b16\b\b16\b\b16\b\b16\b\b16\b\b16\b\b16\b\b16\b\b16\b\b16\b\b16\b\b16\b\b16\b\b16\b\b16\b\b16\b\b16\b\b16\b\b16\b\b16\b\b16\b\b16\b\b16\b\b16\b\b16\b\b16\b\b16\b\b16\b\b16\b\b16\b\b16\b\b16\b\b16\b\b16\b\b16\b\b16\b\b16\b\b16\b\b16\b\b16\b\b16\b\b16\b\b16\b\b16\b\b16\b\b16\b\b16\b\b16\b\b16\b\b16\b\b16\b\b16\b\b16\b\b16\b\b16\b\b16\b\b16\b\b16\b\b16\b\b16\b\b16\b\b16\b\b16\b\b16\b\b16\b\b16\b\b16\b\b16\b\b16\b\b16\b\b16\b\b16\b\b16\b\b16\b\b16\b\b16\b\b16\b\b16\b\b16\b\b16\b\b16\b\b16\b\b16\b\b16\b\b16\b\b16\b\b16\b\b16\b\b16\b\b16\b\b16\b\b16\b\b16\b\b16\b\b16\b\b16\b\b16\b\b16\b\b16\b\b16\b\b16\b\b16\b\b16\b\b16\b\b16\b\b16\b\b16\b\b16\b\b16\b\b16\b\b16\b\b16\b\b16\b\b16\b\b16\b\b16\b\b16\b\b16\b\b16\b\b16\b\b16\b\b16\b\b16\b\b16\b\b16\b\b16\b\b16\b\b16\b\b16\b\b16\b\b16\b\b16\b\b16\b\b16\b\b16\b\b16\b\b16\b\b16\b\b16\b\b16\b\b16\b\b16\b\b16\b\b16\b\b16\b\b16\b\b16\b\b16\b\b16\b\b16\b\b16\b\b16\b\b16\b\b16\b\b16\b\b16\b\b16\b\b16\b\b16\b\b16\b\b16\b\b16\b\b16\b\b16\b\b16\b\b16\b\b16\b\b16\b\b16\b\b16\b\b16\b\b16\b\b16\b\b16\b\b16\b\b16\b\b16\b\b16\b\b16\b\b16\b\b16\b\b16\b\b16\b\b16\b\b16\b\b16\b\b16\b\b16\b\b16\b\b16\b\b16\b\b16\b\b16\b\b16\b\b16\b\b16\b\b16\b\b16\b\b16\b\b16\b\b16\b\b16\b\b16\b\b16\b\b16\b\b16\b\b16\b\b16\b\b16\b\b16\b\b16\b\b16\b\b16\b\b16\b\b16\b\b16\b\b16\b\b16\b\b16\b\b16\b\b16\b\b16\b\b16\b\b16\b\b16\b\b16\b\b16\b\b16\b\b16\b\b16\b\b16\b\b16\b\b16\b\b16\b\b16\b\b16\b\b16\b\b16\b\b16\b\b16\b\b16\b\b16\b\b16\b\b16\b\b16\b\b16\b\b16\b\b16\b\b16\b\b16\b\b16\b\b16\b\b16\b\b16\b\b16\b\b16\b\b16\b\b16\b\b16\b\b16\b\b16\b\b16\b\b16\b\b16\b\b16\b\b16\b\b16\b\b16\b\b16\b\b16\b\b16\b\b16\b\b16\b\b16\b\b16\b\b16\b\b16\b\b16\b\b16\b\b16\b\b16\b\b16\b\b16\b\b16\b\b16\b\b16\b\b16\b\b16\b\b16\b\b16\b\b16\b\b16\b\b16\b\b16\b\b16\b\b16\b\b16\b\b16\b\b16\b\b16\b\b16\b\b16\b\b16\b\b16\b\b16\b\b16\b\b16\b\b16\b\b16\b\b16\b\b16\b\b16\b\b16\b\b16\b\b16\b\b16\b\b16\b\b16\b\b16\b\b16\b\b16\b\b16\b\b16\b\b16\b\b16\b\b16\b\b16\b\b16\b\b16\b\b16\b\b16\b\b16\b\b16\b\b16\b\b16\b\b16\b\b16\b\b16\b\b16\b\b16\b\b16\b\b16\b\b16\b\b16\b\b16\b\b16\b\b16\b\b16\b\b16\b\b16\b\b16\b\b16\b\b16\b\b16\b\b16\b\b16\b\b16\b\b16\b\b16\b\b16\b\b16\b\b16\b\b16\b\b16\b\b16\b\b16\b\b16\b\b16\b\b16\b\b16\b\b16\b\b16\b\b16\b\b16\b\b16\b\b16\b\b16\b\b16\b\b16\b\b16\b\b16\b\b16\b\b16\b\b16\b\b16\b\b16\b\b16\b\b16\b\b16\b\b16\b\b16\b\b16\b\b16\b\b16\b\b16\b\b16\b\b16\b\b16\b\b16\b\b16\b\b16\b\b16\b\b16\b\b16\b\b16\b\b16\b\b16\b\b16\b\b16\b\b16\b\b16\b\b16\b\b16\b\b16\b\b16\b\b16\b\b16\b\b16\b\b16\b\b16\b\b16\b\b16\b\b16\b\b16\b\b16\b\b16\b\b16\b\b16\b\b16\b\b16\b\b16\b\b16\b\b16\b\b16\b\b16\b\b16\b\b16\b\b16\b\b16\b\b16\b\b16\b\b16\b\b16\b\b16\b\b16\b\b16\b\b16\b\b16\b\b16\b\b16\b\b16\b\b16\b\b16\b\b16\b\b16\b\b16\b\b16\b\b16\b\b16\b\b16\b\b16\b\b16\b\b16\b\b16\b\b16\b\b16\b\b16\b\b16\b\b16\b\b16\b\b16\b\b16\b\b16\b\b16\b\b16\b\b16\b\b16\b\b16\b\b16\b\b16\b\b16\b\b16\b\b16\b\b16\b\b16\b\b16\b\b16\b\b16\b\b16\b\b16\b\b16\b\b16\b\b16\b\b16\b\b16\b\b16\b\b16\b\b16\b\b16\b\b16\b\b16\b\b16\b\b16\b\b16\b\b16\b\b16\b\b16\b\b16\b\b16\b\b16\b\b16\b\b16\b\b16\b\b16\b\b16\b\b16\b\b16\b\b16\b\b16\b\b16\b\b16\b\b16\b\b16\b\b16\b\b16\b\b16\b\b16\b\b16\b\b16\b\b16\b\b16\b\b16\b\b16\b\b16\b\b16\b\b16\b\b16\b\b16\b\b16\b\b16\b\b16\b\b16\b\b16\b\b16\b\b16\b\b16\b\b16\b\b16\b\b16\b\b16\b\b16\b\b16\b\b16\b\b16\b\b16\b\b16\b\b16\b\b16\b\b16\b\b16\b\b16\b\b16\b\b16\b\b16\b\b16\b\b16\b\b16\b\b16\b\b16\b\b16\b\b16\b\b16\b\b16\b\b16\b\b16\b\b16\b\b16\b\b16\b\b16\b\b16\b\b16\b\b16\b\b16\b\b16\b\b16\b\b16\b\b16\b\b16\b\b16\b\b16\b\b16\b\b16\b\b16\b\b16\b\b16\b\b16\b\b16\b\b16\b\b16\b\b16\b\b16\b\b16\b\b16\b\b16\b\b16\b\b16\b\b16\b\b16\b\b16\b\b16\b\b16\b\b16\b\b16\b\b16\b\b16\b\b16\b\b16\b\b16\b\b16\b\b16\b\b16\b\b16\b\b16\b\b16\b\b16\b\b16\b\b16\b\b16\b\b16\b\b16\b\b16\b\b16\b\b16\b\b16\b\b16\b\b16\b\b16\b\b16\b\b16\b\b16\b\b16\b\b16\b\b16\b\b16\b\b16\b\b16\b\b16\b\b16\b\b16\b\b16\b\b16\b\b16\b\b16\b\b16\b\b16\b\b16\b\b16\b\b16\b\b16\b\b16\b\b16\b\b16\b\b16\b\b16\b\b16\b\b16\b\b16\b\b16\b\b16\b\b16\b\b16\b\b16\b\b16\b\b16\b\b16\b\b16\b\b16\b\b16\b\b16\b\b16\b\b16\b\b16\b\b16\b\b16\b\b16\b\b16\b\b16\b\b16\b\b16\b\b16\b\b16\b\b16\b\b16\b\b16\b\b16\b\b16\b\b16\b\b16\b\b16\b\b16\b\b16\b\b16\b\b16\b\b16\b\b16\b\b16\b\b16\b\b16\b\b16\b\b16\b\b16\b\b16\b\b16\b\b16\b\b16\b\b16\b\b16\b\b16\b\b16\b\b16\b\b16\b\b16\b\b16\b\b16\b\b16\b\b16\b\b16\b\b16\b\b16\b\b16\b\b16\b\b16\b\b16\b\b16\b\b16\b\b16\b\b16\b\b16\b\b16\b\b16\b\b16\b\b16\b\b16\b\b16\b\b16\b\b16\b\b16\b\b16\b\b16\b\b16\b\b16\b\b16\b\b16\b\b16\b\b16\b\b16\b\b16\b\b16\b\b16\b\b16\b\b16\b\b16\b\b16\b\b16\b\b16\b\b16\b\b16\b\b16\b\b16\b\b16\b\b16\b\b16\b\b16\b\b16\b\b16\b\b16\b\b16\b\b16\b\b16\b\b16\b\b16\b\b16\b\b16\b\b16\b\b16\b\b16\b\b16\b\b16\b\b16\b\b16\b\b16\b\b16\b\b16\b\b16\b\b16\b\b16\b\b16\b\b16\b\b16\b\b16\b\b16\b\b16\b\b16\b\b16\b\b16\b\b16\b\b16\b\b16\b\b16\b\b16\b\b16\b\b16\b\b16\b\b16\b\b16\b\b16\b\b16\b\b16\b\b16\b\b16\b\b16\b\b16\b\b16\b\b16\b\b16\b\b16\b\b16\b\b16\b\b16\b\b16\b\b16\b\b16\b\b16\b\b16\b\b16\b\b16\b\b16\b\b16\b\b16\b\b16\b\b16\b\b16\b\b16\b\b16\b\b16\b\b16\b\b16\b\b16\b\b16\b\b16\b\b16\b\b16\b\b16\b\b16\b\b16\b\b16\b\b16\b\b16\b\b16\b\b16\b\b16\b\b16\b\b16\b\b16\b\b16\b\b16\b\b16\b\b16\b\b16\b\b16\b\b16\b\b16\b\b16\b\b16\b\b16\b\b16\b\b16\b\b16\b\b16\b\b16\b\b16\b\b16\b\b16\b\b16\b\b16\b\b16\b\b16\b\b16\b\b16\b\b16\b\b16\b\b16\b\b16\b\b16\b\b16\b\b16\b\b16\b\b16\b\b16\b\b16\b\b16\b\b16\b\b16\b\b16\b\b16\b\b16\b\b16\b\b16\b\b16\b\b16\b\b16\b\b16\b\b16\b\b16\b\b16\b\b16\b\b16\b\b16\b\b16\b\b16\b\b16\b\b16\b\b16\b\b16\b\b16\b\b16\b\b16\b\b16\b\b16\b\b16\b\b16\b\b16\b\b16\b\b16\b\b16\b\b16\b\b16\b\b16\b\b16\b\b16\b\b16\b\b16\b\b16\b\b16\b\b16\b\b16\b\b16\b\b16\b\b16\b\b16\b\b16\b\b16\b\b16\b\b16\b\b16\b\b16\b\b16\b\b16\b\b16\b\b16\b\b16\b\b16\b\b16\b\b16\b\b16\b\b16\b\b16\b\b16\b\b16\b\b16\b\b16\b\b16\b\b16\b\b16\b\b16\b\b16\b\b16\b\b16\b\b16\b\b16\b\b16\b\b16\b\b16\b\b16\b\b16\b\b16\b\b16\b\b16\b\b16\b\b16\b\b16\b\b16\b\b16\b\b16\b\b16\b\b16\b\b16\b\b16\b\b16\b\b16\b\b16\b\b16\b\b16\b\b16\b\b16\b\b16\b\b16\b\b16\b\b16\b\b16\b\b16\b\b16\b\b16\b\b16\b\b16\b\b16\b\b16\b\b16\b\b16\b\b16\b\b16\b\b16\b\b16\b\b16\b\b16\b\b16\b\b16\b\b16\b\b16\b\b16\b\b16\b\b16\b\b16\b\b16\b\b16\b\b16\b\b16\b\b16\b\b16\b\b16\b\b16\b\b16\b\b16\b\b16\b\b16\b\b16\b\b16\b\b16\b\b16\b\b16\b\b16\b\b16\b\b16\b\b16\b\b16\b\b16\b\b16\b\b16\b\b16\b\b16\b\b16\b\b16\b\b16\b\b16\b\b16\b\b16\b\b16\b\b16\b\b16\b\b16\b\b16\b\b16\b\b16\b\b16\b\b16\b\b16\b\b16\b\b16\b\b16\b\b16\b\b16\b\b16\b\b16\b\b16\b\b16\b\b16\b\b16\b\b16\b\b16\b\b16\b\b16\b\b16\b\b16\b\b16\b\b16\b\b16\b\b16\b\b16\b\b16\b\b16\b\b16\b\b16\b\b16\b\b16\b\b16\b\b16\b\b16\b\b16\b\b16\b\b16\b\b16\b\b16\b\b16\b\b16\b\b16\b\b16\b\b16\b\b16\b\b16\b\b16\b\b16\b\b16\b\b16\b\b16\b\b16\b\b16\b\b16\b\b16\b\b16\b\b16\b\b16\b\b16\b\b16\b\b16\b\b16\b\b16\b\b16\b\b16\b\b16\b\b16\b\b16\b\b16\b\b16\b\b16\b\b16\b\b16\b\b16\b\b16\b\b16\b\b16\b\b16\b\b16\b\b16\b\b16\b\b16\b\b16\b\b16\b\b16\b\b16\b\b16\b\b16\b\b16\b\b16\b\b16\b\b16\b\b16\b\b16\b\b16\b\b16\b\b16\b\b16\b\b16\b\b16\b\b16\b\b16\b\b16\b\b16\b\b16\b\b16\b\b16\b\b16\b\b16\b\b16\b\b16\b\b16\b\b16\b\b16\b\b16\b\b16\b\b16\b\b16\b\b16\b\b16\b\b16\b\b16\b\b16\b\b16\b\b16\b\b16\b\b16\b\b16\b\b16\b\b16\b\b16\b\b16\b\b16\b\b16\b\b16\b\b16\b\b16\b\b16\b\b16\b\b16\b\b16\b\b16\b\b16\b\b16\b\b16\b\b16\b\b16\b\b16\b\b16\b\b16\b\b16\b\b16\b\b16\b\b16\b\b16\b\b16\b\b16\b\b16\b\b16\b\b16\b\b16\b\b16\b\b16\b\b16\b\b16\b\b16\b\b16\b\b16\b\b16\b\b16\b\b16\b\b16\b\b16\b\b16\b\b16\b\b16\b\b16\b\b16\b\b16\b\b16\b\b16\b\b16\b\b16\b\b16\b\b16\b\b16\b\b16\b\b16\b\b16\b\b16\b\b16\b\b16\b\b16\b\b16\b\b16\b\b16\b\b16\b\b16\b\b16\b\b16\b\b16\b\b16\b\b16\b\b16\b\b16\b\b16\b\b16\b\b16\b\b16\b\b16\b\b16\b\b16\b\b16\b\b16\b\b16\b\b16\b\b16\b\b16\b\b16\b\b16\b\b16\b\b16\b\b16\b\b16\b\b16\b\b16\b\b16\b\b16\b\b16\b\b16\b\b16\b\b16\b\b16\b\b16\b\b16\b\b16\b\b16\b\b16\b\b16\b\b16\b\b16\b\b16\b\b16\b\b16\b\b16\b\b16\b\b16\b\b16\b\b16\b\b16\b\b16\b\b16\b\b16\b\b16\b\b16\b\b16\b\b16\b\b16\b\b16\b\b16\b\b16\b\b16\b\b16\b\b16\b\b16\b\b16\b\b16\b\b16\b\b16\b\b16\b\b16\b\b16\b\b16\b\b16\b\b16\b\b16\b\b16\b\b16\b\b16\b\b16\b\b16\b\b16\b\b16\b\b16\b\b16\b\b16\b\b16\b\b16\b\b16\b\b16\b\b16\b\b16\b\b16\b\b16\b\b16\b\b16\b\b16\b\b16\b\b16\b\b16\b\b16\b\b16\b\b16\b\b16\b\b16\b\b16\b\b16\b\b16\b\b16\b\b16\b\b16\b\b16\b\b16\b\b16\b\b16\b\b16\b\b16\b\b16\b\b16\b\b16\b\b16\b\b16\b\b16\b\b16\b\b16\b\b16\b\b16\b\b16\b\b16\b\b16\b\b16\b\b16\b\b16\b\b16\b\b16\b\b16\b\b16\b\b16\b\b16\b\b16\b\b16\b\b16\b\b16\b\b16\b\b16\b\b16\b\b16\b\b16\b\b16\b\b16\b\b16\b\b16\b\b16\b\b16\b\b16\b\b16\b\b16\b\b16\b\b16\b\b16\b\b16\b\b16\b\b16\b\b16\b\b16\b\b16\b\b16\b\b16\b\b16\b\b16\b\b16\b\b16\b\b16\b\b16\b\b16\b\b16\b\b16\b\b16\b\b16\b\b16\b\b16\b\b16\b\b16\b\b16\b\b16\b\b16\b\b16\b\b16\b\b16\b\b16\b\b16\b\b16\b\b16\b\b16\b\b16\b\b16\b\b16\b\b16\b\b16\b\b16\b\b16\b\b16\b\b16\b\b16\b\b16\b\b16\b\b16\b\b16\b\b16\b\b16\b\b16\b\b16\b\b16\b\b16\b\b16\b\b16\b\b16\b\b16\b\b16\b\b16\b\b16\b\b16\b\b16\b\b16\b\b16\b\b16\b\b16\b\b16\b\b16\b\b16\b\b16\b\b16\b\b16\b\b16\b\b16\b\b16\b\b16\b\b16\b\b16\b\b16\b\b16\b\b16\b\b16\b\b16\b\b16\b\b16\b\b16\b\b16\b\b16\b\b16\b\b16\b\b16\b\b16\b\b16\b\b16\b\b16\b\b16\b\b16\b\b16\b\b16\b\b16\b\b16\b\b16\b\b16\b\b16\b\b16\b\b16\b\b16\b\b16\b\b16\b\b16\b\b16\b\b16\b\b16\b\b16\b\b16\b\b16\b\b16\b\b16\b\b16\b\b16\b\b16\b\b16\b\b16\b\b16\b\b16\b\b16\b\b16\b\b16\b\b16\b\b16\b\b16\b\b16\b\b16\b\b16\b\b16\b\b16\b\b16\b\b16\b\b16\b\b16\b\b16\b\b16\b\b16\b\b16\b\b16\b\b16\b\b16\b\b16\b\b16\b\b16\b\b16\b\b16\b\b16\b\b16\b\b16\b\b16\b\b16\b\b16\b\b16\b\b16\b\b16\b\b16\b\b16\b\b16\b\b16\b\b16\b\b16\b\b16\b\b16\b\b16\b\b16\b\b16\b\b16\b\b16\b\b16\b\b16\b\b16\b\b16\b\b16\b\b16\b\b16\b\b16\b\b16\b\b16\b\b16\b\b16\b\b16\b\b16\b\b16\b\b16\b\b16\b\b16\b\b16\b\b16\b\b16\b\b16\b\b16\b\b16\b\b16\b\b16\b\b16\b\b16\b\b16\b\b16\b\b16\b\b16\b\b16\b\b16\b\b16\b\b16\b\b16\b\b16\b\b16\b\b16\b\b16\b\b16\b\b16\b\b16\b\b16\b\b16\b\b16\b\b16\b\b16\b\b16\b\b16\b\b16\b\b16\b\b16\b\b16\b\b16\b\b16\b\b16\b\b16\b\b16\b\b16\b\b16\b\b16\b\b16\b\b16\b\b16\b\b16\b\b16\b\b16\b\b16\b\b16\b\b16\b\b16\b\b16\b\b16\b\b16\b\b16\b\b16\b\b16\b\b16\b\b16\b\b16\b\b16\b\b16\b\b16\b\b16\b\b16\b\b16\b\b16\b\b16\b\b16\b\b16\b\b16\b\b16\b\b16\b\b16\b\b16\b\b16\b\b16\b\b16\b\b16\b\b16\b\b16\b\b16\b\b16\b\b16\b\b16\b\b16\b\b16\b\b16\b\b16\b\b16\b\b16\b\b16\b\b16\b\b16\b\b16\b\b16\b\b16\b\b16\b\b16\b\b16\b\b16\b\b16\b\b16\b\b16\b\b16\b\b16\b\b16\b\b16\b\b16\b\b16\b\b16\b\b16\b\b16\b\b16\b\b16\b\b16\b\b16\b\b16\b\b16\b\b16\b\b16\b\b16\b\b16\b\b16\b\b16\b\b16\b\b16\b\b16\b\b16\b\b16\b\b16\b\b16\b\b16\b\b16\b\b16\b\b16\b\b16\b\b16\b\b16\b\b16\b\b16\b\b16\b\b16\b\b16\b\b16\b\b16\b\b16\b\b16\b\b16\b\b16\b\b16\b\b16\b\b16\b\b16\b\b16\b\b16\b\b16\b\b16\b\b16\b\b16\b\b16\b\b16\b\b16\b\b16\b\b16\b\b16\b\b16\b\b16\b\b16\b\b16\b\b16\b\b16\b\b16\b\b16\b\b16\b\b16\b\b16\b\b16\b\b16\b\b16\b\b16\b\b16\b\b16\b\b16\b\b16\b\b16\b\b16\b\b16\b\b16\b\b16\b\b16\b\b16\b\b16\b\b16\b\b16\b\b16\b\b16\b\b16\b\b16\b\b16\b\b16\b\b16\b\b16\b\b16\b\b16\b\b16\b\b16\b\b16\b\b16\b\b16\b\b16\b\b16\b\b16\b\b16\b\b16\b\b16\b\b16\b\b16\b\b16\b\b16\b\b16\b\b16\b\b16\b\b16\b\b16\b\b16\b\b16\b\b16\b\b16\b\b16\b\b16\b\b16\b\b16\b\b16\b\b16\b\b16\b\b16\b\b16\b\b16\b\b16\b\b16\b\b16\b\b16\b\b16\b\b16\b\b16\b\b16\b\b16\b\b16\b\b16\b\b16\b\b16\b\b16\b\b16\b\b16\b\b16\b\b16\b\b16\n",
      "- Resample04: lambda1=0.05, lambda2=0.05 \n",
      "+ Resample05: lambda1=0.05, lambda2=0.05 \n",
      "# nonzero coefficients: 16\b\b16\b\b16\b\b16\b\b16\b\b16\b\b16\b\b16\b\b16\b\b16\b\b16\b\b16\b\b16\b\b16\b\b16\b\b16\b\b16\b\b16\b\b16\b\b16\b\b16\b\b16\b\b16\b\b16\b\b16\b\b16\b\b16\b\b16\b\b16\b\b16\b\b16\b\b16\b\b16\b\b16\b\b16\b\b16\b\b16\b\b16\b\b16\b\b16\b\b16\b\b16\b\b16\b\b16\b\b16\b\b16\b\b16\b\b16\b\b16\b\b16\b\b16\b\b16\b\b16\b\b16\b\b16\b\b16\b\b16\b\b16\b\b16\n",
      "- Resample05: lambda1=0.05, lambda2=0.05 \n",
      "+ Resample06: lambda1=0.05, lambda2=0.05 \n",
      "# nonzero coefficients: 16\b\b16\b\b16\b\b16\b\b16\b\b16\b\b16\b\b16\b\b16\b\b16\b\b16\b\b16\b\b16\b\b16\b\b16\b\b16\b\b16\b\b16\b\b16\b\b16\b\b16\b\b16\b\b16\b\b16\b\b16\b\b16\b\b16\b\b16\b\b16\b\b16\b\b16\b\b16\b\b16\b\b16\b\b16\b\b16\b\b16\b\b16\b\b16\b\b16\b\b16\b\b16\b\b16\b\b16\b\b16\b\b16\b\b16\b\b16\b\b16\b\b16\b\b16\b\b16\b\b16\b\b16\b\b16\b\b16\b\b16\b\b16\b\b16\b\b16\b\b16\b\b16\b\b16\b\b16\b\b16\b\b16\b\b16\b\b16\b\b16\b\b16\b\b15\b\b16\b\b16\b\b16\b\b16\b\b16\b\b16\b\b16\b\b16\b\b16\b\b16\b\b16\b\b16\b\b16\b\b16\b\b16\b\b16\b\b16\b\b16\b\b16\b\b16\b\b16\b\b16\b\b16\b\b16\b\b16\b\b16\b\b16\b\b16\b\b16\b\b16\b\b16\b\b16\b\b16\b\b16\b\b16\n",
      "- Resample06: lambda1=0.05, lambda2=0.05 \n",
      "+ Resample07: lambda1=0.05, lambda2=0.05 \n",
      "# nonzero coefficients: 16\b\b16\b\b16\b\b16\b\b16\b\b16\b\b16\b\b16\b\b16\b\b16\b\b16\b\b16\b\b16\b\b16\b\b16\b\b16\b\b16\b\b16\b\b16\b\b16\b\b16\b\b16\b\b16\b\b16\b\b16\b\b16\b\b16\b\b16\b\b16\b\b16\b\b16\b\b16\b\b16\b\b16\b\b16\b\b16\b\b16\b\b16\b\b16\b\b16\b\b16\b\b16\b\b16\b\b16\b\b16\b\b16\b\b16\b\b16\b\b16\b\b16\b\b16\b\b16\b\b16\b\b16\b\b16\b\b16\b\b16\b\b16\b\b16\b\b16\b\b16\b\b16\b\b16\b\b16\b\b16\b\b16\b\b16\b\b16\b\b16\b\b16\b\b16\b\b16\b\b16\b\b16\b\b16\b\b16\b\b16\b\b16\b\b16\b\b16\b\b16\b\b16\b\b16\b\b16\b\b16\b\b16\b\b16\b\b16\b\b16\b\b16\b\b16\b\b16\b\b16\b\b16\b\b16\b\b16\b\b16\b\b16\b\b16\b\b16\b\b16\b\b16\b\b16\b\b16\b\b16\b\b16\b\b16\b\b16\b\b16\b\b16\b\b16\b\b16\b\b16\b\b16\b\b16\b\b16\b\b16\b\b16\b\b16\b\b16\b\b16\b\b16\b\b16\b\b16\b\b16\b\b16\b\b16\b\b16\b\b16\b\b16\b\b16\b\b16\b\b16\b\b16\b\b16\b\b16\b\b16\b\b16\b\b16\b\b16\b\b16\b\b16\b\b16\b\b16\b\b16\b\b16\b\b16\b\b16\b\b16\b\b16\b\b16\b\b16\n",
      "- Resample07: lambda1=0.05, lambda2=0.05 \n",
      "+ Resample08: lambda1=0.05, lambda2=0.05 \n",
      "# nonzero coefficients: 16\b\b16\b\b16\b\b16\b\b16\b\b16\b\b16\b\b16\b\b16\b\b16\b\b16\b\b16\b\b16\b\b16\b\b16\b\b16\b\b16\b\b16\b\b16\b\b16\b\b16\b\b16\b\b16\b\b16\b\b16\b\b16\b\b16\b\b16\b\b16\b\b16\b\b16\b\b16\b\b16\b\b16\b\b16\b\b16\b\b16\b\b16\b\b16\b\b16\b\b16\b\b16\b\b16\b\b16\b\b16\b\b16\b\b16\b\b16\b\b16\b\b16\b\b16\b\b16\b\b16\b\b16\b\b16\b\b16\b\b16\b\b16\b\b16\b\b16\b\b16\b\b16\b\b16\b\b16\b\b16\b\b16\b\b16\b\b16\b\b16\b\b16\b\b16\b\b16\b\b16\b\b16\b\b16\b\b16\b\b16\b\b16\b\b16\b\b16\b\b16\n",
      "- Resample08: lambda1=0.05, lambda2=0.05 \n",
      "+ Resample09: lambda1=0.05, lambda2=0.05 \n",
      "# nonzero coefficients: 16\b\b16\b\b16\b\b16\b\b16\b\b16\b\b16\b\b16\b\b16\b\b16\b\b16\b\b16\b\b16\b\b16\b\b16\b\b16\b\b16\b\b16\b\b16\b\b16\b\b16\b\b16\b\b16\b\b16\b\b16\b\b16\b\b16\b\b16\b\b16\b\b16\b\b16\b\b16\b\b16\b\b16\b\b16\b\b16\b\b16\b\b16\b\b16\b\b16\b\b16\b\b16\b\b16\b\b16\b\b16\b\b16\b\b16\b\b16\b\b16\b\b16\b\b16\b\b16\b\b16\b\b16\b\b16\b\b16\b\b16\b\b16\b\b16\b\b16\b\b16\b\b16\b\b16\b\b16\b\b16\b\b16\b\b16\b\b16\b\b16\b\b16\b\b16\b\b16\b\b16\b\b16\b\b16\b\b16\b\b16\b\b16\b\b16\b\b16\b\b16\b\b16\b\b16\b\b16\b\b16\b\b16\b\b16\b\b16\b\b16\b\b16\b\b16\b\b16\b\b16\b\b16\b\b16\b\b16\b\b16\b\b16\b\b16\b\b16\b\b16\b\b16\b\b16\b\b16\b\b16\b\b16\b\b16\b\b16\b\b16\b\b16\b\b16\b\b16\b\b16\b\b16\b\b16\b\b16\b\b16\b\b16\b\b16\b\b16\b\b16\b\b16\b\b16\b\b16\b\b16\b\b16\b\b16\b\b16\b\b16\b\b16\b\b16\b\b16\b\b16\b\b16\b\b16\b\b16\b\b16\b\b16\b\b16\b\b16\b\b16\b\b16\b\b16\b\b16\b\b16\b\b16\b\b16\b\b16\b\b16\b\b16\b\b16\b\b16\b\b16\b\b16\b\b16\b\b16\b\b16\b\b16\b\b16\b\b16\b\b16\b\b16\b\b16\b\b16\b\b16\b\b16\b\b16\b\b16\b\b16\b\b16\b\b16\b\b16\b\b16\b\b16\b\b16\b\b16\b\b16\b\b16\b\b16\b\b16\b\b16\b\b16\b\b16\b\b16\b\b16\b\b16\b\b16\b\b16\b\b16\b\b16\b\b16\b\b16\b\b16\b\b16\b\b16\b\b16\b\b16\b\b16\b\b16\b\b16\b\b16\b\b16\b\b16\b\b16\b\b16\b\b16\b\b16\b\b16\b\b16\b\b16\b\b15\b\b16\b\b16\b\b16\b\b16\b\b16\b\b16\b\b15\b\b16\b\b16\b\b16\b\b16\b\b16\b\b16\b\b15\b\b16\b\b16\b\b16\b\b16\b\b16\b\b16\b\b16\b\b16\b\b16\b\b16\b\b15\b\b16\b\b16\b\b16\b\b16\b\b15\b\b15\b\b16\b\b16\b\b16\b\b16\b\b15\b\b15\b\b15\b\b15\b\b15\n",
      "- Resample09: lambda1=0.05, lambda2=0.05 \n",
      "+ Resample10: lambda1=0.05, lambda2=0.05 \n",
      "# nonzero coefficients: 16\b\b16\b\b16\b\b16\b\b16\b\b16\b\b16\b\b16\b\b16\b\b16\b\b16\b\b16\b\b16\b\b16\b\b16\b\b16\b\b16\b\b16\b\b16\b\b16\b\b16\b\b16\b\b16\b\b16\b\b16\b\b16\b\b16\b\b16\b\b16\b\b16\b\b16\b\b16\b\b16\b\b16\b\b16\b\b16\b\b16\b\b16\b\b16\b\b16\b\b16\b\b16\b\b16\b\b16\b\b16\b\b16\b\b16\b\b16\b\b16\b\b16\b\b16\b\b16\b\b16\b\b16\b\b16\b\b16\b\b16\b\b16\b\b16\b\b16\b\b16\b\b16\b\b16\b\b16\b\b16\b\b16\b\b16\b\b16\b\b16\b\b16\b\b16\b\b15\b\b16\b\b16\b\b16\b\b16\b\b16\b\b16\b\b16\b\b16\b\b15\b\b16\b\b16\b\b16\b\b16\b\b16\b\b16\b\b16\b\b16\b\b16\b\b16\b\b16\b\b16\b\b16\b\b16\b\b16\b\b16\b\b16\b\b16\b\b16\b\b16\b\b16\b\b16\b\b16\b\b16\b\b16\b\b16\b\b16\b\b16\b\b16\b\b16\b\b16\b\b16\b\b16\b\b16\b\b16\b\b16\b\b16\b\b16\b\b16\b\b16\b\b16\b\b16\b\b16\b\b16\b\b16\b\b16\b\b16\b\b16\b\b16\b\b16\b\b16\b\b16\b\b16\b\b16\b\b16\b\b16\b\b16\b\b16\b\b16\b\b16\b\b16\b\b16\b\b16\b\b16\b\b16\b\b16\b\b16\b\b16\b\b16\b\b16\b\b16\b\b16\b\b16\b\b16\b\b16\b\b16\b\b16\b\b16\b\b16\b\b16\b\b16\b\b16\b\b16\b\b16\b\b16\b\b16\b\b16\b\b16\b\b16\b\b16\b\b16\b\b16\b\b16\b\b16\b\b16\b\b16\b\b16\b\b16\b\b16\b\b16\b\b16\b\b16\b\b16\b\b16\b\b16\b\b16\b\b16\b\b16\b\b16\b\b16\b\b16\b\b16\b\b16\b\b16\b\b16\b\b16\b\b16\b\b16\b\b16\b\b16\b\b16\b\b16\b\b16\b\b16\b\b16\b\b16\b\b16\b\b16\b\b16\b\b16\b\b16\b\b16\b\b16\b\b16\b\b16\b\b16\b\b16\b\b16\b\b16\b\b16\b\b16\b\b16\b\b16\b\b16\b\b16\b\b16\b\b16\b\b16\b\b16\b\b16\b\b16\b\b16\b\b16\b\b16\b\b16\b\b16\b\b16\b\b16\b\b16\b\b16\b\b16\b\b16\b\b16\b\b16\b\b16\b\b15\b\b15\b\b15\b\b15\b\b15\n",
      "- Resample10: lambda1=0.05, lambda2=0.05 \n",
      "+ Resample11: lambda1=0.05, lambda2=0.05 \n",
      "# nonzero coefficients: 16\b\b16\b\b16\b\b16\b\b16\b\b16\b\b16\b\b16\b\b16\b\b16\b\b16\b\b16\b\b16\b\b16\b\b16\b\b16\b\b16\b\b16\b\b16\b\b16\b\b16\b\b16\b\b16\b\b16\b\b16\b\b16\b\b16\b\b16\b\b16\b\b16\b\b16\b\b16\b\b16\b\b16\b\b16\b\b16\b\b16\b\b16\b\b16\b\b16\b\b16\b\b16\b\b16\b\b16\b\b16\b\b16\b\b16\b\b16\b\b16\b\b16\b\b16\b\b16\b\b16\b\b16\b\b16\b\b16\b\b16\b\b16\b\b16\b\b16\b\b16\b\b16\b\b16\b\b16\b\b16\b\b16\b\b16\b\b16\b\b16\b\b16\b\b16\b\b16\b\b16\b\b16\b\b16\b\b16\b\b16\b\b16\b\b16\b\b16\b\b16\b\b16\b\b16\b\b16\b\b16\b\b16\b\b16\b\b16\b\b16\b\b16\b\b16\b\b16\b\b16\b\b16\b\b16\b\b16\b\b16\b\b16\b\b16\b\b16\b\b16\b\b16\b\b16\b\b16\b\b16\b\b16\b\b16\b\b16\b\b16\b\b16\b\b16\b\b16\b\b16\b\b16\b\b16\b\b16\b\b16\b\b16\b\b16\b\b16\b\b16\b\b16\b\b16\b\b16\b\b16\n",
      "- Resample11: lambda1=0.05, lambda2=0.05 \n",
      "+ Resample12: lambda1=0.05, lambda2=0.05 \n",
      "# nonzero coefficients: 16\b\b16\b\b16\b\b16\b\b16\b\b16\b\b16\b\b16\b\b16\b\b16\b\b16\b\b16\b\b16\b\b16\b\b16\b\b16\b\b16\b\b16\b\b16\b\b16\b\b16\b\b16\b\b16\b\b16\b\b16\b\b16\b\b16\b\b16\b\b16\b\b16\b\b16\b\b16\b\b16\b\b16\b\b16\b\b16\b\b16\b\b16\b\b16\b\b16\b\b16\b\b16\b\b16\b\b16\b\b16\b\b16\b\b16\b\b16\b\b16\b\b16\b\b16\b\b16\b\b16\b\b16\b\b16\b\b16\b\b16\b\b16\b\b16\b\b16\b\b16\b\b16\b\b16\b\b16\b\b16\b\b16\b\b16\b\b16\b\b16\b\b16\b\b16\b\b16\b\b16\b\b16\b\b16\b\b16\b\b16\b\b16\b\b16\b\b16\n",
      "- Resample12: lambda1=0.05, lambda2=0.05 \n",
      "+ Resample13: lambda1=0.05, lambda2=0.05 \n",
      "# nonzero coefficients: 16\b\b16\b\b16\b\b16\b\b16\b\b16\b\b16\b\b16\b\b16\b\b16\b\b16\b\b16\b\b16\b\b16\b\b16\b\b16\b\b16\b\b16\b\b16\b\b16\b\b16\b\b16\b\b16\b\b16\b\b16\b\b16\b\b15\b\b16\b\b16\b\b16\b\b16\b\b16\b\b16\b\b16\b\b16\b\b16\b\b16\b\b16\b\b16\b\b16\b\b16\b\b16\b\b16\b\b16\b\b16\b\b16\b\b16\b\b16\b\b16\b\b16\b\b16\b\b16\b\b16\b\b16\b\b16\b\b16\b\b16\b\b16\b\b16\b\b16\b\b16\b\b16\b\b16\b\b16\b\b16\b\b16\b\b16\b\b16\b\b16\b\b16\b\b16\b\b16\b\b16\b\b16\b\b16\b\b16\b\b16\b\b16\b\b16\b\b16\b\b16\b\b16\b\b16\b\b16\b\b16\b\b16\b\b16\b\b16\b\b16\b\b16\b\b16\b\b16\b\b16\b\b16\b\b16\b\b16\b\b16\b\b16\b\b16\b\b16\b\b16\b\b16\b\b16\b\b16\b\b16\b\b16\b\b16\b\b16\b\b16\b\b16\b\b16\b\b16\b\b16\b\b16\b\b16\b\b16\b\b16\b\b16\b\b16\b\b16\b\b16\b\b16\b\b16\b\b16\b\b16\b\b16\b\b16\b\b16\b\b16\b\b16\b\b16\b\b16\b\b16\b\b16\b\b16\b\b16\b\b16\b\b16\b\b16\b\b16\b\b16\b\b16\b\b16\b\b16\b\b16\b\b16\b\b16\b\b16\b\b16\b\b16\b\b16\b\b16\b\b16\b\b16\b\b16\b\b16\b\b16\b\b16\b\b16\b\b16\b\b16\b\b16\b\b16\b\b16\b\b16\b\b16\b\b16\b\b16\b\b16\b\b16\b\b16\b\b16\b\b16\b\b16\b\b16\b\b16\b\b16\b\b16\b\b16\b\b16\b\b16\b\b16\b\b16\b\b16\b\b16\b\b16\b\b16\b\b16\b\b16\b\b16\b\b16\b\b16\b\b16\b\b16\b\b16\b\b16\b\b16\b\b16\b\b16\b\b16\b\b16\b\b16\b\b16\b\b16\b\b16\b\b16\b\b16\b\b16\b\b16\b\b16\b\b16\b\b16\b\b16\b\b16\b\b16\b\b16\b\b16\b\b16\b\b16\b\b16\b\b16\b\b16\b\b16\b\b16\b\b16\b\b16\b\b16\b\b16\b\b16\b\b16\b\b16\b\b16\b\b16\b\b16\b\b16\b\b16\b\b16\b\b16\b\b16\b\b16\b\b16\b\b16\b\b16\b\b16\b\b16\b\b16\b\b16\b\b16\b\b16\b\b16\b\b16\b\b16\b\b16\b\b16\b\b16\b\b16\b\b16\b\b16\b\b16\b\b16\b\b16\b\b16\b\b16\b\b16\b\b16\b\b16\b\b16\b\b16\b\b16\b\b16\b\b16\b\b16\b\b16\b\b16\b\b16\b\b16\b\b16\b\b16\b\b16\b\b16\b\b16\b\b16\b\b16\b\b16\b\b16\b\b16\b\b16\b\b16\b\b16\b\b16\b\b16\b\b16\b\b16\b\b16\b\b16\b\b16\b\b16\b\b16\b\b16\b\b16\b\b16\b\b16\b\b16\b\b16\b\b16\b\b16\b\b16\b\b16\b\b16\b\b16\b\b16\b\b16\b\b16\b\b16\b\b16\b\b16\b\b16\b\b16\b\b15\b\b15\b\b16\b\b16\b\b15\b\b16\b\b16\b\b16\b\b16\b\b16\n",
      "- Resample13: lambda1=0.05, lambda2=0.05 \n",
      "+ Resample14: lambda1=0.05, lambda2=0.05 \n",
      "# nonzero coefficients: 16\b\b16\b\b16\b\b16\b\b16\b\b16\b\b16\b\b16\b\b16\b\b16\b\b16\b\b16\b\b16\b\b16\b\b16\b\b16\b\b16\b\b16\b\b16\b\b16\b\b16\b\b16\b\b16\b\b16\b\b16\b\b16\b\b16\b\b16\b\b16\b\b16\b\b16\b\b16\b\b16\b\b16\b\b16\b\b16\b\b16\b\b16\b\b16\b\b16\b\b16\b\b16\b\b16\b\b16\b\b16\b\b16\b\b16\b\b16\b\b16\b\b16\b\b16\b\b16\b\b16\b\b16\b\b16\b\b16\b\b16\b\b16\b\b16\b\b16\b\b16\b\b16\b\b16\b\b16\b\b16\b\b16\b\b16\b\b16\b\b16\b\b16\b\b16\b\b16\b\b16\b\b16\b\b16\b\b16\b\b16\b\b16\b\b16\b\b16\b\b16\b\b16\b\b16\b\b16\b\b16\b\b16\b\b16\b\b16\b\b16\b\b16\b\b16\b\b16\b\b16\b\b16\b\b16\b\b16\b\b16\b\b16\b\b16\b\b16\b\b16\b\b16\b\b16\b\b16\b\b16\b\b16\b\b16\b\b16\b\b16\b\b16\b\b16\b\b16\b\b16\b\b16\b\b16\b\b16\b\b16\b\b16\b\b16\b\b16\b\b16\b\b16\b\b16\b\b15\b\b16\b\b16\b\b16\b\b16\b\b16\b\b16\b\b16\b\b16\b\b16\b\b16\b\b16\b\b16\b\b16\b\b16\b\b16\b\b16\b\b16\b\b16\b\b16\b\b16\b\b16\b\b16\b\b16\b\b16\b\b16\b\b16\b\b16\b\b16\b\b16\b\b16\b\b16\b\b16\b\b16\b\b16\b\b16\b\b16\b\b16\b\b16\b\b16\b\b16\b\b16\b\b16\b\b16\n",
      "- Resample14: lambda1=0.05, lambda2=0.05 \n",
      "+ Resample15: lambda1=0.05, lambda2=0.05 \n",
      "# nonzero coefficients: 16\b\b16\b\b16\b\b16\b\b16\b\b16\b\b16\b\b16\b\b16\b\b16\b\b16\b\b16\b\b16\b\b16\b\b16\b\b16\b\b16\b\b16\b\b16\b\b16\b\b16\b\b16\b\b16\b\b16\b\b16\b\b16\b\b16\b\b16\b\b16\b\b16\b\b16\b\b16\b\b16\b\b16\b\b16\b\b16\b\b16\b\b16\b\b16\b\b16\b\b16\b\b16\b\b16\b\b16\b\b16\b\b16\b\b16\b\b16\b\b16\b\b16\b\b16\b\b16\b\b16\b\b16\b\b16\b\b16\b\b16\b\b16\b\b16\b\b16\b\b16\b\b16\b\b16\b\b16\b\b16\b\b16\b\b16\b\b16\b\b15\b\b16\b\b16\b\b16\b\b16\b\b16\b\b16\b\b16\b\b16\b\b16\b\b16\b\b16\b\b16\b\b16\b\b16\b\b16\b\b16\b\b16\b\b16\b\b16\b\b16\b\b16\b\b16\b\b16\b\b16\b\b16\b\b16\b\b16\b\b16\b\b16\b\b16\b\b16\b\b16\b\b16\b\b16\b\b16\b\b16\b\b16\b\b16\b\b16\b\b16\b\b16\b\b16\b\b16\b\b16\b\b16\b\b16\b\b16\b\b16\b\b16\b\b16\b\b16\b\b16\b\b16\b\b16\b\b16\b\b16\b\b16\b\b16\b\b16\b\b16\b\b16\b\b16\b\b16\b\b16\b\b16\b\b16\b\b16\b\b16\b\b16\b\b16\b\b16\b\b16\b\b16\b\b16\b\b16\b\b16\b\b16\b\b16\b\b16\b\b16\b\b16\b\b16\b\b16\b\b16\b\b16\b\b16\b\b16\b\b16\b\b16\b\b16\b\b16\b\b16\b\b16\b\b16\b\b16\b\b16\b\b16\b\b16\b\b16\b\b16\b\b16\b\b16\b\b16\b\b16\b\b16\b\b16\b\b16\b\b16\n",
      "- Resample15: lambda1=0.05, lambda2=0.05 \n",
      "+ Resample16: lambda1=0.05, lambda2=0.05 \n",
      "# nonzero coefficients: 16\b\b16\b\b16\b\b16\b\b16\b\b16\b\b16\b\b16\b\b16\b\b16\b\b16\b\b16\b\b16\b\b16\b\b16\b\b16\b\b16\b\b16\b\b16\b\b16\b\b16\b\b16\b\b16\b\b16\b\b16\b\b16\b\b16\b\b16\b\b16\b\b16\b\b16\b\b16\b\b16\b\b16\b\b16\b\b16\b\b16\b\b16\b\b16\b\b16\b\b16\b\b16\b\b16\b\b16\b\b16\b\b16\b\b16\b\b16\b\b16\b\b16\b\b16\b\b16\b\b16\b\b16\b\b16\b\b16\b\b16\b\b16\b\b16\b\b16\b\b16\b\b16\b\b16\b\b16\b\b16\b\b16\b\b16\b\b16\b\b16\b\b16\b\b16\b\b16\b\b16\b\b16\b\b16\b\b16\b\b16\b\b16\b\b16\b\b16\b\b16\b\b16\b\b16\b\b16\b\b16\b\b16\b\b16\b\b16\b\b16\b\b16\b\b16\b\b16\b\b16\b\b16\b\b16\b\b16\b\b16\b\b16\b\b16\b\b16\b\b16\b\b16\b\b16\b\b16\b\b16\b\b16\b\b16\b\b16\b\b16\b\b16\b\b16\b\b16\b\b16\b\b16\b\b16\b\b16\b\b16\b\b16\b\b16\b\b16\b\b16\b\b16\b\b16\b\b16\b\b16\b\b16\b\b16\b\b16\b\b16\b\b16\b\b16\b\b16\b\b16\b\b16\b\b16\b\b16\b\b16\b\b16\b\b16\b\b16\b\b16\b\b16\b\b16\b\b16\b\b16\b\b16\b\b16\b\b16\b\b16\b\b16\b\b16\b\b16\b\b16\b\b16\b\b16\b\b16\b\b16\b\b16\b\b16\b\b16\b\b16\b\b16\b\b16\b\b16\b\b16\b\b16\b\b16\b\b16\b\b16\b\b16\b\b16\b\b16\b\b16\b\b16\b\b16\b\b16\b\b16\b\b16\b\b16\b\b16\b\b16\b\b16\b\b16\b\b16\b\b16\b\b16\b\b16\b\b16\b\b16\b\b16\b\b16\b\b16\b\b16\b\b16\b\b16\b\b16\b\b16\b\b16\b\b16\b\b16\b\b16\b\b16\b\b16\b\b16\b\b16\b\b16\b\b16\b\b16\b\b16\b\b16\b\b16\b\b16\b\b16\b\b16\b\b16\b\b16\b\b16\b\b16\b\b16\b\b16\b\b16\b\b16\b\b16\b\b16\b\b16\b\b16\b\b16\b\b16\b\b16\b\b16\b\b16\b\b16\b\b16\b\b16\b\b16\b\b16\b\b16\b\b16\b\b16\b\b16\b\b16\b\b16\b\b16\b\b16\n",
      "- Resample16: lambda1=0.05, lambda2=0.05 \n",
      "+ Resample17: lambda1=0.05, lambda2=0.05 \n",
      "# nonzero coefficients: 16\b\b16\b\b16\b\b16\b\b16\b\b16\b\b16\b\b16\b\b16\b\b16\b\b16\b\b16\b\b16\b\b16\b\b16\b\b16\b\b16\b\b16\b\b16\b\b16\b\b16\b\b16\b\b16\b\b16\b\b16\b\b16\b\b16\b\b16\b\b16\b\b16\b\b16\b\b16\b\b16\b\b16\b\b16\b\b16\b\b16\b\b16\b\b16\b\b16\b\b16\b\b16\b\b16\b\b16\b\b16\b\b16\b\b16\b\b16\b\b16\b\b16\b\b16\b\b16\b\b16\b\b16\b\b16\b\b16\b\b16\b\b16\b\b16\b\b16\b\b16\b\b16\b\b16\b\b16\b\b16\b\b16\b\b16\b\b16\b\b16\b\b16\b\b16\b\b16\b\b16\b\b16\b\b16\b\b16\b\b16\b\b16\b\b16\b\b16\n",
      "- Resample17: lambda1=0.05, lambda2=0.05 \n",
      "+ Resample18: lambda1=0.05, lambda2=0.05 \n",
      "# nonzero coefficients: 16\b\b16\b\b16\b\b16\b\b16\b\b16\b\b16\b\b16\b\b16\b\b16\b\b16\b\b16\b\b16\b\b16\b\b16\b\b16\b\b16\b\b16\b\b16\b\b16\b\b16\b\b16\b\b16\b\b16\b\b16\b\b16\b\b16\b\b16\b\b16\b\b16\b\b16\b\b16\b\b16\b\b16\b\b16\b\b16\b\b16\b\b16\b\b16\b\b16\b\b16\b\b16\b\b16\b\b16\b\b16\b\b16\b\b16\b\b16\b\b16\b\b16\b\b16\b\b16\b\b16\b\b16\b\b16\b\b16\b\b16\b\b16\b\b16\b\b16\b\b16\b\b16\b\b16\b\b16\b\b16\b\b16\b\b16\b\b16\b\b16\b\b16\b\b16\b\b16\b\b16\b\b16\b\b16\b\b16\b\b16\b\b16\b\b16\b\b16\b\b16\b\b16\b\b16\b\b16\b\b16\b\b16\b\b16\b\b16\b\b16\b\b16\b\b16\b\b16\b\b16\b\b16\b\b16\b\b16\b\b16\b\b16\b\b16\b\b16\b\b16\b\b16\b\b16\b\b16\b\b16\b\b16\b\b16\b\b16\b\b16\b\b16\b\b16\b\b16\b\b16\b\b16\b\b16\b\b16\b\b16\b\b16\b\b16\b\b16\b\b16\b\b16\b\b16\b\b16\b\b16\b\b16\b\b16\b\b16\b\b16\b\b16\b\b16\b\b16\b\b16\b\b16\b\b16\b\b16\b\b16\b\b16\b\b16\b\b16\b\b16\b\b16\b\b16\b\b16\b\b16\b\b16\b\b16\b\b16\b\b16\b\b16\b\b16\b\b16\b\b16\b\b16\b\b16\b\b16\b\b16\b\b16\b\b16\b\b16\b\b16\b\b16\b\b16\b\b16\b\b16\b\b16\b\b16\b\b16\b\b16\b\b16\b\b16\b\b16\b\b16\b\b16\b\b16\b\b15\b\b16\b\b16\b\b16\b\b16\b\b16\b\b16\b\b16\b\b16\b\b16\b\b16\b\b16\b\b16\b\b15\b\b15\b\b16\b\b16\b\b16\b\b16\b\b16\b\b16\b\b16\b\b16\b\b16\b\b16\b\b16\b\b16\b\b16\b\b16\b\b16\b\b16\b\b16\b\b16\b\b16\b\b16\b\b16\b\b16\n",
      "- Resample18: lambda1=0.05, lambda2=0.05 \n",
      "+ Resample19: lambda1=0.05, lambda2=0.05 \n",
      "# nonzero coefficients: 16\b\b16\b\b16\b\b16\b\b16\b\b16\b\b16\b\b16\b\b16\b\b16\b\b16\b\b16\b\b16\b\b16\b\b16\b\b16\b\b16\b\b16\b\b16\b\b16\b\b16\b\b16\b\b16\b\b16\b\b16\b\b16\b\b16\b\b16\b\b16\b\b16\b\b16\b\b16\b\b16\b\b16\b\b16\b\b16\b\b16\b\b16\b\b16\b\b16\b\b16\b\b16\b\b16\b\b16\b\b16\b\b16\b\b16\b\b16\b\b16\b\b16\b\b16\b\b16\b\b16\b\b16\b\b16\b\b16\b\b16\b\b16\b\b16\b\b16\b\b16\b\b16\b\b16\b\b16\b\b16\b\b16\b\b16\b\b16\b\b16\b\b16\b\b16\b\b16\b\b16\b\b16\b\b16\b\b16\b\b16\b\b16\b\b16\b\b16\b\b16\b\b16\b\b16\b\b16\b\b16\b\b16\b\b16\b\b16\b\b16\b\b16\b\b16\b\b16\b\b16\b\b16\b\b16\b\b16\b\b16\b\b16\b\b16\b\b16\b\b16\b\b16\b\b16\b\b16\b\b16\b\b16\b\b16\b\b15\b\b16\b\b16\b\b15\b\b15\b\b16\b\b16\b\b16\b\b16\b\b16\n",
      "- Resample19: lambda1=0.05, lambda2=0.05 \n",
      "+ Resample20: lambda1=0.05, lambda2=0.05 \n",
      "# nonzero coefficients: 16\b\b16\b\b16\b\b16\b\b16\b\b16\b\b16\b\b16\b\b16\b\b16\b\b16\b\b16\b\b16\b\b16\b\b16\b\b16\b\b16\b\b16\b\b16\b\b16\b\b16\b\b16\b\b16\b\b16\b\b16\b\b16\b\b16\b\b16\b\b16\b\b16\b\b16\b\b16\b\b16\b\b16\b\b16\b\b16\b\b16\b\b16\b\b16\b\b16\b\b16\b\b16\b\b16\b\b16\b\b16\b\b16\b\b16\b\b16\b\b16\b\b16\b\b16\b\b16\b\b16\b\b16\b\b16\b\b16\b\b16\b\b16\b\b16\b\b16\b\b16\b\b16\b\b16\b\b16\b\b16\b\b16\b\b16\b\b16\b\b16\b\b16\b\b16\b\b16\b\b16\b\b16\b\b16\b\b16\b\b16\b\b16\b\b16\b\b16\b\b16\b\b16\b\b16\b\b16\b\b16\b\b16\b\b16\b\b16\b\b16\b\b16\b\b16\b\b16\b\b16\b\b16\b\b16\b\b16\b\b16\b\b16\b\b16\b\b16\b\b16\b\b16\b\b16\b\b16\b\b16\b\b16\b\b16\b\b16\b\b16\b\b16\b\b16\b\b16\b\b16\b\b16\b\b16\b\b16\b\b16\b\b16\b\b16\b\b16\b\b16\b\b16\b\b16\b\b16\b\b16\b\b16\b\b16\b\b16\b\b16\b\b16\b\b16\b\b16\b\b16\b\b16\b\b16\b\b16\n",
      "- Resample20: lambda1=0.05, lambda2=0.05 \n",
      "+ Resample21: lambda1=0.05, lambda2=0.05 \n",
      "# nonzero coefficients: 16\b\b16\b\b16\b\b16\b\b16\b\b16\b\b16\b\b16\b\b16\b\b16\b\b16\b\b16\b\b16\b\b16\b\b16\b\b16\b\b16\b\b16\b\b16\b\b16\b\b16\b\b16\b\b16\b\b16\b\b16\b\b16\b\b16\b\b16\b\b16\b\b16\b\b16\b\b16\b\b16\b\b16\b\b16\b\b16\b\b16\b\b16\b\b16\b\b16\b\b16\b\b16\b\b16\b\b16\b\b16\b\b16\b\b16\b\b16\b\b16\b\b16\b\b16\b\b16\b\b16\b\b16\b\b16\b\b16\b\b16\b\b16\b\b16\b\b16\b\b16\b\b16\b\b16\b\b16\b\b16\b\b16\b\b15\b\b16\b\b16\b\b16\b\b16\b\b16\b\b16\b\b16\b\b16\b\b16\b\b16\b\b16\n",
      "- Resample21: lambda1=0.05, lambda2=0.05 \n",
      "+ Resample22: lambda1=0.05, lambda2=0.05 \n",
      "# nonzero coefficients: 16\b\b16\b\b16\b\b16\b\b16\b\b16\b\b16\b\b16\b\b16\b\b16\b\b16\b\b16\b\b16\b\b16\b\b16\b\b16\b\b16\b\b16\b\b16\b\b16\b\b16\b\b16\b\b16\b\b16\b\b16\b\b16\b\b16\b\b16\b\b16\b\b16\b\b16\b\b16\b\b16\b\b16\b\b16\b\b16\b\b16\b\b16\b\b16\b\b16\b\b16\b\b16\b\b16\b\b16\b\b16\b\b16\b\b16\b\b16\b\b16\b\b16\b\b16\b\b16\b\b16\b\b16\b\b16\b\b16\b\b16\b\b16\b\b16\b\b16\b\b16\b\b16\b\b16\b\b16\b\b16\b\b16\b\b16\b\b16\b\b16\b\b16\b\b16\b\b16\b\b16\b\b16\b\b16\b\b16\b\b16\b\b16\b\b16\b\b16\b\b16\b\b16\b\b16\b\b16\b\b16\b\b16\b\b16\b\b16\b\b16\b\b16\b\b16\b\b16\b\b16\b\b16\b\b16\b\b16\b\b16\b\b16\b\b16\b\b16\b\b16\b\b16\b\b16\b\b16\b\b16\b\b16\b\b16\b\b16\b\b16\b\b16\b\b16\b\b16\b\b16\b\b16\b\b16\b\b16\b\b16\b\b16\b\b16\b\b16\b\b16\b\b16\b\b16\b\b16\b\b16\b\b16\b\b16\b\b16\b\b16\b\b16\b\b16\b\b16\b\b16\b\b16\b\b16\b\b16\b\b16\b\b16\b\b16\b\b16\b\b16\b\b16\b\b16\b\b16\b\b16\b\b16\b\b16\b\b16\b\b16\b\b16\b\b16\b\b16\b\b16\b\b16\b\b16\b\b16\b\b16\b\b16\b\b16\b\b16\b\b16\b\b16\b\b16\b\b16\b\b16\b\b16\b\b16\b\b16\b\b16\b\b16\b\b16\b\b16\b\b16\b\b16\b\b16\b\b16\b\b16\b\b16\b\b16\b\b16\b\b16\b\b16\b\b16\b\b16\b\b16\b\b16\b\b16\b\b16\b\b16\b\b16\b\b16\b\b16\b\b16\b\b16\b\b15\b\b16\b\b16\b\b16\b\b16\b\b16\n",
      "- Resample22: lambda1=0.05, lambda2=0.05 \n",
      "+ Resample23: lambda1=0.05, lambda2=0.05 \n",
      "# nonzero coefficients: 16\b\b16\b\b16\b\b16\b\b16\b\b16\b\b16\b\b16\b\b16\b\b16\b\b16\b\b16\b\b16\b\b16\b\b16\b\b16\b\b16\b\b16\b\b16\b\b16\b\b16\b\b16\b\b16\b\b16\b\b16\b\b16\b\b16\b\b16\b\b16\b\b16\b\b16\b\b16\b\b16\b\b16\b\b16\b\b16\b\b16\b\b16\b\b16\b\b16\b\b16\b\b16\b\b16\b\b16\b\b16\b\b16\b\b16\b\b16\b\b16\b\b16\b\b16\b\b16\b\b16\b\b16\b\b16\b\b16\b\b16\b\b16\b\b16\b\b16\b\b16\b\b16\b\b16\b\b16\b\b16\b\b16\b\b16\b\b16\b\b16\b\b16\b\b16\b\b16\b\b16\b\b16\b\b16\b\b16\b\b16\b\b16\b\b16\b\b16\b\b16\b\b16\b\b16\b\b16\b\b16\b\b16\b\b16\b\b16\b\b16\b\b16\b\b16\b\b16\b\b16\b\b16\b\b16\b\b16\b\b16\b\b16\b\b16\b\b16\b\b16\b\b16\b\b16\b\b16\b\b16\b\b16\b\b16\b\b16\b\b16\b\b16\b\b16\b\b16\b\b16\b\b16\b\b16\b\b16\b\b16\b\b16\b\b16\b\b16\b\b16\b\b16\b\b16\b\b16\b\b16\b\b16\b\b16\b\b16\b\b16\b\b16\b\b16\b\b16\b\b16\b\b16\b\b16\b\b16\b\b16\b\b16\b\b16\b\b16\b\b16\b\b16\b\b16\b\b16\b\b16\b\b16\b\b16\b\b16\b\b16\b\b16\b\b16\b\b16\b\b16\b\b16\b\b16\b\b16\b\b16\b\b16\b\b16\b\b16\b\b16\b\b16\b\b16\b\b16\b\b16\b\b16\b\b16\b\b16\b\b16\b\b16\b\b16\b\b16\b\b16\b\b16\b\b16\b\b16\b\b16\b\b16\b\b16\b\b16\b\b16\b\b16\b\b16\b\b16\b\b16\b\b16\b\b16\b\b16\b\b16\b\b16\b\b16\b\b16\b\b16\b\b16\b\b16\b\b16\b\b16\b\b16\b\b16\b\b16\b\b16\b\b16\b\b16\b\b16\b\b16\b\b16\b\b16\b\b16\b\b16\b\b16\b\b16\b\b16\b\b16\b\b16\b\b16\b\b16\b\b16\b\b16\b\b16\b\b16\b\b16\b\b16\b\b16\b\b16\b\b16\b\b16\b\b16\b\b16\b\b16\b\b16\b\b16\b\b16\b\b16\b\b16\b\b16\b\b16\b\b16\b\b16\b\b16\b\b16\b\b16\b\b16\b\b16\b\b16\b\b16\b\b16\b\b16\b\b16\b\b16\b\b16\b\b16\b\b16\b\b16\b\b16\b\b16\b\b16\b\b16\b\b16\b\b16\b\b16\b\b16\b\b16\b\b16\b\b16\b\b16\b\b16\b\b16\b\b16\b\b16\b\b16\b\b16\b\b16\b\b16\b\b16\b\b16\b\b16\b\b16\b\b16\b\b16\b\b16\b\b16\b\b16\b\b16\b\b16\b\b16\b\b16\b\b16\b\b16\b\b16\b\b16\b\b16\b\b16\b\b16\b\b16\b\b16\b\b16\b\b16\b\b16\b\b16\b\b16\b\b16\b\b16\b\b16\b\b16\b\b16\b\b16\b\b16\b\b16\b\b16\b\b16\b\b16\b\b16\b\b16\b\b16\b\b16\b\b16\b\b16\b\b16\b\b16\b\b16\b\b16\b\b16\b\b16\b\b16\b\b16\b\b16\b\b16\b\b16\b\b16\b\b16\b\b16\b\b16\b\b16\b\b16\b\b16\b\b16\b\b16\b\b16\b\b16\b\b16\b\b16\b\b16\b\b16\b\b16\b\b16\b\b16\b\b16\b\b16\b\b16\b\b16\b\b16\b\b16\b\b16\b\b16\b\b16\b\b16\b\b16\b\b16\b\b16\b\b16\b\b16\b\b16\b\b16\b\b16\b\b16\b\b16\b\b16\b\b16\b\b16\b\b16\b\b16\b\b16\b\b16\b\b16\b\b16\b\b16\b\b16\b\b16\b\b16\b\b16\b\b16\b\b16\b\b16\b\b16\b\b16\n",
      "- Resample23: lambda1=0.05, lambda2=0.05 \n",
      "+ Resample24: lambda1=0.05, lambda2=0.05 \n",
      "# nonzero coefficients: 16\b\b16\b\b16\b\b16\b\b16\b\b16\b\b16\b\b16\b\b16\b\b16\b\b16\b\b16\b\b16\b\b16\b\b16\b\b15\b\b16\b\b16\b\b16\b\b16\b\b16\b\b16\b\b16\b\b16\b\b16\b\b16\b\b16\b\b16\b\b16\b\b16\b\b16\b\b16\b\b16\b\b16\b\b16\b\b16\b\b16\b\b16\b\b16\b\b16\b\b16\b\b16\b\b16\b\b16\b\b16\b\b16\b\b16\b\b16\b\b16\b\b16\b\b16\b\b16\b\b16\b\b16\b\b16\b\b16\b\b16\b\b16\b\b16\b\b16\b\b16\b\b16\b\b16\b\b16\b\b16\b\b16\b\b16\b\b16\b\b16\b\b16\b\b16\b\b16\b\b16\b\b16\b\b16\b\b16\b\b16\b\b16\b\b16\b\b16\b\b16\b\b16\b\b16\b\b16\b\b16\b\b16\b\b16\b\b16\b\b16\b\b16\b\b16\b\b16\b\b16\b\b16\b\b16\b\b16\b\b16\b\b16\b\b16\b\b16\b\b16\b\b16\b\b16\b\b16\b\b16\b\b16\b\b16\b\b16\b\b16\b\b16\b\b16\b\b16\b\b16\b\b16\b\b16\b\b16\b\b16\b\b16\b\b16\b\b16\b\b16\b\b16\b\b16\b\b16\b\b16\b\b16\b\b16\b\b16\b\b16\b\b16\b\b16\b\b16\b\b16\b\b16\b\b16\b\b16\b\b16\b\b16\b\b16\b\b16\b\b16\b\b16\b\b16\b\b16\b\b16\b\b16\b\b16\b\b16\b\b16\b\b16\b\b16\b\b16\b\b16\b\b16\b\b16\b\b16\b\b16\b\b16\b\b16\b\b16\b\b16\b\b16\b\b16\b\b16\b\b16\b\b16\b\b16\b\b16\b\b16\b\b16\b\b16\b\b16\b\b16\b\b16\b\b16\b\b16\b\b16\b\b16\b\b16\b\b16\b\b16\b\b16\n",
      "- Resample24: lambda1=0.05, lambda2=0.05 \n",
      "+ Resample25: lambda1=0.05, lambda2=0.05 \n",
      "# nonzero coefficients: 16\b\b16\b\b16\b\b16\b\b16\b\b16\b\b16\b\b16\b\b16\b\b16\b\b16\b\b16\b\b16\b\b16\b\b16\b\b16\b\b16\b\b16\b\b16\b\b16\b\b16\b\b16\b\b16\b\b16\b\b16\b\b16\b\b16\b\b16\b\b16\b\b16\b\b16\b\b16\b\b16\b\b16\b\b16\b\b16\b\b16\b\b16\b\b16\b\b16\b\b16\b\b16\b\b16\b\b16\b\b16\b\b16\b\b16\b\b16\b\b16\b\b16\b\b16\b\b16\b\b16\b\b16\b\b16\b\b16\b\b15\b\b16\b\b16\b\b16\b\b16\b\b16\b\b16\b\b16\b\b16\b\b16\b\b16\b\b16\b\b16\b\b16\b\b16\b\b16\b\b16\b\b16\b\b16\b\b16\b\b16\b\b16\b\b16\b\b16\b\b16\b\b16\b\b16\b\b16\b\b16\b\b16\b\b16\b\b16\b\b16\b\b16\b\b16\b\b16\b\b16\b\b16\b\b16\b\b16\b\b16\b\b16\b\b16\b\b16\b\b16\b\b16\b\b16\b\b16\b\b16\b\b16\b\b16\b\b16\b\b16\b\b16\b\b16\b\b16\b\b16\b\b16\b\b16\b\b16\b\b16\b\b16\b\b16\b\b16\b\b16\b\b16\b\b16\b\b16\b\b16\b\b16\b\b16\b\b16\b\b16\b\b16\b\b16\b\b16\b\b16\b\b16\b\b16\b\b16\b\b16\b\b16\b\b16\b\b16\b\b16\b\b16\b\b16\b\b16\b\b16\b\b16\b\b16\b\b16\b\b16\b\b16\b\b16\b\b16\b\b16\b\b16\b\b16\b\b16\b\b16\b\b16\b\b16\b\b16\b\b16\b\b16\b\b16\b\b16\b\b16\b\b16\b\b16\b\b16\b\b16\b\b16\b\b16\b\b16\b\b16\b\b16\b\b16\b\b16\b\b16\b\b16\b\b16\b\b16\b\b16\b\b16\b\b16\b\b16\b\b16\b\b16\b\b16\b\b16\b\b16\b\b16\b\b16\b\b16\b\b16\b\b16\b\b16\b\b16\b\b16\b\b16\b\b16\b\b16\b\b16\b\b16\b\b16\b\b16\b\b16\b\b16\b\b16\b\b16\b\b16\b\b16\b\b16\b\b16\b\b16\b\b16\b\b16\b\b16\b\b16\b\b16\b\b16\b\b16\b\b16\b\b16\b\b16\b\b16\b\b16\b\b16\b\b16\b\b16\b\b16\b\b16\b\b16\b\b16\b\b16\b\b16\b\b16\b\b16\b\b16\b\b16\b\b16\b\b16\b\b16\b\b16\b\b16\b\b16\b\b16\b\b16\b\b16\b\b16\b\b16\b\b16\b\b16\b\b16\b\b16\b\b16\b\b16\b\b16\b\b16\b\b16\b\b16\b\b16\b\b16\b\b16\b\b16\b\b16\b\b16\b\b16\b\b16\b\b16\b\b16\b\b16\b\b16\b\b16\b\b16\b\b16\b\b16\b\b16\b\b16\b\b16\b\b16\b\b16\b\b16\b\b16\b\b16\b\b16\b\b16\b\b16\b\b16\b\b16\b\b16\b\b16\b\b16\b\b16\b\b16\b\b16\b\b16\b\b16\b\b16\b\b16\b\b16\b\b16\b\b16\b\b16\b\b16\b\b16\b\b16\b\b16\b\b16\b\b16\b\b16\b\b16\b\b16\b\b16\b\b16\b\b16\b\b15\b\b16\b\b16\b\b15\b\b16\b\b16\b\b15\b\b16\b\b16\b\b15\b\b16\b\b16\b\b15\b\b16\b\b16\b\b15\b\b15\b\b15\b\b15\b\b15\n",
      "- Resample25: lambda1=0.05, lambda2=0.05 \n",
      "Aggregating results\n",
      "Fitting final model on full training set\n",
      "# nonzero coefficients: 16\b\b16\b\b16\b\b16\b\b16\b\b16\b\b16\b\b16\b\b16\b\b16\b\b16\b\b16\b\b16\b\b16\b\b16\b\b16\b\b16\b\b16\b\b16\b\b16\b\b16\b\b16\b\b16\b\b16\b\b16\b\b16\b\b16\b\b16\b\b16\b\b16\b\b16\b\b16\b\b16\b\b16\b\b16\b\b16\b\b16\b\b16\b\b16\b\b16\b\b16\b\b16\b\b16\b\b16\b\b16\b\b16\b\b16\b\b16\b\b16\b\b16\b\b16\b\b16\b\b16\b\b16\b\b16\b\b16\b\b16\b\b16\b\b16\b\b16\b\b16\b\b16\b\b16\b\b16\b\b16\b\b16\b\b16\b\b16\b\b16\b\b16\b\b16\b\b16\b\b16\b\b16\b\b16\b\b16\b\b16\b\b16\b\b16\b\b16\b\b16\b\b16\b\b16\b\b16\b\b16\b\b16\b\b16\b\b16\b\b16\b\b16\b\b16\b\b16\b\b16\b\b16\b\b16\b\b16\b\b16\b\b16\b\b16\b\b16\b\b16\b\b16\b\b16\b\b16\b\b16\b\b16\b\b16\b\b16\b\b16\b\b16\b\b16\b\b16\n",
      "Penalized Linear Regression \n",
      "\n",
      "1097 samples\n",
      "  15 predictor\n",
      "\n",
      "No pre-processing\n",
      "Resampling: Bootstrapped (25 reps) \n",
      "Summary of sample sizes: 1097, 1097, 1097, 1097, 1097, 1097, ... \n",
      "Resampling results:\n",
      "\n",
      "  RMSE       Rsquared \n",
      "  0.1520401  0.8601484\n",
      "\n",
      "Tuning parameter 'lambda1' was held constant at a value of 0.05\n",
      "\n",
      "Tuning parameter 'lambda2' was held constant at a value of 0.05\n",
      " \n"
     ]
    }
   ],
   "source": [
    "lmFit7 = train(log_SalePrice ~ OverallQual +\n",
    "               log_YearBuilt + \n",
    "    log_LotArea + log_BsmtFinSF1 + GarageCars + \n",
    "    nBsmtQual + nKitchenQual + TotalBsmtSF + log_KitchenAbvGr + \n",
    "    log_nBsmtQual + GrLivArea + log_BedroomAbvGr + log_GarageCars +\n",
    "    TotalBsmtSF_on_GrLivArea + GrLivArea_Square +\n",
    "    log_BedroomAbvGr + nKitchenQual,# + OverallQual_3,\n",
    "              method='penalized',data=train.sample,metric=\"RMSE\",trControl=bootControl,tuneGrid=ridgeGrid)\n",
    "print(lmFit7)"
   ]
  },
  {
   "cell_type": "code",
   "execution_count": 8,
   "metadata": {
    "collapsed": false
   },
   "outputs": [
    {
     "data": {
      "text/html": [
       "0.14465976113013"
      ],
      "text/latex": [
       "0.14465976113013"
      ],
      "text/markdown": [
       "0.14465976113013"
      ],
      "text/plain": [
       "[1] 0.1446598"
      ]
     },
     "metadata": {},
     "output_type": "display_data"
    }
   ],
   "source": [
    "# .1 .1\n",
    "lmFit7.prediction=exp(predict(lmFit7,newdata=test.sample))\n",
    "rmsle(test.sample$SalePrice,lmFit7.prediction)"
   ]
  },
  {
   "cell_type": "code",
   "execution_count": 11,
   "metadata": {
    "collapsed": false
   },
   "outputs": [
    {
     "data": {
      "text/html": [
       "0.144943861896017"
      ],
      "text/latex": [
       "0.144943861896017"
      ],
      "text/markdown": [
       "0.144943861896017"
      ],
      "text/plain": [
       "[1] 0.1449439"
      ]
     },
     "metadata": {},
     "output_type": "display_data"
    }
   ],
   "source": [
    "# 0 0\n",
    "lmFit7.prediction=exp(predict(lmFit7,newdata=test.sample))\n",
    "rmsle(test.sample$SalePrice,lmFit7.prediction)"
   ]
  },
  {
   "cell_type": "code",
   "execution_count": 14,
   "metadata": {
    "collapsed": false
   },
   "outputs": [
    {
     "data": {
      "text/html": [
       "0.145837422451131"
      ],
      "text/latex": [
       "0.145837422451131"
      ],
      "text/markdown": [
       "0.145837422451131"
      ],
      "text/plain": [
       "[1] 0.1458374"
      ]
     },
     "metadata": {},
     "output_type": "display_data"
    }
   ],
   "source": [
    "# .1 .5\n",
    "lmFit7.prediction=exp(predict(lmFit7,newdata=test.sample))\n",
    "rmsle(test.sample$SalePrice,lmFit7.prediction)"
   ]
  },
  {
   "cell_type": "code",
   "execution_count": 17,
   "metadata": {
    "collapsed": false
   },
   "outputs": [
    {
     "data": {
      "text/html": [
       "0.144300529325226"
      ],
      "text/latex": [
       "0.144300529325226"
      ],
      "text/markdown": [
       "0.144300529325226"
      ],
      "text/plain": [
       "[1] 0.1443005"
      ]
     },
     "metadata": {},
     "output_type": "display_data"
    }
   ],
   "source": [
    "# .1 .05\n",
    "lmFit7.prediction=exp(predict(lmFit7,newdata=test.sample))\n",
    "rmsle(test.sample$SalePrice,lmFit7.prediction)"
   ]
  },
  {
   "cell_type": "code",
   "execution_count": 20,
   "metadata": {
    "collapsed": false
   },
   "outputs": [
    {
     "data": {
      "text/html": [
       "0.144280344636346"
      ],
      "text/latex": [
       "0.144280344636346"
      ],
      "text/markdown": [
       "0.144280344636346"
      ],
      "text/plain": [
       "[1] 0.1442803"
      ]
     },
     "metadata": {},
     "output_type": "display_data"
    }
   ],
   "source": [
    "# .05 .05\n",
    "lmFit7.prediction=exp(predict(lmFit7,newdata=test.sample))\n",
    "rmsle(test.sample$SalePrice,lmFit7.prediction)"
   ]
  },
  {
   "cell_type": "code",
   "execution_count": 23,
   "metadata": {
    "collapsed": false
   },
   "outputs": [
    {
     "data": {
      "text/html": [
       "0.144396703626857"
      ],
      "text/latex": [
       "0.144396703626857"
      ],
      "text/markdown": [
       "0.144396703626857"
      ],
      "text/plain": [
       "[1] 0.1443967"
      ]
     },
     "metadata": {},
     "output_type": "display_data"
    }
   ],
   "source": [
    "# .05 .001\n",
    "lmFit7.prediction=exp(predict(lmFit7,newdata=test.sample))\n",
    "rmsle(test.sample$SalePrice,lmFit7.prediction)"
   ]
  },
  {
   "cell_type": "code",
   "execution_count": 26,
   "metadata": {
    "collapsed": false
   },
   "outputs": [
    {
     "data": {
      "text/html": [
       "0.144284576108413"
      ],
      "text/latex": [
       "0.144284576108413"
      ],
      "text/markdown": [
       "0.144284576108413"
      ],
      "text/plain": [
       "[1] 0.1442846"
      ]
     },
     "metadata": {},
     "output_type": "display_data"
    }
   ],
   "source": [
    "# .05 .01\n",
    "lmFit7.prediction=exp(predict(lmFit7,newdata=test.sample))\n",
    "rmsle(test.sample$SalePrice,lmFit7.prediction)"
   ]
  },
  {
   "cell_type": "code",
   "execution_count": 29,
   "metadata": {
    "collapsed": false
   },
   "outputs": [
    {
     "data": {
      "text/html": [
       "0.144342614306075"
      ],
      "text/latex": [
       "0.144342614306075"
      ],
      "text/markdown": [
       "0.144342614306075"
      ],
      "text/plain": [
       "[1] 0.1443426"
      ]
     },
     "metadata": {},
     "output_type": "display_data"
    }
   ],
   "source": [
    "# .01 .05\n",
    "lmFit7.prediction=exp(predict(lmFit7,newdata=test.sample))\n",
    "rmsle(test.sample$SalePrice,lmFit7.prediction)"
   ]
  },
  {
   "cell_type": "code",
   "execution_count": 32,
   "metadata": {
    "collapsed": false
   },
   "outputs": [
    {
     "data": {
      "text/html": [
       "0.147128477623461"
      ],
      "text/latex": [
       "0.147128477623461"
      ],
      "text/markdown": [
       "0.147128477623461"
      ],
      "text/plain": [
       "[1] 0.1471285"
      ]
     },
     "metadata": {},
     "output_type": "display_data"
    }
   ],
   "source": [
    "# .01 10\n",
    "lmFit7.prediction=exp(predict(lmFit7,newdata=test.sample))\n",
    "rmsle(test.sample$SalePrice,lmFit7.prediction)"
   ]
  },
  {
   "cell_type": "code",
   "execution_count": null,
   "metadata": {
    "collapsed": true
   },
   "outputs": [],
   "source": []
  },
  {
   "cell_type": "code",
   "execution_count": null,
   "metadata": {
    "collapsed": false
   },
   "outputs": [],
   "source": []
  },
  {
   "cell_type": "code",
   "execution_count": null,
   "metadata": {
    "collapsed": true
   },
   "outputs": [],
   "source": [
    "# Predictions"
   ]
  },
  {
   "cell_type": "code",
   "execution_count": 124,
   "metadata": {
    "collapsed": false
   },
   "outputs": [],
   "source": [
    "train = fread('~/kaggle/house_prices/data/train.csv',\n",
    "              colClasses=c('MiscFeature'='character','PoolQC'='character','Alley'='character'))\n",
    "test = fread('~/kaggle/house_prices/data/test.csv',\n",
    "              colClasses=c('MiscFeature'='character','PoolQC'='character','Alley'='character'))\n",
    "\n",
    "# Fill some missing values in test\n",
    "test[661,'BsmtFinSF1']=0\n",
    "test[661,'TotalBsmtSF']=0\n",
    "test[1117,'GarageCars']=0\n",
    "\n",
    "# Il faut renommer les colonnes 1stFlrSF, 2ndFlrSF, et 3SsnPorch pour pas avoir d'emmerdes\n",
    "FirstFlrSF=train$'1stFlrSF'\n",
    "SecondFlrSF=train$'2ndFlrSF'\n",
    "ThreeSsnPorch=train$'3SsnPorch'\n",
    "new_names = names(train)[-which(names(train)=='1stFlrSF'|names(train)=='2ndFlrSF'|names(train)=='3SsnPorch')]\n",
    "to_add = data.table(FirstFlrSF,SecondFlrSF,ThreeSsnPorch)\n",
    "train = cbind(train[,new_names,with=FALSE],to_add)\n",
    "\n",
    "FirstFlrSF=test$'1stFlrSF'\n",
    "SecondFlrSF=test$'2ndFlrSF'\n",
    "ThreeSsnPorch=test$'3SsnPorch'\n",
    "new_names = names(test)[-which(names(test)=='1stFlrSF'|names(test)=='2ndFlrSF'|names(test)=='3SsnPorch')]\n",
    "to_add = data.table(FirstFlrSF,SecondFlrSF,ThreeSsnPorch)\n",
    "test = cbind(test[,new_names,with=FALSE],to_add)\n",
    "\n",
    "# Transform categorical arguments KitchenQual, ExterQual, BsmtQual, GarageFinish, into numerical\n",
    "\n",
    "# KitchenQual\n",
    "nKitchenQual = numeric(length(train$KitchenQual))\n",
    "nKitchenQual[train$KitchenQual=='TA']=1.0\n",
    "nKitchenQual[train$KitchenQual=='Gd']=2.0\n",
    "nKitchenQual[train$KitchenQual=='Ex']=3.0\n",
    "train=cbind(train,nKitchenQual)\n",
    "\n",
    "nKitchenQual = numeric(length(test$KitchenQual))\n",
    "nKitchenQual[test$KitchenQual=='TA']=1.0\n",
    "nKitchenQual[test$KitchenQual=='Gd']=2.0\n",
    "nKitchenQual[test$KitchenQual=='Ex']=3.0\n",
    "test=cbind(test,nKitchenQual)\n",
    "\n",
    "# ExterQual\n",
    "nExterQual = numeric(length(test$ExterQual))\n",
    "nExterQual[test$ExterQual=='TA']=1.0\n",
    "nExterQual[test$ExterQual=='Gd']=2.0\n",
    "nExterQual[test$ExterQual=='Ex']=3.0\n",
    "test=cbind(test,nExterQual)\n",
    "\n",
    "nExterQual = numeric(length(train$ExterQual))\n",
    "nExterQual[train$ExterQual=='TA']=1.0\n",
    "nExterQual[train$ExterQual=='Gd']=2.0\n",
    "nExterQual[train$ExterQual=='Ex']=3.0\n",
    "train=cbind(train,nExterQual)\n",
    "\n",
    "# BsmtQual\n",
    "nBsmtQual = numeric(length(train$BsmtQual))\n",
    "nBsmtQual[train$BsmtQual=='TA']=1.0\n",
    "nBsmtQual[train$BsmtQual=='Gd']=2.0\n",
    "nBsmtQual[train$BsmtQual=='Ex']=3.0\n",
    "train=cbind(train,nBsmtQual)\n",
    "\n",
    "nBsmtQual = numeric(length(test$BsmtQual))\n",
    "nBsmtQual[test$BsmtQual=='TA']=1.0\n",
    "nBsmtQual[test$BsmtQual=='Gd']=2.0\n",
    "nBsmtQual[test$BsmtQual=='Ex']=3.0\n",
    "test=cbind(test,nBsmtQual)\n",
    "\n",
    "# GarageFinish\n",
    "nGarageFinish = numeric(length(train$GarageFinish))\n",
    "nGarageFinish[train$GarageFinish=='Unf']=1.0\n",
    "nGarageFinish[train$GarageFinish=='RFn']=2.0\n",
    "nGarageFinish[train$GarageFinish=='Fin']=3.0\n",
    "train=cbind(train,nGarageFinish)\n",
    "\n",
    "nGarageFinish = numeric(length(test$GarageFinish))\n",
    "nGarageFinish[test$GarageFinish=='Unf']=1.0\n",
    "nGarageFinish[test$GarageFinish=='RFn']=2.0\n",
    "nGarageFinish[test$GarageFinish=='Fin']=3.0\n",
    "test=cbind(test,nGarageFinish)\n",
    "\n",
    "# Take log of SalePrice\n",
    "train$log_SalePrice = train[,.(log_SalePrice=log(SalePrice))]\n",
    "\n",
    "# Take log of a few features\n",
    "train$log_LotArea = train[,.(log_LotArea=log(LotArea))]\n",
    "train$log_YearBuilt = train[,.(log_YearBuilt=log(YearBuilt))]\n",
    "train$log_nBsmtQual = train[,.(log_nBsmtQual=log(1+nBsmtQual))]\n",
    "train$log_BsmtFinSF1 = train[,.(log(1+BsmtFinSF1))]\n",
    "train$log_GarageCars = train[,.(log(1+GarageCars))]\n",
    "train$log_KitchenAbvGr = train[,.(log(1+KitchenAbvGr))]\n",
    "train$log_BedroomAbvGr = train[,.(log(1+BedroomAbvGr))]\n",
    "\n",
    "test$log_LotArea = test[,.(log_LotArea=log(LotArea))]\n",
    "test$log_YearBuilt = test[,.(log_YearBuilt=log(YearBuilt))]\n",
    "test$log_nBsmtQual = test[,.(log_nBsmtQual=log(1+nBsmtQual))]\n",
    "test$log_BsmtFinSF1 = test[,.(log(1+BsmtFinSF1))]\n",
    "test$log_GarageCars = test[,.(log(1+GarageCars))]\n",
    "test$log_KitchenAbvGr = test[,.(log(1+KitchenAbvGr))]\n",
    "test$log_BedroomAbvGr = test[,.(log(1+BedroomAbvGr))]\n",
    "\n",
    "# Try exp of a few features\n",
    "# None useful\n",
    "\n",
    "# Try powers of a few features\n",
    "train$GrLivArea_Square = train$GrLivArea*train$GrLivArea\n",
    "train$TotalBsmtSF_on_GrLivArea = train$TotalBsmtSF/train$GrLivArea\n",
    "\n",
    "test$GrLivArea_Square = test$GrLivArea*test$GrLivArea\n",
    "test$TotalBsmtSF_on_GrLivArea = test$TotalBsmtSF/test$GrLivArea\n"
   ]
  },
  {
   "cell_type": "code",
   "execution_count": 125,
   "metadata": {
    "collapsed": false
   },
   "outputs": [],
   "source": [
    "kept_features7 = c(\"LotArea\",\"OverallQual\",\"YearBuilt\",\"YearRemodAdd\",\"nKitchenQual\",\"nExterQual\",\n",
    "                   \"nBsmtQual\",\"GrLivArea\",\"nGarageFinish\",\n",
    "                  \"log_LotArea\",\"log_YearBuilt\",\n",
    "                   \"log_nBsmtQual\",\n",
    "                   \"BsmtFinSF1\",\"GarageCars\",\"TotalBsmtSF\",\"KitchenAbvGr\",\"BedroomAbvGr\",\"TotRmsAbvGrd\",\"OverallCond\",\n",
    "                  \"log_BsmtFinSF1\",\"log_GarageCars\",\"log_KitchenAbvGr\",\"log_BedroomAbvGr\",\n",
    "                    \"GrLivArea_Square\",\"TotalBsmtSF_on_GrLivArea\")\n",
    "train.sample = train[,c(kept_features7,\"log_SalePrice\",\"SalePrice\"),with=FALSE]\n",
    "test.sample = test[,c(kept_features7),with=FALSE]"
   ]
  },
  {
   "cell_type": "code",
   "execution_count": 126,
   "metadata": {
    "collapsed": true
   },
   "outputs": [],
   "source": [
    "ridgeGrid = expand.grid(lambda1 = c(0.05),lambda2 = c(.05))\n",
    "bootControl <- trainControl(number = 25, verboseIter = TRUE)"
   ]
  },
  {
   "cell_type": "code",
   "execution_count": 47,
   "metadata": {
    "collapsed": false
   },
   "outputs": [
    {
     "name": "stdout",
     "output_type": "stream",
     "text": [
      "+ Resample01: lambda1=0.05, lambda2=0.05 \n",
      "# nonzero coefficients: 16\b\b16\b\b16\b\b16\b\b16\b\b16\b\b16\b\b16\b\b16\b\b16\b\b16\b\b16\b\b16\b\b16\b\b16\b\b16\b\b16\b\b16\b\b16\b\b16\b\b16\b\b16\b\b16\b\b16\b\b16\b\b16\b\b16\b\b16\b\b16\b\b16\b\b16\b\b16\b\b16\b\b16\b\b16\b\b16\b\b16\b\b16\b\b16\b\b16\b\b16\b\b16\b\b16\b\b16\b\b16\b\b16\b\b16\b\b16\b\b16\b\b16\b\b16\b\b16\b\b15\b\b16\b\b16\b\b15\b\b16\b\b16\b\b16\b\b16\b\b16\b\b16\b\b16\b\b16\b\b16\b\b16\b\b16\b\b16\b\b16\b\b16\b\b16\b\b16\b\b16\b\b16\b\b16\b\b16\b\b16\b\b16\b\b16\b\b16\b\b16\b\b16\b\b16\b\b16\b\b16\b\b16\b\b16\b\b16\b\b16\b\b16\b\b16\b\b16\b\b16\b\b16\b\b16\b\b15\b\b16\b\b16\b\b16\b\b16\b\b16\b\b16\b\b16\b\b16\b\b16\b\b16\b\b16\b\b16\b\b16\b\b16\b\b16\b\b16\b\b16\b\b16\b\b16\b\b16\b\b16\b\b16\b\b16\b\b16\b\b16\b\b16\b\b16\b\b16\b\b16\b\b16\b\b16\b\b16\b\b16\b\b16\b\b16\b\b16\b\b16\b\b16\b\b16\b\b16\b\b16\b\b16\b\b16\b\b16\b\b16\b\b16\b\b16\b\b16\b\b16\b\b16\b\b16\b\b16\b\b16\b\b16\b\b16\b\b16\b\b16\b\b16\b\b16\b\b16\b\b16\b\b16\b\b16\b\b16\b\b16\b\b16\b\b16\b\b16\b\b16\b\b16\b\b16\b\b16\b\b16\b\b16\b\b16\b\b16\b\b16\b\b16\b\b16\b\b16\b\b16\b\b16\b\b16\b\b16\b\b16\b\b16\b\b16\b\b16\b\b16\b\b16\b\b16\b\b16\b\b16\b\b16\b\b16\b\b16\b\b16\b\b16\b\b16\b\b16\b\b16\b\b16\b\b16\b\b16\b\b16\b\b16\b\b16\b\b16\b\b16\b\b16\b\b16\b\b16\b\b16\b\b16\b\b16\b\b16\b\b16\b\b16\b\b16\b\b16\b\b16\b\b16\b\b16\b\b16\b\b16\b\b16\b\b16\b\b16\b\b16\b\b16\b\b16\b\b16\b\b16\b\b16\b\b16\b\b16\b\b16\b\b16\b\b16\b\b16\b\b16\b\b16\b\b16\b\b16\b\b16\b\b16\b\b16\b\b16\b\b16\b\b16\b\b16\b\b16\b\b16\b\b16\b\b16\b\b16\b\b16\b\b16\b\b16\b\b16\b\b16\b\b16\b\b16\b\b16\b\b16\b\b16\b\b16\b\b16\b\b16\b\b16\b\b16\b\b16\b\b16\b\b16\b\b16\b\b16\b\b16\b\b16\b\b16\b\b16\b\b16\b\b16\b\b16\b\b16\b\b16\b\b16\b\b16\b\b16\b\b16\b\b16\b\b16\b\b16\b\b16\b\b16\b\b16\b\b16\b\b16\b\b16\b\b16\b\b16\b\b16\b\b16\b\b16\b\b16\b\b16\b\b16\b\b15\b\b16\b\b16\b\b15\b\b16\b\b16\b\b16\b\b16\b\b16\n",
      "- Resample01: lambda1=0.05, lambda2=0.05 \n",
      "+ Resample02: lambda1=0.05, lambda2=0.05 \n",
      "# nonzero coefficients: 16\b\b16\b\b16\b\b16\b\b16\b\b16\b\b16\b\b16\b\b16\b\b16\b\b16\b\b16\b\b16\b\b16\b\b16\b\b16\b\b16\b\b16\b\b16\b\b16\b\b16\b\b16\b\b16\b\b16\b\b16\b\b16\b\b16\b\b16\b\b16\b\b16\b\b16\b\b16\b\b16\b\b16\b\b16\b\b16\b\b16\b\b16\b\b16\b\b16\b\b16\b\b16\b\b16\b\b16\b\b16\b\b16\b\b16\b\b16\b\b16\b\b16\b\b16\b\b16\b\b16\b\b16\b\b16\b\b16\b\b16\b\b16\b\b16\b\b16\b\b16\b\b16\b\b16\b\b16\b\b16\b\b16\b\b16\b\b16\b\b16\b\b16\b\b16\b\b16\b\b16\b\b16\b\b16\b\b16\b\b16\b\b16\b\b16\b\b16\b\b16\b\b16\b\b16\b\b16\b\b16\b\b16\b\b16\b\b16\b\b16\b\b16\b\b16\b\b16\b\b16\b\b16\b\b16\b\b16\b\b16\b\b16\b\b16\b\b16\b\b16\b\b16\b\b16\b\b16\b\b16\b\b16\b\b16\b\b16\b\b16\b\b16\b\b16\b\b16\b\b16\b\b16\b\b16\b\b16\b\b16\b\b16\b\b16\b\b16\b\b16\b\b16\b\b16\b\b16\b\b16\b\b16\b\b16\b\b16\b\b16\b\b16\b\b16\b\b16\b\b16\b\b16\b\b16\b\b16\b\b16\b\b16\b\b16\b\b16\b\b16\b\b16\b\b16\b\b16\b\b16\b\b16\b\b16\b\b16\b\b16\b\b16\b\b16\b\b16\b\b16\b\b16\b\b16\b\b16\b\b16\b\b16\b\b16\b\b16\b\b16\b\b16\b\b16\b\b16\b\b16\b\b16\b\b16\b\b16\b\b16\b\b16\b\b16\b\b16\b\b16\b\b16\b\b16\b\b16\b\b16\b\b16\b\b16\b\b16\b\b16\b\b16\b\b16\b\b16\b\b16\b\b16\b\b16\b\b16\b\b16\b\b16\b\b16\b\b16\b\b16\b\b16\b\b16\b\b16\b\b16\b\b16\b\b16\b\b16\b\b16\b\b16\b\b16\b\b16\b\b16\b\b16\b\b16\b\b16\b\b16\b\b16\b\b16\b\b16\b\b16\b\b16\b\b16\b\b16\b\b16\b\b16\b\b16\b\b16\b\b16\b\b16\b\b16\b\b16\b\b16\b\b16\b\b16\b\b16\b\b16\b\b16\b\b16\b\b16\b\b16\b\b16\b\b16\b\b16\b\b16\b\b16\b\b16\b\b16\b\b16\b\b16\b\b16\b\b16\b\b16\b\b16\b\b16\b\b16\b\b16\b\b16\b\b16\b\b16\b\b16\b\b16\b\b16\b\b16\b\b16\b\b16\b\b16\b\b16\b\b16\b\b16\b\b16\b\b16\b\b16\b\b16\b\b16\b\b16\b\b16\b\b16\b\b16\b\b16\b\b16\b\b16\b\b16\b\b16\b\b16\b\b16\b\b16\b\b16\b\b16\b\b16\b\b16\b\b16\b\b16\b\b16\b\b16\b\b16\b\b16\b\b16\b\b16\b\b16\b\b16\b\b16\b\b16\b\b16\b\b16\b\b16\b\b16\b\b16\b\b16\b\b16\b\b16\b\b16\b\b16\b\b16\b\b16\b\b16\b\b16\b\b16\b\b16\b\b16\b\b16\b\b16\b\b16\b\b16\b\b16\b\b16\b\b16\b\b16\b\b16\b\b16\b\b16\b\b16\b\b16\b\b16\b\b16\b\b16\b\b16\b\b16\b\b16\b\b16\b\b16\b\b16\b\b16\b\b16\b\b15\b\b15\b\b15\b\b15\b\b15\b\b15\b\b15\b\b15\b\b15\b\b15\b\b15\b\b15\b\b15\b\b16\b\b16\b\b15\b\b15\b\b15\b\b16\b\b16\b\b15\b\b15\b\b15\b\b15\b\b16\b\b16\b\b16\b\b15\b\b16\b\b16\b\b16\b\b16\b\b16\b\b16\b\b16\b\b16\b\b16\b\b16\b\b16\b\b16\b\b16\b\b16\b\b16\b\b16\b\b16\b\b16\b\b16\b\b16\b\b16\b\b16\b\b16\b\b16\b\b16\b\b16\b\b16\b\b16\b\b16\b\b16\b\b16\b\b16\b\b16\b\b16\b\b16\b\b16\b\b16\b\b16\b\b16\b\b16\b\b16\b\b16\b\b16\b\b16\b\b16\b\b16\b\b16\b\b16\b\b16\b\b16\b\b16\b\b16\b\b16\b\b16\b\b16\b\b16\b\b16\b\b16\b\b16\b\b16\b\b16\b\b16\b\b16\b\b16\b\b16\b\b16\b\b16\b\b16\b\b16\b\b16\b\b16\b\b16\b\b16\b\b16\b\b16\b\b16\b\b16\b\b16\b\b16\b\b16\b\b16\b\b16\b\b16\b\b16\b\b16\b\b16\b\b16\b\b16\b\b16\b\b16\b\b16\b\b16\b\b16\b\b16\b\b16\b\b16\b\b16\b\b16\b\b16\b\b16\b\b16\b\b16\b\b16\b\b16\b\b16\b\b16\b\b16\b\b16\b\b16\b\b16\b\b16\b\b16\b\b16\b\b16\b\b16\b\b16\b\b16\b\b16\b\b16\b\b16\b\b16\b\b16\b\b16\b\b16\b\b16\b\b16\b\b16\b\b16\b\b16\b\b16\b\b16\b\b16\b\b16\b\b16\b\b16\b\b16\b\b16\b\b16\b\b16\b\b16\b\b16\b\b16\b\b16\b\b16\b\b16\b\b16\b\b16\b\b16\b\b16\b\b16\b\b16\b\b16\b\b16\b\b16\b\b16\b\b16\b\b16\b\b16\b\b16\b\b16\b\b16\b\b16\b\b16\b\b16\b\b16\b\b16\b\b16\b\b16\b\b16\b\b16\b\b16\b\b16\b\b16\b\b16\b\b16\b\b16\b\b16\b\b16\b\b16\b\b16\b\b16\b\b16\b\b16\b\b16\n",
      "- Resample02: lambda1=0.05, lambda2=0.05 \n",
      "+ Resample03: lambda1=0.05, lambda2=0.05 \n",
      "# nonzero coefficients: 16\b\b16\b\b16\b\b16\b\b16\b\b16\b\b16\b\b16\b\b16\b\b16\b\b16\b\b16\b\b16\b\b16\b\b16\b\b16\b\b16\b\b16\b\b16\b\b16\b\b16\b\b16\b\b16\b\b16\b\b16\b\b16\b\b16\b\b16\b\b16\b\b16\b\b16\b\b16\b\b16\b\b16\b\b16\b\b16\b\b16\b\b16\b\b16\b\b16\b\b16\b\b16\b\b16\b\b16\b\b16\b\b16\b\b16\b\b16\b\b16\b\b16\b\b16\b\b16\b\b16\b\b16\b\b16\b\b16\b\b16\b\b16\b\b16\b\b16\b\b16\b\b16\b\b16\b\b16\b\b16\b\b16\b\b16\b\b16\b\b16\b\b16\b\b16\b\b16\b\b16\b\b16\b\b16\b\b16\b\b16\b\b16\b\b16\b\b16\b\b16\b\b16\b\b16\b\b16\b\b16\b\b16\b\b16\b\b16\b\b16\n",
      "- Resample03: lambda1=0.05, lambda2=0.05 \n",
      "+ Resample04: lambda1=0.05, lambda2=0.05 \n",
      "# nonzero coefficients: 16\b\b16\b\b16\b\b16\b\b16\b\b16\b\b16\b\b16\b\b16\b\b16\b\b16\b\b16\b\b16\b\b16\b\b16\b\b16\b\b16\b\b16\b\b16\b\b16\b\b16\b\b16\b\b16\b\b16\b\b16\b\b16\b\b16\b\b16\b\b16\b\b16\b\b16\b\b16\b\b16\b\b16\b\b16\b\b16\b\b16\b\b16\b\b16\b\b16\b\b16\b\b16\b\b16\b\b16\b\b16\b\b16\b\b16\b\b16\b\b16\b\b16\b\b16\b\b16\b\b16\b\b16\b\b16\b\b16\b\b16\b\b16\b\b16\b\b16\b\b16\b\b16\b\b16\b\b16\b\b16\b\b16\b\b16\b\b16\b\b16\b\b16\b\b16\b\b16\b\b16\b\b16\b\b16\b\b16\b\b16\b\b16\b\b16\b\b16\b\b16\b\b16\b\b16\b\b16\b\b16\b\b16\b\b16\b\b16\b\b16\b\b16\b\b16\b\b16\b\b16\b\b16\b\b16\b\b16\b\b16\b\b16\b\b16\b\b16\b\b16\b\b16\b\b16\b\b16\b\b16\b\b16\b\b16\b\b16\b\b16\b\b16\b\b16\b\b16\b\b16\b\b16\b\b16\b\b16\b\b16\b\b16\b\b16\b\b16\b\b16\b\b16\b\b16\b\b16\b\b16\b\b16\b\b16\b\b16\b\b16\b\b16\b\b16\b\b16\b\b16\b\b16\b\b16\b\b16\b\b16\b\b16\b\b16\b\b16\b\b16\b\b16\b\b16\b\b16\b\b16\b\b16\b\b16\b\b16\b\b16\b\b16\b\b16\b\b16\b\b16\b\b16\b\b16\b\b16\b\b16\b\b16\b\b16\b\b16\b\b16\b\b16\b\b16\b\b16\b\b16\b\b16\b\b16\b\b16\b\b16\b\b16\b\b16\b\b16\b\b16\b\b16\b\b16\b\b16\b\b16\b\b16\b\b16\b\b16\b\b16\b\b16\b\b16\b\b16\b\b16\b\b16\b\b16\b\b16\b\b16\b\b16\b\b16\b\b16\b\b16\b\b16\b\b16\b\b16\b\b16\b\b16\b\b16\b\b16\b\b16\b\b16\b\b16\b\b16\b\b16\b\b16\b\b16\b\b16\b\b16\b\b16\b\b16\b\b16\b\b16\b\b16\b\b16\b\b16\b\b16\b\b16\b\b16\b\b16\b\b16\b\b16\b\b16\b\b16\b\b16\b\b16\b\b16\b\b16\b\b16\b\b16\b\b16\b\b16\b\b16\b\b16\b\b16\b\b16\b\b16\b\b16\b\b16\b\b16\b\b16\b\b16\b\b16\b\b16\b\b16\b\b16\b\b16\b\b16\b\b16\b\b16\b\b16\b\b16\b\b16\b\b16\b\b16\b\b16\b\b16\b\b16\b\b16\b\b16\b\b16\b\b16\b\b16\b\b16\b\b16\b\b16\b\b16\b\b16\b\b16\b\b16\b\b16\b\b16\b\b16\b\b16\b\b16\b\b16\b\b16\b\b16\b\b16\b\b16\b\b16\b\b16\b\b16\b\b16\b\b16\b\b16\b\b16\b\b16\b\b16\b\b16\b\b16\b\b16\b\b16\b\b16\b\b16\b\b16\b\b16\b\b16\b\b16\b\b16\b\b16\b\b16\b\b16\b\b16\b\b16\b\b16\b\b16\b\b16\b\b16\b\b16\b\b16\b\b16\b\b16\b\b16\b\b16\b\b16\b\b16\b\b16\b\b16\b\b16\b\b16\b\b16\b\b16\b\b16\b\b16\b\b16\b\b16\b\b16\b\b16\b\b16\b\b16\b\b16\b\b16\b\b16\b\b16\b\b16\b\b16\b\b16\b\b16\b\b16\b\b16\b\b16\b\b16\b\b16\b\b16\b\b16\b\b16\b\b16\b\b16\b\b16\b\b16\b\b16\b\b16\b\b16\b\b16\b\b16\b\b16\b\b16\b\b16\b\b16\b\b16\b\b16\b\b16\b\b16\b\b16\b\b16\b\b16\b\b16\b\b16\b\b16\b\b16\b\b16\b\b16\b\b16\b\b16\b\b16\b\b16\b\b16\b\b16\b\b16\b\b16\b\b16\b\b16\b\b16\b\b16\b\b16\b\b16\b\b16\b\b16\b\b16\b\b16\b\b16\b\b16\b\b16\b\b16\b\b16\b\b16\b\b16\b\b16\b\b16\b\b16\b\b16\b\b16\b\b16\b\b16\b\b16\b\b16\b\b16\b\b16\b\b16\b\b16\b\b16\b\b16\b\b16\b\b16\b\b16\b\b16\b\b16\b\b16\b\b16\b\b16\b\b16\b\b16\b\b16\b\b16\b\b16\b\b16\b\b16\b\b16\b\b16\b\b16\b\b16\b\b16\b\b16\b\b16\b\b16\b\b16\b\b16\b\b16\b\b16\b\b16\b\b16\b\b16\b\b16\b\b16\b\b16\b\b16\b\b16\b\b16\b\b16\b\b16\b\b16\b\b16\b\b16\b\b16\b\b16\b\b16\b\b16\b\b16\b\b16\b\b16\b\b16\b\b16\b\b16\b\b16\b\b16\b\b16\b\b16\b\b16\b\b16\b\b16\b\b16\b\b16\b\b16\b\b16\b\b16\b\b16\b\b16\b\b16\b\b16\b\b16\b\b16\b\b16\b\b16\b\b16\b\b16\b\b16\b\b16\b\b16\b\b16\b\b16\b\b16\b\b16\b\b16\b\b16\b\b16\b\b16\b\b16\b\b16\b\b16\b\b16\b\b16\b\b16\b\b16\b\b16\b\b16\b\b16\b\b16\b\b16\b\b16\b\b16\b\b16\b\b16\b\b16\b\b16\b\b16\b\b16\b\b16\b\b16\b\b16\b\b16\b\b16\b\b16\b\b16\b\b16\b\b16\b\b16\b\b16\b\b16\b\b16\b\b16\b\b16\b\b16\b\b16\b\b16\b\b16\b\b16\b\b16\b\b16\b\b16\b\b16\b\b16\b\b16\b\b16\b\b16\b\b16\b\b16\b\b16\b\b16\b\b16\b\b16\b\b16\b\b16\b\b16\b\b16\b\b16\b\b16\b\b16\b\b16\b\b16\b\b16\b\b16\b\b16\b\b16\b\b16\b\b16\b\b16\b\b16\b\b16\b\b16\b\b16\b\b16\b\b16\b\b16\b\b16\b\b16\b\b16\b\b16\b\b16\b\b16\b\b16\b\b16\b\b16\b\b16\b\b16\b\b16\b\b16\b\b16\b\b16\b\b16\b\b16\b\b16\b\b16\b\b16\b\b16\b\b16\b\b16\b\b16\b\b16\b\b16\b\b16\b\b16\b\b16\b\b16\b\b16\b\b16\b\b16\b\b16\b\b16\b\b16\b\b16\b\b16\b\b16\b\b16\b\b15\b\b16\b\b16\b\b15\b\b16\b\b16\b\b15\b\b15\b\b15\b\b16\b\b16\b\b16\b\b16\b\b16\b\b16\b\b16\b\b16\b\b16\b\b16\b\b16\b\b16\b\b16\b\b16\b\b16\b\b16\b\b16\b\b16\b\b16\b\b16\b\b16\b\b16\b\b16\b\b16\b\b16\b\b16\b\b16\b\b16\b\b16\b\b16\b\b16\b\b16\b\b16\b\b16\b\b16\b\b16\b\b16\b\b16\b\b16\b\b16\b\b16\b\b16\b\b16\b\b16\b\b16\b\b16\b\b16\b\b16\b\b16\b\b16\b\b16\b\b16\b\b16\b\b16\b\b16\b\b16\b\b16\b\b16\b\b16\b\b16\b\b16\b\b16\b\b16\b\b16\b\b16\b\b16\b\b16\b\b16\b\b16\b\b16\b\b16\b\b16\b\b16\b\b16\b\b16\b\b16\b\b16\b\b16\b\b16\b\b16\b\b16\b\b16\b\b16\b\b16\b\b16\b\b16\b\b16\b\b16\b\b16\b\b16\b\b16\b\b16\b\b16\b\b16\b\b16\b\b16\b\b16\b\b16\b\b16\b\b16\b\b16\b\b16\b\b16\b\b16\b\b16\b\b16\b\b16\b\b16\b\b16\b\b16\b\b16\b\b16\b\b16\b\b16\b\b16\b\b16\b\b16\b\b16\b\b16\b\b16\b\b16\b\b16\b\b16\b\b16\b\b16\b\b16\b\b16\b\b16\b\b16\b\b16\b\b16\b\b16\b\b16\b\b16\b\b16\b\b16\b\b16\b\b16\b\b16\b\b16\b\b16\b\b16\b\b16\b\b16\b\b16\b\b16\b\b16\b\b16\b\b16\b\b16\b\b16\b\b16\b\b16\b\b16\b\b16\b\b16\b\b16\b\b16\b\b16\b\b16\b\b16\b\b16\b\b16\b\b16\b\b16\b\b16\b\b16\b\b16\b\b16\b\b16\b\b16\b\b16\b\b16\b\b16\b\b16\b\b16\b\b16\b\b16\b\b16\b\b16\b\b16\b\b16\b\b16\b\b16\b\b16\b\b16\b\b16\b\b16\b\b16\b\b16\b\b16\b\b16\b\b16\b\b16\b\b16\b\b16\b\b16\b\b16\b\b16\b\b16\b\b16\b\b16\b\b16\b\b16\b\b16\b\b16\b\b16\b\b16\b\b16\b\b16\b\b16\b\b16\b\b16\b\b16\b\b16\b\b16\b\b16\b\b16\b\b16\b\b16\b\b16\b\b16\b\b16\b\b16\b\b16\b\b16\b\b16\b\b16\b\b16\b\b16\b\b16\b\b16\b\b16\b\b16\b\b16\b\b16\b\b16\b\b16\b\b16\b\b16\b\b16\b\b16\b\b16\b\b16\b\b16\b\b16\b\b16\b\b16\b\b16\b\b16\b\b16\b\b16\b\b16\b\b16\b\b16\b\b16\b\b16\b\b16\b\b16\b\b16\b\b16\b\b16\b\b16\b\b16\b\b16\b\b16\b\b16\b\b16\b\b16\b\b16\b\b16\b\b16\b\b16\b\b16\b\b16\b\b16\b\b16\b\b16\b\b16\b\b16\b\b16\b\b16\b\b16\b\b16\b\b16\b\b16\b\b16\b\b16\b\b16\b\b16\b\b16\b\b16\b\b16\b\b16\b\b16\b\b16\b\b16\b\b16\b\b16\b\b16\b\b16\b\b16\b\b16\b\b16\b\b16\b\b16\b\b16\b\b16\b\b16\b\b16\b\b16\b\b16\b\b16\b\b16\b\b16\b\b16\b\b16\b\b16\b\b16\b\b16\b\b16\b\b16\b\b16\b\b16\b\b16\b\b16\b\b16\b\b16\b\b16\b\b16\b\b16\b\b16\b\b16\b\b16\b\b16\b\b16\b\b16\b\b16\b\b16\b\b16\b\b16\b\b16\b\b16\b\b16\b\b16\b\b16\b\b16\b\b16\b\b16\b\b16\b\b16\b\b16\b\b16\b\b16\b\b16\b\b16\b\b16\b\b16\b\b16\b\b16\b\b16\b\b16\b\b16\b\b16\b\b16\b\b16\b\b16\b\b16\b\b16\b\b16\b\b16\b\b16\b\b16\b\b16\b\b16\b\b16\b\b16\b\b16\b\b16\b\b16\b\b16\b\b16\b\b16\b\b16\b\b16\b\b16\b\b16\b\b16\b\b16\b\b16\b\b16\b\b16\b\b16\b\b16\b\b16\b\b16\b\b16\b\b16\b\b16\b\b16\b\b16\b\b16\b\b16\b\b16\b\b16\b\b16\b\b16\b\b16\b\b16\b\b16\b\b16\b\b16\b\b16\b\b16\b\b16\b\b16\b\b16\b\b16\b\b16\b\b16\b\b16\b\b16\b\b16\b\b16\b\b16\b\b16\b\b16\b\b16\b\b16\b\b16\b\b16\b\b16\b\b16\b\b16\b\b16\b\b16\b\b16\b\b16\b\b16\b\b16\b\b16\b\b16\b\b16\b\b16\b\b16\b\b16\b\b16\b\b16\b\b16\b\b16\b\b16\b\b16\b\b16\b\b16\b\b16\b\b16\b\b16\b\b16\b\b16\b\b16\b\b16\b\b16\b\b16\b\b16\b\b16\b\b16\b\b16\b\b16\b\b16\b\b16\b\b16\b\b16\b\b16\b\b16\b\b16\b\b16\b\b16\b\b16\b\b16\b\b16\b\b16\b\b16\b\b16\b\b16\b\b16\b\b16\b\b16\b\b16\b\b16\b\b16\b\b16\b\b16\b\b16\b\b16\b\b16\b\b16\b\b16\b\b16\b\b16\b\b16\b\b16\b\b16\b\b16\b\b16\b\b16\b\b16\b\b16\b\b16\b\b16\b\b16\b\b16\b\b16\b\b16\b\b16\b\b16\b\b16\b\b16\b\b16\b\b16\b\b16\b\b16\b\b16\b\b16\b\b16\b\b16\b\b16\b\b16\b\b16\b\b16\b\b16\b\b16\b\b16\b\b16\b\b16\b\b16\b\b16\b\b16\b\b16\b\b16\b\b16\b\b16\b\b16\b\b16\b\b16\b\b16\b\b16\b\b16\b\b16\b\b16\b\b16\b\b16\b\b16\b\b16\b\b16\b\b16\b\b16\b\b16\b\b16\b\b16\b\b16\b\b16\b\b16\b\b16\b\b16\b\b16\b\b16\b\b16\b\b16\b\b16\b\b16\b\b16\b\b16\b\b16\b\b16\b\b16\b\b16\b\b16\b\b16\b\b16\b\b16\b\b16\b\b16\b\b16\b\b16\b\b16\b\b16\b\b16\b\b16\b\b16\b\b16\b\b16\b\b16\b\b16\b\b16\b\b16\b\b16\b\b16\b\b16\b\b16\b\b16\b\b16\b\b16\b\b16\b\b16\b\b16\b\b16\b\b16\b\b16\b\b16\b\b16\b\b16\b\b16\b\b16\b\b16\b\b16\b\b16\b\b16\b\b16\b\b16\b\b16\b\b16\b\b16\b\b16\b\b16\b\b16\b\b16\b\b16\b\b16\b\b16\b\b16\b\b16\b\b16\b\b16\b\b16\b\b16\b\b16\b\b16\b\b16\b\b16\b\b16\b\b16\b\b16\b\b16\b\b16\b\b16\b\b16\b\b16\b\b16\b\b16\b\b16\b\b16\b\b16\b\b16\b\b16\b\b16\b\b16\b\b16\b\b16\b\b16\b\b16\b\b16\b\b16\b\b16\b\b16\b\b16\b\b16\b\b16\b\b16\b\b16\b\b16\b\b16\b\b16\b\b16\b\b16\b\b16\b\b16\b\b16\b\b16\b\b16\b\b16\b\b16\b\b16\b\b16\b\b16\b\b16\b\b16\b\b16\b\b16\b\b16\b\b16\b\b16\b\b16\b\b16\b\b16\b\b16\b\b16\b\b16\b\b16\b\b16\b\b16\b\b16\b\b16\b\b16\b\b16\b\b16\b\b16\b\b16\b\b16\b\b16\b\b16\b\b16\b\b16\b\b16\b\b16\b\b16\b\b16\b\b16\b\b16\b\b16\b\b16\b\b16\b\b16\b\b16\b\b16\b\b16\b\b16\b\b16\b\b16\b\b16\b\b16\b\b16\b\b16\b\b16\b\b16\b\b16\b\b16\b\b16\b\b16\b\b16\b\b16\b\b16\b\b16\b\b16\b\b16\b\b16\b\b16\b\b16\b\b16\b\b16\b\b16\b\b16\b\b16\b\b16\b\b16\b\b16\b\b16\b\b16\b\b16\b\b16\b\b16\b\b16\b\b16\b\b16\b\b16\b\b16\b\b16\b\b16\b\b16\b\b16\b\b16\b\b16\b\b16\b\b16\b\b16\b\b16\b\b16\b\b16\b\b16\b\b16\b\b16\b\b16\b\b16\b\b16\b\b16\b\b16\b\b16\b\b16\b\b16\b\b16\b\b16\b\b16\b\b16\b\b16\b\b16\b\b16\b\b16\b\b16\b\b16\b\b16\b\b16\b\b16\b\b16\b\b16\b\b16\b\b16\b\b16\b\b16\b\b16\b\b16\b\b16\b\b16\b\b16\b\b16\b\b16\b\b16\b\b16\b\b16\b\b16\b\b16\b\b16\b\b16\b\b16\b\b16\b\b16\b\b16\b\b16\b\b16\b\b16\b\b16\b\b16\b\b16\b\b16\b\b16\b\b16\b\b16\b\b16\b\b16\b\b16\b\b16\b\b16\b\b16\b\b16\b\b16\b\b16\b\b16\b\b16\b\b16\b\b16\b\b16\b\b16\b\b16\b\b16\b\b16\b\b16\b\b16\b\b16\b\b16\b\b16\b\b16\b\b16\b\b16\b\b16\b\b16\b\b16\b\b16\b\b16\b\b16\b\b16\b\b16\b\b16\b\b16\b\b16\b\b16\b\b16\b\b16\b\b16\b\b16\b\b16\b\b16\b\b16\b\b16\b\b16\b\b16\b\b16\b\b16\b\b16\b\b16\b\b16\b\b16\b\b16\b\b16\b\b16\b\b16\b\b16\b\b16\b\b16\b\b16\b\b16\b\b16\b\b16\b\b16\b\b16\b\b16\b\b16\b\b16\b\b16\b\b16\b\b16\b\b16\b\b16\b\b16\b\b16\b\b16\b\b16\b\b16\b\b16\b\b16\b\b16\b\b16\b\b16\b\b16\b\b16\b\b16\b\b16\b\b16\b\b16\b\b16\b\b16\b\b16\b\b16\b\b16\b\b16\b\b16\b\b16\b\b16\b\b16\b\b16\b\b16\b\b16\b\b16\b\b16\b\b16\b\b16\b\b16\b\b16\b\b16\b\b16\b\b16\b\b16\b\b16\b\b16\b\b16\b\b16\b\b16\b\b16\b\b16\b\b16\b\b16\b\b16\b\b16\b\b16\b\b16\b\b16\b\b16\b\b16\b\b16\b\b16\b\b16\b\b16\b\b16\b\b16\b\b16\b\b16\b\b16\b\b16\b\b16\b\b16\b\b16\b\b16\b\b16\b\b16\b\b16\b\b16\b\b16\b\b16\b\b16\b\b16\b\b16\b\b16\b\b16\b\b16\b\b16\b\b16\b\b16\b\b16\b\b16\b\b16\b\b16\b\b16\b\b16\b\b16\b\b16\b\b16\b\b16\b\b16\b\b16\b\b16\b\b16\b\b16\b\b16\b\b16\b\b16\b\b16\b\b16\b\b16\b\b16\b\b16\b\b16\b\b16\b\b16\b\b16\b\b16\b\b16\b\b16\b\b16\b\b16\b\b16\b\b16\b\b16\b\b16\b\b16\b\b16\b\b16\b\b16\b\b16\b\b16\b\b16\b\b16\b\b16\b\b16\b\b16\b\b16\b\b16\b\b16\b\b16\b\b16\b\b16\b\b16\b\b16\b\b16\b\b16\b\b16\b\b16\b\b16\b\b16\b\b16\b\b16\b\b16\b\b16\b\b16\b\b16\b\b16\b\b16\b\b16\b\b16\b\b16\b\b16\b\b16\b\b16\b\b16\b\b16\b\b16\b\b16\b\b16\b\b16\b\b16\b\b16\b\b16\b\b16\b\b16\b\b16\b\b16\b\b16\b\b16\b\b16\b\b16\b\b16\b\b16\b\b16\b\b16\b\b16\b\b16\b\b16\b\b16\b\b16\b\b16\b\b16\b\b16\b\b16\b\b16\b\b16\b\b16\b\b16\b\b16\b\b16\b\b16\b\b16\b\b16\b\b16\b\b16\b\b16\b\b16\b\b16\b\b16\b\b16\b\b16\b\b16\b\b16\b\b16\b\b16\b\b16\b\b16\b\b16\b\b16\b\b16\b\b16\b\b16\b\b16\b\b16\b\b16\b\b16\b\b16\b\b16\b\b16\b\b16\b\b16\b\b16\b\b16\b\b16\b\b16\b\b16\b\b16\b\b16\b\b16\b\b16\b\b16\b\b16\b\b16\b\b16\b\b16\b\b16\b\b16\b\b16\b\b16\b\b16\b\b16\b\b16\b\b16\b\b16\b\b16\b\b16\b\b16\b\b16\b\b16\b\b16\b\b16\b\b16\b\b16\b\b16\b\b16\b\b16\b\b16\b\b16\b\b16\b\b16\b\b16\b\b16\b\b16\b\b16\b\b16\b\b16\b\b16\b\b16\b\b16\b\b16\b\b16\b\b16\b\b16\b\b16\b\b16\b\b16\b\b16\b\b16\b\b16\b\b16\b\b16\b\b16\b\b16\b\b16\b\b16\b\b16\b\b16\b\b16\b\b16\b\b16\b\b16\b\b16\b\b16\b\b16\b\b16\b\b16\b\b16\b\b16\b\b16\b\b16\b\b16\b\b16\b\b16\b\b16\b\b16\b\b16\b\b16\b\b16\b\b16\b\b16\b\b16\b\b16\b\b16\b\b16\b\b16\b\b16\b\b16\b\b16\b\b16\b\b16\b\b16\b\b16\b\b16\b\b16\b\b16\b\b16\b\b16\b\b16\b\b16\b\b16\b\b16\b\b16\b\b16\b\b16\b\b16\b\b16\b\b16\b\b16\b\b16\b\b16\b\b16\b\b16\b\b16\b\b16\b\b16\b\b16\b\b16\b\b16\b\b16\b\b16\b\b16\b\b16\b\b16\b\b16\b\b16\b\b16\b\b16\b\b16\b\b16\b\b16\b\b16\b\b16\b\b16\b\b16\b\b16\b\b16\b\b16\b\b16\b\b16\b\b16\b\b16\b\b16\b\b16\b\b16\b\b16\b\b16\b\b16\b\b16\b\b16\b\b16\b\b16\b\b16\b\b16\b\b16\b\b16\b\b16\b\b16\b\b16\b\b16\b\b16\b\b16\b\b16\b\b16\b\b16\b\b16\b\b16\b\b16\b\b16\b\b16\b\b16\b\b16\b\b16\b\b16\b\b16\b\b16\b\b16\b\b16\b\b16\b\b16\b\b16\b\b16\b\b16\b\b16\b\b16\b\b16\b\b16\b\b16\b\b16\b\b16\b\b16\b\b16\b\b16\b\b16\b\b16\b\b16\b\b16\b\b16\b\b16\b\b16\b\b16\b\b16\b\b16\b\b16\b\b16\b\b16\b\b16\b\b16\b\b16\b\b16\b\b16\b\b16\b\b16\b\b16\b\b16\b\b16\b\b16\b\b16\b\b16\b\b16\b\b16\b\b16\b\b16\b\b16\b\b16\b\b16\b\b16\b\b16\b\b16\b\b16\b\b16\b\b16\b\b16\b\b16\b\b16\b\b16\b\b16\b\b16\b\b16\b\b16\b\b16\b\b16\b\b16\b\b16\b\b16\b\b16\b\b16\b\b16\b\b16\b\b16\b\b16\b\b16\b\b16\b\b16\b\b16\b\b16\b\b16\b\b16\b\b16\b\b16\b\b16\b\b16\b\b16\b\b16\b\b16\b\b16\b\b16\b\b16\b\b16\b\b16\b\b16\b\b16\b\b16\b\b16\b\b16\b\b16\b\b16\b\b16\b\b16\b\b16\b\b16\b\b16\b\b16\b\b16\b\b16\b\b16\b\b16\b\b16\b\b16\b\b16\b\b16\b\b16\b\b16\b\b16\b\b16\b\b16\b\b16\b\b16\b\b16\b\b16\b\b16\b\b16\b\b16\b\b16\b\b16\b\b16\b\b16\b\b16\b\b16\b\b16\b\b16\b\b16\b\b16\b\b16\b\b16\b\b16\b\b16\b\b16\b\b16\b\b16\b\b16\b\b16\b\b16\b\b16\b\b16\b\b16\b\b16\b\b16\b\b16\b\b16\b\b16\b\b16\b\b16\b\b16\b\b16\b\b16\b\b16\b\b16\b\b16\b\b16\b\b16\b\b16\b\b16\b\b16\b\b16\b\b16\b\b16\b\b16\b\b16\b\b16\b\b16\b\b16\b\b16\b\b16\b\b16\b\b16\b\b16\b\b16\b\b16\b\b16\b\b16\b\b16\b\b16\b\b16\b\b16\b\b16\b\b16\b\b16\b\b16\b\b16\b\b16\b\b16\b\b16\b\b16\b\b16\b\b16\b\b16\b\b16\b\b16\b\b16\b\b16\b\b16\b\b16\b\b16\b\b16\b\b16\b\b16\b\b16\b\b16\b\b16\b\b16\b\b16\b\b16\b\b16\b\b16\b\b16\b\b16\b\b16\b\b16\b\b16\b\b16\b\b16\b\b16\b\b16\b\b16\b\b16\b\b16\b\b16\b\b16\b\b16\b\b16\b\b16\b\b16\b\b16\b\b16\b\b16\b\b16\b\b16\b\b16\b\b16\b\b16\b\b16\b\b16\b\b16\b\b16\b\b16\b\b16\b\b16\b\b16\b\b16\b\b16\b\b16\b\b16\b\b16\b\b16\b\b16\b\b16\b\b16\b\b16\b\b16\b\b16\b\b16\b\b16\b\b16\n",
      "- Resample04: lambda1=0.05, lambda2=0.05 \n",
      "+ Resample05: lambda1=0.05, lambda2=0.05 \n",
      "# nonzero coefficients: 16\b\b16\b\b16\b\b16\b\b16\b\b16\b\b16\b\b16\b\b16\b\b16\b\b16\b\b16\b\b16\b\b16\b\b16\b\b16\b\b16\b\b16\b\b16\b\b16\b\b16\b\b16\b\b16\b\b16\b\b16\b\b16\b\b16\b\b16\b\b16\b\b16\b\b16\b\b16\b\b16\b\b16\b\b16\b\b16\b\b16\b\b16\b\b16\b\b16\b\b16\b\b16\b\b16\b\b16\b\b16\b\b16\b\b16\b\b16\b\b16\b\b16\b\b16\b\b16\b\b16\b\b16\b\b16\b\b16\b\b16\b\b16\b\b16\b\b16\b\b16\b\b16\b\b16\b\b16\b\b16\b\b16\b\b16\b\b16\b\b16\b\b16\b\b16\b\b16\b\b16\b\b16\b\b16\b\b16\b\b16\b\b16\b\b16\b\b16\b\b16\b\b16\b\b16\b\b16\b\b16\b\b16\b\b16\b\b16\b\b16\b\b16\b\b16\b\b16\b\b16\b\b16\b\b16\b\b16\b\b16\b\b16\b\b16\b\b16\b\b16\b\b16\b\b16\b\b16\b\b16\b\b16\b\b16\b\b16\b\b16\b\b16\b\b16\b\b16\b\b16\b\b16\b\b16\b\b16\b\b16\b\b16\b\b16\b\b16\b\b16\b\b16\b\b16\b\b16\b\b16\b\b16\b\b16\b\b16\b\b16\b\b16\b\b16\b\b16\b\b16\b\b16\b\b16\b\b16\b\b16\b\b16\b\b16\b\b16\b\b16\b\b16\b\b16\b\b16\b\b16\b\b16\b\b16\b\b16\b\b16\b\b16\b\b16\b\b16\b\b16\b\b16\b\b16\b\b16\b\b16\b\b16\b\b16\b\b16\b\b16\b\b16\b\b16\b\b16\b\b16\b\b16\b\b16\b\b16\b\b16\b\b16\b\b16\b\b16\b\b16\b\b16\b\b16\b\b16\b\b16\b\b16\b\b16\b\b16\b\b16\b\b16\b\b16\b\b16\b\b16\b\b16\b\b16\b\b16\b\b16\b\b16\b\b16\b\b16\b\b16\b\b16\b\b16\b\b16\b\b16\b\b16\b\b16\b\b16\b\b16\b\b16\b\b16\b\b16\b\b16\b\b16\b\b16\b\b16\b\b16\b\b16\b\b16\b\b16\b\b16\b\b16\b\b16\b\b16\b\b16\b\b16\b\b16\b\b16\b\b16\b\b16\b\b16\b\b16\b\b16\b\b16\b\b16\b\b16\b\b16\b\b16\b\b16\b\b16\b\b16\b\b16\b\b16\b\b16\b\b16\b\b16\b\b16\b\b16\b\b16\b\b16\b\b16\b\b16\b\b16\b\b16\b\b16\b\b16\b\b16\b\b16\b\b16\b\b16\b\b16\b\b16\b\b16\b\b16\b\b16\b\b16\b\b16\b\b16\b\b16\b\b16\b\b16\b\b16\b\b16\b\b16\b\b16\b\b16\b\b16\b\b16\b\b16\b\b16\b\b16\b\b16\b\b16\b\b16\b\b16\b\b16\b\b16\b\b16\b\b16\b\b16\b\b16\b\b16\b\b16\b\b16\b\b16\b\b16\b\b16\b\b16\b\b16\b\b16\b\b16\b\b16\b\b16\b\b16\b\b16\b\b16\b\b16\b\b16\b\b16\b\b16\b\b16\b\b16\b\b16\b\b16\b\b16\b\b16\b\b16\b\b16\b\b16\b\b16\b\b16\b\b16\b\b16\b\b16\b\b16\b\b16\b\b16\b\b16\b\b16\b\b16\b\b16\b\b16\b\b16\b\b16\b\b16\b\b16\b\b16\b\b16\b\b16\b\b16\b\b16\b\b16\b\b16\b\b16\b\b16\b\b16\b\b16\b\b16\b\b16\b\b16\b\b16\b\b16\b\b16\b\b16\b\b16\b\b16\b\b16\b\b16\b\b16\b\b16\b\b16\b\b16\b\b16\b\b16\b\b16\b\b16\b\b16\b\b16\b\b16\b\b16\b\b16\b\b16\b\b16\b\b16\b\b16\b\b16\b\b16\b\b16\b\b16\b\b16\b\b16\b\b16\b\b16\b\b16\b\b16\b\b16\b\b16\b\b16\b\b16\b\b16\b\b16\b\b16\b\b16\b\b16\b\b16\b\b16\b\b16\b\b16\b\b16\b\b16\b\b16\b\b16\b\b16\b\b16\b\b16\b\b16\b\b16\b\b16\b\b16\b\b16\b\b16\b\b16\b\b16\b\b16\b\b16\b\b16\b\b16\b\b16\b\b16\b\b16\b\b16\b\b16\b\b16\b\b16\b\b16\b\b16\b\b16\b\b16\b\b16\b\b16\b\b16\b\b16\b\b16\b\b16\b\b16\b\b16\b\b16\b\b16\b\b16\b\b16\b\b16\b\b16\b\b16\b\b16\b\b16\b\b16\b\b16\b\b16\b\b16\b\b16\b\b16\b\b16\b\b16\b\b16\b\b16\b\b16\b\b16\b\b16\b\b16\b\b16\b\b16\b\b16\b\b16\b\b16\b\b16\b\b16\b\b16\b\b16\b\b16\b\b16\b\b16\b\b16\b\b16\b\b16\b\b16\b\b16\b\b16\b\b16\b\b16\b\b16\b\b16\b\b16\b\b16\b\b16\b\b16\b\b16\b\b16\b\b16\b\b16\b\b16\b\b16\b\b16\b\b16\b\b16\b\b16\b\b16\b\b16\b\b16\b\b16\b\b16\b\b16\b\b16\b\b16\b\b16\b\b16\b\b16\b\b16\b\b16\b\b16\b\b16\b\b16\b\b16\b\b16\b\b16\b\b16\b\b16\b\b16\b\b16\b\b16\b\b16\b\b16\b\b16\b\b16\b\b16\b\b16\b\b16\b\b16\b\b16\b\b16\b\b16\b\b16\b\b16\b\b16\b\b16\b\b16\b\b16\b\b16\b\b16\b\b16\b\b16\b\b16\b\b16\b\b16\b\b16\b\b16\b\b16\b\b16\b\b16\b\b16\b\b16\b\b16\b\b16\b\b16\b\b16\b\b16\b\b16\b\b16\b\b16\b\b16\b\b16\b\b16\b\b16\b\b16\b\b16\b\b16\b\b16\b\b16\b\b16\b\b16\b\b16\b\b16\b\b16\b\b16\b\b16\b\b16\b\b16\b\b16\b\b16\b\b16\b\b16\b\b16\b\b16\b\b16\b\b16\b\b16\b\b16\b\b16\b\b16\b\b16\b\b16\b\b16\b\b16\b\b16\b\b16\b\b16\b\b16\b\b16\b\b16\b\b16\b\b16\b\b16\b\b16\b\b16\b\b16\b\b16\b\b16\b\b16\b\b16\b\b16\b\b16\b\b16\b\b16\b\b16\b\b16\b\b16\b\b16\n",
      "- Resample05: lambda1=0.05, lambda2=0.05 \n",
      "+ Resample06: lambda1=0.05, lambda2=0.05 \n",
      "# nonzero coefficients: 16\b\b16\b\b16\b\b16\b\b16\b\b16\b\b16\b\b16\b\b16\b\b16\b\b16\b\b16\b\b16\b\b16\b\b16\b\b16\b\b16\b\b16\b\b16\b\b16\b\b16\b\b16\b\b16\b\b16\b\b16\b\b16\b\b16\b\b16\b\b16\b\b16\b\b16\b\b16\b\b16\b\b16\b\b16\b\b16\b\b16\b\b16\b\b16\b\b16\b\b16\b\b16\b\b16\b\b16\b\b16\b\b15\b\b15\b\b16\b\b16\b\b16\b\b16\b\b16\b\b16\b\b16\b\b16\b\b16\b\b16\b\b16\b\b16\b\b16\b\b16\b\b16\b\b16\b\b16\b\b16\b\b16\b\b16\b\b16\b\b16\b\b16\b\b16\b\b16\b\b16\b\b16\b\b16\b\b16\b\b16\b\b16\b\b16\b\b16\b\b16\b\b16\b\b16\b\b16\b\b16\b\b16\b\b16\b\b16\b\b16\b\b16\n",
      "- Resample06: lambda1=0.05, lambda2=0.05 \n",
      "+ Resample07: lambda1=0.05, lambda2=0.05 \n",
      "# nonzero coefficients: 16\b\b16\b\b16\b\b16\b\b16\b\b16\b\b16\b\b16\b\b16\b\b16\b\b16\b\b16\b\b16\b\b16\b\b16\b\b16\b\b16\b\b16\b\b16\b\b16\b\b16\b\b16\b\b16\b\b16\b\b16\b\b16\b\b16\b\b16\b\b16\b\b16\b\b16\b\b16\b\b16\b\b16\b\b16\b\b16\b\b16\b\b16\b\b16\b\b16\b\b16\b\b16\b\b16\b\b16\b\b16\b\b16\b\b16\b\b16\b\b16\b\b16\b\b16\b\b16\b\b16\b\b16\b\b16\b\b16\b\b16\b\b16\b\b16\b\b16\b\b16\b\b16\b\b16\b\b16\b\b16\b\b16\b\b16\b\b16\b\b16\b\b16\b\b16\b\b16\b\b16\b\b16\b\b16\b\b16\b\b15\b\b16\b\b16\b\b16\b\b16\b\b16\b\b16\b\b16\b\b16\b\b16\b\b16\b\b16\b\b16\b\b16\b\b16\b\b16\b\b16\b\b16\b\b16\b\b16\b\b16\b\b16\b\b16\b\b16\b\b16\b\b16\b\b16\b\b16\b\b16\b\b16\b\b16\b\b16\b\b16\b\b16\b\b16\b\b16\b\b16\b\b16\b\b16\b\b16\b\b16\b\b16\n",
      "- Resample07: lambda1=0.05, lambda2=0.05 \n",
      "+ Resample08: lambda1=0.05, lambda2=0.05 \n",
      "# nonzero coefficients: 16\b\b16\b\b16\b\b16\b\b16\b\b16\b\b16\b\b16\b\b16\b\b16\b\b16\b\b16\b\b16\b\b16\b\b16\b\b16\b\b16\b\b16\b\b16\b\b16\b\b16\b\b16\b\b16\b\b16\b\b16\b\b16\b\b16\b\b16\b\b16\b\b16\b\b16\b\b16\b\b15\b\b16\b\b16\b\b16\b\b16\b\b16\b\b16\b\b16\b\b16\b\b16\b\b16\b\b16\b\b16\b\b16\b\b16\b\b16\b\b16\b\b16\b\b16\b\b16\b\b16\b\b16\b\b16\b\b16\b\b16\b\b16\b\b16\b\b16\b\b16\b\b16\b\b16\b\b16\b\b16\b\b16\b\b16\b\b16\b\b16\b\b16\b\b16\b\b16\b\b16\b\b16\b\b16\b\b16\b\b16\b\b16\b\b16\b\b16\b\b16\b\b16\b\b16\b\b16\b\b16\b\b16\b\b16\b\b16\b\b16\b\b16\b\b16\b\b16\b\b16\b\b16\b\b16\b\b16\b\b16\b\b16\b\b16\b\b16\b\b16\b\b16\b\b16\b\b16\b\b16\b\b16\b\b16\b\b16\b\b16\b\b16\b\b16\b\b16\b\b16\b\b16\n",
      "- Resample08: lambda1=0.05, lambda2=0.05 \n",
      "+ Resample09: lambda1=0.05, lambda2=0.05 \n",
      "# nonzero coefficients: 16\b\b16\b\b16\b\b16\b\b16\b\b16\b\b16\b\b16\b\b16\b\b16\b\b16\b\b16\b\b16\b\b16\b\b16\b\b16\b\b16\b\b16\b\b16\b\b16\b\b16\b\b16\b\b16\b\b16\b\b16\b\b16\b\b16\b\b16\b\b16\b\b16\b\b16\b\b16\b\b16\b\b16\b\b16\b\b16\b\b16\b\b16\b\b16\b\b16\b\b16\b\b16\b\b16\b\b16\b\b16\b\b16\b\b16\b\b16\b\b16\b\b16\b\b16\b\b16\b\b16\b\b16\b\b16\b\b16\b\b16\b\b16\b\b16\b\b16\b\b16\b\b16\b\b16\b\b16\b\b16\b\b16\b\b16\b\b16\b\b16\b\b16\b\b16\b\b16\b\b16\b\b16\b\b16\b\b16\b\b16\b\b16\b\b16\b\b16\b\b16\b\b16\b\b16\b\b16\b\b16\b\b16\b\b16\b\b16\b\b16\b\b16\b\b16\b\b16\b\b16\b\b16\b\b16\b\b16\b\b16\b\b16\b\b16\b\b16\b\b16\b\b16\b\b16\b\b16\b\b16\b\b16\b\b16\b\b16\b\b16\b\b16\b\b16\b\b16\b\b16\b\b16\b\b16\b\b16\b\b16\b\b16\b\b16\b\b16\n",
      "- Resample09: lambda1=0.05, lambda2=0.05 \n",
      "+ Resample10: lambda1=0.05, lambda2=0.05 \n",
      "# nonzero coefficients: 16\b\b16\b\b16\b\b16\b\b16\b\b16\b\b16\b\b16\b\b16\b\b16\b\b16\b\b16\b\b16\b\b16\b\b16\b\b16\b\b16\b\b16\b\b16\b\b16\b\b16\b\b16\b\b16\b\b16\b\b16\b\b16\b\b15\b\b16\b\b16\b\b16\b\b16\b\b16\b\b16\b\b16\b\b16\b\b16\b\b16\b\b16\b\b16\b\b16\b\b16\b\b16\b\b16\b\b16\b\b16\b\b16\b\b16\b\b16\b\b16\b\b16\b\b16\b\b16\b\b16\b\b16\b\b16\b\b16\b\b16\b\b16\b\b16\b\b16\b\b16\b\b16\b\b16\b\b16\b\b16\b\b16\b\b16\b\b16\b\b16\b\b16\b\b16\b\b16\b\b16\b\b16\b\b16\b\b16\b\b16\b\b16\b\b16\b\b16\b\b16\b\b16\b\b16\b\b16\b\b16\b\b16\b\b16\b\b16\b\b16\b\b16\b\b16\b\b16\b\b16\b\b16\b\b16\b\b16\b\b16\b\b16\b\b16\b\b16\b\b16\b\b16\b\b16\b\b16\b\b16\b\b16\b\b16\b\b16\b\b16\b\b16\b\b16\b\b16\b\b16\b\b16\b\b16\b\b16\b\b16\b\b16\b\b16\b\b16\b\b16\b\b16\b\b16\b\b16\b\b16\b\b16\b\b16\b\b16\b\b16\b\b16\b\b16\b\b16\b\b16\b\b16\b\b16\b\b16\b\b16\b\b16\b\b16\b\b16\b\b16\b\b16\b\b16\b\b16\b\b16\b\b16\b\b16\b\b16\b\b16\b\b16\b\b16\b\b16\b\b16\b\b16\b\b16\b\b16\b\b16\b\b16\b\b16\b\b16\b\b16\b\b16\b\b16\b\b16\b\b16\b\b16\b\b16\b\b16\b\b16\b\b16\b\b16\b\b16\b\b16\b\b16\b\b16\b\b16\b\b16\b\b16\b\b16\b\b16\b\b16\b\b16\b\b16\b\b16\b\b16\b\b16\b\b16\b\b16\b\b16\b\b16\b\b16\b\b16\b\b16\b\b16\b\b16\b\b16\b\b16\b\b16\b\b16\b\b16\b\b16\b\b16\b\b16\b\b16\b\b16\b\b16\b\b16\b\b16\b\b16\b\b16\b\b16\b\b16\b\b16\b\b16\b\b16\b\b16\b\b16\b\b16\b\b16\b\b16\b\b16\b\b16\b\b16\b\b16\b\b16\b\b16\b\b16\b\b16\b\b16\b\b16\b\b16\b\b16\b\b16\b\b16\b\b16\b\b16\b\b16\b\b16\b\b16\b\b16\b\b16\b\b16\b\b16\b\b16\b\b16\b\b16\b\b16\b\b16\b\b16\b\b16\b\b16\b\b16\b\b16\b\b16\b\b16\b\b16\b\b16\b\b16\b\b16\b\b16\b\b16\b\b16\b\b16\b\b16\b\b16\b\b16\b\b16\b\b16\b\b16\b\b16\b\b16\b\b16\b\b16\b\b16\b\b16\b\b16\b\b16\b\b16\b\b16\b\b16\b\b16\b\b16\b\b16\b\b16\b\b16\b\b16\b\b16\b\b16\b\b16\b\b16\b\b16\b\b16\b\b16\b\b16\b\b16\b\b16\b\b16\b\b16\b\b16\b\b16\b\b16\b\b16\b\b16\b\b16\b\b16\b\b16\b\b16\b\b16\b\b16\b\b16\b\b16\b\b16\b\b16\b\b16\b\b16\b\b16\b\b16\b\b16\b\b16\b\b16\b\b16\b\b16\b\b16\b\b16\b\b16\b\b16\b\b16\b\b16\b\b16\b\b16\b\b16\b\b16\b\b16\b\b16\b\b16\b\b16\b\b16\b\b16\b\b16\b\b16\b\b16\b\b16\b\b16\b\b16\b\b16\b\b16\b\b16\b\b16\b\b16\b\b16\b\b16\b\b16\b\b16\b\b16\b\b16\b\b16\b\b16\b\b16\b\b16\b\b16\b\b16\b\b16\b\b16\b\b16\b\b16\b\b16\b\b16\b\b16\b\b16\b\b16\b\b16\b\b16\b\b16\b\b16\b\b16\b\b16\b\b16\b\b16\b\b16\b\b16\b\b16\b\b16\b\b16\b\b16\b\b16\b\b16\b\b16\b\b16\b\b16\b\b16\b\b16\b\b16\b\b16\b\b16\b\b16\b\b16\b\b16\b\b16\b\b16\b\b16\b\b16\b\b16\b\b16\b\b16\b\b16\b\b16\b\b16\b\b16\b\b16\b\b16\b\b16\b\b16\b\b16\b\b16\b\b16\b\b16\b\b16\b\b16\b\b16\b\b16\b\b16\b\b16\b\b16\b\b16\b\b16\b\b16\b\b16\b\b16\b\b16\b\b16\b\b16\b\b16\b\b16\b\b16\b\b16\b\b16\b\b16\b\b16\b\b16\b\b16\b\b16\b\b16\b\b16\b\b16\b\b16\b\b16\b\b16\b\b16\b\b16\b\b16\b\b16\b\b16\b\b16\b\b16\b\b16\b\b16\b\b16\b\b16\b\b16\b\b16\b\b16\b\b16\b\b16\b\b16\b\b16\b\b16\b\b16\b\b16\b\b16\b\b16\b\b16\b\b16\b\b16\b\b16\b\b16\b\b16\b\b16\b\b16\b\b16\b\b16\b\b16\b\b16\b\b16\b\b16\b\b16\b\b16\b\b16\b\b16\b\b16\b\b16\b\b16\b\b16\b\b16\b\b16\b\b16\b\b16\b\b16\b\b16\b\b16\b\b16\b\b16\b\b16\b\b16\b\b16\b\b16\b\b16\b\b16\b\b16\b\b16\b\b16\b\b16\b\b16\b\b16\b\b16\b\b16\b\b16\b\b16\b\b16\b\b16\b\b16\b\b16\b\b16\b\b16\b\b16\b\b16\b\b16\b\b16\b\b16\b\b16\b\b16\b\b16\b\b16\b\b16\b\b16\b\b16\b\b16\b\b16\b\b16\b\b16\b\b16\b\b16\b\b16\b\b16\b\b16\b\b16\b\b16\b\b16\b\b16\b\b16\b\b16\b\b16\b\b16\b\b16\b\b16\b\b16\b\b16\b\b16\b\b16\n",
      "- Resample10: lambda1=0.05, lambda2=0.05 \n",
      "+ Resample11: lambda1=0.05, lambda2=0.05 \n",
      "# nonzero coefficients: 16\b\b16\b\b16\b\b16\b\b16\b\b16\b\b16\b\b16\b\b16\b\b16\b\b16\b\b16\b\b16\b\b16\b\b16\b\b16\b\b16\b\b16\b\b16\b\b16\b\b16\b\b16\b\b16\b\b16\b\b16\b\b16\b\b16\b\b16\b\b16\b\b16\b\b16\b\b16\b\b16\b\b16\b\b16\b\b16\b\b16\b\b16\b\b16\b\b16\b\b16\b\b16\b\b16\b\b16\b\b16\b\b16\b\b16\b\b16\b\b16\b\b16\b\b16\b\b16\b\b16\b\b16\b\b16\b\b16\b\b16\b\b16\b\b16\b\b16\b\b16\b\b16\b\b16\b\b16\b\b16\b\b16\b\b16\b\b16\b\b16\b\b16\b\b16\b\b16\b\b16\b\b16\b\b16\b\b16\b\b16\b\b16\b\b16\b\b15\b\b16\b\b16\b\b16\b\b16\b\b16\b\b16\b\b16\b\b16\b\b16\b\b16\b\b16\b\b16\b\b16\b\b16\b\b16\b\b16\b\b16\b\b16\b\b16\b\b16\b\b16\n",
      "- Resample11: lambda1=0.05, lambda2=0.05 \n",
      "+ Resample12: lambda1=0.05, lambda2=0.05 \n",
      "# nonzero coefficients: 16\b\b16\b\b16\b\b16\b\b16\b\b16\b\b16\b\b16\b\b16\b\b16\b\b16\b\b16\b\b16\b\b16\b\b16\b\b16\b\b16\b\b16\b\b16\b\b16\b\b16\b\b16\b\b16\b\b16\b\b16\b\b16\b\b16\b\b16\b\b16\b\b16\b\b16\b\b16\b\b16\b\b16\b\b16\b\b16\b\b16\b\b16\b\b16\b\b16\b\b16\b\b16\b\b16\b\b16\b\b16\b\b15\b\b16\b\b16\b\b16\b\b16\b\b16\n",
      "- Resample12: lambda1=0.05, lambda2=0.05 \n",
      "+ Resample13: lambda1=0.05, lambda2=0.05 \n",
      "# nonzero coefficients: 16\b\b16\b\b16\b\b16\b\b16\b\b16\b\b16\b\b16\b\b16\b\b16\b\b16\b\b16\b\b16\b\b16\b\b16\b\b16\b\b16\b\b16\b\b16\b\b16\b\b16\b\b16\b\b16\b\b16\b\b16\b\b16\b\b16\b\b16\b\b16\b\b16\b\b16\b\b16\b\b16\b\b16\b\b16\b\b16\b\b16\b\b16\b\b16\b\b16\b\b16\b\b16\b\b16\b\b16\b\b16\b\b16\b\b16\b\b16\b\b15\b\b16\b\b16\b\b16\b\b15\b\b16\b\b16\b\b16\b\b16\b\b16\n",
      "- Resample13: lambda1=0.05, lambda2=0.05 \n",
      "+ Resample14: lambda1=0.05, lambda2=0.05 \n",
      "# nonzero coefficients: 16\b\b16\b\b16\b\b16\b\b16\b\b16\b\b16\b\b16\b\b16\b\b16\b\b16\b\b16\b\b16\b\b16\b\b16\b\b16\b\b16\b\b16\b\b16\b\b16\b\b16\b\b16\b\b16\b\b16\b\b16\b\b16\b\b16\b\b16\b\b16\b\b16\b\b16\b\b16\b\b16\b\b16\b\b15\b\b16\b\b16\b\b16\b\b16\b\b16\b\b16\b\b16\b\b16\b\b16\b\b16\b\b16\b\b16\b\b16\b\b16\b\b16\b\b16\b\b16\b\b16\b\b16\b\b16\b\b16\b\b16\b\b16\b\b16\b\b16\b\b16\b\b16\b\b16\b\b16\b\b16\b\b16\b\b16\b\b16\b\b16\b\b16\b\b16\b\b16\b\b16\b\b16\b\b16\b\b16\b\b16\b\b16\b\b16\b\b16\b\b16\b\b16\b\b16\b\b16\b\b16\b\b16\b\b16\b\b16\b\b16\b\b16\b\b16\b\b16\b\b16\b\b16\b\b16\b\b16\b\b16\b\b16\b\b16\b\b16\b\b16\b\b16\b\b16\b\b16\b\b16\b\b16\b\b16\b\b16\b\b16\b\b16\b\b16\b\b16\b\b16\b\b16\b\b16\b\b16\b\b16\b\b16\b\b16\b\b16\b\b16\b\b16\b\b16\b\b16\b\b16\b\b16\b\b16\b\b16\b\b16\b\b16\b\b16\b\b16\b\b16\b\b16\b\b16\b\b16\b\b16\b\b16\b\b16\b\b16\b\b16\b\b16\b\b16\b\b16\b\b16\b\b16\b\b16\b\b15\b\b16\b\b16\b\b16\b\b16\b\b16\b\b16\b\b16\b\b16\b\b16\b\b16\b\b16\b\b16\b\b16\b\b16\b\b16\b\b16\b\b16\b\b16\b\b16\b\b16\b\b16\b\b16\b\b16\b\b16\b\b16\b\b16\b\b16\b\b16\b\b16\b\b16\b\b16\b\b16\b\b16\b\b16\b\b16\b\b16\b\b16\b\b16\b\b16\b\b16\b\b16\b\b16\b\b16\b\b16\b\b16\b\b16\b\b16\b\b16\b\b16\b\b16\b\b16\b\b16\b\b16\b\b16\b\b16\b\b16\b\b16\b\b16\b\b16\b\b16\b\b16\b\b16\b\b16\b\b16\b\b16\b\b16\b\b16\b\b16\b\b16\b\b16\b\b16\b\b16\b\b16\b\b16\b\b16\b\b16\b\b16\b\b16\b\b16\b\b16\b\b16\b\b16\b\b16\b\b16\b\b16\b\b16\b\b16\b\b16\b\b16\b\b16\b\b16\b\b16\b\b16\b\b16\b\b16\b\b16\b\b16\b\b16\b\b16\b\b16\b\b16\b\b16\b\b16\b\b16\b\b16\b\b16\b\b16\b\b16\b\b16\b\b16\b\b16\b\b16\b\b16\b\b16\b\b16\b\b16\b\b16\b\b16\b\b16\b\b16\b\b16\b\b16\b\b16\b\b16\b\b16\b\b16\b\b16\b\b16\b\b16\b\b16\b\b16\b\b16\b\b16\b\b16\b\b16\b\b16\b\b16\b\b16\b\b16\b\b16\b\b16\b\b16\b\b16\b\b16\b\b16\b\b16\b\b16\b\b16\b\b16\b\b16\b\b16\b\b16\b\b16\b\b16\b\b16\b\b16\b\b16\b\b16\b\b16\b\b16\b\b16\b\b16\b\b16\b\b16\b\b16\b\b16\b\b16\b\b16\b\b16\b\b16\b\b16\b\b16\b\b16\b\b16\b\b16\b\b16\b\b16\b\b16\b\b16\b\b16\b\b16\b\b16\b\b16\b\b16\b\b16\b\b16\b\b16\b\b16\b\b16\b\b16\b\b16\b\b16\b\b16\b\b16\b\b16\b\b16\b\b16\b\b16\b\b16\b\b16\b\b16\b\b16\b\b16\b\b16\b\b16\b\b16\b\b16\b\b16\b\b16\b\b16\b\b16\b\b16\b\b16\b\b16\b\b16\b\b16\b\b16\b\b16\b\b16\b\b16\b\b16\b\b16\b\b16\b\b16\b\b16\b\b16\b\b16\b\b16\b\b16\b\b16\b\b16\b\b16\b\b16\b\b16\b\b16\b\b16\b\b16\b\b16\b\b16\b\b16\b\b16\b\b16\b\b16\b\b16\b\b16\b\b16\b\b16\b\b16\b\b16\b\b16\b\b16\b\b16\b\b16\b\b16\b\b16\b\b16\b\b16\b\b16\b\b16\b\b16\b\b16\b\b16\b\b16\b\b16\b\b16\b\b16\b\b16\b\b16\b\b16\b\b16\b\b16\b\b16\b\b16\b\b16\b\b16\b\b16\b\b16\b\b16\b\b16\b\b16\b\b16\b\b16\b\b16\b\b16\b\b16\b\b16\b\b16\b\b16\b\b16\b\b16\b\b16\b\b16\b\b16\b\b16\b\b16\b\b16\b\b16\b\b16\b\b16\b\b16\b\b16\b\b16\b\b16\b\b16\b\b16\b\b16\b\b16\b\b16\b\b16\b\b16\b\b16\b\b16\b\b16\b\b16\b\b16\b\b16\b\b16\b\b16\b\b16\b\b16\b\b16\b\b16\b\b16\b\b16\b\b16\b\b16\b\b16\b\b16\b\b16\b\b16\b\b16\b\b16\b\b16\b\b16\b\b16\b\b16\b\b16\b\b16\b\b16\b\b16\b\b16\b\b16\b\b16\b\b16\b\b16\b\b16\b\b16\b\b16\b\b16\b\b16\b\b16\b\b16\b\b16\b\b16\b\b16\b\b16\b\b16\b\b16\b\b16\b\b16\b\b16\b\b16\b\b16\b\b16\b\b16\b\b16\b\b16\b\b16\b\b16\b\b16\b\b16\b\b16\b\b16\b\b16\b\b16\b\b16\b\b16\b\b16\b\b16\b\b16\b\b16\b\b16\b\b16\b\b16\b\b16\b\b16\b\b16\b\b16\b\b16\b\b16\b\b16\b\b16\b\b16\b\b16\b\b16\b\b16\b\b16\b\b16\b\b16\b\b16\b\b16\b\b16\b\b16\b\b16\b\b16\b\b16\b\b16\b\b16\b\b16\b\b16\b\b16\b\b16\b\b16\b\b16\b\b16\b\b16\b\b16\b\b16\b\b16\b\b16\b\b16\b\b16\b\b16\n",
      "- Resample14: lambda1=0.05, lambda2=0.05 \n",
      "+ Resample15: lambda1=0.05, lambda2=0.05 \n",
      "# nonzero coefficients: 16\b\b16\b\b16\b\b16\b\b16\b\b16\b\b16\b\b16\b\b16\b\b16\b\b16\b\b16\b\b16\b\b16\b\b16\b\b16\b\b16\b\b16\b\b16\b\b16\b\b16\b\b16\b\b16\b\b16\b\b16\b\b16\b\b16\b\b16\b\b16\b\b16\b\b16\b\b16\b\b16\b\b16\b\b16\b\b16\b\b16\b\b16\b\b16\b\b16\b\b16\b\b16\b\b16\b\b16\b\b16\b\b16\b\b16\b\b16\b\b16\b\b16\b\b16\b\b16\b\b16\b\b16\b\b16\b\b16\b\b16\b\b16\b\b16\b\b16\b\b16\b\b16\b\b16\b\b16\b\b16\b\b16\b\b16\b\b16\b\b16\b\b16\b\b16\b\b16\b\b16\b\b16\b\b16\b\b15\b\b15\b\b15\b\b16\b\b16\b\b16\b\b16\b\b16\b\b16\b\b16\b\b16\b\b16\b\b16\b\b16\b\b16\b\b16\b\b16\b\b16\b\b16\b\b16\b\b16\b\b16\b\b16\b\b16\b\b16\b\b16\b\b16\b\b16\b\b16\b\b16\b\b16\b\b16\b\b16\b\b16\b\b16\b\b16\b\b16\b\b16\b\b16\b\b16\b\b16\b\b16\b\b16\b\b16\b\b16\b\b16\b\b16\b\b16\b\b16\b\b16\b\b16\b\b16\b\b16\b\b16\b\b16\b\b16\b\b16\b\b16\b\b16\b\b16\b\b16\b\b16\b\b16\b\b16\b\b16\b\b16\b\b16\b\b16\b\b16\b\b16\b\b16\b\b16\b\b16\b\b16\b\b16\b\b16\b\b16\b\b16\b\b16\b\b16\b\b16\b\b16\b\b16\b\b16\b\b16\b\b16\b\b16\b\b16\b\b16\b\b16\b\b16\b\b16\b\b16\b\b16\b\b16\b\b16\b\b16\b\b16\b\b16\b\b16\b\b16\b\b16\b\b16\b\b16\b\b16\b\b16\b\b16\b\b16\b\b16\b\b16\b\b16\b\b16\b\b16\b\b16\b\b16\b\b16\b\b16\b\b16\b\b16\b\b16\b\b16\b\b16\b\b16\b\b16\b\b16\b\b16\b\b16\b\b16\b\b16\b\b16\b\b16\b\b16\b\b16\b\b16\b\b16\b\b16\b\b16\b\b16\b\b16\b\b16\b\b16\b\b16\b\b16\b\b16\b\b16\b\b16\b\b16\b\b16\b\b16\b\b16\b\b16\b\b16\b\b16\b\b16\b\b16\b\b16\b\b16\b\b16\b\b16\b\b16\b\b16\b\b16\b\b16\b\b16\b\b16\b\b16\b\b16\b\b16\b\b16\b\b16\b\b16\b\b16\b\b16\b\b16\b\b16\b\b16\b\b16\b\b16\b\b16\b\b16\b\b16\b\b16\b\b16\b\b16\b\b16\b\b16\b\b16\b\b16\b\b16\b\b16\b\b16\b\b16\b\b16\b\b16\b\b16\b\b16\b\b16\b\b16\b\b16\b\b16\b\b16\b\b16\b\b16\b\b16\b\b16\b\b16\b\b16\b\b16\b\b16\b\b16\b\b16\b\b16\b\b16\b\b16\b\b16\b\b16\b\b16\b\b16\b\b16\b\b16\b\b16\b\b16\b\b16\b\b16\b\b16\b\b16\b\b16\b\b16\b\b16\b\b16\b\b16\b\b16\b\b16\b\b16\b\b16\b\b16\b\b16\b\b16\b\b16\b\b16\b\b16\b\b16\b\b16\b\b16\b\b16\b\b16\b\b16\b\b16\b\b16\b\b16\b\b16\b\b16\b\b16\b\b16\b\b16\b\b16\b\b16\b\b16\b\b16\b\b16\b\b16\b\b16\b\b16\b\b16\b\b16\b\b16\b\b16\b\b16\b\b16\b\b16\b\b16\b\b16\b\b16\b\b16\b\b16\b\b16\b\b16\b\b16\b\b16\b\b16\b\b16\b\b16\b\b16\b\b16\b\b16\b\b16\b\b16\b\b16\b\b16\b\b16\b\b16\b\b16\b\b16\b\b16\b\b16\b\b16\b\b16\b\b16\b\b16\b\b16\b\b16\b\b16\b\b16\b\b16\b\b16\b\b16\b\b16\b\b16\b\b16\b\b16\b\b16\b\b16\b\b16\b\b16\b\b16\b\b16\b\b16\b\b16\b\b16\b\b16\b\b16\b\b16\b\b16\b\b16\b\b16\b\b16\b\b16\b\b16\b\b16\b\b16\b\b16\b\b16\b\b16\b\b16\b\b16\b\b16\b\b16\b\b16\b\b16\b\b16\b\b16\b\b16\b\b16\b\b16\b\b16\b\b16\b\b16\b\b16\b\b16\b\b16\b\b16\b\b16\b\b16\b\b16\b\b16\b\b16\b\b16\b\b16\b\b16\b\b16\b\b16\b\b16\b\b16\b\b16\b\b16\b\b16\b\b16\b\b16\b\b16\b\b16\b\b16\b\b16\b\b16\b\b16\b\b16\b\b16\b\b16\b\b16\b\b16\b\b16\b\b16\b\b16\b\b16\b\b16\b\b16\b\b16\b\b16\b\b16\b\b16\b\b16\b\b16\b\b16\b\b16\b\b16\b\b16\b\b16\b\b16\b\b16\b\b16\b\b16\b\b16\b\b16\b\b16\b\b16\b\b16\b\b16\b\b16\b\b16\b\b16\b\b16\b\b16\b\b16\b\b16\b\b16\b\b16\b\b16\b\b16\b\b16\b\b16\b\b16\b\b16\b\b16\b\b16\b\b16\b\b16\b\b16\b\b16\b\b16\b\b16\b\b16\b\b16\b\b16\b\b16\b\b16\b\b16\b\b16\b\b16\b\b16\b\b16\b\b16\b\b16\b\b16\b\b16\b\b16\b\b16\b\b16\b\b16\b\b16\b\b16\b\b16\b\b16\b\b16\b\b16\b\b16\b\b16\b\b16\b\b16\b\b16\b\b16\b\b16\b\b16\b\b16\b\b16\b\b16\b\b16\b\b16\b\b16\b\b16\b\b16\b\b16\b\b16\b\b16\b\b16\b\b16\b\b16\b\b16\b\b16\b\b16\b\b16\b\b16\b\b16\b\b16\b\b16\b\b16\b\b16\b\b16\b\b16\b\b16\b\b16\b\b16\b\b16\b\b16\b\b16\b\b16\b\b16\b\b16\b\b16\b\b16\b\b16\b\b16\b\b16\b\b16\b\b16\b\b16\b\b16\b\b16\b\b16\b\b16\b\b16\b\b16\b\b16\b\b16\b\b16\b\b16\b\b16\b\b16\b\b16\b\b16\b\b16\b\b16\b\b16\b\b16\b\b16\b\b16\b\b16\b\b16\b\b16\b\b16\b\b16\b\b16\b\b16\b\b16\b\b16\b\b16\b\b16\b\b16\b\b16\b\b16\b\b16\b\b16\b\b16\b\b16\b\b16\b\b16\b\b16\b\b16\b\b16\b\b16\b\b16\b\b16\b\b16\b\b16\b\b16\b\b16\b\b16\b\b16\b\b16\b\b16\b\b16\b\b16\b\b16\b\b16\b\b16\b\b16\b\b16\b\b16\b\b16\b\b16\b\b16\b\b16\b\b16\b\b16\b\b16\b\b16\b\b16\b\b16\b\b16\b\b16\b\b16\b\b16\b\b16\b\b16\b\b16\b\b16\b\b16\b\b16\b\b16\b\b16\b\b16\b\b16\b\b16\b\b16\b\b16\b\b16\b\b16\b\b16\b\b16\b\b16\b\b16\b\b16\b\b16\b\b16\b\b16\b\b16\b\b16\b\b16\b\b16\b\b16\b\b16\b\b16\b\b16\b\b16\b\b16\b\b16\b\b16\b\b16\b\b16\b\b16\b\b16\b\b16\b\b16\b\b16\b\b16\b\b16\b\b16\b\b16\b\b16\b\b16\b\b16\b\b16\b\b16\b\b16\b\b16\b\b16\b\b16\b\b16\b\b16\b\b16\b\b16\b\b16\b\b16\b\b16\b\b16\b\b16\b\b16\b\b16\b\b16\b\b16\b\b16\b\b16\b\b16\b\b16\b\b16\b\b16\b\b16\b\b16\b\b16\b\b16\b\b16\b\b16\b\b16\b\b16\b\b16\b\b16\b\b16\b\b16\b\b16\b\b16\b\b16\b\b16\b\b16\b\b16\b\b16\b\b16\b\b16\b\b16\b\b16\b\b16\b\b16\b\b16\b\b16\b\b16\b\b16\b\b16\b\b16\b\b16\b\b16\b\b16\b\b16\b\b16\b\b16\b\b16\b\b16\b\b16\b\b16\b\b16\b\b16\b\b16\b\b16\b\b16\b\b16\b\b16\b\b16\b\b16\b\b16\b\b16\b\b16\b\b16\b\b16\b\b16\b\b16\b\b16\b\b16\b\b16\b\b16\b\b16\b\b16\b\b16\b\b16\b\b16\b\b16\b\b16\b\b16\b\b16\b\b16\b\b16\b\b16\b\b16\b\b16\b\b16\b\b16\b\b16\b\b16\b\b16\b\b16\b\b16\b\b16\b\b16\b\b16\b\b16\b\b16\b\b16\b\b16\b\b16\b\b16\b\b16\b\b16\b\b16\b\b16\b\b16\b\b16\b\b16\b\b16\b\b16\b\b16\b\b16\b\b16\b\b16\b\b16\b\b16\b\b16\b\b16\b\b16\b\b16\b\b16\b\b16\b\b16\b\b16\b\b16\b\b16\b\b16\b\b16\b\b16\b\b16\b\b16\b\b16\b\b16\b\b16\b\b16\b\b16\b\b16\b\b16\b\b16\b\b16\b\b16\b\b16\b\b16\b\b16\b\b16\b\b16\b\b16\b\b16\b\b16\b\b16\b\b16\b\b16\b\b16\b\b16\b\b16\b\b16\b\b16\b\b16\b\b16\b\b16\b\b16\b\b16\b\b16\b\b16\b\b16\b\b16\b\b16\b\b16\b\b16\b\b16\b\b16\b\b16\b\b16\b\b16\b\b16\b\b16\b\b16\b\b16\b\b16\b\b16\b\b16\b\b16\b\b16\b\b16\b\b16\b\b16\b\b16\b\b16\b\b16\b\b16\b\b16\b\b16\b\b16\b\b16\b\b16\b\b16\b\b16\b\b16\b\b16\b\b16\b\b16\b\b16\b\b16\b\b16\b\b16\b\b16\b\b16\b\b16\b\b16\b\b16\b\b16\b\b16\b\b16\b\b16\b\b16\b\b16\b\b16\b\b16\b\b16\b\b16\b\b16\b\b16\b\b16\b\b16\b\b16\b\b16\b\b16\b\b16\b\b16\b\b16\b\b16\b\b16\b\b16\b\b16\b\b16\b\b16\b\b16\b\b16\b\b16\b\b16\b\b16\b\b16\b\b16\b\b16\b\b16\b\b16\b\b16\b\b16\b\b16\b\b16\b\b16\b\b16\b\b16\b\b16\b\b16\b\b16\b\b16\b\b16\b\b16\b\b16\b\b16\b\b16\b\b16\b\b16\b\b16\b\b16\b\b16\b\b16\b\b16\b\b16\b\b16\b\b16\b\b16\b\b16\b\b16\b\b16\b\b16\b\b16\b\b16\b\b16\b\b16\b\b16\b\b16\b\b16\b\b16\b\b16\b\b16\b\b16\b\b16\b\b16\b\b16\b\b16\b\b16\b\b16\b\b16\b\b16\b\b16\b\b16\b\b16\b\b16\b\b16\b\b16\b\b16\b\b16\b\b16\b\b16\b\b16\b\b16\b\b16\b\b16\b\b16\b\b16\b\b16\b\b16\b\b16\b\b16\b\b16\b\b16\b\b16\b\b16\b\b16\b\b16\b\b16\b\b16\b\b16\b\b16\b\b16\b\b16\b\b16\b\b16\b\b16\b\b16\b\b16\b\b16\b\b16\b\b16\b\b16\b\b16\b\b16\b\b16\b\b16\b\b16\b\b16\b\b16\b\b16\b\b16\b\b16\b\b16\b\b16\b\b16\b\b16\b\b16\b\b16\b\b16\b\b16\b\b16\b\b16\b\b16\b\b16\b\b16\b\b16\b\b16\b\b16\b\b16\b\b16\b\b16\b\b16\b\b16\b\b16\b\b16\b\b16\b\b16\b\b16\b\b16\b\b16\b\b16\b\b16\b\b16\b\b16\b\b16\b\b16\b\b16\b\b16\b\b16\b\b16\b\b16\b\b16\b\b16\b\b16\b\b16\b\b16\b\b16\b\b16\b\b16\b\b16\b\b16\b\b16\b\b16\b\b16\b\b16\b\b16\b\b16\b\b16\b\b16\b\b16\b\b16\b\b16\b\b16\b\b16\b\b16\b\b16\b\b16\b\b16\b\b16\b\b16\b\b16\b\b16\b\b16\b\b16\b\b16\b\b16\b\b16\b\b16\b\b16\b\b16\b\b16\b\b16\b\b16\b\b16\b\b16\b\b16\b\b16\b\b16\b\b16\b\b16\b\b16\b\b16\b\b16\b\b16\b\b16\b\b16\b\b16\b\b16\b\b16\b\b16\b\b16\b\b16\b\b16\b\b16\b\b16\b\b16\b\b16\b\b16\b\b16\b\b16\b\b16\b\b16\b\b16\b\b16\b\b16\b\b16\b\b16\b\b16\b\b16\b\b16\b\b16\b\b16\b\b16\b\b16\b\b16\b\b16\b\b16\b\b16\b\b16\b\b16\b\b16\b\b16\b\b16\b\b16\b\b16\b\b16\b\b16\b\b16\b\b16\b\b16\b\b16\b\b16\b\b16\b\b16\b\b16\b\b16\b\b16\b\b16\b\b16\b\b16\b\b16\b\b16\b\b16\b\b16\b\b16\b\b16\b\b16\b\b16\b\b16\b\b16\b\b16\b\b16\b\b16\b\b16\b\b16\b\b16\b\b16\b\b16\b\b16\b\b16\b\b16\b\b16\b\b16\b\b16\b\b16\b\b16\b\b16\b\b16\b\b16\b\b16\b\b16\b\b16\b\b16\b\b16\b\b16\b\b16\b\b16\b\b16\b\b16\b\b16\b\b16\b\b16\b\b16\b\b16\b\b16\b\b16\b\b16\b\b16\b\b16\b\b16\b\b16\b\b16\b\b16\b\b16\b\b16\b\b16\b\b16\b\b16\b\b16\b\b16\b\b16\b\b16\b\b16\b\b16\b\b16\b\b16\b\b16\b\b16\b\b16\b\b16\b\b16\b\b16\b\b16\b\b16\b\b16\b\b16\b\b16\b\b16\b\b16\b\b16\b\b16\b\b16\b\b16\b\b16\b\b16\b\b16\b\b16\b\b16\b\b16\b\b16\b\b16\b\b16\b\b16\b\b16\b\b16\b\b16\b\b16\b\b16\b\b16\b\b16\b\b16\b\b16\b\b16\b\b16\b\b16\b\b16\b\b16\b\b16\b\b16\b\b16\b\b16\b\b16\b\b16\b\b16\b\b16\b\b16\b\b16\b\b16\b\b16\b\b16\b\b16\b\b16\b\b16\b\b16\b\b16\b\b16\b\b16\b\b16\b\b16\b\b16\b\b16\b\b16\b\b16\b\b16\b\b16\b\b16\b\b16\b\b16\b\b16\b\b16\b\b16\b\b16\b\b16\b\b16\b\b16\b\b16\b\b16\b\b16\b\b16\b\b16\b\b16\b\b16\b\b16\b\b16\b\b16\b\b16\b\b16\b\b16\b\b16\b\b16\b\b16\b\b16\b\b16\b\b16\b\b16\b\b16\b\b16\b\b16\b\b16\b\b16\b\b16\b\b16\b\b16\b\b16\b\b16\b\b16\b\b16\b\b16\b\b16\b\b16\b\b16\b\b16\b\b16\b\b16\b\b16\b\b16\b\b16\b\b16\b\b16\b\b16\b\b16\b\b16\b\b16\b\b16\b\b16\b\b16\b\b16\b\b16\b\b16\b\b16\b\b16\b\b16\b\b16\b\b16\b\b16\b\b16\b\b16\b\b16\b\b16\b\b16\b\b16\b\b16\b\b16\b\b16\b\b16\b\b16\b\b16\b\b16\b\b16\b\b16\b\b16\b\b16\b\b16\b\b16\b\b16\b\b16\b\b16\b\b16\b\b16\b\b16\b\b16\b\b16\b\b16\b\b16\b\b16\b\b16\b\b16\b\b16\b\b16\b\b16\b\b16\b\b16\b\b16\b\b16\b\b16\b\b16\b\b16\b\b16\b\b16\b\b16\b\b16\b\b16\b\b16\b\b16\b\b16\b\b16\b\b16\b\b16\b\b16\b\b16\b\b16\n",
      "- Resample15: lambda1=0.05, lambda2=0.05 \n",
      "+ Resample16: lambda1=0.05, lambda2=0.05 \n",
      "# nonzero coefficients: 16\b\b16\b\b16\b\b16\b\b16\b\b16\b\b16\b\b16\b\b16\b\b16\b\b16\b\b16\b\b16\b\b16\b\b16\b\b16\b\b16\b\b16\b\b16\b\b16\b\b16\b\b16\b\b16\b\b16\b\b16\b\b16\b\b16\b\b16\b\b16\b\b16\b\b16\b\b16\b\b16\b\b16\b\b16\b\b16\b\b16\b\b16\b\b16\b\b16\b\b16\b\b16\b\b16\b\b16\b\b16\b\b16\b\b16\b\b16\b\b16\b\b16\b\b16\b\b16\b\b16\b\b16\b\b16\b\b16\b\b16\b\b16\b\b16\b\b16\b\b16\b\b16\b\b16\b\b16\b\b16\b\b16\b\b16\b\b16\b\b16\b\b16\b\b16\b\b16\b\b16\b\b16\b\b16\b\b16\b\b16\b\b16\b\b16\b\b16\b\b16\b\b16\b\b16\b\b16\b\b16\b\b16\b\b16\b\b16\b\b16\b\b16\b\b16\b\b16\b\b16\b\b16\b\b15\b\b16\b\b16\b\b16\b\b16\b\b16\b\b16\b\b16\b\b16\b\b16\b\b16\b\b16\b\b16\b\b16\b\b16\b\b16\b\b16\b\b16\b\b16\b\b16\b\b16\b\b16\b\b16\b\b16\n",
      "- Resample16: lambda1=0.05, lambda2=0.05 \n",
      "+ Resample17: lambda1=0.05, lambda2=0.05 \n",
      "# nonzero coefficients: 16\b\b16\b\b16\b\b16\b\b16\b\b16\b\b16\b\b16\b\b16\b\b16\b\b16\b\b16\b\b16\b\b16\b\b16\b\b16\b\b16\b\b16\b\b16\b\b16\b\b16\b\b16\b\b16\b\b16\b\b16\b\b16\b\b16\b\b16\b\b16\b\b16\b\b16\b\b16\b\b16\b\b16\b\b16\b\b16\b\b16\b\b16\b\b16\b\b16\b\b16\b\b16\b\b16\b\b16\b\b16\b\b16\b\b16\b\b16\b\b16\b\b16\b\b16\n",
      "- Resample17: lambda1=0.05, lambda2=0.05 \n",
      "+ Resample18: lambda1=0.05, lambda2=0.05 \n",
      "# nonzero coefficients: 16\b\b16\b\b16\b\b16\b\b16\b\b16\b\b16\b\b16\b\b16\b\b16\b\b16\b\b16\b\b16\b\b16\b\b16\b\b16\b\b16\b\b16\b\b16\b\b16\b\b16\b\b16\b\b16\b\b16\b\b16\b\b16\b\b16\b\b16\b\b16\b\b16\b\b16\b\b16\b\b16\b\b16\b\b16\b\b16\b\b16\b\b16\b\b16\b\b16\b\b16\b\b16\b\b16\b\b16\b\b16\b\b16\b\b16\b\b16\b\b16\b\b16\b\b16\b\b16\b\b16\b\b16\b\b16\b\b16\b\b16\b\b16\b\b16\b\b16\b\b16\b\b16\b\b16\b\b16\b\b16\b\b16\b\b16\b\b16\b\b16\b\b16\b\b16\b\b16\b\b16\b\b16\b\b16\b\b16\b\b16\b\b16\b\b16\b\b16\b\b16\b\b16\b\b16\b\b16\b\b16\b\b16\b\b16\b\b16\b\b16\b\b16\b\b16\b\b16\b\b16\b\b16\b\b16\b\b16\b\b16\b\b16\b\b16\b\b16\b\b16\b\b16\b\b16\b\b16\b\b16\b\b16\b\b16\b\b16\b\b16\b\b16\b\b16\b\b16\b\b16\b\b16\b\b16\b\b16\b\b16\b\b16\b\b16\b\b16\b\b16\b\b16\b\b16\b\b16\b\b16\b\b16\b\b16\b\b16\b\b16\b\b16\b\b16\b\b16\b\b16\b\b16\b\b16\b\b16\b\b16\b\b16\b\b16\b\b16\b\b16\b\b16\b\b16\b\b16\b\b16\b\b16\b\b16\b\b16\b\b16\b\b16\b\b16\b\b16\b\b16\b\b16\b\b16\b\b16\b\b16\b\b16\b\b16\b\b16\b\b16\b\b16\b\b16\b\b16\b\b16\b\b16\b\b16\b\b16\b\b15\b\b15\b\b16\b\b16\b\b15\b\b16\b\b16\b\b16\b\b16\b\b16\n",
      "- Resample18: lambda1=0.05, lambda2=0.05 \n",
      "+ Resample19: lambda1=0.05, lambda2=0.05 \n",
      "# nonzero coefficients: 16\b\b16\b\b16\b\b16\b\b16\b\b16\b\b16\b\b16\b\b16\b\b16\b\b16\b\b16\b\b16\b\b16\b\b16\b\b16\b\b16\b\b16\b\b16\b\b16\b\b16\b\b16\b\b16\b\b16\b\b15\b\b16\b\b16\b\b16\b\b16\b\b16\b\b16\b\b16\b\b16\b\b16\b\b16\b\b16\b\b16\b\b16\b\b16\b\b16\b\b16\b\b16\b\b16\b\b16\b\b16\b\b16\b\b16\b\b16\b\b16\b\b16\b\b16\b\b16\b\b16\b\b16\b\b16\b\b16\b\b16\b\b16\b\b16\b\b16\b\b16\b\b16\b\b16\b\b16\b\b16\b\b16\b\b16\b\b16\b\b16\b\b16\b\b16\b\b16\b\b16\b\b16\b\b16\b\b16\b\b16\b\b16\b\b16\b\b16\b\b16\b\b16\b\b16\b\b16\b\b16\b\b16\b\b16\b\b16\b\b16\b\b16\b\b16\b\b16\b\b16\b\b16\b\b16\b\b16\b\b16\b\b16\b\b16\b\b16\b\b16\b\b16\b\b16\b\b16\b\b16\b\b16\b\b16\b\b16\b\b16\b\b16\b\b16\b\b16\b\b16\b\b16\b\b16\b\b16\b\b16\b\b16\b\b16\b\b16\b\b16\b\b16\b\b16\b\b16\b\b16\b\b16\b\b16\b\b16\b\b16\b\b16\b\b16\b\b16\b\b16\b\b16\b\b16\b\b16\b\b16\b\b16\b\b16\b\b16\b\b16\b\b16\b\b16\b\b16\b\b16\b\b16\b\b16\b\b16\b\b16\b\b16\b\b16\b\b16\b\b16\b\b16\b\b16\b\b16\b\b16\b\b16\b\b16\b\b16\b\b16\b\b16\b\b16\b\b16\b\b16\b\b16\b\b16\b\b16\b\b16\b\b16\b\b16\b\b16\b\b16\b\b16\b\b16\b\b16\b\b16\b\b16\b\b16\b\b16\b\b16\b\b16\b\b16\b\b16\b\b16\b\b16\b\b16\b\b16\b\b16\b\b16\b\b16\b\b16\b\b16\b\b16\b\b16\b\b16\b\b16\b\b16\b\b16\b\b16\b\b16\b\b16\b\b16\b\b16\b\b16\b\b16\b\b16\b\b16\b\b16\b\b16\b\b16\b\b16\b\b16\b\b16\b\b16\b\b16\b\b16\b\b16\b\b16\b\b16\b\b16\b\b16\b\b16\b\b16\b\b16\b\b16\b\b16\b\b16\b\b16\b\b16\b\b16\b\b16\b\b16\b\b16\b\b16\b\b16\b\b16\b\b16\b\b16\b\b16\b\b16\b\b16\b\b16\b\b16\b\b16\b\b16\b\b16\b\b16\b\b16\b\b16\b\b16\b\b16\n",
      "- Resample19: lambda1=0.05, lambda2=0.05 \n",
      "+ Resample20: lambda1=0.05, lambda2=0.05 \n",
      "# nonzero coefficients: 16\b\b16\b\b16\b\b16\b\b16\b\b16\b\b16\b\b16\b\b16\b\b16\b\b16\b\b16\b\b16\b\b16\b\b16\b\b16\b\b16\b\b16\b\b16\b\b16\b\b16\b\b16\b\b16\b\b16\b\b16\b\b16\b\b16\b\b16\b\b16\b\b16\b\b16\b\b16\b\b16\b\b16\b\b16\b\b16\b\b16\b\b16\b\b16\b\b16\b\b16\b\b16\b\b16\b\b16\b\b16\b\b16\b\b16\b\b16\b\b16\b\b16\b\b16\b\b16\b\b16\b\b16\b\b16\b\b16\b\b16\b\b16\b\b16\b\b16\b\b16\b\b16\b\b16\b\b16\b\b16\b\b16\b\b16\b\b16\b\b16\b\b16\b\b16\b\b16\b\b16\b\b16\b\b16\b\b16\b\b16\b\b16\b\b16\b\b16\b\b16\b\b16\b\b16\b\b16\b\b16\b\b16\b\b16\b\b16\b\b16\b\b16\b\b16\b\b16\b\b16\b\b16\b\b16\b\b16\b\b16\b\b16\b\b16\b\b16\b\b16\b\b16\b\b16\b\b16\b\b16\b\b16\b\b16\b\b16\b\b16\b\b16\b\b16\b\b16\b\b16\b\b16\b\b16\b\b16\b\b16\b\b16\b\b16\b\b16\b\b16\b\b16\b\b16\b\b16\b\b16\b\b16\b\b16\b\b16\b\b16\b\b16\b\b16\b\b16\b\b16\b\b16\b\b16\b\b16\b\b16\b\b16\b\b16\b\b16\b\b16\b\b16\b\b16\b\b16\b\b16\b\b16\b\b16\b\b16\b\b16\b\b16\b\b16\b\b16\b\b16\b\b16\b\b16\b\b16\b\b16\b\b16\b\b16\b\b16\b\b16\b\b16\b\b16\b\b16\b\b16\b\b16\b\b16\b\b16\b\b16\b\b16\b\b16\b\b16\b\b16\b\b16\b\b16\b\b16\b\b16\b\b16\b\b16\b\b16\b\b16\b\b16\b\b16\b\b16\b\b16\b\b16\b\b16\b\b16\b\b16\b\b16\b\b16\b\b16\b\b16\b\b16\b\b16\b\b16\b\b16\b\b16\b\b16\b\b16\b\b16\b\b16\b\b16\b\b16\b\b16\b\b16\b\b16\b\b16\b\b16\b\b16\b\b16\b\b16\b\b16\b\b16\b\b16\b\b16\b\b16\b\b16\b\b16\b\b16\b\b16\b\b16\b\b16\b\b16\b\b16\b\b16\b\b16\b\b16\b\b16\b\b16\b\b16\b\b16\b\b16\b\b16\b\b16\b\b16\b\b16\b\b16\b\b16\b\b16\b\b16\b\b16\b\b16\b\b16\b\b16\b\b16\b\b16\b\b16\b\b16\b\b16\b\b16\b\b16\b\b16\b\b16\b\b16\b\b16\b\b16\b\b16\b\b16\b\b16\b\b16\b\b16\b\b16\b\b16\b\b16\b\b16\b\b16\b\b16\b\b16\b\b16\b\b16\b\b16\b\b16\b\b16\b\b16\b\b16\b\b16\b\b16\b\b16\b\b16\b\b16\b\b16\b\b16\b\b16\b\b16\b\b16\b\b16\b\b16\b\b16\b\b16\b\b16\b\b16\b\b16\b\b16\b\b16\b\b16\b\b16\b\b16\b\b16\b\b16\b\b16\b\b16\b\b16\b\b16\b\b16\b\b16\b\b16\b\b16\b\b16\b\b16\b\b16\b\b16\b\b16\b\b16\b\b16\b\b16\b\b16\b\b16\b\b16\b\b16\b\b16\b\b16\b\b16\b\b16\b\b16\b\b16\b\b16\b\b16\b\b16\b\b16\b\b16\b\b16\b\b16\b\b16\b\b16\b\b16\b\b16\b\b16\b\b16\b\b16\b\b16\b\b16\b\b16\b\b16\b\b16\b\b16\b\b16\b\b16\b\b16\b\b16\b\b16\b\b16\b\b16\b\b16\b\b16\b\b16\b\b16\b\b16\b\b16\b\b16\b\b16\b\b16\b\b16\b\b16\b\b16\b\b16\b\b16\b\b16\b\b16\b\b16\b\b16\b\b16\b\b15\b\b15\b\b15\b\b16\b\b16\b\b16\b\b16\b\b16\b\b16\b\b16\b\b16\b\b16\b\b16\b\b16\b\b16\b\b16\b\b16\b\b16\b\b16\b\b16\b\b16\b\b16\b\b16\b\b16\b\b16\b\b16\b\b16\b\b16\b\b16\b\b16\b\b16\b\b16\b\b16\b\b16\b\b16\b\b16\b\b16\b\b16\b\b16\b\b16\b\b16\b\b16\b\b16\b\b16\b\b16\b\b16\b\b16\b\b16\b\b16\b\b16\b\b16\b\b16\b\b16\b\b16\b\b16\b\b16\b\b16\b\b16\b\b16\b\b16\b\b16\b\b16\b\b16\b\b16\b\b16\b\b16\b\b16\b\b16\b\b16\b\b16\b\b16\b\b16\b\b16\b\b16\b\b16\b\b16\b\b16\b\b16\b\b16\b\b16\b\b16\b\b16\b\b16\b\b16\b\b16\b\b16\b\b16\b\b16\b\b16\b\b16\b\b16\b\b16\b\b16\b\b16\b\b16\b\b16\b\b16\b\b16\b\b16\b\b16\b\b16\b\b16\b\b16\b\b16\b\b16\b\b16\b\b16\b\b16\b\b16\b\b16\b\b16\b\b16\b\b16\b\b16\b\b16\b\b16\b\b16\b\b16\b\b16\b\b16\b\b16\b\b16\b\b16\b\b16\b\b16\b\b16\b\b16\b\b16\b\b16\b\b16\b\b16\b\b16\b\b16\b\b16\b\b16\b\b16\b\b16\b\b16\b\b16\b\b16\b\b16\b\b16\b\b16\b\b16\b\b16\b\b16\b\b16\b\b16\b\b16\b\b16\b\b16\b\b16\b\b16\b\b16\b\b16\b\b16\b\b16\b\b16\b\b16\b\b16\b\b16\b\b16\b\b16\b\b16\b\b16\b\b16\b\b16\b\b16\b\b16\b\b16\b\b16\b\b16\b\b16\b\b16\b\b16\b\b16\b\b16\b\b16\b\b16\b\b16\b\b16\b\b16\b\b16\b\b16\b\b16\b\b16\b\b16\b\b16\b\b16\b\b16\b\b16\b\b16\b\b16\b\b16\b\b16\b\b16\b\b16\b\b16\b\b16\b\b16\b\b16\b\b16\b\b16\b\b16\b\b16\b\b16\b\b16\b\b16\b\b16\b\b16\b\b16\b\b16\b\b16\b\b16\b\b16\b\b16\b\b16\b\b16\b\b16\b\b16\b\b16\b\b16\b\b16\b\b16\b\b16\b\b16\b\b16\b\b16\b\b16\b\b16\b\b16\b\b16\b\b16\b\b16\b\b16\b\b16\b\b16\b\b16\b\b16\b\b16\b\b16\b\b16\b\b16\b\b16\b\b16\b\b16\b\b16\b\b16\b\b16\b\b16\b\b16\b\b16\b\b16\b\b16\b\b16\b\b16\b\b16\b\b16\b\b16\b\b16\b\b16\b\b16\b\b16\b\b16\b\b16\b\b16\b\b16\b\b16\b\b16\b\b16\b\b16\b\b16\b\b16\b\b16\b\b16\b\b16\b\b16\b\b16\b\b16\b\b16\b\b16\b\b16\b\b16\b\b16\b\b16\b\b16\b\b16\b\b16\b\b16\b\b16\b\b16\b\b16\b\b16\b\b16\b\b16\b\b16\b\b16\b\b16\b\b16\b\b16\b\b16\b\b16\b\b16\b\b16\b\b16\b\b16\b\b16\b\b16\b\b16\b\b16\b\b16\b\b16\b\b16\b\b16\b\b16\b\b16\b\b16\b\b16\b\b16\b\b16\b\b16\b\b16\b\b16\b\b16\b\b16\b\b16\b\b16\b\b16\b\b16\b\b16\b\b16\b\b16\b\b16\b\b16\b\b16\b\b16\b\b16\b\b16\b\b16\b\b16\b\b16\b\b16\b\b16\b\b16\b\b16\b\b16\b\b16\b\b16\b\b16\b\b16\b\b16\b\b16\b\b16\b\b16\b\b16\b\b16\b\b16\b\b16\b\b16\b\b16\b\b16\b\b16\b\b16\b\b16\b\b16\b\b16\b\b16\b\b16\b\b16\b\b16\b\b16\b\b16\b\b16\b\b16\b\b16\b\b16\b\b16\b\b16\b\b16\b\b16\b\b16\b\b16\b\b16\b\b16\b\b16\b\b16\b\b16\b\b16\b\b16\b\b16\b\b16\b\b16\b\b16\b\b16\b\b16\b\b16\b\b16\b\b16\b\b16\b\b16\b\b16\b\b16\b\b16\b\b16\b\b16\b\b16\b\b16\b\b16\b\b16\b\b16\b\b16\b\b16\b\b16\b\b16\b\b16\b\b16\b\b16\b\b16\b\b16\b\b16\b\b16\b\b16\b\b16\b\b16\b\b16\b\b16\b\b16\b\b16\b\b16\b\b16\b\b16\b\b16\b\b16\b\b16\b\b16\b\b16\b\b16\b\b16\b\b16\b\b16\b\b16\b\b16\b\b16\b\b16\b\b16\b\b16\b\b16\b\b16\b\b16\b\b16\b\b16\b\b16\b\b16\b\b16\b\b16\b\b16\b\b16\b\b16\b\b16\b\b16\b\b16\b\b16\b\b16\b\b16\b\b16\b\b16\b\b16\b\b16\b\b16\b\b16\b\b16\b\b16\b\b16\b\b16\b\b16\b\b16\b\b16\b\b16\b\b16\b\b16\b\b16\b\b16\b\b16\b\b16\b\b16\b\b16\b\b16\b\b16\b\b16\b\b16\b\b16\b\b16\b\b16\b\b16\b\b16\b\b16\b\b16\b\b16\b\b16\b\b16\b\b16\b\b16\b\b16\b\b16\b\b16\b\b16\b\b16\b\b16\b\b16\b\b16\b\b16\b\b16\b\b16\b\b16\b\b16\b\b16\b\b16\b\b16\b\b16\b\b16\b\b16\b\b16\b\b16\b\b16\b\b16\b\b16\b\b16\b\b16\b\b16\b\b16\b\b16\b\b16\b\b16\b\b16\b\b16\b\b16\b\b16\b\b16\b\b16\b\b16\b\b16\b\b16\b\b16\b\b16\b\b16\b\b16\b\b16\b\b16\b\b16\b\b16\b\b16\b\b16\b\b16\b\b16\b\b16\b\b16\b\b16\b\b16\b\b16\b\b16\b\b16\b\b16\b\b16\b\b16\b\b16\b\b16\b\b16\b\b16\b\b16\b\b16\b\b16\b\b16\b\b16\b\b16\b\b16\b\b16\b\b16\b\b16\b\b16\b\b16\b\b16\b\b16\b\b16\b\b16\b\b16\b\b16\b\b16\b\b16\b\b16\b\b16\b\b16\b\b16\b\b16\b\b16\b\b16\b\b16\b\b16\b\b16\b\b16\b\b16\b\b16\b\b16\b\b16\b\b16\b\b16\b\b16\b\b16\b\b16\b\b16\b\b16\b\b16\b\b16\b\b16\b\b16\b\b16\b\b16\b\b16\b\b16\b\b16\b\b16\b\b16\b\b16\b\b16\b\b16\b\b16\b\b16\b\b16\b\b16\b\b16\b\b16\b\b16\b\b16\b\b16\b\b16\b\b16\b\b16\b\b16\b\b16\b\b16\b\b16\b\b16\b\b16\b\b16\b\b16\b\b16\b\b16\b\b16\b\b16\b\b16\b\b16\b\b16\b\b16\b\b16\b\b16\b\b16\b\b16\b\b16\b\b16\b\b16\b\b16\b\b16\b\b16\b\b16\b\b16\b\b16\b\b16\b\b16\b\b16\b\b16\b\b16\b\b16\b\b16\b\b16\b\b16\b\b16\b\b16\b\b16\b\b16\b\b16\b\b16\b\b16\b\b16\b\b16\b\b16\b\b16\b\b16\b\b16\b\b16\b\b16\b\b16\b\b16\b\b16\b\b16\b\b16\b\b16\b\b16\b\b16\b\b16\b\b16\b\b16\b\b16\b\b16\b\b16\b\b16\b\b16\b\b16\b\b16\b\b16\b\b16\b\b16\b\b16\b\b16\b\b16\b\b16\b\b16\b\b16\b\b16\b\b16\b\b16\b\b16\b\b16\b\b16\b\b16\b\b16\b\b16\b\b16\b\b16\b\b16\b\b16\b\b16\b\b16\b\b16\b\b16\b\b16\b\b16\b\b16\b\b16\b\b16\b\b16\b\b16\b\b16\b\b16\b\b16\b\b16\b\b16\b\b16\b\b16\b\b16\b\b16\b\b16\b\b16\b\b16\b\b16\b\b16\b\b16\b\b16\b\b16\b\b16\b\b16\b\b16\b\b16\b\b16\b\b16\b\b16\b\b16\b\b16\b\b16\b\b16\b\b16\b\b16\b\b16\b\b16\b\b16\b\b16\b\b16\b\b16\b\b16\b\b16\b\b16\b\b16\b\b16\b\b16\b\b16\b\b16\b\b16\b\b16\b\b16\b\b16\b\b16\b\b16\b\b16\b\b16\b\b16\b\b16\b\b16\b\b16\b\b16\b\b16\b\b16\b\b16\b\b16\b\b16\b\b16\b\b16\b\b16\b\b16\b\b16\b\b16\b\b16\b\b16\b\b16\b\b16\b\b16\b\b16\b\b16\b\b16\b\b16\b\b16\b\b16\b\b16\b\b16\b\b16\b\b16\b\b16\b\b16\b\b16\b\b16\b\b16\b\b16\b\b16\b\b16\b\b16\b\b16\b\b16\b\b16\b\b16\b\b16\b\b16\b\b16\b\b16\b\b16\b\b16\b\b16\b\b16\b\b16\b\b16\b\b16\b\b16\b\b16\b\b16\b\b16\b\b16\b\b16\b\b16\b\b16\b\b16\b\b16\b\b16\b\b16\b\b16\b\b16\b\b16\b\b16\b\b16\b\b16\b\b16\b\b16\b\b16\b\b16\b\b16\b\b16\b\b16\b\b16\b\b16\b\b16\b\b16\b\b16\b\b16\b\b16\b\b16\b\b16\b\b16\b\b16\b\b16\b\b16\b\b16\b\b16\b\b16\b\b16\b\b16\b\b16\b\b16\b\b16\b\b16\b\b16\b\b16\b\b16\b\b16\b\b16\b\b16\b\b16\b\b16\b\b16\b\b16\b\b16\b\b16\b\b16\b\b16\b\b16\b\b16\b\b16\b\b16\b\b16\b\b16\b\b16\b\b16\b\b16\b\b16\b\b16\b\b16\b\b16\b\b16\b\b16\b\b16\b\b16\b\b16\b\b16\b\b16\b\b16\b\b16\b\b16\b\b16\b\b16\b\b16\b\b16\b\b16\b\b16\b\b16\b\b16\b\b16\b\b16\b\b16\b\b16\b\b16\b\b16\b\b16\b\b16\b\b16\b\b16\b\b16\b\b16\b\b16\b\b16\b\b16\b\b16\b\b16\b\b16\b\b16\b\b16\b\b16\b\b16\b\b16\b\b16\b\b16\b\b16\b\b16\b\b16\b\b16\b\b16\b\b16\b\b16\b\b16\b\b16\b\b16\b\b16\b\b16\b\b16\b\b16\b\b16\b\b16\b\b16\b\b16\b\b16\b\b16\b\b16\b\b16\b\b16\b\b16\b\b16\b\b16\b\b16\b\b16\b\b16\b\b16\b\b16\b\b16\b\b16\b\b16\b\b16\b\b16\b\b16\b\b16\b\b16\b\b16\b\b16\b\b16\b\b16\b\b16\b\b16\b\b16\b\b16\b\b16\b\b16\b\b16\b\b16\b\b16\b\b16\b\b16\b\b16\b\b16\b\b16\b\b16\b\b16\b\b16\b\b16\b\b16\b\b16\b\b16\b\b16\b\b16\b\b16\b\b16\b\b16\b\b16\b\b16\b\b16\b\b16\b\b16\b\b16\b\b16\b\b16\b\b16\b\b16\b\b16\b\b16\b\b16\b\b16\b\b16\b\b16\b\b16\b\b16\b\b16\b\b16\b\b16\b\b16\b\b16\b\b16\b\b16\b\b16\b\b16\b\b16\b\b16\b\b16\b\b16\b\b16\b\b16\b\b16\b\b16\b\b16\b\b16\b\b16\b\b16\b\b16\b\b16\b\b16\b\b16\b\b16\b\b16\b\b16\b\b16\b\b16\b\b16\b\b16\b\b16\b\b16\b\b16\b\b16\b\b16\b\b16\b\b16\b\b16\b\b16\b\b16\b\b16\b\b16\b\b16\b\b16\b\b16\b\b16\b\b16\b\b16\b\b16\b\b16\b\b16\b\b16\b\b16\b\b16\b\b16\b\b16\b\b16\b\b16\b\b16\b\b16\b\b16\b\b16\b\b16\b\b16\b\b16\b\b16\b\b16\b\b16\b\b16\b\b16\b\b16\b\b16\b\b16\b\b16\b\b16\b\b16\b\b16\b\b16\b\b16\b\b16\b\b16\b\b16\b\b16\b\b16\b\b16\b\b16\b\b16\b\b16\b\b16\b\b16\b\b16\b\b16\b\b16\b\b16\b\b16\b\b16\b\b16\b\b16\b\b16\b\b16\b\b16\b\b16\b\b16\b\b16\b\b16\b\b16\b\b16\b\b16\b\b16\b\b16\b\b16\b\b16\b\b16\b\b16\b\b16\b\b16\b\b16\b\b16\b\b16\b\b16\b\b16\b\b16\b\b16\b\b16\b\b16\b\b16\b\b16\b\b16\b\b16\b\b16\b\b16\b\b16\b\b16\b\b16\b\b16\b\b16\b\b16\b\b16\b\b16\b\b16\b\b16\b\b16\b\b16\b\b16\b\b16\b\b16\b\b16\b\b16\b\b16\b\b16\b\b16\b\b16\b\b16\b\b16\b\b16\b\b16\b\b16\b\b16\b\b16\b\b16\b\b16\b\b16\b\b16\b\b16\b\b16\b\b16\b\b16\b\b16\b\b16\b\b16\b\b16\b\b16\b\b16\b\b16\b\b16\b\b16\b\b16\b\b16\b\b16\b\b16\b\b16\b\b16\b\b16\b\b16\b\b16\b\b16\b\b16\b\b16\b\b16\b\b16\b\b16\b\b16\b\b16\b\b16\b\b16\b\b16\b\b16\b\b16\b\b16\b\b16\b\b16\b\b16\b\b16\b\b16\b\b16\b\b16\b\b16\b\b16\b\b16\b\b16\b\b16\b\b16\b\b16\b\b16\b\b16\b\b16\b\b16\b\b16\b\b16\b\b16\b\b16\b\b16\b\b16\b\b16\b\b16\b\b16\b\b16\b\b16\b\b16\b\b16\b\b16\b\b16\b\b16\b\b16\b\b16\b\b16\b\b16\b\b16\b\b16\b\b16\b\b16\b\b16\b\b16\b\b16\b\b16\b\b16\b\b16\b\b16\b\b16\b\b16\b\b16\b\b16\b\b16\b\b16\b\b16\b\b16\b\b16\b\b16\b\b16\b\b16\b\b16\b\b16\b\b16\b\b16\b\b16\b\b16\b\b16\b\b16\b\b16\b\b16\b\b16\b\b16\b\b16\b\b16\b\b16\b\b16\b\b16\b\b16\b\b16\b\b16\b\b16\b\b16\b\b16\b\b16\b\b16\b\b16\b\b16\b\b16\b\b16\b\b16\b\b16\b\b16\b\b16\b\b16\b\b16\b\b16\b\b16\b\b16\b\b16\b\b16\b\b16\b\b16\b\b16\b\b16\b\b16\b\b16\b\b16\b\b16\b\b16\b\b16\b\b16\b\b16\b\b16\b\b16\b\b16\b\b16\b\b16\b\b16\b\b16\b\b16\b\b16\b\b16\b\b16\b\b16\b\b16\b\b16\b\b16\b\b16\b\b16\b\b16\b\b16\b\b16\b\b16\b\b16\b\b16\b\b16\b\b16\b\b16\b\b16\b\b16\b\b16\b\b16\b\b16\b\b16\b\b16\b\b16\b\b16\b\b16\b\b16\b\b16\b\b16\b\b16\b\b16\b\b16\b\b16\b\b16\b\b16\b\b16\b\b16\b\b16\b\b16\b\b16\b\b16\b\b16\b\b16\b\b16\b\b16\b\b16\b\b16\b\b16\b\b16\b\b16\b\b16\b\b16\b\b16\b\b16\b\b16\b\b16\b\b16\b\b16\b\b16\b\b16\b\b16\b\b16\b\b16\b\b16\b\b16\b\b16\b\b16\b\b16\b\b16\b\b16\b\b16\b\b16\b\b16\b\b16\b\b16\b\b16\b\b16\b\b16\b\b16\b\b16\b\b16\b\b16\b\b16\b\b16\b\b16\b\b16\b\b16\b\b16\b\b16\b\b16\b\b16\b\b16\b\b16\b\b16\b\b16\b\b16\b\b16\b\b16\b\b16\b\b16\b\b16\b\b16\b\b16\b\b16\b\b16\b\b16\b\b16\b\b16\b\b16\b\b16\b\b16\b\b16\b\b16\b\b16\b\b16\b\b16\b\b16\b\b16\b\b16\b\b16\b\b16\b\b16\b\b16\b\b16\b\b16\b\b16\b\b16\b\b16\b\b16\b\b16\b\b16\b\b16\b\b16\b\b16\b\b16\b\b16\b\b16\b\b16\b\b16\b\b16\b\b16\b\b16\b\b16\b\b16\b\b16\b\b16\b\b16\b\b16\b\b16\b\b16\b\b16\b\b16\b\b16\b\b16\b\b16\b\b16\b\b16\b\b16\b\b16\b\b16\b\b16\b\b16\b\b16\b\b16\b\b16\b\b16\b\b16\b\b16\b\b16\b\b16\b\b16\b\b16\b\b16\b\b16\b\b16\b\b16\b\b16\b\b16\b\b16\b\b16\b\b16\b\b16\b\b16\b\b16\b\b16\b\b16\b\b16\b\b16\b\b16\b\b16\b\b16\b\b16\b\b16\b\b16\b\b16\b\b16\b\b16\b\b16\b\b16\b\b16\b\b16\b\b16\b\b16\b\b16\b\b16\b\b16\b\b16\b\b16\b\b16\b\b16\b\b16\b\b16\b\b16\b\b16\b\b16\b\b16\b\b16\b\b16\b\b16\b\b16\b\b16\b\b16\b\b16\b\b16\b\b16\b\b16\b\b16\b\b16\b\b16\b\b16\b\b16\b\b16\b\b16\b\b16\b\b16\b\b16\b\b16\b\b16\b\b16\b\b16\b\b16\b\b16\b\b16\b\b16\b\b16\b\b16\b\b16\b\b16\b\b16\b\b16\b\b16\b\b16\b\b16\b\b16\b\b16\b\b16\b\b16\b\b16\b\b16\b\b16\b\b16\b\b16\b\b16\b\b16\b\b16\b\b16\b\b16\b\b16\b\b16\b\b16\b\b16\b\b16\b\b16\b\b16\b\b16\b\b16\b\b16\b\b16\b\b16\b\b16\b\b16\b\b16\b\b16\b\b16\b\b16\b\b16\b\b16\b\b16\b\b16\b\b16\b\b16\b\b16\b\b16\b\b16\b\b16\b\b16\b\b16\b\b16\b\b16\b\b16\b\b16\b\b16\b\b16\b\b16\b\b16\b\b16\b\b16\b\b16\b\b16\b\b16\b\b16\b\b16\b\b16\b\b16\b\b16\b\b16\b\b16\b\b16\b\b16\b\b16\b\b16\b\b16\b\b16\b\b16\b\b16\b\b16\b\b16\b\b16\b\b16\b\b16\b\b16\b\b16\b\b16\b\b16\b\b16\b\b16\b\b16\b\b16\b\b16\b\b16\b\b16\b\b16\b\b16\b\b16\b\b16\b\b16\b\b16\b\b16\b\b16\b\b16\b\b16\b\b16\b\b16\b\b16\b\b16\b\b16\b\b16\b\b16\b\b16\b\b16\b\b16\b\b16\b\b16\b\b16\b\b16\b\b16\b\b16\b\b16\b\b16\b\b16\b\b16\b\b16\b\b16\b\b16\b\b16\b\b16\b\b16\b\b16\b\b16\b\b16\b\b16\b\b16\b\b16\b\b16\b\b16\b\b16\b\b16\b\b16\b\b16\b\b16\b\b16\b\b16\b\b16\b\b16\b\b16\b\b16\b\b16\b\b16\b\b16\b\b16\b\b16\b\b16\b\b16\b\b16\b\b16\b\b16\b\b16\b\b16\b\b16\b\b16\b\b16\b\b16\b\b16\b\b16\b\b16\b\b16\b\b16\b\b16\b\b16\b\b16\b\b16\b\b16\b\b16\b\b16\b\b16\b\b16\b\b16\b\b16\b\b16\b\b16\b\b16\b\b16\b\b16\b\b16\b\b16\b\b16\b\b16\b\b16\b\b16\b\b16\b\b16\b\b16\b\b16\b\b16\b\b16\b\b16\b\b16\b\b16\b\b16\b\b16\b\b16\b\b16\b\b16\b\b16\b\b16\b\b16\b\b16\b\b16\b\b16\b\b16\b\b16\b\b16\b\b16\b\b16\b\b16\b\b16\b\b16\b\b16\b\b16\b\b16\b\b16\b\b16\b\b16\b\b16\b\b16\b\b16\b\b16\b\b16\b\b16\b\b16\b\b16\b\b16\b\b16\b\b16\b\b16\b\b16\b\b16\b\b16\b\b16\b\b16\b\b16\b\b16\b\b16\b\b16\b\b16\b\b16\b\b16\b\b16\b\b16\b\b16\b\b16\b\b16\b\b16\b\b16\b\b16\b\b16\b\b16\b\b16\b\b16\b\b16\b\b16\b\b16\b\b16\b\b16\b\b16\b\b16\b\b16\b\b16\b\b16\b\b16\b\b16\b\b16\b\b16\b\b16\b\b16\b\b16\b\b16\b\b16\b\b16\b\b16\b\b16\b\b16\b\b16\b\b16\b\b16\b\b16\b\b16\b\b16\b\b16\b\b16\b\b16\b\b16\b\b16\b\b16\b\b16\b\b16\b\b16\b\b16\b\b16\b\b16\b\b16\b\b16\b\b16\b\b16\b\b16\b\b16\b\b16\b\b16\b\b16\b\b16\b\b16\b\b16\b\b16\b\b16\b\b16\b\b16\b\b16\b\b16\b\b16\b\b16\b\b16\b\b16\b\b16\b\b16\b\b16\b\b16\b\b16\b\b16\b\b16\b\b16\b\b16\b\b16\b\b16\b\b16\b\b16\b\b16\b\b16\b\b16\b\b16\b\b16\b\b16\b\b16\b\b16\b\b16\b\b16\b\b16\b\b16\b\b16\b\b16\b\b16\b\b16\b\b16\b\b16\b\b16\b\b16\b\b16\b\b16\b\b16\b\b16\b\b16\b\b16\b\b16\b\b16\b\b16\b\b16\b\b16\b\b16\b\b16\b\b16\b\b16\b\b16\b\b16\b\b16\b\b16\b\b16\b\b16\b\b16\b\b16\b\b16\b\b16\b\b16\b\b16\b\b16\b\b16\b\b16\b\b16\b\b16\b\b16\b\b16\b\b16\b\b16\b\b16\b\b16\b\b16\b\b16\b\b16\b\b16\b\b16\b\b16\b\b16\b\b16\b\b16\b\b16\b\b16\b\b16\b\b16\b\b16\b\b16\b\b16\b\b16\b\b16\b\b16\b\b16\b\b16\b\b16\b\b16\b\b16\b\b16\b\b16\b\b16\b\b16\b\b16\b\b16\b\b16\b\b16\b\b16\b\b16\b\b16\b\b16\b\b16\b\b16\b\b16\b\b16\b\b16\b\b16\b\b16\b\b16\b\b16\b\b16\b\b16\b\b16\b\b16\b\b16\b\b16\b\b16\b\b16\b\b16\b\b16\b\b16\b\b16\b\b16\b\b16\b\b16\b\b16\b\b16\b\b16\b\b16\b\b16\b\b16\b\b16\b\b16\b\b16\b\b16\b\b16\b\b16\b\b16\b\b16\b\b16\b\b16\b\b16\b\b16\b\b16\b\b16\b\b16\b\b16\b\b16\b\b16\b\b16\b\b16\b\b16\b\b16\b\b16\b\b16\b\b16\b\b16\b\b16\b\b16\b\b16\b\b16\b\b16\b\b16\b\b16\b\b16\b\b16\b\b16\b\b16\b\b16\b\b16\b\b16\b\b16\b\b16\b\b16\b\b16\b\b16\b\b16\b\b16\b\b16\b\b16\b\b16\b\b16\b\b16\b\b16\b\b16\b\b16\b\b16\b\b16\b\b16\b\b16\b\b16\b\b16\b\b16\b\b16\b\b16\b\b16\b\b16\b\b16\b\b16\b\b16\b\b16\b\b16\b\b16\b\b16\b\b16\b\b16\b\b16\b\b16\b\b16\b\b16\b\b16\b\b16\b\b16\b\b16\b\b16\b\b16\b\b16\b\b16\b\b16\b\b16\b\b16\b\b16\b\b16\b\b16\b\b16\b\b16\b\b16\b\b16\b\b16\b\b16\b\b16\b\b16\b\b16\b\b16\b\b16\b\b16\b\b16\b\b16\b\b16\b\b16\b\b16\b\b16\b\b16\b\b16\b\b16\b\b16\b\b16\b\b16\b\b16\b\b16\b\b16\b\b16\b\b16\b\b16\b\b16\b\b16\b\b16\b\b16\b\b16\b\b16\b\b16\b\b16\b\b16\b\b16\b\b16\b\b16\b\b16\b\b16\b\b16\b\b16\b\b16\b\b16\b\b16\b\b16\b\b16\b\b16\b\b16\b\b16\b\b16\b\b16\b\b16\b\b16\b\b16\b\b16\b\b16\b\b16\b\b16\b\b16\b\b16\b\b16\b\b16\b\b16\b\b16\b\b16\b\b16\b\b16\b\b16\b\b16\b\b16\b\b16\b\b16\b\b16\b\b16\b\b16\b\b16\b\b16\b\b16\b\b16\b\b16\b\b16\b\b16\b\b16\b\b16\b\b16\b\b16\b\b16\b\b16\b\b16\b\b16\b\b16\b\b16\b\b16\b\b16\b\b16\b\b16\b\b16\b\b16\b\b16\b\b16\b\b16\b\b16\b\b16\b\b16\b\b16\b\b16\b\b16\b\b16\b\b16\b\b16\b\b16\b\b16\b\b16\b\b16\b\b16\b\b16\b\b16\b\b16\b\b16\b\b16\b\b16\b\b16\b\b16\b\b16\b\b16\b\b16\b\b16\b\b16\b\b16\b\b16\b\b16\b\b16\b\b16\b\b16\b\b16\b\b16\b\b16\b\b16\b\b16\b\b16\b\b16\b\b16\b\b16\b\b16\b\b16\b\b16\b\b16\b\b16\b\b16\b\b16\b\b16\b\b16\b\b16\b\b16\b\b16\b\b16\b\b16\b\b16\b\b16\b\b16\b\b16\b\b16\b\b16\b\b16\b\b16\b\b16\b\b16\b\b16\b\b16\b\b16\b\b16\b\b16\b\b16\b\b16\b\b16\b\b16\b\b16\b\b16\b\b16\b\b16\b\b16\b\b16\b\b16\b\b16\b\b16\b\b16\b\b16\b\b16\b\b16\b\b16\b\b16\b\b16\b\b16\b\b16\b\b16\b\b16\b\b16\b\b16\b\b16\b\b16\b\b16\b\b16\b\b16\b\b16\b\b16\b\b16\b\b16\b\b16\b\b16\b\b16\b\b16\b\b16\b\b16\b\b16\b\b16\b\b16\b\b16\b\b16\b\b16\b\b16\b\b16\b\b16\b\b16\b\b16\b\b16\b\b16\b\b16\b\b16\b\b16\b\b16\b\b16\b\b16\b\b16\b\b16\b\b16\b\b16\b\b16\b\b16\b\b16\b\b16\b\b16\b\b16\b\b16\b\b16\b\b16\b\b16\b\b16\b\b16\b\b16\b\b16\b\b16\b\b16\b\b16\b\b16\b\b16\b\b16\b\b16\b\b16\b\b16\b\b16\b\b16\b\b16\b\b16\b\b16\b\b16\b\b16\b\b16\b\b16\b\b16\b\b16\b\b16\b\b16\b\b16\b\b16\b\b16\b\b16\b\b16\b\b16\b\b16\b\b16\b\b16\b\b16\b\b16\b\b16\b\b16\b\b16\b\b16\b\b16\b\b16\b\b16\b\b16\b\b16\b\b16\b\b16\b\b16\b\b16\b\b16\b\b16\b\b16\b\b16\b\b16\b\b16\b\b16\b\b16\b\b16\b\b16\b\b16\b\b16\b\b16\b\b16\b\b16\b\b16\b\b16\b\b16\b\b16\b\b16\b\b16\b\b16\b\b16\b\b16\b\b16\b\b16\b\b16\b\b16\b\b16\b\b16\b\b16\b\b16\b\b16\b\b16\b\b16\b\b16\b\b16\b\b16\b\b16\b\b16\b\b16\b\b16\b\b16\b\b16\b\b16\b\b16\b\b16\b\b16\b\b16\b\b16\b\b16\b\b16\b\b16\b\b16\b\b16\b\b16\b\b16\b\b16\b\b16\b\b16\b\b16\b\b16\b\b16\b\b16\b\b16\b\b16\b\b16\b\b16\b\b16\b\b16\b\b16\b\b16\b\b16\b\b16\b\b16\b\b16\b\b16\b\b16\b\b16\b\b16\b\b16\b\b16\b\b16\b\b16\b\b16\b\b16\b\b16\b\b16\b\b16\b\b16\b\b16\b\b16\b\b16\b\b16\b\b16\b\b16\b\b16\b\b16\b\b16\b\b16\b\b16\b\b16\b\b16\b\b16\b\b16\b\b16\b\b16\b\b16\b\b16\b\b16\b\b16\b\b16\b\b16\b\b16\b\b16\b\b16\b\b16\b\b16\b\b16\b\b16\b\b16\b\b16\b\b16\b\b16\b\b16\b\b16\b\b16\b\b16\b\b16\b\b16\b\b16\b\b16\b\b16\b\b16\b\b16\b\b16\b\b16\b\b16\b\b16\b\b16\b\b16\b\b16\b\b16\b\b16\b\b16\b\b16\b\b16\b\b16\b\b16\b\b16\b\b16\b\b16\b\b16\b\b16\b\b16\b\b16\b\b16\b\b16\b\b16\b\b16\b\b16\b\b16\b\b16\b\b16\b\b16\b\b16\b\b16\b\b16\b\b16\b\b16\b\b16\b\b16\b\b16\b\b16\b\b16\b\b16\b\b16\b\b16\b\b16\b\b16\b\b16\b\b16\b\b16\b\b16\b\b16\b\b16\b\b16\b\b16\b\b16\b\b16\b\b16\b\b16\b\b16\b\b16\b\b16\b\b16\b\b16\b\b16\b\b16\b\b16\b\b16\b\b16\b\b16\b\b16\b\b16\b\b16\b\b16\b\b16\b\b16\b\b16\b\b16\b\b16\b\b16\b\b16\b\b16\b\b16\b\b16\b\b16\b\b16\b\b16\b\b16\b\b16\b\b16\b\b16\b\b16\b\b16\b\b16\b\b16\b\b16\b\b16\b\b16\b\b16\b\b16\b\b16\b\b16\b\b16\b\b16\b\b16\b\b16\b\b16\b\b16\b\b16\b\b16\b\b16\b\b16\b\b16\b\b16\b\b16\b\b16\b\b16\b\b16\b\b16\b\b16\b\b16\b\b16\b\b16\b\b16\b\b16\b\b16\b\b16\b\b16\b\b16\b\b16\b\b16\b\b16\b\b16\b\b16\b\b16\b\b16\b\b16\b\b16\b\b16\b\b16\b\b16\b\b16\b\b16\b\b16\b\b16\b\b16\b\b16\b\b16\b\b16\b\b16\b\b16\b\b16\b\b16\b\b16\b\b16\b\b16\b\b16\b\b16\b\b16\b\b16\b\b16\b\b16\b\b16\b\b16\b\b16\b\b16\b\b16\b\b16\b\b16\b\b16\b\b16\b\b16\b\b16\b\b16\b\b16\b\b16\b\b16\b\b16\b\b16\b\b16\b\b16\b\b16\b\b16\b\b16\b\b16\b\b16\b\b16\b\b16\b\b16\b\b16\b\b16\b\b16\b\b16\b\b16\b\b16\b\b16\b\b16\b\b16\b\b16\b\b16\b\b16\b\b16\b\b16\b\b16\b\b16\b\b16\b\b16\b\b16\b\b16\b\b16\b\b16\b\b16\b\b16\b\b16\b\b16\b\b16\b\b16\b\b16\b\b16\b\b16\b\b16\b\b16\b\b16\b\b16\b\b16\b\b16\b\b16\b\b16\b\b16\b\b16\b\b16\b\b16\b\b16\b\b16\b\b16\b\b16\b\b16\b\b16\b\b16\b\b16\b\b16\b\b16\b\b16\b\b16\b\b16\b\b16\b\b16\b\b16\b\b16\b\b16\b\b16\b\b16\b\b16\b\b16\b\b16\b\b16\b\b16\b\b16\b\b16\b\b16\b\b16\b\b16\b\b16\b\b16\b\b16\b\b16\b\b16\b\b16\b\b16\b\b16\b\b16\b\b16\b\b16\b\b16\b\b16\b\b16\b\b16\b\b16\b\b16\b\b16\b\b16\b\b16\b\b16\b\b16\b\b16\b\b16\b\b16\b\b16\b\b16\b\b16\b\b16\b\b16\b\b16\b\b16\b\b16\b\b16\b\b16\b\b16\b\b16\b\b16\b\b16\b\b16\b\b16\b\b16\b\b16\b\b16\b\b16\b\b16\b\b16\b\b16\b\b16\b\b16\b\b16\b\b16\b\b16\b\b16\b\b16\b\b16\b\b16\b\b16\b\b16\b\b16\b\b16\b\b16\b\b16\b\b16\b\b16\b\b16\b\b16\b\b16\b\b16\b\b16\b\b16\b\b16\b\b16\b\b16\b\b16\b\b16\b\b16\b\b16\b\b16\b\b16\b\b16\n",
      "- Resample20: lambda1=0.05, lambda2=0.05 \n",
      "+ Resample21: lambda1=0.05, lambda2=0.05 \n",
      "# nonzero coefficients: 16\b\b16\b\b16\b\b16\b\b16\b\b16\b\b16\b\b16\b\b16\b\b16\b\b16\b\b16\b\b16\b\b16\b\b16\b\b16\b\b16\b\b16\b\b16\b\b16\b\b16\b\b16\b\b16\b\b16\b\b16\b\b16\b\b16\b\b16\b\b16\b\b16\b\b16\b\b16\b\b16\b\b16\b\b16\b\b16\b\b16\b\b16\b\b16\b\b16\b\b16\b\b16\b\b16\b\b16\b\b16\b\b16\b\b16\b\b16\b\b16\b\b16\b\b16\b\b16\b\b16\b\b16\b\b16\b\b16\b\b16\b\b16\b\b16\b\b16\b\b16\b\b16\b\b16\b\b16\b\b16\b\b16\b\b16\b\b16\b\b16\b\b16\b\b16\b\b16\b\b16\b\b16\b\b16\b\b16\b\b16\b\b16\b\b16\b\b16\b\b16\b\b16\b\b16\b\b16\b\b16\b\b16\b\b16\b\b16\b\b16\b\b16\b\b16\b\b16\b\b16\b\b16\b\b16\b\b16\b\b16\b\b16\b\b16\b\b16\b\b16\b\b16\b\b16\b\b16\b\b16\b\b16\b\b16\b\b16\b\b16\b\b16\b\b16\b\b16\b\b16\b\b16\b\b16\b\b16\b\b16\b\b16\b\b15\b\b16\b\b16\b\b15\b\b16\b\b16\b\b16\b\b16\b\b16\b\b16\b\b16\b\b16\b\b16\b\b16\b\b16\b\b16\b\b16\b\b16\b\b16\b\b16\b\b16\b\b16\b\b16\b\b16\b\b16\b\b16\b\b16\b\b16\b\b16\b\b16\b\b16\b\b16\b\b16\b\b16\b\b16\b\b16\n",
      "- Resample21: lambda1=0.05, lambda2=0.05 \n",
      "+ Resample22: lambda1=0.05, lambda2=0.05 \n",
      "# nonzero coefficients: 16\b\b16\b\b16\b\b16\b\b16\b\b16\b\b16\b\b16\b\b16\b\b16\b\b16\b\b16\b\b16\b\b16\b\b16\b\b16\b\b16\b\b16\b\b16\b\b16\b\b16\b\b16\b\b16\b\b16\b\b16\b\b16\b\b16\b\b16\b\b16\b\b16\b\b16\b\b16\b\b16\b\b16\b\b16\b\b16\b\b16\b\b16\b\b16\b\b16\b\b16\b\b16\b\b16\b\b16\b\b16\b\b16\b\b16\b\b16\b\b16\b\b16\b\b16\b\b16\b\b16\b\b16\b\b16\b\b16\b\b16\b\b16\b\b16\b\b16\b\b16\b\b16\b\b16\b\b16\b\b16\b\b16\b\b16\b\b16\b\b16\b\b16\b\b16\b\b16\b\b16\b\b16\b\b16\b\b16\b\b16\b\b16\b\b16\b\b16\b\b16\b\b16\b\b16\b\b16\b\b16\b\b16\b\b16\b\b16\b\b16\b\b16\b\b16\b\b16\b\b16\b\b16\b\b16\b\b16\b\b16\b\b16\b\b16\b\b16\b\b16\b\b16\b\b16\b\b16\b\b16\b\b16\b\b16\b\b16\b\b16\b\b16\b\b16\b\b16\b\b16\b\b16\b\b16\b\b16\b\b16\n",
      "- Resample22: lambda1=0.05, lambda2=0.05 \n",
      "+ Resample23: lambda1=0.05, lambda2=0.05 \n",
      "# nonzero coefficients: 16\b\b16\b\b16\b\b16\b\b16\b\b16\b\b16\b\b16\b\b16\b\b16\b\b16\b\b16\b\b16\b\b16\b\b16\b\b16\b\b16\b\b16\b\b16\b\b16\b\b16\b\b16\b\b16\b\b16\b\b16\b\b16\b\b16\b\b16\b\b16\b\b16\b\b16\b\b16\b\b16\b\b16\b\b16\b\b16\b\b16\b\b16\b\b16\b\b16\b\b16\b\b16\b\b16\b\b16\b\b16\b\b16\b\b16\b\b16\b\b16\b\b16\b\b16\b\b16\b\b16\b\b16\b\b16\b\b16\b\b16\b\b16\b\b16\b\b16\b\b16\b\b16\b\b16\b\b16\b\b16\b\b16\b\b16\b\b16\b\b15\b\b16\b\b16\b\b16\b\b16\b\b16\n",
      "- Resample23: lambda1=0.05, lambda2=0.05 \n",
      "+ Resample24: lambda1=0.05, lambda2=0.05 \n",
      "# nonzero coefficients: 16\b\b16\b\b16\b\b16\b\b16\b\b16\b\b16\b\b16\b\b16\b\b16\b\b16\b\b16\b\b16\b\b16\b\b16\b\b16\b\b16\b\b16\b\b16\b\b16\b\b16\b\b16\b\b16\b\b16\b\b16\b\b16\b\b16\b\b16\b\b16\b\b16\b\b16\b\b16\b\b16\b\b16\b\b16\b\b16\b\b16\b\b16\b\b16\b\b16\b\b16\b\b16\b\b16\b\b16\b\b16\b\b16\b\b16\b\b16\b\b16\b\b16\b\b16\b\b16\b\b16\b\b16\b\b16\b\b16\b\b16\b\b16\b\b16\b\b16\b\b16\b\b16\b\b16\b\b16\b\b16\b\b16\b\b16\b\b16\b\b16\b\b16\b\b16\b\b16\b\b16\b\b16\b\b16\b\b16\b\b16\b\b16\b\b16\b\b16\b\b16\b\b16\b\b16\b\b16\b\b16\b\b16\b\b16\b\b16\b\b16\b\b16\b\b16\b\b16\b\b16\b\b16\b\b16\b\b16\b\b16\b\b16\b\b16\b\b16\b\b16\b\b16\b\b16\b\b16\b\b16\b\b16\b\b16\b\b16\b\b16\b\b16\b\b16\b\b16\b\b16\b\b16\b\b16\b\b16\b\b16\b\b16\b\b16\b\b16\b\b16\b\b16\b\b16\n",
      "- Resample24: lambda1=0.05, lambda2=0.05 \n",
      "+ Resample25: lambda1=0.05, lambda2=0.05 \n",
      "# nonzero coefficients: 16\b\b16\b\b16\b\b16\b\b16\b\b16\b\b16\b\b16\b\b16\b\b16\b\b16\b\b16\b\b16\b\b16\b\b16\b\b16\b\b16\b\b16\b\b16\b\b16\b\b16\b\b16\b\b16\b\b16\b\b16\b\b16\b\b16\b\b16\b\b16\b\b16\b\b16\b\b16\b\b16\b\b16\b\b16\b\b16\b\b16\b\b16\b\b16\b\b16\b\b16\b\b16\b\b16\b\b16\b\b16\b\b16\b\b16\b\b16\b\b16\b\b16\b\b16\b\b16\b\b16\b\b16\b\b16\b\b16\b\b16\b\b16\b\b16\b\b16\b\b16\b\b16\b\b16\b\b16\b\b16\b\b16\b\b16\b\b16\b\b16\b\b16\b\b16\b\b16\b\b16\b\b16\b\b16\b\b16\b\b16\b\b16\b\b16\b\b16\b\b16\b\b16\b\b16\b\b16\b\b16\b\b16\b\b16\b\b16\b\b16\b\b16\b\b16\b\b16\b\b16\b\b16\b\b16\b\b16\b\b16\b\b16\b\b15\b\b15\b\b15\b\b15\b\b16\b\b16\b\b15\b\b16\b\b16\b\b16\b\b16\b\b16\b\b16\b\b16\b\b16\b\b16\b\b16\b\b16\b\b16\b\b16\b\b16\b\b16\b\b16\b\b16\b\b16\b\b16\b\b16\b\b16\b\b16\b\b16\b\b16\b\b16\b\b16\b\b16\b\b16\b\b16\b\b16\b\b16\b\b16\b\b16\b\b16\b\b16\b\b16\b\b16\b\b16\b\b16\b\b16\b\b16\b\b16\b\b16\b\b16\b\b16\b\b16\b\b16\b\b16\b\b16\b\b16\b\b16\b\b16\b\b16\b\b16\b\b16\b\b16\b\b16\b\b16\b\b16\b\b16\b\b16\b\b16\b\b16\b\b16\b\b16\b\b16\b\b16\b\b16\b\b16\b\b16\b\b16\b\b16\b\b16\b\b16\b\b16\b\b16\b\b16\b\b16\b\b16\b\b16\b\b16\b\b16\b\b16\b\b16\b\b16\b\b16\b\b16\b\b16\b\b16\b\b16\b\b16\b\b16\b\b16\b\b16\b\b16\b\b16\b\b16\b\b16\b\b16\b\b16\b\b16\b\b16\b\b16\b\b16\b\b16\b\b16\b\b16\b\b16\b\b16\b\b16\b\b16\b\b16\b\b16\b\b16\b\b16\b\b16\b\b16\b\b16\b\b16\b\b16\b\b16\b\b16\b\b16\b\b16\b\b16\b\b16\b\b16\b\b16\b\b16\b\b16\b\b16\b\b16\b\b16\b\b16\b\b16\b\b16\b\b16\b\b16\b\b16\b\b16\b\b16\b\b16\b\b16\b\b16\b\b16\b\b16\b\b16\b\b16\b\b16\b\b16\b\b16\b\b16\b\b16\b\b16\b\b16\b\b16\b\b16\b\b16\b\b16\b\b16\b\b16\b\b16\b\b16\b\b16\b\b16\b\b16\b\b16\b\b16\b\b16\b\b16\b\b16\b\b16\b\b16\b\b16\b\b16\b\b16\b\b16\b\b16\b\b16\b\b16\b\b16\b\b16\b\b16\b\b16\b\b16\b\b16\b\b16\b\b16\b\b16\b\b16\b\b16\b\b16\b\b16\b\b16\b\b16\b\b16\b\b16\b\b16\b\b16\b\b16\b\b16\b\b16\b\b16\b\b16\b\b16\b\b16\b\b16\b\b16\b\b16\b\b16\b\b16\b\b16\b\b16\b\b16\b\b16\b\b16\b\b16\b\b16\b\b16\b\b16\b\b16\b\b16\b\b16\b\b16\b\b16\b\b16\b\b16\b\b16\b\b16\b\b16\b\b16\b\b16\b\b16\b\b16\b\b16\b\b16\b\b16\b\b16\b\b16\b\b16\b\b16\b\b16\b\b16\b\b16\b\b16\b\b16\b\b16\b\b16\b\b16\b\b16\b\b15\b\b16\b\b16\b\b15\b\b16\b\b16\b\b15\b\b16\b\b16\b\b15\b\b16\b\b16\b\b15\b\b16\b\b16\b\b15\b\b16\b\b16\b\b15\b\b16\b\b16\b\b16\b\b16\b\b16\b\b16\b\b16\b\b16\b\b15\b\b15\b\b15\b\b15\b\b15\n",
      "- Resample25: lambda1=0.05, lambda2=0.05 \n",
      "Aggregating results\n",
      "Fitting final model on full training set\n",
      "# nonzero coefficients: 16\b\b16\b\b16\b\b16\b\b16\b\b16\b\b16\b\b16\b\b16\b\b16\b\b16\b\b16\b\b16\b\b16\b\b16\b\b16\b\b16\b\b16\b\b16\b\b16\b\b16\b\b16\b\b16\b\b16\b\b16\b\b16\b\b16\b\b16\b\b16\b\b16\b\b16\b\b16\b\b16\b\b16\b\b16\b\b16\b\b16\b\b16\b\b16\b\b16\b\b16\b\b16\b\b16\b\b16\b\b16\b\b16\b\b16\b\b16\b\b16\b\b16\b\b16\b\b16\b\b16\b\b16\b\b16\b\b16\b\b16\b\b16\b\b16\b\b16\b\b16\b\b16\b\b16\b\b16\b\b16\b\b16\b\b16\b\b16\b\b16\b\b16\b\b16\b\b16\b\b16\b\b16\b\b16\b\b16\b\b16\b\b16\b\b16\b\b16\b\b16\b\b16\b\b16\b\b16\n",
      "Penalized Linear Regression \n",
      "\n",
      "1460 samples\n",
      "  15 predictor\n",
      "\n",
      "No pre-processing\n",
      "Resampling: Bootstrapped (25 reps) \n",
      "Summary of sample sizes: 1460, 1460, 1460, 1460, 1460, 1460, ... \n",
      "Resampling results:\n",
      "\n",
      "  RMSE       Rsquared \n",
      "  0.1471941  0.8663774\n",
      "\n",
      "Tuning parameter 'lambda1' was held constant at a value of 0.05\n",
      "\n",
      "Tuning parameter 'lambda2' was held constant at a value of 0.05\n",
      " \n"
     ]
    }
   ],
   "source": [
    "ridgeFit = train(log_SalePrice ~ OverallQual +\n",
    "               log_YearBuilt + \n",
    "    log_LotArea + log_BsmtFinSF1 + GarageCars + \n",
    "    nBsmtQual + nKitchenQual + TotalBsmtSF + log_KitchenAbvGr + \n",
    "    log_nBsmtQual + GrLivArea + log_BedroomAbvGr + log_GarageCars +\n",
    "    TotalBsmtSF_on_GrLivArea + GrLivArea_Square +\n",
    "    log_BedroomAbvGr + nKitchenQual,# + OverallQual_3,\n",
    "              method='penalized',data=train.sample,metric=\"RMSE\",trControl=bootControl,tuneGrid=ridgeGrid)\n",
    "print(ridgeFit)"
   ]
  },
  {
   "cell_type": "code",
   "execution_count": 127,
   "metadata": {
    "collapsed": false
   },
   "outputs": [],
   "source": [
    "ridgeFit.prediction=exp(predict(ridgeFit,newdata=test.sample))"
   ]
  },
  {
   "cell_type": "code",
   "execution_count": 128,
   "metadata": {
    "collapsed": false
   },
   "outputs": [
    {
     "data": {
      "text/html": [
       "<dl class=dl-horizontal>\n",
       "\t<dt>1</dt>\n",
       "\t\t<dd>119695.010361293</dd>\n",
       "\t<dt>2</dt>\n",
       "\t\t<dd>170994.9742226</dd>\n",
       "\t<dt>3</dt>\n",
       "\t\t<dd>176127.286464098</dd>\n",
       "\t<dt>4</dt>\n",
       "\t\t<dd>188662.229727488</dd>\n",
       "\t<dt>5</dt>\n",
       "\t\t<dd>202286.055741726</dd>\n",
       "\t<dt>6</dt>\n",
       "\t\t<dd>165497.017234056</dd>\n",
       "</dl>\n"
      ],
      "text/latex": [
       "\\begin{description*}\n",
       "\\item[1] 119695.010361293\n",
       "\\item[2] 170994.9742226\n",
       "\\item[3] 176127.286464098\n",
       "\\item[4] 188662.229727488\n",
       "\\item[5] 202286.055741726\n",
       "\\item[6] 165497.017234056\n",
       "\\end{description*}\n"
      ],
      "text/markdown": [
       "1\n",
       ":   119695.0103612932\n",
       ":   170994.97422263\n",
       ":   176127.2864640984\n",
       ":   188662.2297274885\n",
       ":   202286.0557417266\n",
       ":   165497.017234056\n",
       "\n"
      ],
      "text/plain": [
       "       1        2        3        4        5        6 \n",
       "119695.0 170995.0 176127.3 188662.2 202286.1 165497.0 "
      ]
     },
     "metadata": {},
     "output_type": "display_data"
    },
    {
     "data": {
      "text/html": [
       "1459"
      ],
      "text/latex": [
       "1459"
      ],
      "text/markdown": [
       "1459"
      ],
      "text/plain": [
       "[1] 1459"
      ]
     },
     "metadata": {},
     "output_type": "display_data"
    }
   ],
   "source": [
    "head(ridgeFit.prediction)\n",
    "length(ridgeFit.prediction)"
   ]
  },
  {
   "cell_type": "code",
   "execution_count": 136,
   "metadata": {
    "collapsed": true
   },
   "outputs": [],
   "source": [
    "test.submission = fread('~/kaggle/house_prices/data/sample_submission.csv')"
   ]
  },
  {
   "cell_type": "code",
   "execution_count": 137,
   "metadata": {
    "collapsed": false
   },
   "outputs": [
    {
     "data": {
      "text/html": [
       "<table>\n",
       "<thead><tr><th></th><th scope=col>Id</th><th scope=col>SalePrice</th></tr></thead>\n",
       "<tbody>\n",
       "\t<tr><th scope=row>1</th><td>  1461.0</td><td>169277.1</td></tr>\n",
       "\t<tr><th scope=row>2</th><td>  1462.0</td><td>187758.4</td></tr>\n",
       "\t<tr><th scope=row>3</th><td>  1463.0</td><td>183583.7</td></tr>\n",
       "\t<tr><th scope=row>4</th><td>  1464.0</td><td>179317.5</td></tr>\n",
       "\t<tr><th scope=row>5</th><td>  1465.0</td><td>150730.1</td></tr>\n",
       "\t<tr><th scope=row>6</th><td>  1466</td><td>177151</td></tr>\n",
       "</tbody>\n",
       "</table>\n"
      ],
      "text/latex": [
       "\\begin{tabular}{r|ll}\n",
       "  & Id & SalePrice\\\\\n",
       "\\hline\n",
       "\t1 &   1461.0 & 169277.1\\\\\n",
       "\t2 &   1462.0 & 187758.4\\\\\n",
       "\t3 &   1463.0 & 183583.7\\\\\n",
       "\t4 &   1464.0 & 179317.5\\\\\n",
       "\t5 &   1465.0 & 150730.1\\\\\n",
       "\t6 &   1466 & 177151\\\\\n",
       "\\end{tabular}\n"
      ],
      "text/plain": [
       "    Id SalePrice\n",
       "1 1461  169277.1\n",
       "2 1462  187758.4\n",
       "3 1463  183583.7\n",
       "4 1464  179317.5\n",
       "5 1465  150730.1\n",
       "6 1466  177151.0"
      ]
     },
     "metadata": {},
     "output_type": "display_data"
    },
    {
     "data": {
      "text/html": [
       "<table>\n",
       "<thead><tr><th></th><th scope=col>Id</th><th scope=col>SalePrice</th></tr></thead>\n",
       "<tbody>\n",
       "\t<tr><th scope=row>1</th><td>  1461</td><td>119695</td></tr>\n",
       "\t<tr><th scope=row>2</th><td>  1462</td><td>170995</td></tr>\n",
       "\t<tr><th scope=row>3</th><td>  1463.0</td><td>176127.3</td></tr>\n",
       "\t<tr><th scope=row>4</th><td>  1464.0</td><td>188662.2</td></tr>\n",
       "\t<tr><th scope=row>5</th><td>  1465.0</td><td>202286.1</td></tr>\n",
       "\t<tr><th scope=row>6</th><td>  1466</td><td>165497</td></tr>\n",
       "</tbody>\n",
       "</table>\n"
      ],
      "text/latex": [
       "\\begin{tabular}{r|ll}\n",
       "  & Id & SalePrice\\\\\n",
       "\\hline\n",
       "\t1 &   1461 & 119695\\\\\n",
       "\t2 &   1462 & 170995\\\\\n",
       "\t3 &   1463.0 & 176127.3\\\\\n",
       "\t4 &   1464.0 & 188662.2\\\\\n",
       "\t5 &   1465.0 & 202286.1\\\\\n",
       "\t6 &   1466 & 165497\\\\\n",
       "\\end{tabular}\n"
      ],
      "text/plain": [
       "    Id SalePrice\n",
       "1 1461  119695.0\n",
       "2 1462  170995.0\n",
       "3 1463  176127.3\n",
       "4 1464  188662.2\n",
       "5 1465  202286.1\n",
       "6 1466  165497.0"
      ]
     },
     "metadata": {},
     "output_type": "display_data"
    }
   ],
   "source": [
    "head(test.submission)\n",
    "test.submission$SalePrice=ridgeFit.prediction\n",
    "head(test.submission)"
   ]
  },
  {
   "cell_type": "code",
   "execution_count": 139,
   "metadata": {
    "collapsed": true
   },
   "outputs": [],
   "source": [
    "# scores .15199 on leaderboard\n",
    "write.csv(test.submission,'~/kaggle/house_prices/data/ridge_submission.csv',row.names=FALSE)"
   ]
  },
  {
   "cell_type": "code",
   "execution_count": null,
   "metadata": {
    "collapsed": false
   },
   "outputs": [],
   "source": []
  },
  {
   "cell_type": "code",
   "execution_count": null,
   "metadata": {
    "collapsed": true
   },
   "outputs": [],
   "source": []
  }
 ],
 "metadata": {
  "kernelspec": {
   "display_name": "R",
   "language": "R",
   "name": "ir"
  },
  "language_info": {
   "codemirror_mode": "r",
   "file_extension": ".r",
   "mimetype": "text/x-r-source",
   "name": "R",
   "pygments_lexer": "r",
   "version": "3.3.1"
  }
 },
 "nbformat": 4,
 "nbformat_minor": 1
}
