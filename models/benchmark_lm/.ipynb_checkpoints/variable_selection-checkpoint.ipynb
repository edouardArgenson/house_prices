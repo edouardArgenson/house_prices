{
 "cells": [
  {
   "cell_type": "code",
   "execution_count": 1,
   "metadata": {
    "collapsed": false
   },
   "outputs": [],
   "source": [
    "library('lattice')\n",
    "library('ggplot2')\n",
    "library('caret')\n",
    "library('data.table')\n",
    "library('Metrics')\n",
    "library('MASS')\n",
    "library('e1071')"
   ]
  },
  {
   "cell_type": "code",
   "execution_count": 51,
   "metadata": {
    "collapsed": true
   },
   "outputs": [],
   "source": [
    "train = fread('~/kaggle/house_prices/data/train.csv',\n",
    "              colClasses=c('MiscFeature'='character','PoolQC'='character'))"
   ]
  },
  {
   "cell_type": "code",
   "execution_count": 52,
   "metadata": {
    "collapsed": false
   },
   "outputs": [
    {
     "data": {
      "text/html": [
       "<ol class=list-inline>\n",
       "\t<li>2</li>\n",
       "\t<li>1</li>\n",
       "\t<li>2</li>\n",
       "\t<li>2</li>\n",
       "\t<li>2</li>\n",
       "\t<li>1</li>\n",
       "\t<li>2</li>\n",
       "\t<li>1</li>\n",
       "\t<li>1</li>\n",
       "\t<li>1</li>\n",
       "\t<li>1</li>\n",
       "\t<li>3</li>\n",
       "\t<li>1</li>\n",
       "\t<li>2</li>\n",
       "\t<li>1</li>\n",
       "\t<li>1</li>\n",
       "\t<li>1</li>\n",
       "\t<li>1</li>\n",
       "\t<li>2</li>\n",
       "\t<li>1</li>\n",
       "\t<li>2</li>\n",
       "\t<li>2</li>\n",
       "\t<li>2</li>\n",
       "\t<li>1</li>\n",
       "\t<li>2</li>\n",
       "\t<li>2</li>\n",
       "\t<li>2</li>\n",
       "\t<li>2</li>\n",
       "\t<li>1</li>\n",
       "\t<li>0</li>\n",
       "</ol>\n"
      ],
      "text/latex": [
       "\\begin{enumerate*}\n",
       "\\item 2\n",
       "\\item 1\n",
       "\\item 2\n",
       "\\item 2\n",
       "\\item 2\n",
       "\\item 1\n",
       "\\item 2\n",
       "\\item 1\n",
       "\\item 1\n",
       "\\item 1\n",
       "\\item 1\n",
       "\\item 3\n",
       "\\item 1\n",
       "\\item 2\n",
       "\\item 1\n",
       "\\item 1\n",
       "\\item 1\n",
       "\\item 1\n",
       "\\item 2\n",
       "\\item 1\n",
       "\\item 2\n",
       "\\item 2\n",
       "\\item 2\n",
       "\\item 1\n",
       "\\item 2\n",
       "\\item 2\n",
       "\\item 2\n",
       "\\item 2\n",
       "\\item 1\n",
       "\\item 0\n",
       "\\end{enumerate*}\n"
      ],
      "text/markdown": [
       "1. 2\n",
       "2. 1\n",
       "3. 2\n",
       "4. 2\n",
       "5. 2\n",
       "6. 1\n",
       "7. 2\n",
       "8. 1\n",
       "9. 1\n",
       "10. 1\n",
       "11. 1\n",
       "12. 3\n",
       "13. 1\n",
       "14. 2\n",
       "15. 1\n",
       "16. 1\n",
       "17. 1\n",
       "18. 1\n",
       "19. 2\n",
       "20. 1\n",
       "21. 2\n",
       "22. 2\n",
       "23. 2\n",
       "24. 1\n",
       "25. 2\n",
       "26. 2\n",
       "27. 2\n",
       "28. 2\n",
       "29. 1\n",
       "30. 0\n",
       "\n",
       "\n"
      ],
      "text/plain": [
       " [1] 2 1 2 2 2 1 2 1 1 1 1 3 1 2 1 1 1 1 2 1 2 2 2 1 2 2 2 2 1 0"
      ]
     },
     "metadata": {},
     "output_type": "display_data"
    }
   ],
   "source": [
    "# Transform categorical argument KitchenQual into numerical\n",
    "nKitchenQual = numeric(length(train$KitchenQual))\n",
    "nKitchenQual[train$KitchenQual=='TA']=1.0\n",
    "nKitchenQual[train$KitchenQual=='Gd']=2.0\n",
    "nKitchenQual[train$KitchenQual=='Ex']=3.0\n",
    "head(nKitchenQual,30)\n",
    "train=cbind(train,nKitchenQual)\n",
    "#head(train)"
   ]
  },
  {
   "cell_type": "code",
   "execution_count": 53,
   "metadata": {
    "collapsed": true
   },
   "outputs": [],
   "source": [
    "kept_features = c(\"OverallQual\",\"GrLivArea\",\"YearBuilt\",\"BedroomAbvGr\",\"nKitchenQual\")\n",
    "train.kept = train[,c(kept_features,\"SalePrice\"),with=FALSE]"
   ]
  },
  {
   "cell_type": "code",
   "execution_count": 54,
   "metadata": {
    "collapsed": false
   },
   "outputs": [],
   "source": [
    "set.seed(4)\n",
    "inTrain = createDataPartition(train.kept$SalePrice,p=.75,list=FALSE)\n",
    "#print(inTrain)\n",
    "train.sample = train.kept[inTrain,]\n",
    "test.sample = train.kept[-inTrain,]"
   ]
  },
  {
   "cell_type": "code",
   "execution_count": 55,
   "metadata": {
    "collapsed": false,
    "scrolled": true
   },
   "outputs": [
    {
     "data": {
      "text/plain": [
       "\n",
       "Call:\n",
       "lm(formula = .outcome ~ ., data = dat)\n",
       "\n",
       "Residuals:\n",
       "    Min      1Q  Median      3Q     Max \n",
       "-317974  -17840     541   15287  248739 \n",
       "\n",
       "Coefficients:\n",
       "                                                              Estimate\n",
       "(Intercept)                                                 -8.342e+06\n",
       "OverallQual                                                  1.518e+06\n",
       "GrLivArea                                                    6.619e+03\n",
       "YearBuilt                                                    4.433e+03\n",
       "BedroomAbvGr                                                -6.109e+06\n",
       "nKitchenQual                                                 5.421e+06\n",
       "`OverallQual:GrLivArea`                                     -1.315e+03\n",
       "`OverallQual:YearBuilt`                                     -7.980e+02\n",
       "`GrLivArea:YearBuilt`                                       -3.460e+00\n",
       "`OverallQual:BedroomAbvGr`                                   9.770e+05\n",
       "`GrLivArea:BedroomAbvGr`                                     2.142e+03\n",
       "`YearBuilt:BedroomAbvGr`                                     3.075e+03\n",
       "`OverallQual:nKitchenQual`                                  -1.075e+06\n",
       "`GrLivArea:nKitchenQual`                                    -2.763e+03\n",
       "`YearBuilt:nKitchenQual`                                    -2.927e+03\n",
       "`BedroomAbvGr:nKitchenQual`                                  4.070e+06\n",
       "`OverallQual:GrLivArea:YearBuilt`                            6.912e-01\n",
       "`OverallQual:GrLivArea:BedroomAbvGr`                        -3.068e+02\n",
       "`OverallQual:YearBuilt:BedroomAbvGr`                        -4.915e+02\n",
       "`GrLivArea:YearBuilt:BedroomAbvGr`                          -1.063e+00\n",
       "`OverallQual:GrLivArea:nKitchenQual`                         5.583e+02\n",
       "`OverallQual:YearBuilt:nKitchenQual`                         5.732e+02\n",
       "`GrLivArea:YearBuilt:nKitchenQual`                           1.510e+00\n",
       "`OverallQual:BedroomAbvGr:nKitchenQual`                     -5.959e+05\n",
       "`GrLivArea:BedroomAbvGr:nKitchenQual`                       -1.890e+03\n",
       "`YearBuilt:BedroomAbvGr:nKitchenQual`                       -2.019e+03\n",
       "`OverallQual:GrLivArea:YearBuilt:BedroomAbvGr`               1.511e-01\n",
       "`OverallQual:GrLivArea:YearBuilt:nKitchenQual`              -3.000e-01\n",
       "`OverallQual:GrLivArea:BedroomAbvGr:nKitchenQual`            2.690e+02\n",
       "`OverallQual:YearBuilt:BedroomAbvGr:nKitchenQual`            2.950e+02\n",
       "`GrLivArea:YearBuilt:BedroomAbvGr:nKitchenQual`              9.263e-01\n",
       "`OverallQual:GrLivArea:YearBuilt:BedroomAbvGr:nKitchenQual` -1.313e-01\n",
       "                                                            Std. Error t value\n",
       "(Intercept)                                                  5.776e+06  -1.444\n",
       "OverallQual                                                  9.906e+05   1.532\n",
       "GrLivArea                                                    4.391e+03   1.507\n",
       "YearBuilt                                                    2.980e+03   1.487\n",
       "BedroomAbvGr                                                 2.243e+06  -2.724\n",
       "nKitchenQual                                                 3.666e+06   1.479\n",
       "`OverallQual:GrLivArea`                                      7.182e+02  -1.832\n",
       "`OverallQual:YearBuilt`                                      5.105e+02  -1.563\n",
       "`GrLivArea:YearBuilt`                                        2.254e+00  -1.535\n",
       "`OverallQual:BedroomAbvGr`                                   3.821e+05   2.557\n",
       "`GrLivArea:BedroomAbvGr`                                     1.343e+03   1.595\n",
       "`YearBuilt:BedroomAbvGr`                                     1.151e+03   2.671\n",
       "`OverallQual:nKitchenQual`                                   5.703e+05  -1.885\n",
       "`GrLivArea:nKitchenQual`                                     2.577e+03  -1.072\n",
       "`YearBuilt:nKitchenQual`                                     1.871e+03  -1.565\n",
       "`BedroomAbvGr:nKitchenQual`                                  1.443e+06   2.820\n",
       "`OverallQual:GrLivArea:YearBuilt`                            3.677e-01   1.880\n",
       "`OverallQual:GrLivArea:BedroomAbvGr`                         2.167e+02  -1.416\n",
       "`OverallQual:YearBuilt:BedroomAbvGr`                         1.959e+02  -2.509\n",
       "`GrLivArea:YearBuilt:BedroomAbvGr`                           6.878e-01  -1.545\n",
       "`OverallQual:GrLivArea:nKitchenQual`                         3.885e+02   1.437\n",
       "`OverallQual:YearBuilt:nKitchenQual`                         2.897e+02   1.979\n",
       "`GrLivArea:YearBuilt:nKitchenQual`                           1.310e+00   1.153\n",
       "`OverallQual:BedroomAbvGr:nKitchenQual`                      2.231e+05  -2.671\n",
       "`GrLivArea:BedroomAbvGr:nKitchenQual`                        8.526e+02  -2.216\n",
       "`YearBuilt:BedroomAbvGr:nKitchenQual`                        7.342e+02  -2.749\n",
       "`OverallQual:GrLivArea:YearBuilt:BedroomAbvGr`               1.109e-01   1.363\n",
       "`OverallQual:GrLivArea:YearBuilt:nKitchenQual`               1.963e-01  -1.528\n",
       "`OverallQual:GrLivArea:BedroomAbvGr:nKitchenQual`            1.276e+02   2.108\n",
       "`OverallQual:YearBuilt:BedroomAbvGr:nKitchenQual`            1.131e+02   2.608\n",
       "`GrLivArea:YearBuilt:BedroomAbvGr:nKitchenQual`              4.322e-01   2.143\n",
       "`OverallQual:GrLivArea:YearBuilt:BedroomAbvGr:nKitchenQual`  6.444e-02  -2.037\n",
       "                                                            Pr(>|t|)   \n",
       "(Intercept)                                                  0.14896   \n",
       "OverallQual                                                  0.12582   \n",
       "GrLivArea                                                    0.13202   \n",
       "YearBuilt                                                    0.13724   \n",
       "BedroomAbvGr                                                 0.00656 **\n",
       "nKitchenQual                                                 0.13943   \n",
       "`OverallQual:GrLivArea`                                      0.06729 . \n",
       "`OverallQual:YearBuilt`                                      0.11832   \n",
       "`GrLivArea:YearBuilt`                                        0.12497   \n",
       "`OverallQual:BedroomAbvGr`                                   0.01070 * \n",
       "`GrLivArea:BedroomAbvGr`                                     0.11099   \n",
       "`YearBuilt:BedroomAbvGr`                                     0.00767 **\n",
       "`OverallQual:nKitchenQual`                                   0.05970 . \n",
       "`GrLivArea:nKitchenQual`                                     0.28387   \n",
       "`YearBuilt:nKitchenQual`                                     0.11800   \n",
       "`BedroomAbvGr:nKitchenQual`                                  0.00489 **\n",
       "`OverallQual:GrLivArea:YearBuilt`                            0.06039 . \n",
       "`OverallQual:GrLivArea:BedroomAbvGr`                         0.15699   \n",
       "`OverallQual:YearBuilt:BedroomAbvGr`                         0.01225 * \n",
       "`GrLivArea:YearBuilt:BedroomAbvGr`                           0.12264   \n",
       "`OverallQual:GrLivArea:nKitchenQual`                         0.15103   \n",
       "`OverallQual:YearBuilt:nKitchenQual`                         0.04806 * \n",
       "`GrLivArea:YearBuilt:nKitchenQual`                           0.24919   \n",
       "`OverallQual:BedroomAbvGr:nKitchenQual`                      0.00767 **\n",
       "`GrLivArea:BedroomAbvGr:nKitchenQual`                        0.02687 * \n",
       "`YearBuilt:BedroomAbvGr:nKitchenQual`                        0.00607 **\n",
       "`OverallQual:GrLivArea:YearBuilt:BedroomAbvGr`               0.17327   \n",
       "`OverallQual:GrLivArea:YearBuilt:nKitchenQual`               0.12676   \n",
       "`OverallQual:GrLivArea:BedroomAbvGr:nKitchenQual`            0.03524 * \n",
       "`OverallQual:YearBuilt:BedroomAbvGr:nKitchenQual`            0.00923 **\n",
       "`GrLivArea:YearBuilt:BedroomAbvGr:nKitchenQual`              0.03232 * \n",
       "`OverallQual:GrLivArea:YearBuilt:BedroomAbvGr:nKitchenQual`  0.04189 * \n",
       "---\n",
       "Signif. codes:  0 ‘***’ 0.001 ‘**’ 0.01 ‘*’ 0.05 ‘.’ 0.1 ‘ ’ 1\n",
       "\n",
       "Residual standard error: 34130 on 1065 degrees of freedom\n",
       "Multiple R-squared:  0.8307,\tAdjusted R-squared:  0.8257 \n",
       "F-statistic: 168.5 on 31 and 1065 DF,  p-value: < 2.2e-16\n"
      ]
     },
     "metadata": {},
     "output_type": "display_data"
    }
   ],
   "source": [
    "# Let's fit the lm\n",
    "\n",
    "# Authorizing verbose\n",
    "bootControl = trainControl(number=25,verboseIter=TRUE)\n",
    "\n",
    "# Fitting\n",
    "lmFit = train(SalePrice ~ 1+OverallQual*GrLivArea*YearBuilt*BedroomAbvGr*nKitchenQual,\n",
    "              method='lm',data=train.sample,metric=\"RMSE\")\n",
    "summary(lmFit)"
   ]
  },
  {
   "cell_type": "code",
   "execution_count": 56,
   "metadata": {
    "collapsed": false
   },
   "outputs": [
    {
     "data": {
      "text/plain": [
       "\n",
       "Call:\n",
       "lm(formula = .outcome ~ ., data = dat)\n",
       "\n",
       "Residuals:\n",
       "    Min      1Q  Median      3Q     Max \n",
       "-515441  -19151    -808   16177  224413 \n",
       "\n",
       "Coefficients:\n",
       "                                                 Estimate Std. Error t value\n",
       "(Intercept)                                     1.336e+05  3.546e+03  37.682\n",
       "`OverallQual:nKitchenQual`                     -1.254e+05  3.120e+04  -4.017\n",
       "`nKitchenQual:GrLivArea`                       -3.873e+02  1.604e+02  -2.414\n",
       "`nKitchenQual:YearBuilt`                       -4.924e+01  5.890e+00  -8.361\n",
       "`OverallQual:nKitchenQual:GrLivArea`            9.572e+01  2.114e+01   4.528\n",
       "`OverallQual:nKitchenQual:YearBuilt`            6.916e+01  1.534e+01   4.509\n",
       "`nKitchenQual:GrLivArea:YearBuilt`              2.134e-01  8.128e-02   2.625\n",
       "`OverallQual:nKitchenQual:GrLivArea:YearBuilt` -4.845e-02  1.053e-02  -4.600\n",
       "                                               Pr(>|t|)    \n",
       "(Intercept)                                     < 2e-16 ***\n",
       "`OverallQual:nKitchenQual`                     6.29e-05 ***\n",
       "`nKitchenQual:GrLivArea`                        0.01593 *  \n",
       "`nKitchenQual:YearBuilt`                        < 2e-16 ***\n",
       "`OverallQual:nKitchenQual:GrLivArea`           6.60e-06 ***\n",
       "`OverallQual:nKitchenQual:YearBuilt`           7.23e-06 ***\n",
       "`nKitchenQual:GrLivArea:YearBuilt`              0.00878 ** \n",
       "`OverallQual:nKitchenQual:GrLivArea:YearBuilt` 4.73e-06 ***\n",
       "---\n",
       "Signif. codes:  0 ‘***’ 0.001 ‘**’ 0.01 ‘*’ 0.05 ‘.’ 0.1 ‘ ’ 1\n",
       "\n",
       "Residual standard error: 38360 on 1089 degrees of freedom\n",
       "Multiple R-squared:  0.7812,\tAdjusted R-squared:  0.7798 \n",
       "F-statistic: 555.4 on 7 and 1089 DF,  p-value: < 2.2e-16\n"
      ]
     },
     "metadata": {},
     "output_type": "display_data"
    }
   ],
   "source": [
    "lmFit2 = train(SalePrice ~ 1+OverallQual:nKitchenQual+GrLivArea:nKitchenQual+YearBuilt:nKitchenQual\n",
    "               +OverallQual:GrLivArea:nKitchenQual+OverallQual:YearBuilt:nKitchenQual\n",
    "               +GrLivArea:YearBuilt:nKitchenQual+OverallQual:GrLivArea:YearBuilt:nKitchenQual,\n",
    "              method='lm',data=train.sample,metric=\"RMSE\")\n",
    "summary(lmFit2)"
   ]
  },
  {
   "cell_type": "code",
   "execution_count": 57,
   "metadata": {
    "collapsed": false
   },
   "outputs": [
    {
     "data": {
      "text/html": [
       "<ol class=list-inline>\n",
       "\t<li>'data.table'</li>\n",
       "\t<li>'data.frame'</li>\n",
       "</ol>\n"
      ],
      "text/latex": [
       "\\begin{enumerate*}\n",
       "\\item 'data.table'\n",
       "\\item 'data.frame'\n",
       "\\end{enumerate*}\n"
      ],
      "text/markdown": [
       "1. 'data.table'\n",
       "2. 'data.frame'\n",
       "\n",
       "\n"
      ],
      "text/plain": [
       "[1] \"data.table\" \"data.frame\""
      ]
     },
     "metadata": {},
     "output_type": "display_data"
    },
    {
     "data": {
      "text/html": [
       "<table>\n",
       "<thead><tr><th></th><th scope=col>OverallQual:GrLivArea</th><th scope=col>GrLivArea:YearBuilt</th><th scope=col>OverallQual:BedroomAbvGr</th><th scope=col>GrLivArea:BedroomAbvGr</th><th scope=col>YearBuilt:BedroomAbvGr</th><th scope=col>OverallQual:nKitchenQual</th><th scope=col>GrLivArea:nKitchenQual</th><th scope=col>YearBuilt:nKitchenQual</th><th scope=col>nKitchenQual:GrLivArea</th><th scope=col>nKitchenQual:YearBuilt</th><th scope=col>⋯</th><th scope=col>OverallQual:YearBuilt:BedroomAbvGr:nKitchenQual</th><th scope=col>OverallQual:GrLivArea:YearBuilt:BedroomAbvGr</th><th scope=col>OverallQual:GrLivArea:YearBuilt:BedroomAbvGr:nKitchenQual</th><th scope=col>OverallQual:YearBuilt</th><th scope=col>OverallQual</th><th scope=col>GrLivArea</th><th scope=col>YearBuilt</th><th scope=col>BedroomAbvGr</th><th scope=col>nKitchenQual</th><th scope=col>SalePrice</th></tr></thead>\n",
       "<tbody>\n",
       "\t<tr><th scope=row>1</th><td>13552    </td><td>3394776  </td><td>24       </td><td>5082     </td><td>6012     </td><td>16       </td><td>3388     </td><td>4008     </td><td>3388     </td><td>4008     </td><td>⋯        </td><td>96192    </td><td>81474624 </td><td>162949248</td><td>16032    </td><td>8        </td><td>1694     </td><td>2004     </td><td>3        </td><td>2        </td><td>307000   </td></tr>\n",
       "\t<tr><th scope=row>2</th><td>5385    </td><td>2088303 </td><td>10      </td><td>2154    </td><td>3878    </td><td>5       </td><td>1077    </td><td>1939    </td><td>1077    </td><td>1939    </td><td>⋯       </td><td>19390   </td><td>20883030</td><td>20883030</td><td>9695    </td><td>5       </td><td>1077    </td><td>1939    </td><td>2       </td><td>1       </td><td>118000  </td></tr>\n",
       "\t<tr><th scope=row>3</th><td>20916    </td><td>4659620  </td><td>36       </td><td>9296     </td><td>8020     </td><td>27       </td><td>6972     </td><td>6015     </td><td>6972     </td><td>6015     </td><td>⋯        </td><td>216540   </td><td>167746320</td><td>503238960</td><td>18045    </td><td>9        </td><td>2324     </td><td>2005     </td><td>4        </td><td>3        </td><td>345000   </td></tr>\n",
       "\t<tr><th scope=row>4</th><td>4560    </td><td>1789344 </td><td>10      </td><td>1824    </td><td>3924    </td><td>5       </td><td>912     </td><td>1962    </td><td>912     </td><td>1962    </td><td>⋯       </td><td>19620   </td><td>17893440</td><td>17893440</td><td>9810    </td><td>5       </td><td>912     </td><td>1962    </td><td>2       </td><td>1       </td><td>144000  </td></tr>\n",
       "\t<tr><th scope=row>5</th><td>10458    </td><td>2996964  </td><td>21       </td><td>4482     </td><td>6018     </td><td>14       </td><td>2988     </td><td>4012     </td><td>2988     </td><td>4012     </td><td>⋯        </td><td>84252    </td><td>62936244 </td><td>125872488</td><td>14042    </td><td>7        </td><td>1494     </td><td>2006     </td><td>3        </td><td>2        </td><td>279500   </td></tr>\n",
       "\t<tr><th scope=row>6</th><td>5570    </td><td>2232456 </td><td>15      </td><td>3342    </td><td>6012    </td><td>10      </td><td>2228    </td><td>4008    </td><td>2228    </td><td>4008    </td><td>⋯       </td><td>60120   </td><td>33486840</td><td>66973680</td><td>10020   </td><td>5       </td><td>1114    </td><td>2004    </td><td>3       </td><td>2       </td><td>159000  </td></tr>\n",
       "</tbody>\n",
       "</table>\n"
      ],
      "text/latex": [
       "\\begin{tabular}{r|llllllllllllllllllllllllllllllllllllll}\n",
       "  & OverallQual:GrLivArea & GrLivArea:YearBuilt & OverallQual:BedroomAbvGr & GrLivArea:BedroomAbvGr & YearBuilt:BedroomAbvGr & OverallQual:nKitchenQual & GrLivArea:nKitchenQual & YearBuilt:nKitchenQual & nKitchenQual:GrLivArea & nKitchenQual:YearBuilt & ⋯ & OverallQual:YearBuilt:BedroomAbvGr:nKitchenQual & OverallQual:GrLivArea:YearBuilt:BedroomAbvGr & OverallQual:GrLivArea:YearBuilt:BedroomAbvGr:nKitchenQual & OverallQual:YearBuilt & OverallQual & GrLivArea & YearBuilt & BedroomAbvGr & nKitchenQual & SalePrice\\\\\n",
       "\\hline\n",
       "\t1 & 13552     & 3394776   & 24        & 5082      & 6012      & 16        & 3388      & 4008      & 3388      & 4008      & ⋯         & 96192     & 81474624  & 162949248 & 16032     & 8         & 1694      & 2004      & 3         & 2         & 307000   \\\\\n",
       "\t2 & 5385     & 2088303  & 10       & 2154     & 3878     & 5        & 1077     & 1939     & 1077     & 1939     & ⋯        & 19390    & 20883030 & 20883030 & 9695     & 5        & 1077     & 1939     & 2        & 1        & 118000  \\\\\n",
       "\t3 & 20916     & 4659620   & 36        & 9296      & 8020      & 27        & 6972      & 6015      & 6972      & 6015      & ⋯         & 216540    & 167746320 & 503238960 & 18045     & 9         & 2324      & 2005      & 4         & 3         & 345000   \\\\\n",
       "\t4 & 4560     & 1789344  & 10       & 1824     & 3924     & 5        & 912      & 1962     & 912      & 1962     & ⋯        & 19620    & 17893440 & 17893440 & 9810     & 5        & 912      & 1962     & 2        & 1        & 144000  \\\\\n",
       "\t5 & 10458     & 2996964   & 21        & 4482      & 6018      & 14        & 2988      & 4012      & 2988      & 4012      & ⋯         & 84252     & 62936244  & 125872488 & 14042     & 7         & 1494      & 2006      & 3         & 2         & 279500   \\\\\n",
       "\t6 & 5570     & 2232456  & 15       & 3342     & 6012     & 10       & 2228     & 4008     & 2228     & 4008     & ⋯        & 60120    & 33486840 & 66973680 & 10020    & 5        & 1114     & 2004     & 3        & 2        & 159000  \\\\\n",
       "\\end{tabular}\n"
      ],
      "text/plain": [
       "  OverallQual:GrLivArea GrLivArea:YearBuilt OverallQual:BedroomAbvGr\n",
       "1                 13552             3394776                       24\n",
       "2                  5385             2088303                       10\n",
       "3                 20916             4659620                       36\n",
       "4                  4560             1789344                       10\n",
       "5                 10458             2996964                       21\n",
       "6                  5570             2232456                       15\n",
       "  GrLivArea:BedroomAbvGr YearBuilt:BedroomAbvGr OverallQual:nKitchenQual\n",
       "1                   5082                   6012                       16\n",
       "2                   2154                   3878                        5\n",
       "3                   9296                   8020                       27\n",
       "4                   1824                   3924                        5\n",
       "5                   4482                   6018                       14\n",
       "6                   3342                   6012                       10\n",
       "  GrLivArea:nKitchenQual YearBuilt:nKitchenQual nKitchenQual:GrLivArea\n",
       "1                   3388                   4008                   3388\n",
       "2                   1077                   1939                   1077\n",
       "3                   6972                   6015                   6972\n",
       "4                    912                   1962                    912\n",
       "5                   2988                   4012                   2988\n",
       "6                   2228                   4008                   2228\n",
       "  nKitchenQual:YearBuilt ⋯ OverallQual:YearBuilt:BedroomAbvGr:nKitchenQual\n",
       "1                   4008 ⋯                                           96192\n",
       "2                   1939 ⋯                                           19390\n",
       "3                   6015 ⋯                                          216540\n",
       "4                   1962 ⋯                                           19620\n",
       "5                   4012 ⋯                                           84252\n",
       "6                   4008 ⋯                                           60120\n",
       "  OverallQual:GrLivArea:YearBuilt:BedroomAbvGr\n",
       "1                                     81474624\n",
       "2                                     20883030\n",
       "3                                    167746320\n",
       "4                                     17893440\n",
       "5                                     62936244\n",
       "6                                     33486840\n",
       "  OverallQual:GrLivArea:YearBuilt:BedroomAbvGr:nKitchenQual\n",
       "1                                                 162949248\n",
       "2                                                  20883030\n",
       "3                                                 503238960\n",
       "4                                                  17893440\n",
       "5                                                 125872488\n",
       "6                                                  66973680\n",
       "  OverallQual:YearBuilt OverallQual GrLivArea YearBuilt BedroomAbvGr\n",
       "1                 16032           8      1694      2004            3\n",
       "2                  9695           5      1077      1939            2\n",
       "3                 18045           9      2324      2005            4\n",
       "4                  9810           5       912      1962            2\n",
       "5                 14042           7      1494      2006            3\n",
       "6                 10020           5      1114      2004            3\n",
       "  nKitchenQual SalePrice\n",
       "1            2    307000\n",
       "2            1    118000\n",
       "3            3    345000\n",
       "4            1    144000\n",
       "5            2    279500\n",
       "6            2    159000"
      ]
     },
     "metadata": {},
     "output_type": "display_data"
    }
   ],
   "source": [
    "newdata2 = cbind(test.sample[,.('OverallQual:GrLivArea'=OverallQual*GrLivArea,\n",
    "                                'GrLivArea:YearBuilt'=GrLivArea*YearBuilt,\n",
    "                                'OverallQual:BedroomAbvGr'=OverallQual*BedroomAbvGr,\n",
    "                                'GrLivArea:BedroomAbvGr'=GrLivArea*BedroomAbvGr,\n",
    "                                'YearBuilt:BedroomAbvGr'=YearBuilt*BedroomAbvGr,\n",
    "                                'OverallQual:nKitchenQual'=OverallQual*nKitchenQual,\n",
    "                                'GrLivArea:nKitchenQual'=GrLivArea*nKitchenQual,\n",
    "                                'YearBuilt:nKitchenQual'=YearBuilt*nKitchenQual,\n",
    "                                'nKitchenQual:GrLivArea'=nKitchenQual*GrLivArea,\n",
    "                                'nKitchenQual:YearBuilt'=nKitchenQual*YearBuilt,\n",
    "                                'BedroomAbvGr:nKitchenQual'=BedroomAbvGr*nKitchenQual,\n",
    "                                'OverallQual:GrLivArea:YearBuilt'=OverallQual*GrLivArea*YearBuilt,\n",
    "                                'OverallQual:nKitchenQual:GrLivArea'=OverallQual*nKitchenQual*GrLivArea,\n",
    "                                'OverallQual:GrLivArea:BedroomAbvGr'=OverallQual*GrLivArea*BedroomAbvGr,\n",
    "                                'OverallQual:YearBuilt:BedroomAbvGr'=OverallQual*YearBuilt*BedroomAbvGr,\n",
    "                                'GrLivArea:YearBuilt:BedroomAbvGr'=GrLivArea*YearBuilt*BedroomAbvGr,\n",
    "                                'OverallQual:GrLivArea:nKitchenQual'=OverallQual*GrLivArea*nKitchenQual,\n",
    "                                'OverallQual:YearBuilt:nKitchenQual'=OverallQual*YearBuilt*nKitchenQual,\n",
    "                                'OverallQual:nKitchenQual:YearBuilt'=OverallQual*nKitchenQual*YearBuilt,\n",
    "                                'GrLivArea:YearBuilt:nKitchenQual'=GrLivArea*YearBuilt*nKitchenQual,\n",
    "                                'GrLivArea:BedroomAbvGr:nKitchenQual'=GrLivArea*BedroomAbvGr*nKitchenQual,\n",
    "                                'YearBuilt:BedroomAbvGr:nKitchenQual'=YearBuilt*BedroomAbvGr*nKitchenQual,\n",
    "                                'nKitchenQual:GrLivArea:YearBuilt'=nKitchenQual*GrLivArea*YearBuilt,\n",
    "                                'OverallQual:nKitchenQual:GrLivArea:YearBuilt'=OverallQual*nKitchenQual*GrLivArea*YearBuilt,\n",
    "                                'OverallQual:BedroomAbvGr:nKitchenQual'=OverallQual*BedroomAbvGr*nKitchenQual,\n",
    "                                'GrLivArea:YearBuilt:BedroomAbvGr:nKitchenQual'=GrLivArea*YearBuilt*BedroomAbvGr*nKitchenQual,\n",
    "                                'OverallQual:GrLivArea:BedroomAbvGr:nKitchenQual'=OverallQual*GrLivArea*BedroomAbvGr*nKitchenQual,\n",
    "                                'OverallQual:GrLivArea:YearBuilt:nKitchenQual'=OverallQual*GrLivArea*YearBuilt*nKitchenQual,\n",
    "                                'OverallQual:YearBuilt:BedroomAbvGr:nKitchenQual'=OverallQual*YearBuilt*BedroomAbvGr*nKitchenQual,\n",
    "                                'OverallQual:GrLivArea:YearBuilt:BedroomAbvGr'=OverallQual*GrLivArea*YearBuilt*BedroomAbvGr,\n",
    "                                'OverallQual:GrLivArea:YearBuilt:BedroomAbvGr:nKitchenQual'=OverallQual*GrLivArea*YearBuilt*BedroomAbvGr*nKitchenQual,\n",
    "                            'OverallQual:YearBuilt'=OverallQual*YearBuilt)],\n",
    "                 test.sample)\n",
    "class(newdata2)\n",
    "head(newdata2)"
   ]
  },
  {
   "cell_type": "code",
   "execution_count": 58,
   "metadata": {
    "collapsed": false,
    "scrolled": true
   },
   "outputs": [],
   "source": [
    "# Predictions on test set\n",
    "lmFit.prediction=predict(lmFit$finalModel,newdata=newdata2)\n",
    "lmFit2.prediction=predict(lmFit2$finalModel,newdata=newdata2)"
   ]
  },
  {
   "cell_type": "code",
   "execution_count": 59,
   "metadata": {
    "collapsed": false
   },
   "outputs": [
    {
     "data": {
      "text/html": [
       "0.192880766944039"
      ],
      "text/latex": [
       "0.192880766944039"
      ],
      "text/markdown": [
       "0.192880766944039"
      ],
      "text/plain": [
       "[1] 0.1928808"
      ]
     },
     "metadata": {},
     "output_type": "display_data"
    },
    {
     "data": {
      "text/html": [
       "0.199183915457383"
      ],
      "text/latex": [
       "0.199183915457383"
      ],
      "text/markdown": [
       "0.199183915457383"
      ],
      "text/plain": [
       "[1] 0.1991839"
      ]
     },
     "metadata": {},
     "output_type": "display_data"
    }
   ],
   "source": [
    "rmsle(test.sample$SalePrice[-132],lmFit.prediction[-132])\n",
    "rmsle(test.sample$SalePrice[-132],lmFit2.prediction[-132])\n",
    "# with FullBath: rmsle=0.210535247051718 (without id132)"
   ]
  },
  {
   "cell_type": "code",
   "execution_count": 60,
   "metadata": {
    "collapsed": false
   },
   "outputs": [
    {
     "data": {
      "text/html": [
       "<strong>132:</strong> 135639.727651071"
      ],
      "text/latex": [
       "\\textbf{132:} 135639.727651071"
      ],
      "text/markdown": [
       "**132:** 135639.727651071"
      ],
      "text/plain": [
       "     132 \n",
       "135639.7 "
      ]
     },
     "metadata": {},
     "output_type": "display_data"
    },
    {
     "data": {
      "text/html": [
       "<strong>132:</strong> 133607.658214361"
      ],
      "text/latex": [
       "\\textbf{132:} 133607.658214361"
      ],
      "text/markdown": [
       "**132:** 133607.658214361"
      ],
      "text/plain": [
       "     132 \n",
       "133607.7 "
      ]
     },
     "metadata": {},
     "output_type": "display_data"
    }
   ],
   "source": [
    "lmFit.prediction[132]\n",
    "lmFit2.prediction[132]"
   ]
  },
  {
   "cell_type": "code",
   "execution_count": 61,
   "metadata": {
    "collapsed": false
   },
   "outputs": [
    {
     "data": {
      "text/html": [
       "0.203292513483018"
      ],
      "text/latex": [
       "0.203292513483018"
      ],
      "text/markdown": [
       "0.203292513483018"
      ],
      "text/plain": [
       "[1] 0.2032925"
      ]
     },
     "metadata": {},
     "output_type": "display_data"
    },
    {
     "data": {
      "text/html": [
       "0.209021255396121"
      ],
      "text/latex": [
       "0.209021255396121"
      ],
      "text/markdown": [
       "0.209021255396121"
      ],
      "text/plain": [
       "[1] 0.2090213"
      ]
     },
     "metadata": {},
     "output_type": "display_data"
    }
   ],
   "source": [
    "rmsle(test.sample$SalePrice,lmFit.prediction)\n",
    "rmsle(test.sample$SalePrice,lmFit2.prediction)"
   ]
  },
  {
   "cell_type": "code",
   "execution_count": null,
   "metadata": {
    "collapsed": false
   },
   "outputs": [],
   "source": []
  },
  {
   "cell_type": "code",
   "execution_count": null,
   "metadata": {
    "collapsed": false
   },
   "outputs": [],
   "source": []
  },
  {
   "cell_type": "code",
   "execution_count": null,
   "metadata": {
    "collapsed": true
   },
   "outputs": [],
   "source": []
  },
  {
   "cell_type": "code",
   "execution_count": null,
   "metadata": {
    "collapsed": true
   },
   "outputs": [],
   "source": []
  },
  {
   "cell_type": "code",
   "execution_count": null,
   "metadata": {
    "collapsed": true
   },
   "outputs": [],
   "source": []
  },
  {
   "cell_type": "code",
   "execution_count": 62,
   "metadata": {
    "collapsed": true
   },
   "outputs": [],
   "source": [
    "kept_features = c(\"OverallQual\",\"GrLivArea\",\"YearBuilt\",\"BedroomAbvGr\",\"nKitchenQual\",\"FullBath\")\n",
    "train.kept = train[,c(kept_features,\"SalePrice\"),with=FALSE]\n",
    "set.seed(4)\n",
    "inTrain = createDataPartition(train.kept$SalePrice,p=.75,list=FALSE)\n",
    "#print(inTrain)\n",
    "train.sample = train.kept[inTrain,]\n",
    "test.sample = train.kept[-inTrain,]"
   ]
  },
  {
   "cell_type": "code",
   "execution_count": 63,
   "metadata": {
    "collapsed": true
   },
   "outputs": [],
   "source": [
    "library('MASS')"
   ]
  },
  {
   "cell_type": "code",
   "execution_count": 64,
   "metadata": {
    "collapsed": true
   },
   "outputs": [],
   "source": [
    "# modèle trivial réduit à la constante\n",
    "str_constant = '~ 1'"
   ]
  },
  {
   "cell_type": "code",
   "execution_count": 65,
   "metadata": {
    "collapsed": false
   },
   "outputs": [],
   "source": [
    "# modèle complet incluant toutes les explicatives potentielles\n",
    "str_full = \"~ (OverallQual + GrLivArea + YearBuilt + BedroomAbvGr + nKitchenQual + FullBath)^3\""
   ]
  },
  {
   "cell_type": "code",
   "execution_count": 66,
   "metadata": {
    "collapsed": false
   },
   "outputs": [],
   "source": [
    "# départ modèle avec la seule constante + sélection forward\n",
    "#modele = lm(SalePrice ~ 1, data = train.sample)\n",
    "#modele.forward = stepAIC(modele, scope = list(lower=str_constant,upper=str_full), \n",
    "#                         trace=TRUE, data=train.sample, direction = 'forward')"
   ]
  },
  {
   "cell_type": "code",
   "execution_count": null,
   "metadata": {
    "collapsed": true
   },
   "outputs": [],
   "source": []
  },
  {
   "cell_type": "code",
   "execution_count": 67,
   "metadata": {
    "collapsed": false
   },
   "outputs": [
    {
     "data": {
      "text/plain": [
       "\n",
       "Call:\n",
       "lm(formula = .outcome ~ ., data = dat)\n",
       "\n",
       "Residuals:\n",
       "    Min      1Q  Median      3Q     Max \n",
       "-555942  -17828    -691   15459  225451 \n",
       "\n",
       "Coefficients:\n",
       "                             Estimate Std. Error t value Pr(>|t|)    \n",
       "(Intercept)                -6.752e+05  9.153e+04  -7.377 3.21e-13 ***\n",
       "OverallQual                -8.446e+03  2.419e+03  -3.492 0.000499 ***\n",
       "GrLivArea                   1.953e+01  1.040e+01   1.877 0.060777 .  \n",
       "YearBuilt                   4.018e+02  4.770e+01   8.424  < 2e-16 ***\n",
       "nKitchenQual               -5.000e+04  8.300e+03  -6.024 2.33e-09 ***\n",
       "BedroomAbvGr               -4.491e+03  1.777e+03  -2.527 0.011659 *  \n",
       "`OverallQual:GrLivArea`     7.012e+00  1.396e+00   5.022 5.96e-07 ***\n",
       "`OverallQual:nKitchenQual`  1.088e+04  1.263e+03   8.619  < 2e-16 ***\n",
       "---\n",
       "Signif. codes:  0 ‘***’ 0.001 ‘**’ 0.01 ‘*’ 0.05 ‘.’ 0.1 ‘ ’ 1\n",
       "\n",
       "Residual standard error: 36750 on 1089 degrees of freedom\n",
       "Multiple R-squared:  0.7992,\tAdjusted R-squared:  0.7979 \n",
       "F-statistic:   619 on 7 and 1089 DF,  p-value: < 2.2e-16\n"
      ]
     },
     "metadata": {},
     "output_type": "display_data"
    }
   ],
   "source": [
    "lmFit3 = train(SalePrice ~ OverallQual + GrLivArea + YearBuilt + nKitchenQual + \n",
    "    BedroomAbvGr + OverallQual:GrLivArea + OverallQual:nKitchenQual,\n",
    "              method='lm',data=train.sample,metric=\"RMSE\")\n",
    "summary(lmFit3)"
   ]
  },
  {
   "cell_type": "code",
   "execution_count": 68,
   "metadata": {
    "collapsed": false
   },
   "outputs": [
    {
     "data": {
      "text/html": [
       "<table>\n",
       "<thead><tr><th></th><th scope=col>OverallQual</th><th scope=col>GrLivArea</th><th scope=col>YearBuilt</th><th scope=col>BedroomAbvGr</th><th scope=col>nKitchenQual</th><th scope=col>FullBath</th><th scope=col>SalePrice</th><th scope=col>OverallQual:GrLivArea</th><th scope=col>OverallQual:nKitchenQual</th></tr></thead>\n",
       "<tbody>\n",
       "\t<tr><th scope=row>1</th><td>     8</td><td>  1694</td><td>  2004</td><td>     3</td><td>     2</td><td>     2</td><td>307000</td><td> 13552</td><td>    16</td></tr>\n",
       "\t<tr><th scope=row>2</th><td>     5</td><td>  1077</td><td>  1939</td><td>     2</td><td>     1</td><td>     1</td><td>118000</td><td>  5385</td><td>     5</td></tr>\n",
       "\t<tr><th scope=row>3</th><td>     9</td><td>  2324</td><td>  2005</td><td>     4</td><td>     3</td><td>     3</td><td>345000</td><td> 20916</td><td>    27</td></tr>\n",
       "\t<tr><th scope=row>4</th><td>     5</td><td>   912</td><td>  1962</td><td>     2</td><td>     1</td><td>     1</td><td>144000</td><td>  4560</td><td>     5</td></tr>\n",
       "\t<tr><th scope=row>5</th><td>     7</td><td>  1494</td><td>  2006</td><td>     3</td><td>     2</td><td>     2</td><td>279500</td><td> 10458</td><td>    14</td></tr>\n",
       "\t<tr><th scope=row>6</th><td>     5</td><td>  1114</td><td>  2004</td><td>     3</td><td>     2</td><td>     1</td><td>159000</td><td>  5570</td><td>    10</td></tr>\n",
       "</tbody>\n",
       "</table>\n"
      ],
      "text/latex": [
       "\\begin{tabular}{r|lllllllll}\n",
       "  & OverallQual & GrLivArea & YearBuilt & BedroomAbvGr & nKitchenQual & FullBath & SalePrice & OverallQual:GrLivArea & OverallQual:nKitchenQual\\\\\n",
       "\\hline\n",
       "\t1 &      8 &   1694 &   2004 &      3 &      2 &      2 & 307000 &  13552 &     16\\\\\n",
       "\t2 &      5 &   1077 &   1939 &      2 &      1 &      1 & 118000 &   5385 &      5\\\\\n",
       "\t3 &      9 &   2324 &   2005 &      4 &      3 &      3 & 345000 &  20916 &     27\\\\\n",
       "\t4 &      5 &    912 &   1962 &      2 &      1 &      1 & 144000 &   4560 &      5\\\\\n",
       "\t5 &      7 &   1494 &   2006 &      3 &      2 &      2 & 279500 &  10458 &     14\\\\\n",
       "\t6 &      5 &   1114 &   2004 &      3 &      2 &      1 & 159000 &   5570 &     10\\\\\n",
       "\\end{tabular}\n"
      ],
      "text/plain": [
       "  OverallQual GrLivArea YearBuilt BedroomAbvGr nKitchenQual FullBath SalePrice\n",
       "1           8      1694      2004            3            2        2    307000\n",
       "2           5      1077      1939            2            1        1    118000\n",
       "3           9      2324      2005            4            3        3    345000\n",
       "4           5       912      1962            2            1        1    144000\n",
       "5           7      1494      2006            3            2        2    279500\n",
       "6           5      1114      2004            3            2        1    159000\n",
       "  OverallQual:GrLivArea OverallQual:nKitchenQual\n",
       "1                 13552                       16\n",
       "2                  5385                        5\n",
       "3                 20916                       27\n",
       "4                  4560                        5\n",
       "5                 10458                       14\n",
       "6                  5570                       10"
      ]
     },
     "metadata": {},
     "output_type": "display_data"
    }
   ],
   "source": [
    "newdata3 = cbind(test.sample,test.sample[,.('OverallQual:GrLivArea'=OverallQual*GrLivArea,'OverallQual:nKitchenQual'=OverallQual*nKitchenQual)])\n",
    "head(newdata3)"
   ]
  },
  {
   "cell_type": "code",
   "execution_count": 69,
   "metadata": {
    "collapsed": false
   },
   "outputs": [],
   "source": [
    "lmFit3.prediction=predict(lmFit3$finalModel,newdata=newdata3)"
   ]
  },
  {
   "cell_type": "code",
   "execution_count": 70,
   "metadata": {
    "collapsed": false
   },
   "outputs": [
    {
     "data": {
      "text/html": [
       "0.190142159415914"
      ],
      "text/latex": [
       "0.190142159415914"
      ],
      "text/markdown": [
       "0.190142159415914"
      ],
      "text/plain": [
       "[1] 0.1901422"
      ]
     },
     "metadata": {},
     "output_type": "display_data"
    }
   ],
   "source": [
    "rmsle(test.sample$SalePrice,lmFit3.prediction)"
   ]
  },
  {
   "cell_type": "code",
   "execution_count": 71,
   "metadata": {
    "collapsed": false
   },
   "outputs": [
    {
     "data": {
      "text/html": [
       "<strong>132:</strong> 102625.59012393"
      ],
      "text/latex": [
       "\\textbf{132:} 102625.59012393"
      ],
      "text/markdown": [
       "**132:** 102625.59012393"
      ],
      "text/plain": [
       "     132 \n",
       "102625.6 "
      ]
     },
     "metadata": {},
     "output_type": "display_data"
    }
   ],
   "source": [
    "lmFit3.prediction[132]"
   ]
  },
  {
   "cell_type": "code",
   "execution_count": 72,
   "metadata": {
    "collapsed": false
   },
   "outputs": [
    {
     "data": {
      "text/html": [
       "39300"
      ],
      "text/latex": [
       "39300"
      ],
      "text/markdown": [
       "39300"
      ],
      "text/plain": [
       "[1] 39300"
      ]
     },
     "metadata": {},
     "output_type": "display_data"
    }
   ],
   "source": [
    "test.sample$SalePrice[132]"
   ]
  },
  {
   "cell_type": "code",
   "execution_count": null,
   "metadata": {
    "collapsed": false
   },
   "outputs": [],
   "source": []
  },
  {
   "cell_type": "code",
   "execution_count": null,
   "metadata": {
    "collapsed": false
   },
   "outputs": [],
   "source": [
    "\n"
   ]
  },
  {
   "cell_type": "code",
   "execution_count": 73,
   "metadata": {
    "collapsed": false
   },
   "outputs": [],
   "source": [
    "# Il faut renommer les colonnes 1stFlrSF, 2ndFlrSF, et 3SsnPorch pour pas avoir d'emmerdes\n",
    "FirstFlrSF=train$'1stFlrSF'\n",
    "SecondFlrSF=train$'2ndFlrSF'\n",
    "ThreeSsnPorch=train$'3SsnPorch'\n",
    "new_names = names(train)[-which(names(train)=='1stFlrSF'|names(train)=='2ndFlrSF'|names(train)=='3SsnPorch')]\n",
    "to_add = data.table(FirstFlrSF,SecondFlrSF,ThreeSsnPorch)\n",
    "train = cbind(train[,new_names,with=FALSE],to_add)\n",
    "#str(train)\n"
   ]
  },
  {
   "cell_type": "code",
   "execution_count": 74,
   "metadata": {
    "collapsed": true
   },
   "outputs": [],
   "source": [
    "kept_features4 = c(\"LotArea\", \"OverallQual\", \"OverallCond\", \"YearBuilt\", \"YearRemodAdd\", \"BsmtFinSF1\", \"BsmtFinSF2\",\n",
    "                  \"BsmtUnfSF\", \"TotalBsmtSF\", \"LowQualFinSF\", \"GrLivArea\", \"BsmtFullBath\",\n",
    "                  \"BsmtHalfBath\", \"FullBath\", \"HalfBath\", \"BedroomAbvGr\", \"KitchenAbvGr\", \"TotRmsAbvGrd\", \"Fireplaces\",\n",
    "                  \"GarageCars\", \"GarageArea\", \"WoodDeckSF\", \"OpenPorchSF\", \"EnclosedPorch\", \"ScreenPorch\", \n",
    "                  \"MiscVal\", \"MoSold\", \"YrSold\",\"PoolArea\",\"FirstFlrSF\",\"SecondFlrSF\",\"ThreeSsnPorch\")\n",
    "train.kept4 = train[,c(kept_features4,\"SalePrice\"),with=FALSE]"
   ]
  },
  {
   "cell_type": "code",
   "execution_count": 75,
   "metadata": {
    "collapsed": false
   },
   "outputs": [],
   "source": [
    "set.seed(4)\n",
    "inTrain = createDataPartition(train.kept$SalePrice,p=.75,list=FALSE)\n",
    "#print(inTrain)\n",
    "train.sample = train.kept4[inTrain,]\n",
    "test.sample = train.kept4[-inTrain,]"
   ]
  },
  {
   "cell_type": "code",
   "execution_count": 76,
   "metadata": {
    "collapsed": false
   },
   "outputs": [
    {
     "data": {
      "text/html": [
       "33"
      ],
      "text/latex": [
       "33"
      ],
      "text/markdown": [
       "33"
      ],
      "text/plain": [
       "[1] 33"
      ]
     },
     "metadata": {},
     "output_type": "display_data"
    },
    {
     "data": {
      "text/html": [
       "<table>\n",
       "<thead><tr><th></th><th scope=col>LotArea</th><th scope=col>OverallQual</th><th scope=col>OverallCond</th><th scope=col>YearBuilt</th><th scope=col>YearRemodAdd</th><th scope=col>BsmtFinSF1</th><th scope=col>BsmtFinSF2</th><th scope=col>BsmtUnfSF</th><th scope=col>TotalBsmtSF</th><th scope=col>LowQualFinSF</th><th scope=col>⋯</th><th scope=col>EnclosedPorch</th><th scope=col>ScreenPorch</th><th scope=col>MiscVal</th><th scope=col>MoSold</th><th scope=col>YrSold</th><th scope=col>PoolArea</th><th scope=col>FirstFlrSF</th><th scope=col>SecondFlrSF</th><th scope=col>ThreeSsnPorch</th><th scope=col>SalePrice</th></tr></thead>\n",
       "<tbody>\n",
       "\t<tr><th scope=row>1</th><td>8450  </td><td>7     </td><td>5     </td><td>2003  </td><td>2003  </td><td>706   </td><td>0     </td><td>150   </td><td>856   </td><td>0     </td><td>⋯     </td><td>0     </td><td>0     </td><td>0     </td><td>2     </td><td>2008  </td><td>0     </td><td>856   </td><td>854   </td><td>0     </td><td>208500</td></tr>\n",
       "\t<tr><th scope=row>2</th><td>9600  </td><td>6     </td><td>8     </td><td>1976  </td><td>1976  </td><td>978   </td><td>0     </td><td>284   </td><td>1262  </td><td>0     </td><td>⋯     </td><td>0     </td><td>0     </td><td>0     </td><td>5     </td><td>2007  </td><td>0     </td><td>1262  </td><td>0     </td><td>0     </td><td>181500</td></tr>\n",
       "\t<tr><th scope=row>3</th><td>11250 </td><td>7     </td><td>5     </td><td>2001  </td><td>2002  </td><td>486   </td><td>0     </td><td>434   </td><td>920   </td><td>0     </td><td>⋯     </td><td>0     </td><td>0     </td><td>0     </td><td>9     </td><td>2008  </td><td>0     </td><td>920   </td><td>866   </td><td>0     </td><td>223500</td></tr>\n",
       "\t<tr><th scope=row>4</th><td>9550  </td><td>7     </td><td>5     </td><td>1915  </td><td>1970  </td><td>216   </td><td>0     </td><td>540   </td><td>756   </td><td>0     </td><td>⋯     </td><td>272   </td><td>0     </td><td>0     </td><td>2     </td><td>2006  </td><td>0     </td><td>961   </td><td>756   </td><td>0     </td><td>140000</td></tr>\n",
       "\t<tr><th scope=row>5</th><td>14260 </td><td>8     </td><td>5     </td><td>2000  </td><td>2000  </td><td>655   </td><td>0     </td><td>490   </td><td>1145  </td><td>0     </td><td>⋯     </td><td>0     </td><td>0     </td><td>0     </td><td>12    </td><td>2008  </td><td>0     </td><td>1145  </td><td>1053  </td><td>0     </td><td>250000</td></tr>\n",
       "\t<tr><th scope=row>6</th><td>14115 </td><td>5     </td><td>5     </td><td>1993  </td><td>1995  </td><td>732   </td><td>0     </td><td>64    </td><td>796   </td><td>0     </td><td>⋯     </td><td>0     </td><td>0     </td><td>700   </td><td>10    </td><td>2009  </td><td>0     </td><td>796   </td><td>566   </td><td>320   </td><td>143000</td></tr>\n",
       "</tbody>\n",
       "</table>\n"
      ],
      "text/latex": [
       "\\begin{tabular}{r|lllllllllllllllllllllllllllllllll}\n",
       "  & LotArea & OverallQual & OverallCond & YearBuilt & YearRemodAdd & BsmtFinSF1 & BsmtFinSF2 & BsmtUnfSF & TotalBsmtSF & LowQualFinSF & ⋯ & EnclosedPorch & ScreenPorch & MiscVal & MoSold & YrSold & PoolArea & FirstFlrSF & SecondFlrSF & ThreeSsnPorch & SalePrice\\\\\n",
       "\\hline\n",
       "\t1 & 8450   & 7      & 5      & 2003   & 2003   & 706    & 0      & 150    & 856    & 0      & ⋯      & 0      & 0      & 0      & 2      & 2008   & 0      & 856    & 854    & 0      & 208500\\\\\n",
       "\t2 & 9600   & 6      & 8      & 1976   & 1976   & 978    & 0      & 284    & 1262   & 0      & ⋯      & 0      & 0      & 0      & 5      & 2007   & 0      & 1262   & 0      & 0      & 181500\\\\\n",
       "\t3 & 11250  & 7      & 5      & 2001   & 2002   & 486    & 0      & 434    & 920    & 0      & ⋯      & 0      & 0      & 0      & 9      & 2008   & 0      & 920    & 866    & 0      & 223500\\\\\n",
       "\t4 & 9550   & 7      & 5      & 1915   & 1970   & 216    & 0      & 540    & 756    & 0      & ⋯      & 272    & 0      & 0      & 2      & 2006   & 0      & 961    & 756    & 0      & 140000\\\\\n",
       "\t5 & 14260  & 8      & 5      & 2000   & 2000   & 655    & 0      & 490    & 1145   & 0      & ⋯      & 0      & 0      & 0      & 12     & 2008   & 0      & 1145   & 1053   & 0      & 250000\\\\\n",
       "\t6 & 14115  & 5      & 5      & 1993   & 1995   & 732    & 0      & 64     & 796    & 0      & ⋯      & 0      & 0      & 700    & 10     & 2009   & 0      & 796    & 566    & 320    & 143000\\\\\n",
       "\\end{tabular}\n"
      ],
      "text/plain": [
       "  LotArea OverallQual OverallCond YearBuilt YearRemodAdd BsmtFinSF1 BsmtFinSF2\n",
       "1    8450           7           5      2003         2003        706          0\n",
       "2    9600           6           8      1976         1976        978          0\n",
       "3   11250           7           5      2001         2002        486          0\n",
       "4    9550           7           5      1915         1970        216          0\n",
       "5   14260           8           5      2000         2000        655          0\n",
       "6   14115           5           5      1993         1995        732          0\n",
       "  BsmtUnfSF TotalBsmtSF LowQualFinSF ⋯ EnclosedPorch ScreenPorch MiscVal MoSold\n",
       "1       150         856            0 ⋯             0           0       0      2\n",
       "2       284        1262            0 ⋯             0           0       0      5\n",
       "3       434         920            0 ⋯             0           0       0      9\n",
       "4       540         756            0 ⋯           272           0       0      2\n",
       "5       490        1145            0 ⋯             0           0       0     12\n",
       "6        64         796            0 ⋯             0           0     700     10\n",
       "  YrSold PoolArea FirstFlrSF SecondFlrSF ThreeSsnPorch SalePrice\n",
       "1   2008        0        856         854             0    208500\n",
       "2   2007        0       1262           0             0    181500\n",
       "3   2008        0        920         866             0    223500\n",
       "4   2006        0        961         756             0    140000\n",
       "5   2008        0       1145        1053             0    250000\n",
       "6   2009        0        796         566           320    143000"
      ]
     },
     "metadata": {},
     "output_type": "display_data"
    }
   ],
   "source": [
    "ncol(train.sample)\n",
    "head(train.sample)"
   ]
  },
  {
   "cell_type": "code",
   "execution_count": 77,
   "metadata": {
    "collapsed": true
   },
   "outputs": [],
   "source": [
    "# modèle trivial réduit à la constante\n",
    "str_constant = '~ 1'"
   ]
  },
  {
   "cell_type": "code",
   "execution_count": 78,
   "metadata": {
    "collapsed": false
   },
   "outputs": [],
   "source": [
    "# modèle complet incluant toutes les explicatives potentielles\n",
    "str_full = \"~ LotArea + OverallQual + OverallCond + YearBuilt + YearRemodAdd + BsmtFinSF1 + \n",
    "                BsmtFinSF2 + BsmtUnfSF + TotalBsmtSF + LowQualFinSF + GrLivArea + BsmtFullBath + \n",
    "                BsmtHalfBath + FullBath + HalfBath + BedroomAbvGr + KitchenAbvGr + TotRmsAbvGrd + \n",
    "                Fireplaces + GarageCars + GarageArea + WoodDeckSF + OpenPorchSF + EnclosedPorch + \n",
    "                ScreenPorch + MiscVal + MoSold + YrSold + PoolArea + FirstFlrSF + SecondFlrSF + ThreeSsnPorch\""
   ]
  },
  {
   "cell_type": "code",
   "execution_count": 81,
   "metadata": {
    "collapsed": false
   },
   "outputs": [
    {
     "name": "stdout",
     "output_type": "stream",
     "text": [
      "Start:  AIC=24818.26\n",
      "SalePrice ~ 1\n",
      "\n",
      "                Df  Sum of Sq        RSS   AIC\n",
      "+ OverallQual    1 4.5423e+12 2.7823e+12 23758\n",
      "+ GrLivArea      1 3.8280e+12 3.4966e+12 24009\n",
      "+ GarageCars     1 2.9380e+12 4.3866e+12 24258\n",
      "+ GarageArea     1 2.7620e+12 4.5626e+12 24301\n",
      "+ TotalBsmtSF    1 2.7598e+12 4.5649e+12 24302\n",
      "+ FirstFlrSF     1 2.7207e+12 4.6039e+12 24311\n",
      "+ FullBath       1 2.4144e+12 4.9102e+12 24382\n",
      "+ TotRmsAbvGrd   1 2.2280e+12 5.0966e+12 24422\n",
      "+ YearBuilt      1 1.9580e+12 5.3667e+12 24479\n",
      "+ YearRemodAdd   1 1.7855e+12 5.5392e+12 24514\n",
      "+ Fireplaces     1 1.6311e+12 5.6936e+12 24544\n",
      "+ BsmtFinSF1     1 1.1015e+12 6.2232e+12 24642\n",
      "+ WoodDeckSF     1 8.7202e+11 6.4526e+12 24681\n",
      "+ SecondFlrSF    1 8.6472e+11 6.4599e+12 24682\n",
      "+ OpenPorchSF    1 7.4840e+11 6.5762e+12 24702\n",
      "+ HalfBath       1 5.8003e+11 6.7446e+12 24730\n",
      "+ LotArea        1 4.8796e+11 6.8367e+12 24745\n",
      "+ BsmtUnfSF      1 3.5334e+11 6.9713e+12 24766\n",
      "+ BsmtFullBath   1 3.2776e+11 6.9969e+12 24770\n",
      "+ BedroomAbvGr   1 2.7902e+11 7.0456e+12 24778\n",
      "+ EnclosedPorch  1 1.1732e+11 7.2073e+12 24802\n",
      "+ KitchenAbvGr   1 1.0906e+11 7.2156e+12 24804\n",
      "+ PoolArea       1 9.4739e+10 7.2299e+12 24806\n",
      "+ ScreenPorch    1 8.1413e+10 7.2432e+12 24808\n",
      "+ OverallCond    1 4.7623e+10 7.2770e+12 24813\n",
      "+ ThreeSsnPorch  1 3.2655e+10 7.2920e+12 24815\n",
      "<none>                        7.3246e+12 24818\n",
      "+ LowQualFinSF   1 1.1112e+10 7.3135e+12 24819\n",
      "+ YrSold         1 1.0629e+10 7.3140e+12 24819\n",
      "+ MoSold         1 7.4796e+09 7.3172e+12 24819\n",
      "+ MiscVal        1 2.0391e+09 7.3226e+12 24820\n",
      "+ BsmtHalfBath   1 3.2987e+08 7.3243e+12 24820\n",
      "+ BsmtFinSF2     1 2.6382e+08 7.3244e+12 24820\n",
      "\n",
      "Step:  AIC=23758.4\n",
      "SalePrice ~ OverallQual\n",
      "\n",
      "                Df  Sum of Sq        RSS   AIC\n",
      "+ GrLivArea      1 7.3094e+11 2.0514e+12 23426\n",
      "+ FirstFlrSF     1 5.3035e+11 2.2520e+12 23528\n",
      "+ TotRmsAbvGrd   1 3.9615e+11 2.3862e+12 23592\n",
      "+ TotalBsmtSF    1 3.8013e+11 2.4022e+12 23599\n",
      "+ GarageArea     1 3.2228e+11 2.4600e+12 23625\n",
      "+ GarageCars     1 3.0055e+11 2.4818e+12 23635\n",
      "+ BsmtFinSF1     1 2.9923e+11 2.4831e+12 23636\n",
      "+ LotArea        1 2.3948e+11 2.5428e+12 23662\n",
      "+ Fireplaces     1 2.1450e+11 2.5678e+12 23672\n",
      "+ FullBath       1 1.8250e+11 2.5998e+12 23686\n",
      "+ WoodDeckSF     1 1.5066e+11 2.6316e+12 23699\n",
      "+ BsmtFullBath   1 1.1406e+11 2.6682e+12 23714\n",
      "+ SecondFlrSF    1 8.0166e+10 2.7021e+12 23728\n",
      "+ BedroomAbvGr   1 6.3117e+10 2.7192e+12 23735\n",
      "+ YearBuilt      1 4.2323e+10 2.7400e+12 23744\n",
      "+ OpenPorchSF    1 4.0903e+10 2.7414e+12 23744\n",
      "+ YearRemodAdd   1 3.9422e+10 2.7429e+12 23745\n",
      "+ HalfBath       1 3.1263e+10 2.7510e+12 23748\n",
      "+ ScreenPorch    1 2.2694e+10 2.7596e+12 23751\n",
      "+ PoolArea       1 1.6895e+10 2.7654e+12 23754\n",
      "+ BsmtHalfBath   1 8.2862e+09 2.7740e+12 23757\n",
      "+ EnclosedPorch  1 8.0287e+09 2.7743e+12 23757\n",
      "+ BsmtFinSF2     1 7.4582e+09 2.7748e+12 23758\n",
      "<none>                        2.7823e+12 23758\n",
      "+ ThreeSsnPorch  1 5.0526e+09 2.7772e+12 23758\n",
      "+ BsmtUnfSF      1 3.1148e+09 2.7792e+12 23759\n",
      "+ MoSold         1 1.8988e+09 2.7804e+12 23760\n",
      "+ KitchenAbvGr   1 1.2176e+09 2.7811e+12 23760\n",
      "+ LowQualFinSF   1 3.9706e+08 2.7819e+12 23760\n",
      "+ MiscVal        1 2.5706e+08 2.7820e+12 23760\n",
      "+ YrSold         1 1.2390e+08 2.7822e+12 23760\n",
      "+ OverallCond    1 7.3606e+06 2.7823e+12 23760\n",
      "\n",
      "Step:  AIC=23426.06\n",
      "SalePrice ~ OverallQual + GrLivArea\n",
      "\n",
      "                Df  Sum of Sq        RSS   AIC\n",
      "+ BsmtFinSF1     1 2.2000e+11 1.8314e+12 23304\n",
      "+ TotalBsmtSF    1 2.0372e+11 1.8476e+12 23313\n",
      "+ GarageCars     1 1.7472e+11 1.8766e+12 23330\n",
      "+ FirstFlrSF     1 1.6821e+11 1.8832e+12 23334\n",
      "+ YearBuilt      1 1.6189e+11 1.8895e+12 23338\n",
      "+ GarageArea     1 1.5861e+11 1.8928e+12 23340\n",
      "+ SecondFlrSF    1 1.4912e+11 1.9022e+12 23345\n",
      "+ BsmtFullBath   1 1.4381e+11 1.9076e+12 23348\n",
      "+ BedroomAbvGr   1 9.2847e+10 1.9585e+12 23377\n",
      "+ LotArea        1 8.6369e+10 1.9650e+12 23381\n",
      "+ WoodDeckSF     1 7.4791e+10 1.9766e+12 23387\n",
      "+ YearRemodAdd   1 6.1478e+10 1.9899e+12 23395\n",
      "+ KitchenAbvGr   1 3.8464e+10 2.0129e+12 23407\n",
      "+ Fireplaces     1 3.4885e+10 2.0165e+12 23409\n",
      "+ EnclosedPorch  1 3.4560e+10 2.0168e+12 23409\n",
      "+ LowQualFinSF   1 3.2795e+10 2.0186e+12 23410\n",
      "+ BsmtUnfSF      1 1.4195e+10 2.0372e+12 23420\n",
      "+ HalfBath       1 9.8098e+09 2.0416e+12 23423\n",
      "+ ScreenPorch    1 6.4709e+09 2.0449e+12 23425\n",
      "+ TotRmsAbvGrd   1 5.8473e+09 2.0455e+12 23425\n",
      "+ BsmtHalfBath   1 5.2561e+09 2.0461e+12 23425\n",
      "+ BsmtFinSF2     1 4.0081e+09 2.0474e+12 23426\n",
      "+ ThreeSsnPorch  1 3.9775e+09 2.0474e+12 23426\n",
      "<none>                        2.0514e+12 23426\n",
      "+ OpenPorchSF    1 3.6942e+09 2.0477e+12 23426\n",
      "+ PoolArea       1 2.6254e+09 2.0487e+12 23427\n",
      "+ MoSold         1 1.8763e+09 2.0495e+12 23427\n",
      "+ FullBath       1 1.3595e+09 2.0500e+12 23427\n",
      "+ YrSold         1 7.7282e+08 2.0506e+12 23428\n",
      "+ OverallCond    1 3.6019e+08 2.0510e+12 23428\n",
      "+ MiscVal        1 6.5549e+07 2.0513e+12 23428\n",
      "\n",
      "Step:  AIC=23303.61\n",
      "SalePrice ~ OverallQual + GrLivArea + BsmtFinSF1\n",
      "\n",
      "                Df  Sum of Sq        RSS   AIC\n",
      "+ GarageCars     1 1.4847e+11 1.6829e+12 23213\n",
      "+ YearBuilt      1 1.0898e+11 1.7224e+12 23238\n",
      "+ GarageArea     1 1.0540e+11 1.7260e+12 23241\n",
      "+ TotalBsmtSF    1 6.7360e+10 1.7640e+12 23264\n",
      "+ YearRemodAdd   1 6.7206e+10 1.7642e+12 23265\n",
      "+ FirstFlrSF     1 6.2117e+10 1.7692e+12 23268\n",
      "+ SecondFlrSF    1 5.0968e+10 1.7804e+12 23275\n",
      "+ BsmtUnfSF      1 4.6798e+10 1.7846e+12 23277\n",
      "+ WoodDeckSF     1 4.6423e+10 1.7849e+12 23277\n",
      "+ LotArea        1 4.3757e+10 1.7876e+12 23279\n",
      "+ BedroomAbvGr   1 4.1944e+10 1.7894e+12 23280\n",
      "+ KitchenAbvGr   1 2.8089e+10 1.8033e+12 23289\n",
      "+ LowQualFinSF   1 2.5464e+10 1.8059e+12 23290\n",
      "+ EnclosedPorch  1 2.1978e+10 1.8094e+12 23292\n",
      "+ PoolArea       1 1.4276e+10 1.8171e+12 23297\n",
      "+ FullBath       1 1.2809e+10 1.8186e+12 23298\n",
      "+ Fireplaces     1 1.2316e+10 1.8190e+12 23298\n",
      "+ BsmtFullBath   1 1.0477e+10 1.8209e+12 23299\n",
      "+ BsmtFinSF2     1 5.8648e+09 1.8255e+12 23302\n",
      "+ ScreenPorch    1 4.5702e+09 1.8268e+12 23303\n",
      "+ HalfBath       1 3.6748e+09 1.8277e+12 23303\n",
      "<none>                        1.8314e+12 23304\n",
      "+ ThreeSsnPorch  1 2.9376e+09 1.8284e+12 23304\n",
      "+ OpenPorchSF    1 2.4393e+09 1.8289e+12 23304\n",
      "+ OverallCond    1 1.3177e+09 1.8300e+12 23305\n",
      "+ BsmtHalfBath   1 1.2354e+09 1.8301e+12 23305\n",
      "+ TotRmsAbvGrd   1 5.1484e+08 1.8308e+12 23305\n",
      "+ MoSold         1 3.9599e+08 1.8310e+12 23305\n",
      "+ MiscVal        1 2.3728e+08 1.8311e+12 23306\n",
      "+ YrSold         1 1.7172e+08 1.8312e+12 23306\n",
      "\n",
      "Step:  AIC=23212.87\n",
      "SalePrice ~ OverallQual + GrLivArea + BsmtFinSF1 + GarageCars\n",
      "\n",
      "                Df  Sum of Sq        RSS   AIC\n",
      "+ TotalBsmtSF    1 4.8420e+10 1.6345e+12 23183\n",
      "+ YearBuilt      1 4.4000e+10 1.6389e+12 23186\n",
      "+ YearRemodAdd   1 4.3165e+10 1.6397e+12 23186\n",
      "+ FirstFlrSF     1 3.8675e+10 1.6442e+12 23189\n",
      "+ LotArea        1 3.5318e+10 1.6476e+12 23192\n",
      "+ BedroomAbvGr   1 3.4064e+10 1.6488e+12 23192\n",
      "+ WoodDeckSF     1 3.3689e+10 1.6492e+12 23193\n",
      "+ SecondFlrSF    1 3.1993e+10 1.6509e+12 23194\n",
      "+ BsmtUnfSF      1 3.0890e+10 1.6520e+12 23194\n",
      "+ KitchenAbvGr   1 3.0610e+10 1.6523e+12 23195\n",
      "+ LowQualFinSF   1 1.3828e+10 1.6691e+12 23206\n",
      "+ EnclosedPorch  1 1.2843e+10 1.6701e+12 23206\n",
      "+ Fireplaces     1 1.1002e+10 1.6719e+12 23208\n",
      "+ PoolArea       1 7.8238e+09 1.6751e+12 23210\n",
      "+ BsmtFullBath   1 7.6311e+09 1.6753e+12 23210\n",
      "+ OverallCond    1 7.1710e+09 1.6757e+12 23210\n",
      "+ BsmtFinSF2     1 6.4824e+09 1.6764e+12 23211\n",
      "+ HalfBath       1 4.6201e+09 1.6783e+12 23212\n",
      "+ ScreenPorch    1 4.5901e+09 1.6783e+12 23212\n",
      "<none>                        1.6829e+12 23213\n",
      "+ FullBath       1 2.9862e+09 1.6799e+12 23213\n",
      "+ ThreeSsnPorch  1 2.4091e+09 1.6805e+12 23213\n",
      "+ OpenPorchSF    1 2.3680e+09 1.6805e+12 23213\n",
      "+ BsmtHalfBath   1 2.1216e+09 1.6808e+12 23214\n",
      "+ GarageArea     1 2.6086e+08 1.6826e+12 23215\n",
      "+ YrSold         1 2.1248e+08 1.6827e+12 23215\n",
      "+ MoSold         1 1.7527e+08 1.6827e+12 23215\n",
      "+ TotRmsAbvGrd   1 1.5561e+08 1.6827e+12 23215\n",
      "+ MiscVal        1 1.5499e+05 1.6829e+12 23215\n",
      "\n",
      "Step:  AIC=23182.84\n",
      "SalePrice ~ OverallQual + GrLivArea + BsmtFinSF1 + GarageCars + \n",
      "    TotalBsmtSF\n",
      "\n",
      "                Df  Sum of Sq        RSS   AIC\n",
      "+ YearRemodAdd   1 4.2335e+10 1.5921e+12 23156\n",
      "+ YearBuilt      1 3.7594e+10 1.5969e+12 23159\n",
      "+ KitchenAbvGr   1 3.2382e+10 1.6021e+12 23163\n",
      "+ WoodDeckSF     1 3.1601e+10 1.6029e+12 23163\n",
      "+ BedroomAbvGr   1 3.0673e+10 1.6038e+12 23164\n",
      "+ LotArea        1 2.5905e+10 1.6086e+12 23167\n",
      "+ OverallCond    1 1.3236e+10 1.6212e+12 23176\n",
      "+ LowQualFinSF   1 1.3196e+10 1.6213e+12 23176\n",
      "+ EnclosedPorch  1 1.2850e+10 1.6216e+12 23176\n",
      "+ Fireplaces     1 1.0026e+10 1.6244e+12 23178\n",
      "+ PoolArea       1 9.6230e+09 1.6249e+12 23178\n",
      "+ BsmtFullBath   1 8.6115e+09 1.6259e+12 23179\n",
      "+ ScreenPorch    1 3.8238e+09 1.6307e+12 23182\n",
      "+ FirstFlrSF     1 3.4705e+09 1.6310e+12 23182\n",
      "<none>                        1.6345e+12 23183\n",
      "+ FullBath       1 2.9384e+09 1.6315e+12 23183\n",
      "+ BsmtHalfBath   1 2.4550e+09 1.6320e+12 23183\n",
      "+ ThreeSsnPorch  1 2.1704e+09 1.6323e+12 23183\n",
      "+ BsmtFinSF2     1 1.4533e+09 1.6330e+12 23184\n",
      "+ BsmtUnfSF      1 1.4533e+09 1.6330e+12 23184\n",
      "+ OpenPorchSF    1 1.3230e+09 1.6332e+12 23184\n",
      "+ SecondFlrSF    1 1.2416e+09 1.6332e+12 23184\n",
      "+ YrSold         1 5.0553e+08 1.6340e+12 23184\n",
      "+ TotRmsAbvGrd   1 4.6592e+08 1.6340e+12 23184\n",
      "+ GarageArea     1 2.7492e+08 1.6342e+12 23185\n",
      "+ MoSold         1 1.3712e+08 1.6343e+12 23185\n",
      "+ HalfBath       1 3.1881e+07 1.6344e+12 23185\n",
      "+ MiscVal        1 1.0749e+06 1.6345e+12 23185\n",
      "\n",
      "Step:  AIC=23156.06\n",
      "SalePrice ~ OverallQual + GrLivArea + BsmtFinSF1 + GarageCars + \n",
      "    TotalBsmtSF + YearRemodAdd\n",
      "\n",
      "                Df  Sum of Sq        RSS   AIC\n",
      "+ LotArea        1 3.0086e+10 1.5621e+12 23137\n",
      "+ KitchenAbvGr   1 2.9342e+10 1.5628e+12 23138\n",
      "+ WoodDeckSF     1 2.6214e+10 1.5659e+12 23140\n",
      "+ BedroomAbvGr   1 2.3188e+10 1.5690e+12 23142\n",
      "+ YearBuilt      1 1.6178e+10 1.5760e+12 23147\n",
      "+ Fireplaces     1 1.6140e+10 1.5760e+12 23147\n",
      "+ LowQualFinSF   1 1.3042e+10 1.5791e+12 23149\n",
      "+ PoolArea       1 8.2748e+09 1.5839e+12 23152\n",
      "+ EnclosedPorch  1 7.0691e+09 1.5851e+12 23153\n",
      "+ ScreenPorch    1 6.2564e+09 1.5859e+12 23154\n",
      "+ BsmtFullBath   1 5.9134e+09 1.5862e+12 23154\n",
      "+ OverallCond    1 5.9111e+09 1.5862e+12 23154\n",
      "+ FirstFlrSF     1 4.9511e+09 1.5872e+12 23155\n",
      "<none>                        1.5921e+12 23156\n",
      "+ BsmtFinSF2     1 2.4159e+09 1.5897e+12 23156\n",
      "+ BsmtUnfSF      1 2.4159e+09 1.5897e+12 23156\n",
      "+ SecondFlrSF    1 2.1764e+09 1.5900e+12 23157\n",
      "+ BsmtHalfBath   1 1.8759e+09 1.5903e+12 23157\n",
      "+ ThreeSsnPorch  1 1.2559e+09 1.5909e+12 23157\n",
      "+ TotRmsAbvGrd   1 8.7961e+08 1.5913e+12 23157\n",
      "+ OpenPorchSF    1 4.2628e+08 1.5917e+12 23158\n",
      "+ GarageArea     1 1.3414e+08 1.5920e+12 23158\n",
      "+ YrSold         1 9.3945e+07 1.5920e+12 23158\n",
      "+ FullBath       1 1.5810e+07 1.5921e+12 23158\n",
      "+ HalfBath       1 1.2879e+07 1.5921e+12 23158\n",
      "+ MoSold         1 8.8290e+06 1.5921e+12 23158\n",
      "+ MiscVal        1 2.0162e+05 1.5921e+12 23158\n",
      "\n",
      "Step:  AIC=23137.13\n",
      "SalePrice ~ OverallQual + GrLivArea + BsmtFinSF1 + GarageCars + \n",
      "    TotalBsmtSF + YearRemodAdd + LotArea\n",
      "\n",
      "                Df  Sum of Sq        RSS   AIC\n",
      "+ KitchenAbvGr   1 2.6237e+10 1.5358e+12 23120\n",
      "+ BedroomAbvGr   1 2.3124e+10 1.5389e+12 23123\n",
      "+ WoodDeckSF     1 2.0355e+10 1.5417e+12 23125\n",
      "+ YearBuilt      1 1.9007e+10 1.5430e+12 23126\n",
      "+ LowQualFinSF   1 1.2455e+10 1.5496e+12 23130\n",
      "+ Fireplaces     1 9.6560e+09 1.5524e+12 23132\n",
      "+ PoolArea       1 8.3433e+09 1.5537e+12 23133\n",
      "+ ScreenPorch    1 6.6230e+09 1.5554e+12 23134\n",
      "+ EnclosedPorch  1 6.5494e+09 1.5555e+12 23134\n",
      "+ OverallCond    1 4.4592e+09 1.5576e+12 23136\n",
      "+ BsmtFullBath   1 4.4130e+09 1.5576e+12 23136\n",
      "+ FirstFlrSF     1 3.5879e+09 1.5585e+12 23137\n",
      "<none>                        1.5621e+12 23137\n",
      "+ SecondFlrSF    1 1.3532e+09 1.5607e+12 23138\n",
      "+ BsmtHalfBath   1 1.1966e+09 1.5609e+12 23138\n",
      "+ TotRmsAbvGrd   1 1.1443e+09 1.5609e+12 23138\n",
      "+ BsmtFinSF2     1 1.1318e+09 1.5609e+12 23138\n",
      "+ BsmtUnfSF      1 1.1318e+09 1.5609e+12 23138\n",
      "+ ThreeSsnPorch  1 1.0690e+09 1.5610e+12 23138\n",
      "+ OpenPorchSF    1 5.4696e+08 1.5615e+12 23139\n",
      "+ GarageArea     1 1.8421e+08 1.5619e+12 23139\n",
      "+ YrSold         1 1.0199e+08 1.5620e+12 23139\n",
      "+ MiscVal        1 5.0221e+07 1.5620e+12 23139\n",
      "+ HalfBath       1 3.2438e+07 1.5620e+12 23139\n",
      "+ FullBath       1 8.5478e+06 1.5620e+12 23139\n",
      "+ MoSold         1 7.3755e+06 1.5620e+12 23139\n",
      "\n",
      "Step:  AIC=23120.55\n",
      "SalePrice ~ OverallQual + GrLivArea + BsmtFinSF1 + GarageCars + \n",
      "    TotalBsmtSF + YearRemodAdd + LotArea + KitchenAbvGr\n",
      "\n",
      "                Df  Sum of Sq        RSS   AIC\n",
      "+ YearBuilt      1 2.0755e+10 1.5151e+12 23108\n",
      "+ BedroomAbvGr   1 1.8744e+10 1.5171e+12 23109\n",
      "+ WoodDeckSF     1 1.7645e+10 1.5182e+12 23110\n",
      "+ LowQualFinSF   1 1.3446e+10 1.5224e+12 23113\n",
      "+ PoolArea       1 9.9791e+09 1.5258e+12 23115\n",
      "+ FirstFlrSF     1 8.3653e+09 1.5275e+12 23117\n",
      "+ EnclosedPorch  1 7.4472e+09 1.5284e+12 23117\n",
      "+ TotRmsAbvGrd   1 6.6282e+09 1.5292e+12 23118\n",
      "+ BsmtFullBath   1 5.8857e+09 1.5299e+12 23118\n",
      "+ Fireplaces     1 5.7449e+09 1.5301e+12 23118\n",
      "+ ScreenPorch    1 4.8735e+09 1.5309e+12 23119\n",
      "+ SecondFlrSF    1 4.4348e+09 1.5314e+12 23119\n",
      "<none>                        1.5358e+12 23120\n",
      "+ OverallCond    1 2.2657e+09 1.5336e+12 23121\n",
      "+ FullBath       1 1.0995e+09 1.5347e+12 23122\n",
      "+ ThreeSsnPorch  1 9.2777e+08 1.5349e+12 23122\n",
      "+ BsmtHalfBath   1 6.6727e+08 1.5352e+12 23122\n",
      "+ BsmtFinSF2     1 5.9536e+08 1.5352e+12 23122\n",
      "+ BsmtUnfSF      1 5.9536e+08 1.5352e+12 23122\n",
      "+ GarageArea     1 3.7476e+08 1.5354e+12 23122\n",
      "+ YrSold         1 3.7360e+08 1.5354e+12 23122\n",
      "+ OpenPorchSF    1 1.9965e+08 1.5356e+12 23122\n",
      "+ HalfBath       1 5.6733e+07 1.5358e+12 23122\n",
      "+ MiscVal        1 3.1470e+07 1.5358e+12 23122\n",
      "+ MoSold         1 7.5989e+06 1.5358e+12 23122\n",
      "\n",
      "Step:  AIC=23107.62\n",
      "SalePrice ~ OverallQual + GrLivArea + BsmtFinSF1 + GarageCars + \n",
      "    TotalBsmtSF + YearRemodAdd + LotArea + KitchenAbvGr + YearBuilt\n",
      "\n",
      "                Df  Sum of Sq        RSS   AIC\n",
      "+ BedroomAbvGr   1 2.1837e+10 1.4932e+12 23094\n",
      "+ OverallCond    1 1.7050e+10 1.4980e+12 23097\n",
      "+ WoodDeckSF     1 1.5471e+10 1.4996e+12 23098\n",
      "+ LowQualFinSF   1 1.0373e+10 1.5047e+12 23102\n",
      "+ FirstFlrSF     1 1.0306e+10 1.5048e+12 23102\n",
      "+ PoolArea       1 1.0216e+10 1.5048e+12 23102\n",
      "+ TotRmsAbvGrd   1 7.3796e+09 1.5077e+12 23104\n",
      "+ ScreenPorch    1 6.3805e+09 1.5087e+12 23105\n",
      "+ SecondFlrSF    1 6.3315e+09 1.5087e+12 23105\n",
      "+ Fireplaces     1 6.0062e+09 1.5091e+12 23105\n",
      "+ BsmtFullBath   1 5.4329e+09 1.5096e+12 23106\n",
      "<none>                        1.5151e+12 23108\n",
      "+ HalfBath       1 2.0181e+09 1.5130e+12 23108\n",
      "+ EnclosedPorch  1 1.2475e+09 1.5138e+12 23109\n",
      "+ BsmtHalfBath   1 9.4005e+08 1.5141e+12 23109\n",
      "+ ThreeSsnPorch  1 7.8516e+08 1.5143e+12 23109\n",
      "+ BsmtFinSF2     1 5.8668e+08 1.5145e+12 23109\n",
      "+ BsmtUnfSF      1 5.8668e+08 1.5145e+12 23109\n",
      "+ YrSold         1 5.4496e+08 1.5145e+12 23109\n",
      "+ GarageArea     1 2.8099e+08 1.5148e+12 23109\n",
      "+ FullBath       1 1.7496e+08 1.5149e+12 23110\n",
      "+ MoSold         1 5.0773e+07 1.5150e+12 23110\n",
      "+ OpenPorchSF    1 4.7817e+07 1.5150e+12 23110\n",
      "+ MiscVal        1 3.9422e+07 1.5150e+12 23110\n",
      "\n",
      "Step:  AIC=23093.69\n",
      "SalePrice ~ OverallQual + GrLivArea + BsmtFinSF1 + GarageCars + \n",
      "    TotalBsmtSF + YearRemodAdd + LotArea + KitchenAbvGr + YearBuilt + \n",
      "    BedroomAbvGr\n",
      "\n",
      "                Df  Sum of Sq        RSS   AIC\n",
      "+ TotRmsAbvGrd   1 2.9637e+10 1.4636e+12 23074\n",
      "+ OverallCond    1 2.1538e+10 1.4717e+12 23080\n",
      "+ WoodDeckSF     1 1.4560e+10 1.4787e+12 23085\n",
      "+ LowQualFinSF   1 1.1959e+10 1.4813e+12 23087\n",
      "+ PoolArea       1 1.1142e+10 1.4821e+12 23088\n",
      "+ ScreenPorch    1 7.4691e+09 1.4858e+12 23090\n",
      "+ FirstFlrSF     1 7.2121e+09 1.4860e+12 23090\n",
      "+ BsmtFullBath   1 4.7554e+09 1.4885e+12 23092\n",
      "+ Fireplaces     1 4.1703e+09 1.4891e+12 23093\n",
      "+ SecondFlrSF    1 3.7934e+09 1.4894e+12 23093\n",
      "<none>                        1.4932e+12 23094\n",
      "+ BsmtHalfBath   1 2.1732e+09 1.4911e+12 23094\n",
      "+ HalfBath       1 2.1634e+09 1.4911e+12 23094\n",
      "+ EnclosedPorch  1 1.7836e+09 1.4914e+12 23094\n",
      "+ GarageArea     1 1.0180e+09 1.4922e+12 23095\n",
      "+ YrSold         1 5.2094e+08 1.4927e+12 23095\n",
      "+ ThreeSsnPorch  1 4.4503e+08 1.4928e+12 23095\n",
      "+ BsmtFinSF2     1 3.6308e+08 1.4929e+12 23095\n",
      "+ BsmtUnfSF      1 3.6308e+08 1.4929e+12 23095\n",
      "+ MoSold         1 1.3044e+08 1.4931e+12 23096\n",
      "+ FullBath       1 8.6571e+07 1.4931e+12 23096\n",
      "+ MiscVal        1 2.4303e+07 1.4932e+12 23096\n",
      "+ OpenPorchSF    1 1.2835e+05 1.4932e+12 23096\n",
      "\n",
      "Step:  AIC=23073.7\n",
      "SalePrice ~ OverallQual + GrLivArea + BsmtFinSF1 + GarageCars + \n",
      "    TotalBsmtSF + YearRemodAdd + LotArea + KitchenAbvGr + YearBuilt + \n",
      "    BedroomAbvGr + TotRmsAbvGrd\n",
      "\n",
      "                Df  Sum of Sq        RSS   AIC\n",
      "+ OverallCond    1 2.2126e+10 1.4415e+12 23059\n",
      "+ LowQualFinSF   1 1.4223e+10 1.4494e+12 23065\n",
      "+ WoodDeckSF     1 1.3611e+10 1.4500e+12 23066\n",
      "+ PoolArea       1 8.3695e+09 1.4552e+12 23069\n",
      "+ ScreenPorch    1 8.1044e+09 1.4555e+12 23070\n",
      "+ FirstFlrSF     1 6.5186e+09 1.4571e+12 23071\n",
      "+ BsmtFullBath   1 4.0819e+09 1.4595e+12 23073\n",
      "+ Fireplaces     1 3.3018e+09 1.4603e+12 23073\n",
      "+ BsmtHalfBath   1 3.1581e+09 1.4604e+12 23073\n",
      "+ SecondFlrSF    1 3.0773e+09 1.4605e+12 23073\n",
      "<none>                        1.4636e+12 23074\n",
      "+ HalfBath       1 2.3889e+09 1.4612e+12 23074\n",
      "+ EnclosedPorch  1 1.0242e+09 1.4626e+12 23075\n",
      "+ GarageArea     1 8.6286e+08 1.4627e+12 23075\n",
      "+ ThreeSsnPorch  1 7.3936e+08 1.4629e+12 23075\n",
      "+ MoSold         1 5.7537e+08 1.4630e+12 23075\n",
      "+ YrSold         1 5.6177e+08 1.4630e+12 23075\n",
      "+ BsmtFinSF2     1 4.6149e+08 1.4631e+12 23075\n",
      "+ BsmtUnfSF      1 4.6149e+08 1.4631e+12 23075\n",
      "+ FullBath       1 9.8647e+07 1.4635e+12 23076\n",
      "+ OpenPorchSF    1 7.6860e+06 1.4636e+12 23076\n",
      "+ MiscVal        1 1.7988e+06 1.4636e+12 23076\n",
      "\n",
      "Step:  AIC=23058.99\n",
      "SalePrice ~ OverallQual + GrLivArea + BsmtFinSF1 + GarageCars + \n",
      "    TotalBsmtSF + YearRemodAdd + LotArea + KitchenAbvGr + YearBuilt + \n",
      "    BedroomAbvGr + TotRmsAbvGrd + OverallCond\n",
      "\n",
      "                Df  Sum of Sq        RSS   AIC\n",
      "+ LowQualFinSF   1 1.1251e+10 1.4302e+12 23052\n",
      "+ WoodDeckSF     1 1.1038e+10 1.4304e+12 23053\n",
      "+ PoolArea       1 8.7890e+09 1.4327e+12 23054\n",
      "+ ScreenPorch    1 7.0230e+09 1.4344e+12 23056\n",
      "+ FirstFlrSF     1 6.2528e+09 1.4352e+12 23056\n",
      "+ BsmtFullBath   1 4.8890e+09 1.4366e+12 23057\n",
      "+ SecondFlrSF    1 3.2052e+09 1.4383e+12 23058\n",
      "+ HalfBath       1 2.9848e+09 1.4385e+12 23059\n",
      "+ Fireplaces     1 2.6908e+09 1.4388e+12 23059\n",
      "<none>                        1.4415e+12 23059\n",
      "+ BsmtHalfBath   1 1.6493e+09 1.4398e+12 23060\n",
      "+ GarageArea     1 1.3962e+09 1.4401e+12 23060\n",
      "+ MoSold         1 6.0020e+08 1.4409e+12 23060\n",
      "+ YrSold         1 5.0006e+08 1.4410e+12 23061\n",
      "+ ThreeSsnPorch  1 4.5160e+08 1.4410e+12 23061\n",
      "+ FullBath       1 4.4477e+08 1.4410e+12 23061\n",
      "+ MiscVal        1 1.8317e+08 1.4413e+12 23061\n",
      "+ EnclosedPorch  1 1.6969e+08 1.4413e+12 23061\n",
      "+ BsmtFinSF2     1 8.1799e+07 1.4414e+12 23061\n",
      "+ BsmtUnfSF      1 8.1799e+07 1.4414e+12 23061\n",
      "+ OpenPorchSF    1 6.5935e+05 1.4415e+12 23061\n",
      "\n",
      "Step:  AIC=23052.4\n",
      "SalePrice ~ OverallQual + GrLivArea + BsmtFinSF1 + GarageCars + \n",
      "    TotalBsmtSF + YearRemodAdd + LotArea + KitchenAbvGr + YearBuilt + \n",
      "    BedroomAbvGr + TotRmsAbvGrd + OverallCond + LowQualFinSF\n",
      "\n",
      "                Df  Sum of Sq        RSS   AIC\n",
      "+ WoodDeckSF     1 1.1326e+10 1.4189e+12 23046\n",
      "+ PoolArea       1 7.5274e+09 1.4227e+12 23049\n",
      "+ ScreenPorch    1 6.2460e+09 1.4240e+12 23050\n",
      "+ FirstFlrSF     1 5.4572e+09 1.4248e+12 23050\n",
      "+ SecondFlrSF    1 5.4572e+09 1.4248e+12 23050\n",
      "+ BsmtFullBath   1 4.8269e+09 1.4254e+12 23051\n",
      "+ HalfBath       1 4.0018e+09 1.4262e+12 23051\n",
      "<none>                        1.4302e+12 23052\n",
      "+ Fireplaces     1 2.0459e+09 1.4282e+12 23053\n",
      "+ BsmtHalfBath   1 1.8395e+09 1.4284e+12 23053\n",
      "+ GarageArea     1 1.2015e+09 1.4290e+12 23054\n",
      "+ MoSold         1 5.6547e+08 1.4296e+12 23054\n",
      "+ ThreeSsnPorch  1 4.9990e+08 1.4297e+12 23054\n",
      "+ FullBath       1 4.2429e+08 1.4298e+12 23054\n",
      "+ YrSold         1 4.0290e+08 1.4298e+12 23054\n",
      "+ MiscVal        1 2.0552e+08 1.4300e+12 23054\n",
      "+ EnclosedPorch  1 1.6723e+08 1.4300e+12 23054\n",
      "+ BsmtFinSF2     1 9.8225e+07 1.4301e+12 23054\n",
      "+ BsmtUnfSF      1 9.8225e+07 1.4301e+12 23054\n",
      "+ OpenPorchSF    1 3.2560e+07 1.4302e+12 23054\n",
      "\n",
      "Step:  AIC=23045.67\n",
      "SalePrice ~ OverallQual + GrLivArea + BsmtFinSF1 + GarageCars + \n",
      "    TotalBsmtSF + YearRemodAdd + LotArea + KitchenAbvGr + YearBuilt + \n",
      "    BedroomAbvGr + TotRmsAbvGrd + OverallCond + LowQualFinSF + \n",
      "    WoodDeckSF\n",
      "\n",
      "                Df  Sum of Sq        RSS   AIC\n",
      "+ ScreenPorch    1 8542161621 1.4103e+12 23041\n",
      "+ PoolArea       1 7810722279 1.4111e+12 23042\n",
      "+ FirstFlrSF     1 4969997992 1.4139e+12 23044\n",
      "+ SecondFlrSF    1 4969997992 1.4139e+12 23044\n",
      "+ BsmtFullBath   1 3750117547 1.4151e+12 23045\n",
      "+ HalfBath       1 3746732986 1.4151e+12 23045\n",
      "<none>                        1.4189e+12 23046\n",
      "+ Fireplaces     1 1769629164 1.4171e+12 23046\n",
      "+ BsmtHalfBath   1 1604569336 1.4173e+12 23046\n",
      "+ GarageArea     1 1074371007 1.4178e+12 23047\n",
      "+ ThreeSsnPorch  1  785826514 1.4181e+12 23047\n",
      "+ MoSold         1  433257762 1.4185e+12 23047\n",
      "+ FullBath       1  365166602 1.4185e+12 23047\n",
      "+ YrSold         1  328040501 1.4186e+12 23047\n",
      "+ MiscVal        1  164004115 1.4187e+12 23048\n",
      "+ EnclosedPorch  1   51614315 1.4188e+12 23048\n",
      "+ BsmtFinSF2     1    7300241 1.4189e+12 23048\n",
      "+ BsmtUnfSF      1    7300241 1.4189e+12 23048\n",
      "+ OpenPorchSF    1    2042070 1.4189e+12 23048\n",
      "\n",
      "Step:  AIC=23041.05\n",
      "SalePrice ~ OverallQual + GrLivArea + BsmtFinSF1 + GarageCars + \n",
      "    TotalBsmtSF + YearRemodAdd + LotArea + KitchenAbvGr + YearBuilt + \n",
      "    BedroomAbvGr + TotRmsAbvGrd + OverallCond + LowQualFinSF + \n",
      "    WoodDeckSF + ScreenPorch\n",
      "\n",
      "                Df  Sum of Sq        RSS   AIC\n",
      "+ PoolArea       1 8572469826 1.4018e+12 23036\n",
      "+ FirstFlrSF     1 5061311257 1.4053e+12 23039\n",
      "+ SecondFlrSF    1 5061311257 1.4053e+12 23039\n",
      "+ HalfBath       1 4367019364 1.4060e+12 23040\n",
      "+ BsmtFullBath   1 3593989530 1.4068e+12 23040\n",
      "<none>                        1.4103e+12 23041\n",
      "+ BsmtHalfBath   1 1689893502 1.4087e+12 23042\n",
      "+ ThreeSsnPorch  1 1000971340 1.4093e+12 23042\n",
      "+ GarageArea     1  970858023 1.4094e+12 23042\n",
      "+ Fireplaces     1  765134391 1.4096e+12 23042\n",
      "+ FullBath       1  486922185 1.4099e+12 23043\n",
      "+ MoSold         1  297530562 1.4100e+12 23043\n",
      "+ YrSold         1  284326855 1.4101e+12 23043\n",
      "+ MiscVal        1  251748342 1.4101e+12 23043\n",
      "+ EnclosedPorch  1   36195268 1.4103e+12 23043\n",
      "+ BsmtFinSF2     1   14443060 1.4103e+12 23043\n",
      "+ BsmtUnfSF      1   14443060 1.4103e+12 23043\n",
      "+ OpenPorchSF    1    4823129 1.4103e+12 23043\n",
      "\n",
      "Step:  AIC=23036.36\n",
      "SalePrice ~ OverallQual + GrLivArea + BsmtFinSF1 + GarageCars + \n",
      "    TotalBsmtSF + YearRemodAdd + LotArea + KitchenAbvGr + YearBuilt + \n",
      "    BedroomAbvGr + TotRmsAbvGrd + OverallCond + LowQualFinSF + \n",
      "    WoodDeckSF + ScreenPorch + PoolArea\n",
      "\n",
      "                Df  Sum of Sq        RSS   AIC\n",
      "+ HalfBath       1 5284107657 1.3965e+12 23034\n",
      "+ FirstFlrSF     1 4902457086 1.3969e+12 23034\n",
      "+ SecondFlrSF    1 4902457086 1.3969e+12 23034\n",
      "+ BsmtFullBath   1 3457746595 1.3983e+12 23036\n",
      "<none>                        1.4018e+12 23036\n",
      "+ BsmtHalfBath   1 1804849515 1.4000e+12 23037\n",
      "+ ThreeSsnPorch  1  887744137 1.4009e+12 23038\n",
      "+ GarageArea     1  705015587 1.4011e+12 23038\n",
      "+ Fireplaces     1  659270982 1.4011e+12 23038\n",
      "+ FullBath       1  414879191 1.4014e+12 23038\n",
      "+ MoSold         1  227588711 1.4015e+12 23038\n",
      "+ MiscVal        1  167214066 1.4016e+12 23038\n",
      "+ EnclosedPorch  1  158064292 1.4016e+12 23038\n",
      "+ YrSold         1  148311391 1.4016e+12 23038\n",
      "+ BsmtFinSF2     1   10383379 1.4018e+12 23038\n",
      "+ BsmtUnfSF      1   10383379 1.4018e+12 23038\n",
      "+ OpenPorchSF    1      10693 1.4018e+12 23038\n",
      "\n",
      "Step:  AIC=23034.22\n",
      "SalePrice ~ OverallQual + GrLivArea + BsmtFinSF1 + GarageCars + \n",
      "    TotalBsmtSF + YearRemodAdd + LotArea + KitchenAbvGr + YearBuilt + \n",
      "    BedroomAbvGr + TotRmsAbvGrd + OverallCond + LowQualFinSF + \n",
      "    WoodDeckSF + ScreenPorch + PoolArea + HalfBath\n",
      "\n",
      "                Df  Sum of Sq        RSS   AIC\n",
      "+ BsmtFullBath   1 3650835514 1.3928e+12 23033\n",
      "<none>                        1.3965e+12 23034\n",
      "+ FirstFlrSF     1 1965835735 1.3945e+12 23035\n",
      "+ SecondFlrSF    1 1965835735 1.3945e+12 23035\n",
      "+ BsmtHalfBath   1 1767910932 1.3947e+12 23035\n",
      "+ GarageArea     1  964171140 1.3955e+12 23036\n",
      "+ Fireplaces     1  815952883 1.3957e+12 23036\n",
      "+ ThreeSsnPorch  1  793530577 1.3957e+12 23036\n",
      "+ MoSold         1  168147605 1.3963e+12 23036\n",
      "+ MiscVal        1  149815414 1.3963e+12 23036\n",
      "+ YrSold         1  140516022 1.3963e+12 23036\n",
      "+ EnclosedPorch  1   99058896 1.3964e+12 23036\n",
      "+ FullBath       1   22953888 1.3965e+12 23036\n",
      "+ OpenPorchSF    1   16447111 1.3965e+12 23036\n",
      "+ BsmtFinSF2     1     711890 1.3965e+12 23036\n",
      "+ BsmtUnfSF      1     711890 1.3965e+12 23036\n",
      "\n",
      "Step:  AIC=23033.35\n",
      "SalePrice ~ OverallQual + GrLivArea + BsmtFinSF1 + GarageCars + \n",
      "    TotalBsmtSF + YearRemodAdd + LotArea + KitchenAbvGr + YearBuilt + \n",
      "    BedroomAbvGr + TotRmsAbvGrd + OverallCond + LowQualFinSF + \n",
      "    WoodDeckSF + ScreenPorch + PoolArea + HalfBath + BsmtFullBath\n",
      "\n",
      "                Df  Sum of Sq        RSS   AIC\n",
      "+ BsmtHalfBath   1 3332355267 1.3895e+12 23033\n",
      "<none>                        1.3928e+12 23033\n",
      "+ FirstFlrSF     1 2060814211 1.3908e+12 23034\n",
      "+ SecondFlrSF    1 2060814211 1.3908e+12 23034\n",
      "+ GarageArea     1 1108562889 1.3917e+12 23034\n",
      "+ Fireplaces     1  846225368 1.3920e+12 23035\n",
      "+ ThreeSsnPorch  1  759015673 1.3921e+12 23035\n",
      "+ BsmtFinSF2     1  292850483 1.3925e+12 23035\n",
      "+ BsmtUnfSF      1  292850483 1.3925e+12 23035\n",
      "+ MoSold         1  205466807 1.3926e+12 23035\n",
      "+ MiscVal        1   96272654 1.3927e+12 23035\n",
      "+ YrSold         1   73477642 1.3928e+12 23035\n",
      "+ EnclosedPorch  1   24583606 1.3928e+12 23035\n",
      "+ FullBath       1    9205450 1.3928e+12 23035\n",
      "+ OpenPorchSF    1    6870705 1.3928e+12 23035\n",
      "\n",
      "Step:  AIC=23032.72\n",
      "SalePrice ~ OverallQual + GrLivArea + BsmtFinSF1 + GarageCars + \n",
      "    TotalBsmtSF + YearRemodAdd + LotArea + KitchenAbvGr + YearBuilt + \n",
      "    BedroomAbvGr + TotRmsAbvGrd + OverallCond + LowQualFinSF + \n",
      "    WoodDeckSF + ScreenPorch + PoolArea + HalfBath + BsmtFullBath + \n",
      "    BsmtHalfBath\n",
      "\n",
      "                Df  Sum of Sq        RSS   AIC\n",
      "<none>                        1.3895e+12 23033\n",
      "+ FirstFlrSF     1 1931206734 1.3876e+12 23033\n",
      "+ SecondFlrSF    1 1931206734 1.3876e+12 23033\n",
      "+ GarageArea     1 1128222659 1.3884e+12 23034\n",
      "+ ThreeSsnPorch  1  729530182 1.3888e+12 23034\n",
      "+ BsmtFinSF2     1  643281299 1.3889e+12 23034\n",
      "+ BsmtUnfSF      1  643281299 1.3889e+12 23034\n",
      "+ Fireplaces     1  632777148 1.3889e+12 23034\n",
      "+ YrSold         1  124780937 1.3894e+12 23035\n",
      "+ MoSold         1  115760234 1.3894e+12 23035\n",
      "+ MiscVal        1   70003649 1.3894e+12 23035\n",
      "+ FullBath       1   38042897 1.3895e+12 23035\n",
      "+ EnclosedPorch  1    5755514 1.3895e+12 23035\n",
      "+ OpenPorchSF    1    3484979 1.3895e+12 23035\n"
     ]
    },
    {
     "data": {
      "text/plain": [
       "\n",
       "Call:\n",
       "lm(formula = SalePrice ~ OverallQual + GrLivArea + BsmtFinSF1 + \n",
       "    GarageCars + TotalBsmtSF + YearRemodAdd + LotArea + KitchenAbvGr + \n",
       "    YearBuilt + BedroomAbvGr + TotRmsAbvGrd + OverallCond + LowQualFinSF + \n",
       "    WoodDeckSF + ScreenPorch + PoolArea + HalfBath + BsmtFullBath + \n",
       "    BsmtHalfBath, data = train.sample)\n",
       "\n",
       "Residuals:\n",
       "    Min      1Q  Median      3Q     Max \n",
       "-520393  -17164   -2517   13150  289450 \n",
       "\n",
       "Coefficients:\n",
       "               Estimate Std. Error t value Pr(>|t|)    \n",
       "(Intercept)  -9.448e+05  1.390e+05  -6.798 1.75e-11 ***\n",
       "OverallQual   1.669e+04  1.358e+03  12.289  < 2e-16 ***\n",
       "GrLivArea     5.784e+01  4.824e+00  11.990  < 2e-16 ***\n",
       "BsmtFinSF1    1.218e+01  3.701e+00   3.290 0.001034 ** \n",
       "GarageCars    1.160e+04  1.993e+03   5.821 7.72e-09 ***\n",
       "TotalBsmtSF   1.635e+01  3.687e+00   4.435 1.01e-05 ***\n",
       "YearRemodAdd  8.624e+01  7.625e+01   1.131 0.258317    \n",
       "LotArea       4.316e-01  1.055e-01   4.092 4.60e-05 ***\n",
       "KitchenAbvGr -2.812e+04  5.807e+03  -4.842 1.48e-06 ***\n",
       "YearBuilt     3.611e+02  6.244e+01   5.782 9.64e-09 ***\n",
       "BedroomAbvGr -1.256e+04  1.949e+03  -6.447 1.72e-10 ***\n",
       "TotRmsAbvGrd  6.873e+03  1.439e+03   4.776 2.03e-06 ***\n",
       "OverallCond   4.147e+03  1.191e+03   3.483 0.000516 ***\n",
       "LowQualFinSF -7.705e+01  2.702e+01  -2.852 0.004426 ** \n",
       "WoodDeckSF    2.916e+01  9.544e+00   3.056 0.002302 ** \n",
       "ScreenPorch   5.703e+01  2.048e+01   2.784 0.005465 ** \n",
       "PoolArea     -7.383e+01  2.721e+01  -2.713 0.006775 ** \n",
       "HalfBath     -5.387e+03  2.616e+03  -2.059 0.039736 *  \n",
       "BsmtFullBath  5.768e+03  2.869e+03   2.011 0.044621 *  \n",
       "BsmtHalfBath  8.112e+03  5.048e+03   1.607 0.108317    \n",
       "---\n",
       "Signif. codes:  0 ‘***’ 0.001 ‘**’ 0.01 ‘*’ 0.05 ‘.’ 0.1 ‘ ’ 1\n",
       "\n",
       "Residual standard error: 35920 on 1077 degrees of freedom\n",
       "Multiple R-squared:  0.8103,\tAdjusted R-squared:  0.807 \n",
       "F-statistic: 242.1 on 19 and 1077 DF,  p-value: < 2.2e-16\n"
      ]
     },
     "metadata": {},
     "output_type": "display_data"
    }
   ],
   "source": [
    "# départ modèle avec la seule constante + sélection forward\n",
    "\n",
    "modele = lm(SalePrice ~ 1, data = train.sample)\n",
    "modele.forward = stepAIC(modele, scope = list(lower=str_constant,upper=str_full), \n",
    "                         trace=TRUE, data=train.sample, direction = 'forward')\n",
    "summary(modele.forward)"
   ]
  },
  {
   "cell_type": "code",
   "execution_count": 82,
   "metadata": {
    "collapsed": false
   },
   "outputs": [
    {
     "ename": "ERROR",
     "evalue": "Error in text.default(x, y, labels.id[ind], cex = cex.id, xpd = TRUE, : impossible de charger la police X11 -adobe-helvetica-%s-%s-*-*-%d-*-*-*-*-*-*-*, de face 1 et de taille 9\n",
     "output_type": "error",
     "traceback": [
      "Error in text.default(x, y, labels.id[ind], cex = cex.id, xpd = TRUE, : impossible de charger la police X11 -adobe-helvetica-%s-%s-*-*-%d-*-*-*-*-*-*-*, de face 1 et de taille 9\nTraceback:\n",
      "1. plot(modele.forward)",
      "2. plot.lm(modele.forward)",
      "3. text.id(yh[show.r], y.id, show.r)",
      "4. text(x, y, labels.id[ind], cex = cex.id, xpd = TRUE, pos = labpos, \n .     offset = 0.25)",
      "5. text.default(x, y, labels.id[ind], cex = cex.id, xpd = TRUE, \n .     pos = labpos, offset = 0.25)"
     ]
    },
    {
     "data": {
      "image/png": "[encoded data removed]",
      "text/plain": [
       "Plot with title “”"
      ]
     },
     "metadata": {},
     "output_type": "display_data"
    }
   ],
   "source": [
    "plot(modele.forward)"
   ]
  },
  {
   "cell_type": "code",
   "execution_count": 607,
   "metadata": {
    "collapsed": false
   },
   "outputs": [
    {
     "name": "stderr",
     "output_type": "stream",
     "text": [
      "Warning message in predict.lm(modelFit, newdata):\n",
      "“prediction from a rank-deficient fit may be misleading”Warning message in predict.lm(modelFit, newdata):\n",
      "“prediction from a rank-deficient fit may be misleading”Warning message in predict.lm(modelFit, newdata):\n",
      "“prediction from a rank-deficient fit may be misleading”Warning message in predict.lm(modelFit, newdata):\n",
      "“prediction from a rank-deficient fit may be misleading”Warning message in predict.lm(modelFit, newdata):\n",
      "“prediction from a rank-deficient fit may be misleading”Warning message in predict.lm(modelFit, newdata):\n",
      "“prediction from a rank-deficient fit may be misleading”Warning message in predict.lm(modelFit, newdata):\n",
      "“prediction from a rank-deficient fit may be misleading”Warning message in predict.lm(modelFit, newdata):\n",
      "“prediction from a rank-deficient fit may be misleading”Warning message in predict.lm(modelFit, newdata):\n",
      "“prediction from a rank-deficient fit may be misleading”Warning message in predict.lm(modelFit, newdata):\n",
      "“prediction from a rank-deficient fit may be misleading”Warning message in predict.lm(modelFit, newdata):\n",
      "“prediction from a rank-deficient fit may be misleading”Warning message in predict.lm(modelFit, newdata):\n",
      "“prediction from a rank-deficient fit may be misleading”Warning message in predict.lm(modelFit, newdata):\n",
      "“prediction from a rank-deficient fit may be misleading”Warning message in predict.lm(modelFit, newdata):\n",
      "“prediction from a rank-deficient fit may be misleading”Warning message in predict.lm(modelFit, newdata):\n",
      "“prediction from a rank-deficient fit may be misleading”Warning message in predict.lm(modelFit, newdata):\n",
      "“prediction from a rank-deficient fit may be misleading”Warning message in predict.lm(modelFit, newdata):\n",
      "“prediction from a rank-deficient fit may be misleading”Warning message in predict.lm(modelFit, newdata):\n",
      "“prediction from a rank-deficient fit may be misleading”Warning message in predict.lm(modelFit, newdata):\n",
      "“prediction from a rank-deficient fit may be misleading”Warning message in predict.lm(modelFit, newdata):\n",
      "“prediction from a rank-deficient fit may be misleading”Warning message in predict.lm(modelFit, newdata):\n",
      "“prediction from a rank-deficient fit may be misleading”Warning message in predict.lm(modelFit, newdata):\n",
      "“prediction from a rank-deficient fit may be misleading”"
     ]
    },
    {
     "data": {
      "text/plain": [
       "\n",
       "Call:\n",
       "lm(formula = .outcome ~ ., data = dat)\n",
       "\n",
       "Residuals:\n",
       "   Min     1Q Median     3Q    Max \n",
       "-84628 -10726    402  10145 132431 \n",
       "\n",
       "Coefficients:\n",
       "                                Estimate Std. Error t value Pr(>|t|)    \n",
       "(Intercept)                    2.794e+07  6.124e+06   4.563 5.65e-06 ***\n",
       "OverallQual                   -1.128e+04  2.668e+03  -4.228 2.56e-05 ***\n",
       "GrLivArea                     -1.237e+03  2.352e+02  -5.259 1.76e-07 ***\n",
       "BsmtFinSF1                     2.828e+01  6.218e+00   4.549 6.03e-06 ***\n",
       "GarageCars                    -1.897e+05  7.374e+04  -2.573 0.010216 *  \n",
       "TotalBsmtSF                   -6.001e+02  1.938e+02  -3.096 0.002012 ** \n",
       "YearRemodAdd                  -1.392e+04  3.103e+03  -4.487 8.02e-06 ***\n",
       "LotArea                       -1.002e+01  1.117e+01  -0.897 0.369808    \n",
       "YearBuilt                     -1.424e+04  3.112e+03  -4.577 5.29e-06 ***\n",
       "OverallCond                    5.890e+03  8.646e+02   6.813 1.62e-11 ***\n",
       "Fireplaces                     2.097e+05  8.685e+04   2.414 0.015957 *  \n",
       "ScreenPorch                   -6.055e+01  4.376e+01  -1.384 0.166721    \n",
       "BedroomAbvGr                   3.957e+05  1.157e+05   3.419 0.000653 ***\n",
       "KitchenAbvGr                   6.467e+03  5.668e+03   1.141 0.254159    \n",
       "TotRmsAbvGrd                  -5.120e+03  1.871e+03  -2.737 0.006313 ** \n",
       "PoolArea                       4.096e+02  7.324e+01   5.593 2.85e-08 ***\n",
       "BsmtFinSF2                     7.415e+01  1.748e+01   4.242 2.41e-05 ***\n",
       "EnclosedPorch                 -3.094e+03  1.115e+03  -2.775 0.005614 ** \n",
       "ThreeSsnPorch                  3.016e+02  1.657e+02   1.820 0.069012 .  \n",
       "`GrLivArea:BsmtFinSF1`         7.360e-03  3.672e-03   2.004 0.045307 *  \n",
       "`OverallQual:GrLivArea`        1.194e+01  1.558e+00   7.661 4.21e-14 ***\n",
       "`BsmtFinSF1:LotArea`          -7.555e-04  1.990e-04  -3.796 0.000155 ***\n",
       "`OverallQual:TotalBsmtSF`      9.235e+00  1.817e+00   5.081 4.44e-07 ***\n",
       "`BsmtFinSF1:TotalBsmtSF`      -6.528e-03  4.150e-03  -1.573 0.116004    \n",
       "`YearRemodAdd:YearBuilt`       7.112e+00  1.576e+00   4.513 7.13e-06 ***\n",
       "`GrLivArea:YearRemodAdd`       6.007e-01  1.201e-01   5.000 6.72e-07 ***\n",
       "`LotArea:YearBuilt`            1.517e-02  5.156e-03   2.942 0.003336 ** \n",
       "`OverallCond:Fireplaces`       2.298e+03  9.131e+02   2.517 0.011996 *  \n",
       "`YearRemodAdd:LotArea`        -9.925e-03  3.673e-03  -2.702 0.006994 ** \n",
       "`GrLivArea:GarageCars`         9.163e+00  2.212e+00   4.142 3.73e-05 ***\n",
       "`OverallQual:BedroomAbvGr`    -2.783e+03  8.673e+02  -3.209 0.001373 ** \n",
       "`YearRemodAdd:BedroomAbvGr`   -1.852e+02  5.947e+01  -3.114 0.001895 ** \n",
       "`GarageCars:KitchenAbvGr`     -1.166e+04  3.123e+03  -3.734 0.000199 ***\n",
       "`YearBuilt:Fireplaces`        -1.100e+02  4.322e+01  -2.546 0.011049 *  \n",
       "`BsmtFinSF1:ScreenPorch`      -6.818e-02  2.915e-02  -2.339 0.019541 *  \n",
       "`LotArea:PoolArea`            -2.818e-02  2.947e-03  -9.563  < 2e-16 ***\n",
       "`TotalBsmtSF:PoolArea`        -1.258e-01  4.491e-02  -2.801 0.005184 ** \n",
       "`GarageCars:PoolArea`          2.979e+02  3.654e+01   8.153 1.01e-15 ***\n",
       "`Fireplaces:PoolArea`         -2.485e+02  6.908e+01  -3.597 0.000337 ***\n",
       "`GrLivArea:ScreenPorch`        8.977e-02  2.315e-02   3.878 0.000112 ***\n",
       "`GarageCars:TotalBsmtSF`      -1.231e+01  3.469e+00  -3.548 0.000406 ***\n",
       "`TotalBsmtSF:YearBuilt`        2.941e-01  1.012e-01   2.907 0.003725 ** \n",
       "`TotRmsAbvGrd:BsmtFinSF2`     -8.112e+00  2.625e+00  -3.090 0.002051 ** \n",
       "`TotalBsmtSF:TotRmsAbvGrd`     7.894e+00  1.499e+00   5.266 1.70e-07 ***\n",
       "`TotalBsmtSF:BedroomAbvGr`    -1.477e+01  2.836e+00  -5.209 2.29e-07 ***\n",
       "`BsmtFinSF1:BsmtFinSF2`       -5.261e-02  1.535e-02  -3.427 0.000635 ***\n",
       "`OverallQual:LotArea`          2.113e-01  6.843e-02   3.087 0.002072 ** \n",
       "`YearRemodAdd:EnclosedPorch`   1.590e+00  5.654e-01   2.812 0.005023 ** \n",
       "`BsmtFinSF1:EnclosedPorch`    -6.028e-02  2.695e-02  -2.237 0.025529 *  \n",
       "`GarageCars:YearBuilt`         1.071e+02  3.793e+01   2.823 0.004845 ** \n",
       "`TotalBsmtSF:ThreeSsnPorch`    4.121e-01  9.832e-02   4.191 3.01e-05 ***\n",
       "`BsmtFinSF1:ThreeSsnPorch`     1.850e-01  7.681e-02   2.408 0.016194 *  \n",
       "`GarageCars:ThreeSsnPorch`    -4.372e+02  1.241e+02  -3.525 0.000442 ***\n",
       "`BsmtFinSF2:ThreeSsnPorch`    -4.312e+00  1.330e+00  -3.243 0.001221 ** \n",
       "`EnclosedPorch:ThreeSsnPorch` -5.216e+00  1.860e+00  -2.804 0.005140 ** \n",
       "`Fireplaces:ThreeSsnPorch`     1.101e+02  5.210e+01   2.114 0.034766 *  \n",
       "---\n",
       "Signif. codes:  0 ‘***’ 0.001 ‘**’ 0.01 ‘*’ 0.05 ‘.’ 0.1 ‘ ’ 1\n",
       "\n",
       "Residual standard error: 20490 on 1041 degrees of freedom\n",
       "Multiple R-squared:  0.9403,\tAdjusted R-squared:  0.9372 \n",
       "F-statistic: 298.1 on 55 and 1041 DF,  p-value: < 2.2e-16\n"
      ]
     },
     "metadata": {},
     "output_type": "display_data"
    }
   ],
   "source": [
    "lmFit4 = train(SalePrice ~ OverallQual + GrLivArea + BsmtFinSF1 + \n",
    "    GarageCars + TotalBsmtSF + YearRemodAdd + LotArea + YearBuilt + \n",
    "    OverallCond + Fireplaces + ScreenPorch + BedroomAbvGr + KitchenAbvGr + \n",
    "    TotRmsAbvGrd + PoolArea + BsmtFinSF2 + EnclosedPorch + ThreeSsnPorch + GrLivArea:BsmtFinSF1 + OverallQual:GrLivArea + \n",
    "    BsmtFinSF1:LotArea + OverallQual:TotalBsmtSF + \n",
    "    BsmtFinSF1:TotalBsmtSF + YearRemodAdd:YearBuilt + GrLivArea:YearRemodAdd + \n",
    "    LotArea:YearBuilt +\n",
    "    OverallCond:Fireplaces + YearRemodAdd:LotArea + GrLivArea:GarageCars + \n",
    "    OverallQual:BedroomAbvGr + YearRemodAdd:BedroomAbvGr + GarageCars:KitchenAbvGr + \n",
    "    YearBuilt:Fireplaces + \n",
    "    BsmtFinSF1:ScreenPorch + \n",
    "    LotArea:PoolArea + TotalBsmtSF:PoolArea + GarageCars:PoolArea + \n",
    "    Fireplaces:PoolArea + GrLivArea:ScreenPorch + \n",
    "    GarageCars:TotalBsmtSF + TotalBsmtSF:YearBuilt + \n",
    "    TotRmsAbvGrd:BsmtFinSF2 + TotalBsmtSF:TotRmsAbvGrd + TotalBsmtSF:BedroomAbvGr + \n",
    "    BsmtFinSF1:BsmtFinSF2 + OverallQual:LotArea + \n",
    "    YearRemodAdd:EnclosedPorch + BsmtFinSF1:EnclosedPorch + \n",
    "    GarageCars:YearBuilt +\n",
    "    TotalBsmtSF:ThreeSsnPorch + BsmtFinSF1:ThreeSsnPorch + GarageCars:ThreeSsnPorch + \n",
    "    BsmtFinSF2:ThreeSsnPorch + EnclosedPorch:ThreeSsnPorch + \n",
    "    Fireplaces:ThreeSsnPorch,\n",
    "              method='lm',data=train.sample,metric=\"RMSE\")\n",
    "summary(lmFit4)"
   ]
  },
  {
   "cell_type": "code",
   "execution_count": 711,
   "metadata": {
    "collapsed": false
   },
   "outputs": [],
   "source": [
    "newdata4 = cbind(test.sample[,.('GrLivArea:BsmtFinSF1'=GrLivArea*BsmtFinSF1,\n",
    "                                'OverallQual:GrLivArea'=OverallQual*GrLivArea,\n",
    "                                'YearBuilt:LotArea'=YearBuilt*LotArea,\n",
    "                                'BsmtFinSF1:LotArea'=BsmtFinSF1*LotArea,\n",
    "                                'OverallQual:TotalBsmtSF'=OverallQual*TotalBsmtSF,\n",
    "                                'BsmtFinSF1:TotalBsmtSF'     =BsmtFinSF1*TotalBsmtSF,\n",
    "                                'YearRemodAdd:YearBuilt'  =YearRemodAdd*YearBuilt,\n",
    "                                'GrLivArea:YearRemodAdd'    =GrLivArea*YearRemodAdd,\n",
    "                                'LotArea:YearBuilt'    =LotArea*YearBuilt,\n",
    "                                'OverallCond:Fireplaces'   =OverallCond*Fireplaces,\n",
    "                                'YearRemodAdd:LotArea'     =YearRemodAdd*LotArea,\n",
    "                                'GrLivArea:GarageCars'       =GrLivArea*GarageCars,\n",
    "                                'OverallQual:BedroomAbvGr'  =OverallQual*BedroomAbvGr,\n",
    "                                'YearRemodAdd:BedroomAbvGr'  =YearRemodAdd*BedroomAbvGr,\n",
    "                                'GarageCars:KitchenAbvGr'=GarageCars*KitchenAbvGr,\n",
    "                                'YearBuilt:Fireplaces'   =YearBuilt*Fireplaces,\n",
    "                                'BsmtFinSF1:ScreenPorch'   =BsmtFinSF1*ScreenPorch,\n",
    "                                'LotArea:PoolArea'    =LotArea*PoolArea,\n",
    "                                'TotalBsmtSF:PoolArea'      =TotalBsmtSF*PoolArea,\n",
    "                                'GarageCars:PoolArea'    =GarageCars*PoolArea,\n",
    "                                'Fireplaces:PoolArea'      = Fireplaces*PoolArea,\n",
    "                                'GrLivArea:ScreenPorch'     =GrLivArea*ScreenPorch,\n",
    "                                'GarageCars:TotalBsmtSF'  =GarageCars*TotalBsmtSF,\n",
    "                                'TotalBsmtSF:YearBuilt'   = TotalBsmtSF*YearBuilt,\n",
    "                                'TotRmsAbvGrd:BsmtFinSF2'  =TotRmsAbvGrd*BsmtFinSF2,\n",
    "                                'TotalBsmtSF:TotRmsAbvGrd'  =TotalBsmtSF*TotRmsAbvGrd,\n",
    "                                'TotalBsmtSF:BedroomAbvGr' =TotalBsmtSF*BedroomAbvGr,\n",
    "                                'BsmtFinSF1:BsmtFinSF2' =BsmtFinSF1*BsmtFinSF2,\n",
    "                                'OverallQual:LotArea'   =OverallQual*LotArea,\n",
    "                                'YearRemodAdd:EnclosedPorch'=YearRemodAdd*EnclosedPorch,\n",
    "                                'BsmtFinSF1:EnclosedPorch'=BsmtFinSF1*EnclosedPorch,\n",
    "                                'GarageCars:YearBuilt'   =GarageCars*YearBuilt,\n",
    "                                'TotalBsmtSF:ThreeSsnPorch' =TotalBsmtSF*ThreeSsnPorch,\n",
    "                                'BsmtFinSF1:ThreeSsnPorch'  =BsmtFinSF1*ThreeSsnPorch,\n",
    "                                'GarageCars:ThreeSsnPorch'   =GarageCars*ThreeSsnPorch,\n",
    "                                'BsmtFinSF2:ThreeSsnPorch'    =BsmtFinSF2*ThreeSsnPorch,\n",
    "                                'EnclosedPorch:ThreeSsnPorch' =EnclosedPorch*ThreeSsnPorch,\n",
    "                                'PoolArea:LotArea'=PoolArea*LotArea,\n",
    "                                'PoolArea:Fireplaces'=PoolArea*Fireplaces,\n",
    "                                'PoolArea:GarageCars'=PoolArea*GarageCars,\n",
    "                                'Fireplaces:ThreeSsnPorch' =Fireplaces*ThreeSsnPorch)],\n",
    "                 test.sample)\n",
    "#class(newdata4)\n",
    "#head(newdata4)\n",
    "#nrow(newdata4)\n"
   ]
  },
  {
   "cell_type": "code",
   "execution_count": 661,
   "metadata": {
    "collapsed": false
   },
   "outputs": [],
   "source": [
    "lmFit4.prediction=predict(lmFit4$finalModel,newdata=newdata4)"
   ]
  },
  {
   "cell_type": "code",
   "execution_count": 639,
   "metadata": {
    "collapsed": false
   },
   "outputs": [
    {
     "data": {
      "text/html": [
       "0.166299140651318"
      ],
      "text/latex": [
       "0.166299140651318"
      ],
      "text/markdown": [
       "0.166299140651318"
      ],
      "text/plain": [
       "[1] 0.1662991"
      ]
     },
     "metadata": {},
     "output_type": "display_data"
    },
    {
     "data": {
      "text/html": [
       "<strong>132:</strong> 82571.3069446334"
      ],
      "text/latex": [
       "\\textbf{132:} 82571.3069446334"
      ],
      "text/markdown": [
       "**132:** 82571.3069446334"
      ],
      "text/plain": [
       "     132 \n",
       "82571.31 "
      ]
     },
     "metadata": {},
     "output_type": "display_data"
    }
   ],
   "source": [
    "rmsle(test.sample$SalePrice[-132],lmFit4.prediction[-132])\n",
    "lmFit4.prediction[132]\n",
    "# sans les termes d'O2: rmsle=0.196381157493652 (sans [132]) et [132] = -50285 "
   ]
  },
  {
   "cell_type": "code",
   "execution_count": 729,
   "metadata": {
    "collapsed": false
   },
   "outputs": [
    {
     "name": "stderr",
     "output_type": "stream",
     "text": [
      "Warning message in predict.lm(modelFit, newdata):\n",
      "“prediction from a rank-deficient fit may be misleading”Warning message in predict.lm(modelFit, newdata):\n",
      "“prediction from a rank-deficient fit may be misleading”Warning message in predict.lm(modelFit, newdata):\n",
      "“prediction from a rank-deficient fit may be misleading”Warning message in predict.lm(modelFit, newdata):\n",
      "“prediction from a rank-deficient fit may be misleading”Warning message in predict.lm(modelFit, newdata):\n",
      "“prediction from a rank-deficient fit may be misleading”Warning message in predict.lm(modelFit, newdata):\n",
      "“prediction from a rank-deficient fit may be misleading”Warning message in predict.lm(modelFit, newdata):\n",
      "“prediction from a rank-deficient fit may be misleading”Warning message in predict.lm(modelFit, newdata):\n",
      "“prediction from a rank-deficient fit may be misleading”Warning message in predict.lm(modelFit, newdata):\n",
      "“prediction from a rank-deficient fit may be misleading”Warning message in predict.lm(modelFit, newdata):\n",
      "“prediction from a rank-deficient fit may be misleading”Warning message in predict.lm(modelFit, newdata):\n",
      "“prediction from a rank-deficient fit may be misleading”Warning message in predict.lm(modelFit, newdata):\n",
      "“prediction from a rank-deficient fit may be misleading”"
     ]
    },
    {
     "data": {
      "text/plain": [
       "\n",
       "Call:\n",
       "lm(formula = .outcome ~ ., data = dat)\n",
       "\n",
       "Residuals:\n",
       "   Min     1Q Median     3Q    Max \n",
       "-88312 -11368    126  10718 135372 \n",
       "\n",
       "Coefficients:\n",
       "                             Estimate Std. Error t value Pr(>|t|)    \n",
       "(Intercept)                 2.999e+07  5.539e+06   5.414 7.62e-08 ***\n",
       "OverallQual                -9.297e+03  2.454e+03  -3.788 0.000160 ***\n",
       "GrLivArea                  -8.792e+02  1.767e+02  -4.976 7.56e-07 ***\n",
       "BsmtFinSF1                  2.732e+01  2.606e+00  10.485  < 2e-16 ***\n",
       "TotalBsmtSF                -3.633e+01  1.028e+01  -3.534 0.000427 ***\n",
       "YearRemodAdd               -1.547e+04  2.784e+03  -5.554 3.52e-08 ***\n",
       "YearBuilt                  -1.500e+04  2.827e+03  -5.307 1.35e-07 ***\n",
       "OverallCond                 6.311e+03  7.464e+02   8.456  < 2e-16 ***\n",
       "BedroomAbvGr                2.843e+04  4.199e+03   6.770 2.12e-11 ***\n",
       "PoolArea                    4.840e+02  6.481e+01   7.468 1.69e-13 ***\n",
       "BsmtFinSF2                  2.602e+01  6.424e+00   4.050 5.48e-05 ***\n",
       "EnclosedPorch               2.171e+01  1.187e+01   1.829 0.067642 .  \n",
       "`OverallQual:GrLivArea`     1.285e+01  1.393e+00   9.228  < 2e-16 ***\n",
       "`BsmtFinSF1:LotArea`       -4.641e-04  1.663e-04  -2.791 0.005352 ** \n",
       "`OverallQual:TotalBsmtSF`   9.820e+00  1.220e+00   8.048 2.22e-15 ***\n",
       "`YearRemodAdd:YearBuilt`    7.759e+00  1.421e+00   5.461 5.89e-08 ***\n",
       "`GrLivArea:YearRemodAdd`    4.163e-01  9.045e-02   4.602 4.68e-06 ***\n",
       "`OverallCond:Fireplaces`    1.031e+03  2.194e+02   4.698 2.97e-06 ***\n",
       "`GrLivArea:GarageCars`      1.084e+01  1.414e+00   7.667 3.96e-14 ***\n",
       "`OverallQual:BedroomAbvGr` -3.797e+03  7.824e+02  -4.853 1.40e-06 ***\n",
       "`GarageCars:KitchenAbvGr`  -7.760e+03  1.748e+03  -4.440 9.93e-06 ***\n",
       "`PoolArea:LotArea`         -3.317e-02  1.948e-03 -17.027  < 2e-16 ***\n",
       "`PoolArea:GarageCars`       3.159e+02  3.370e+01   9.374  < 2e-16 ***\n",
       "`PoolArea:Fireplaces`      -3.903e+02  4.041e+01  -9.658  < 2e-16 ***\n",
       "`GrLivArea:ScreenPorch`     4.526e-02  6.846e-03   6.611 6.03e-11 ***\n",
       "`TotalBsmtSF:TotRmsAbvGrd`  4.160e+00  6.985e-01   5.956 3.50e-09 ***\n",
       "`TotalBsmtSF:BedroomAbvGr` -9.717e+00  2.227e+00  -4.364 1.40e-05 ***\n",
       "`BsmtFinSF1:BsmtFinSF2`    -5.955e-02  1.500e-02  -3.969 7.69e-05 ***\n",
       "`OverallQual:LotArea`       1.818e-01  2.876e-02   6.320 3.83e-10 ***\n",
       "---\n",
       "Signif. codes:  0 ‘***’ 0.001 ‘**’ 0.01 ‘*’ 0.05 ‘.’ 0.1 ‘ ’ 1\n",
       "\n",
       "Residual standard error: 21640 on 1068 degrees of freedom\n",
       "Multiple R-squared:  0.9317,\tAdjusted R-squared:  0.9299 \n",
       "F-statistic: 520.6 on 28 and 1068 DF,  p-value: < 2.2e-16\n"
      ]
     },
     "metadata": {},
     "output_type": "display_data"
    }
   ],
   "source": [
    "# Enlevons les variables non-significatives\n",
    "lmFit5 = train(SalePrice ~ OverallQual + GrLivArea + BsmtFinSF1 + \n",
    "    #GarageCars + \n",
    "               TotalBsmtSF + YearRemodAdd + YearBuilt + \n",
    "    OverallCond + BedroomAbvGr +\n",
    "    #TotRmsAbvGrd + \n",
    "               PoolArea + BsmtFinSF2 + \n",
    "               EnclosedPorch +\n",
    "               OverallQual:GrLivArea + \n",
    "    BsmtFinSF1:LotArea + \n",
    "               OverallQual:TotalBsmtSF + \n",
    "    YearRemodAdd:YearBuilt + GrLivArea:YearRemodAdd + \n",
    "    #LotArea:YearBuilt +\n",
    "    OverallCond:Fireplaces + #YearRemodAdd:LotArea +\n",
    "               GrLivArea:GarageCars + \n",
    "    OverallQual:BedroomAbvGr + #YearRemodAdd:BedroomAbvGr +\n",
    "               GarageCars:KitchenAbvGr +  \n",
    "    #BsmtFinSF1:ScreenPorch + \n",
    "    LotArea:PoolArea + #TotalBsmtSF:PoolArea +\n",
    "    GarageCars:PoolArea + \n",
    "    Fireplaces:PoolArea + GrLivArea:ScreenPorch + \n",
    "    #GarageCars:TotalBsmtSF + TotalBsmtSF:YearBuilt + \n",
    "    #TotRmsAbvGrd:BsmtFinSF2 +\n",
    "    TotalBsmtSF:TotRmsAbvGrd + TotalBsmtSF:BedroomAbvGr + \n",
    "    BsmtFinSF1:BsmtFinSF2 + OverallQual:LotArea,\n",
    "    #YearRemodAdd:EnclosedPorch + BsmtFinSF1:EnclosedPorch + \n",
    "    #GarageCars:YearBuilt +\n",
    "    #TotalBsmtSF:ThreeSsnPorch + GarageCars:ThreeSsnPorch + \n",
    "    #BsmtFinSF2:ThreeSsnPorch + \n",
    "    #Fireplaces:ThreeSsnPorch,\n",
    "               \n",
    "              method='lm',data=train.sample,metric=\"RMSE\")\n",
    "summary(lmFit5)"
   ]
  },
  {
   "cell_type": "code",
   "execution_count": 730,
   "metadata": {
    "collapsed": false
   },
   "outputs": [],
   "source": [
    "lmFit5.prediction=predict(lmFit5$finalModel,newdata=newdata4)"
   ]
  },
  {
   "cell_type": "code",
   "execution_count": 731,
   "metadata": {
    "collapsed": false
   },
   "outputs": [
    {
     "data": {
      "text/html": [
       "0.161392892520288"
      ],
      "text/latex": [
       "0.161392892520288"
      ],
      "text/markdown": [
       "0.161392892520288"
      ],
      "text/plain": [
       "[1] 0.1613929"
      ]
     },
     "metadata": {},
     "output_type": "display_data"
    },
    {
     "data": {
      "text/html": [
       "<strong>132:</strong> 89409.7871239644"
      ],
      "text/latex": [
       "\\textbf{132:} 89409.7871239644"
      ],
      "text/markdown": [
       "**132:** 89409.7871239644"
      ],
      "text/plain": [
       "     132 \n",
       "89409.79 "
      ]
     },
     "metadata": {},
     "output_type": "display_data"
    },
    {
     "data": {
      "text/html": [
       "0.166845013282629"
      ],
      "text/latex": [
       "0.166845013282629"
      ],
      "text/markdown": [
       "0.166845013282629"
      ],
      "text/plain": [
       "[1] 0.166845"
      ]
     },
     "metadata": {},
     "output_type": "display_data"
    }
   ],
   "source": [
    "rmsle(test.sample$SalePrice[-132],lmFit5.prediction[-132])\n",
    "lmFit5.prediction[132]\n",
    "rmsle(test.sample$SalePrice,lmFit5.prediction)\n",
    "# sans les termes d'O2: rmsle=0.196381157493652 (sans [132]) et [132] = -50285 \n",
    "# sans les termes d'O2 et en enlevant les non significatifs à 1: rmsle=0.194527029435209 (sans [132]) et [132] = -50504\n",
    "# sans les termes d'O2 et en enlevant les non significatifs à 1 et .1: rmsle=0.193857699973822 (sans [132]) et [132] = -49279\n",
    "# avec termes d'O2: rmsle=0.166299140651318 (sans [132]) et [132] = 82571\n",
    "# avec termes d'O2 et en enlevant non signif d'O2: rmsle=0.166088952312004 (sans [132]) et [132] = 82701\n",
    "# avec termes d'O2 et en enlevant non signif d'O2 et qques nn sign d'O1: rmsle=0.165453509793732 (sans [132]) et [132] = 83191\n",
    "# avec termes d'O2 et en enlevant non signif d'O2 et qques nn sign d'O1 + enlever fireplace:\n",
    "# rmsle=0.164499484257763 (sans [132]) et [132] = 83303 et rmsle=0.168938783369886 avec [132]\n",
    "# avec termes d'O2 et en enlevant non signif d'O2 et qques nn sign d'O1 + enlever fireplace + bidouilles:\n",
    "# rmsle=0.164067317122555 (sans [132]) et [132] = 81425 et rmsle=0.168243163779272 avec [132]\n",
    "# avec termes d'O2 et en enlevant non signif d'O2 et qques nn sign d'O1 + enlever fireplace + bidouilles^2:\n",
    "# rmsle=0.161392892520288 (sans [132]) et [132] = 89409 et rmsle=0.166845013282629 avec [132]"
   ]
  },
  {
   "cell_type": "code",
   "execution_count": null,
   "metadata": {
    "collapsed": true
   },
   "outputs": [],
   "source": []
  },
  {
   "cell_type": "code",
   "execution_count": null,
   "metadata": {
    "collapsed": false
   },
   "outputs": [],
   "source": []
  },
  {
   "cell_type": "code",
   "execution_count": 733,
   "metadata": {
    "collapsed": true
   },
   "outputs": [],
   "source": []
  },
  {
   "cell_type": "code",
   "execution_count": 767,
   "metadata": {
    "collapsed": true
   },
   "outputs": [],
   "source": [
    "# Rajoutons les variables catégoriques à numériser de type KitchenQual"
   ]
  },
  {
   "cell_type": "code",
   "execution_count": 14,
   "metadata": {
    "collapsed": false
   },
   "outputs": [
    {
     "data": {
      "text/html": [
       "<table>\n",
       "<thead><tr><th></th><th scope=col>Id</th><th scope=col>MSSubClass</th><th scope=col>MSZoning</th><th scope=col>LotFrontage</th><th scope=col>LotArea</th><th scope=col>Street</th><th scope=col>Alley</th><th scope=col>LotShape</th><th scope=col>LandContour</th><th scope=col>Utilities</th><th scope=col>⋯</th><th scope=col>MiscVal</th><th scope=col>MoSold</th><th scope=col>YrSold</th><th scope=col>SaleType</th><th scope=col>SaleCondition</th><th scope=col>SalePrice</th><th scope=col>nKitchenQual</th><th scope=col>nExterQual</th><th scope=col>nBsmtQual</th><th scope=col>nGarageFinish</th></tr></thead>\n",
       "<tbody>\n",
       "\t<tr><th scope=row>1</th><td>1     </td><td>60    </td><td>RL    </td><td>65    </td><td>8450  </td><td>Pave  </td><td>NA    </td><td>Reg   </td><td>Lvl   </td><td>AllPub</td><td>⋯     </td><td>0     </td><td>2     </td><td>2008  </td><td>WD    </td><td>Normal</td><td>208500</td><td>2     </td><td>2     </td><td>2     </td><td>2     </td></tr>\n",
       "\t<tr><th scope=row>2</th><td>2     </td><td>20    </td><td>RL    </td><td>80    </td><td>9600  </td><td>Pave  </td><td>NA    </td><td>Reg   </td><td>Lvl   </td><td>AllPub</td><td>⋯     </td><td>0     </td><td>5     </td><td>2007  </td><td>WD    </td><td>Normal</td><td>181500</td><td>1     </td><td>1     </td><td>2     </td><td>2     </td></tr>\n",
       "\t<tr><th scope=row>3</th><td>3     </td><td>60    </td><td>RL    </td><td>68    </td><td>11250 </td><td>Pave  </td><td>NA    </td><td>IR1   </td><td>Lvl   </td><td>AllPub</td><td>⋯     </td><td>0     </td><td>9     </td><td>2008  </td><td>WD    </td><td>Normal</td><td>223500</td><td>2     </td><td>2     </td><td>2     </td><td>2     </td></tr>\n",
       "\t<tr><th scope=row>4</th><td>4      </td><td>70     </td><td>RL     </td><td>60     </td><td>9550   </td><td>Pave   </td><td>NA     </td><td>IR1    </td><td>Lvl    </td><td>AllPub </td><td>⋯      </td><td>0      </td><td>2      </td><td>2006   </td><td>WD     </td><td>Abnorml</td><td>140000 </td><td>2      </td><td>1      </td><td>1      </td><td>1      </td></tr>\n",
       "\t<tr><th scope=row>5</th><td>5     </td><td>60    </td><td>RL    </td><td>84    </td><td>14260 </td><td>Pave  </td><td>NA    </td><td>IR1   </td><td>Lvl   </td><td>AllPub</td><td>⋯     </td><td>0     </td><td>12    </td><td>2008  </td><td>WD    </td><td>Normal</td><td>250000</td><td>2     </td><td>2     </td><td>2     </td><td>2     </td></tr>\n",
       "\t<tr><th scope=row>6</th><td>6     </td><td>50    </td><td>RL    </td><td>85    </td><td>14115 </td><td>Pave  </td><td>NA    </td><td>IR1   </td><td>Lvl   </td><td>AllPub</td><td>⋯     </td><td>700   </td><td>10    </td><td>2009  </td><td>WD    </td><td>Normal</td><td>143000</td><td>1     </td><td>1     </td><td>2     </td><td>1     </td></tr>\n",
       "</tbody>\n",
       "</table>\n"
      ],
      "text/latex": [
       "\\begin{tabular}{r|lllllllllllllllllllllllllllllllllllllllllllllllllllllllllllllllllllllllllllllllllllll}\n",
       "  & Id & MSSubClass & MSZoning & LotFrontage & LotArea & Street & Alley & LotShape & LandContour & Utilities & ⋯ & MiscVal & MoSold & YrSold & SaleType & SaleCondition & SalePrice & nKitchenQual & nExterQual & nBsmtQual & nGarageFinish\\\\\n",
       "\\hline\n",
       "\t1 & 1      & 60     & RL     & 65     & 8450   & Pave   & NA     & Reg    & Lvl    & AllPub & ⋯      & 0      & 2      & 2008   & WD     & Normal & 208500 & 2      & 2      & 2      & 2     \\\\\n",
       "\t2 & 2      & 20     & RL     & 80     & 9600   & Pave   & NA     & Reg    & Lvl    & AllPub & ⋯      & 0      & 5      & 2007   & WD     & Normal & 181500 & 1      & 1      & 2      & 2     \\\\\n",
       "\t3 & 3      & 60     & RL     & 68     & 11250  & Pave   & NA     & IR1    & Lvl    & AllPub & ⋯      & 0      & 9      & 2008   & WD     & Normal & 223500 & 2      & 2      & 2      & 2     \\\\\n",
       "\t4 & 4       & 70      & RL      & 60      & 9550    & Pave    & NA      & IR1     & Lvl     & AllPub  & ⋯       & 0       & 2       & 2006    & WD      & Abnorml & 140000  & 2       & 1       & 1       & 1      \\\\\n",
       "\t5 & 5      & 60     & RL     & 84     & 14260  & Pave   & NA     & IR1    & Lvl    & AllPub & ⋯      & 0      & 12     & 2008   & WD     & Normal & 250000 & 2      & 2      & 2      & 2     \\\\\n",
       "\t6 & 6      & 50     & RL     & 85     & 14115  & Pave   & NA     & IR1    & Lvl    & AllPub & ⋯      & 700    & 10     & 2009   & WD     & Normal & 143000 & 1      & 1      & 2      & 1     \\\\\n",
       "\\end{tabular}\n"
      ],
      "text/plain": [
       "  Id MSSubClass MSZoning LotFrontage LotArea Street Alley LotShape LandContour\n",
       "1  1         60       RL          65    8450   Pave  <NA>      Reg         Lvl\n",
       "2  2         20       RL          80    9600   Pave  <NA>      Reg         Lvl\n",
       "3  3         60       RL          68   11250   Pave  <NA>      IR1         Lvl\n",
       "4  4         70       RL          60    9550   Pave  <NA>      IR1         Lvl\n",
       "5  5         60       RL          84   14260   Pave  <NA>      IR1         Lvl\n",
       "6  6         50       RL          85   14115   Pave  <NA>      IR1         Lvl\n",
       "  Utilities ⋯ MiscVal MoSold YrSold SaleType SaleCondition SalePrice\n",
       "1    AllPub ⋯       0      2   2008       WD        Normal    208500\n",
       "2    AllPub ⋯       0      5   2007       WD        Normal    181500\n",
       "3    AllPub ⋯       0      9   2008       WD        Normal    223500\n",
       "4    AllPub ⋯       0      2   2006       WD       Abnorml    140000\n",
       "5    AllPub ⋯       0     12   2008       WD        Normal    250000\n",
       "6    AllPub ⋯     700     10   2009       WD        Normal    143000\n",
       "  nKitchenQual nExterQual nBsmtQual nGarageFinish\n",
       "1            2          2         2             2\n",
       "2            1          1         2             2\n",
       "3            2          2         2             2\n",
       "4            2          1         1             1\n",
       "5            2          2         2             2\n",
       "6            1          1         2             1"
      ]
     },
     "metadata": {},
     "output_type": "display_data"
    }
   ],
   "source": [
    "train = fread('~/kaggle/house_prices/data/train.csv',\n",
    "              colClasses=c('MiscFeature'='character','PoolQC'='character'))\n",
    "\n",
    "# Transform categorical arguments KitchenQual, ExterQual, BsmtQual, GarageFinish, into numerical\n",
    "\n",
    "# KitchenQual\n",
    "nKitchenQual = numeric(length(train$KitchenQual))\n",
    "nKitchenQual[train$KitchenQual=='TA']=1.0\n",
    "nKitchenQual[train$KitchenQual=='Gd']=2.0\n",
    "nKitchenQual[train$KitchenQual=='Ex']=3.0\n",
    "train=cbind(train,nKitchenQual)\n",
    "\n",
    "# ExterQual\n",
    "nExterQual = numeric(length(train$ExterQual))\n",
    "nExterQual[train$ExterQual=='TA']=1.0\n",
    "nExterQual[train$ExterQual=='Gd']=2.0\n",
    "nExterQual[train$ExterQual=='Ex']=3.0\n",
    "train=cbind(train,nExterQual)\n",
    "\n",
    "# BsmtQual\n",
    "nBsmtQual = numeric(length(train$BsmtQual))\n",
    "nBsmtQual[train$BsmtQual=='TA']=1.0\n",
    "nBsmtQual[train$BsmtQual=='Gd']=2.0\n",
    "nBsmtQual[train$BsmtQual=='Ex']=3.0\n",
    "train=cbind(train,nBsmtQual)\n",
    "\n",
    "# GarageFinish\n",
    "nGarageFinish = numeric(length(train$GarageFinish))\n",
    "nGarageFinish[train$GarageFinish=='Unf']=1.0\n",
    "nGarageFinish[train$GarageFinish=='RFn']=2.0\n",
    "nGarageFinish[train$GarageFinish=='Fin']=3.0\n",
    "train=cbind(train,nGarageFinish)\n",
    "\n",
    "head(train)"
   ]
  },
  {
   "cell_type": "code",
   "execution_count": 15,
   "metadata": {
    "collapsed": false
   },
   "outputs": [],
   "source": [
    "# Il faut renommer les colonnes 1stFlrSF, 2ndFlrSF, et 3SsnPorch pour pas avoir d'emmerdes\n",
    "FirstFlrSF=train$'1stFlrSF'\n",
    "SecondFlrSF=train$'2ndFlrSF'\n",
    "ThreeSsnPorch=train$'3SsnPorch'\n",
    "new_names = names(train)[-which(names(train)=='1stFlrSF'|names(train)=='2ndFlrSF'|names(train)=='3SsnPorch')]\n",
    "to_add = data.table(FirstFlrSF,SecondFlrSF,ThreeSsnPorch)\n",
    "train = cbind(train[,new_names,with=FALSE],to_add)\n",
    "#str(train)\n"
   ]
  },
  {
   "cell_type": "code",
   "execution_count": 16,
   "metadata": {
    "collapsed": true
   },
   "outputs": [],
   "source": [
    "kept_features6 = c(\"LotArea\", \"OverallQual\", \"OverallCond\", \"YearBuilt\", \"YearRemodAdd\", \"BsmtFinSF1\", \"BsmtFinSF2\",\n",
    "                  \"BsmtUnfSF\", \"TotalBsmtSF\", \"LowQualFinSF\", \"GrLivArea\", \"BsmtFullBath\",\n",
    "                  \"BsmtHalfBath\", \"FullBath\", \"HalfBath\", \"BedroomAbvGr\", \"KitchenAbvGr\", \"TotRmsAbvGrd\", \"Fireplaces\",\n",
    "                  \"GarageCars\", \"GarageArea\", \"WoodDeckSF\", \"OpenPorchSF\", \"EnclosedPorch\", \"ScreenPorch\", \n",
    "                  \"MiscVal\", \"MoSold\", \"YrSold\",\"PoolArea\",\"FirstFlrSF\",\"SecondFlrSF\",\"ThreeSsnPorch\",\"nKitchenQual\",\n",
    "                  \"nExterQual\",\"nBsmtQual\",\"nGarageFinish\")\n",
    "train.kept6 = train[,c(kept_features6,\"SalePrice\"),with=FALSE]"
   ]
  },
  {
   "cell_type": "code",
   "execution_count": 17,
   "metadata": {
    "collapsed": false
   },
   "outputs": [],
   "source": [
    "set.seed(4)\n",
    "inTrain = createDataPartition(train.kept6$SalePrice,p=.75,list=FALSE)\n",
    "#print(inTrain)\n",
    "train.sample = train.kept6[inTrain,]\n",
    "test.sample = train.kept6[-inTrain,]"
   ]
  },
  {
   "cell_type": "code",
   "execution_count": 18,
   "metadata": {
    "collapsed": false
   },
   "outputs": [],
   "source": [
    "#ncol(train.sample)\n",
    "#head(train.sample)"
   ]
  },
  {
   "cell_type": "code",
   "execution_count": 19,
   "metadata": {
    "collapsed": false
   },
   "outputs": [],
   "source": [
    "newdata6 = cbind(test.sample[,.('GrLivArea:BsmtFinSF1'=GrLivArea*BsmtFinSF1,\n",
    "                                'OverallQual:GrLivArea'=OverallQual*GrLivArea,\n",
    "                                'YearBuilt:LotArea'=YearBuilt*LotArea,\n",
    "                                'BsmtFinSF1:LotArea'=BsmtFinSF1*LotArea,\n",
    "                                'OverallQual:TotalBsmtSF'=OverallQual*TotalBsmtSF,\n",
    "                                'BsmtFinSF1:TotalBsmtSF'     =BsmtFinSF1*TotalBsmtSF,\n",
    "                                'YearRemodAdd:YearBuilt'  =YearRemodAdd*YearBuilt,\n",
    "                                'GrLivArea:YearRemodAdd'    =GrLivArea*YearRemodAdd,\n",
    "                                'LotArea:YearBuilt'    =LotArea*YearBuilt,\n",
    "                                'OverallCond:Fireplaces'   =OverallCond*Fireplaces,\n",
    "                                'YearRemodAdd:LotArea'     =YearRemodAdd*LotArea,\n",
    "                                'GrLivArea:GarageCars'       =GrLivArea*GarageCars,\n",
    "                                'OverallQual:BedroomAbvGr'  =OverallQual*BedroomAbvGr,\n",
    "                                'YearRemodAdd:BedroomAbvGr'  =YearRemodAdd*BedroomAbvGr,\n",
    "                                'GarageCars:KitchenAbvGr'=GarageCars*KitchenAbvGr,\n",
    "                                'YearBuilt:Fireplaces'   =YearBuilt*Fireplaces,\n",
    "                                'BsmtFinSF1:ScreenPorch'   =BsmtFinSF1*ScreenPorch,\n",
    "                                'LotArea:PoolArea'    =LotArea*PoolArea,\n",
    "                                'TotalBsmtSF:PoolArea'      =TotalBsmtSF*PoolArea,\n",
    "                                'GarageCars:PoolArea'    =GarageCars*PoolArea,\n",
    "                                'Fireplaces:PoolArea'      = Fireplaces*PoolArea,\n",
    "                                'GrLivArea:ScreenPorch'     =GrLivArea*ScreenPorch,\n",
    "                                'GarageCars:TotalBsmtSF'  =GarageCars*TotalBsmtSF,\n",
    "                                'TotalBsmtSF:YearBuilt'   = TotalBsmtSF*YearBuilt,\n",
    "                                'TotRmsAbvGrd:BsmtFinSF2'  =TotRmsAbvGrd*BsmtFinSF2,\n",
    "                                'TotalBsmtSF:TotRmsAbvGrd'  =TotalBsmtSF*TotRmsAbvGrd,\n",
    "                                'TotRmsAbvGrd:TotalBsmtSF'=TotRmsAbvGrd*TotalBsmtSF,\n",
    "                                'TotalBsmtSF:BedroomAbvGr' =TotalBsmtSF*BedroomAbvGr,\n",
    "                                'BsmtFinSF1:BsmtFinSF2' =BsmtFinSF1*BsmtFinSF2,\n",
    "                                'OverallQual:LotArea'   =OverallQual*LotArea,\n",
    "                                'YearRemodAdd:EnclosedPorch'=YearRemodAdd*EnclosedPorch,\n",
    "                                'BsmtFinSF1:EnclosedPorch'=BsmtFinSF1*EnclosedPorch,\n",
    "                                'GarageCars:YearBuilt'   =GarageCars*YearBuilt,\n",
    "                                'TotalBsmtSF:ThreeSsnPorch' =TotalBsmtSF*ThreeSsnPorch,\n",
    "                                'BsmtFinSF1:ThreeSsnPorch'  =BsmtFinSF1*ThreeSsnPorch,\n",
    "                                'GarageCars:ThreeSsnPorch'   =GarageCars*ThreeSsnPorch,\n",
    "                                'BsmtFinSF2:ThreeSsnPorch'    =BsmtFinSF2*ThreeSsnPorch,\n",
    "                                'EnclosedPorch:ThreeSsnPorch' =EnclosedPorch*ThreeSsnPorch,\n",
    "                                'PoolArea:LotArea'=PoolArea*LotArea,\n",
    "                                'PoolArea:Fireplaces'=PoolArea*Fireplaces,\n",
    "                                'PoolArea:GarageCars'=PoolArea*GarageCars,\n",
    "                                'nKitchenQual:ScreenPorch'=nKitchenQual*ScreenPorch,\n",
    "                                'BsmtFinSF1:nExterQual'=BsmtFinSF1*nExterQual,\n",
    "                                'LotArea:nExterQual'=LotArea*nExterQual,\n",
    "                                'GrLivArea:nExterQual'=GrLivArea*nExterQual,\n",
    "                                'nExterQual:KitchenAbvGr'=nExterQual*KitchenAbvGr,\n",
    "                                'TotRmsAbvGrd:nGarageFinish'=TotRmsAbvGrd*nGarageFinish,\n",
    "                                'nKitchenQual:EnclosedPorch'=nKitchenQual*EnclosedPorch,\n",
    "                                'nKitchenQual:BedroomAbvGr'=nKitchenQual*BedroomAbvGr,\n",
    "                                'nExterQual:BsmtFinSF1'=nExterQual*BsmtFinSF1,\n",
    "                                \n",
    "                                'TotRmsAbvGrd:Fireplaces'=TotRmsAbvGrd*Fireplaces,\n",
    "                                'BedroomAbvGr:OverallQual'=BedroomAbvGr*OverallQual,\n",
    "                                'BedroomAbvGr:YearRemodAdd'=BedroomAbvGr*YearRemodAdd,\n",
    "                                'PoolArea:BsmtFullBath'=PoolArea*BsmtFullBath,\n",
    "                                'BedroomAbvGr:Fireplaces'=BedroomAbvGr*Fireplaces,\n",
    "                                'OverallQual:TotRmsAbvGrd'=OverallQual*TotRmsAbvGrd,\n",
    "                                'BsmtFinSF1:Fireplaces'=BsmtFinSF1*Fireplaces,\n",
    "                                'LotArea:BsmtFinSF1'=LotArea*BsmtFinSF1,\n",
    "                                'TotRmsAbvGrd:OverallQual'=TotRmsAbvGrd*OverallQual,\n",
    "                                'Fireplaces:ThreeSsnPorch' =Fireplaces*ThreeSsnPorch)],\n",
    "                 test.sample)\n",
    "#class(newdata4)\n",
    "#head(newdata4)\n",
    "#nrow(newdata4)\n"
   ]
  },
  {
   "cell_type": "code",
   "execution_count": 20,
   "metadata": {
    "collapsed": true
   },
   "outputs": [],
   "source": [
    "# modèle trivial réduit à la constante\n",
    "str_constant = '~ 1'"
   ]
  },
  {
   "cell_type": "code",
   "execution_count": 21,
   "metadata": {
    "collapsed": false
   },
   "outputs": [],
   "source": [
    "# modèle complet incluant toutes les explicatives potentielles\n",
    "str_full = \"~ (LotArea + OverallQual + OverallCond + YearBuilt + YearRemodAdd + BsmtFinSF1 + \n",
    "                BsmtFinSF2 + BsmtUnfSF + TotalBsmtSF + LowQualFinSF + GrLivArea + BsmtFullBath + \n",
    "                BsmtHalfBath + FullBath + HalfBath + BedroomAbvGr + KitchenAbvGr + TotRmsAbvGrd + \n",
    "                Fireplaces + GarageCars + GarageArea + WoodDeckSF + OpenPorchSF + EnclosedPorch + \n",
    "                ScreenPorch + MiscVal + MoSold + YrSold + PoolArea + FirstFlrSF + SecondFlrSF + \n",
    "                ThreeSsnPorch + nKitchenQual + nBsmtQual + nExterQual + nGarageFinish)^2\""
   ]
  },
  {
   "cell_type": "code",
   "execution_count": 47,
   "metadata": {
    "collapsed": false
   },
   "outputs": [],
   "source": [
    "# départ modèle avec la seule constante + sélection forward\n",
    "\n",
    "##modele = lm(SalePrice ~ 1, data = train.sample)\n",
    "##modele.forward = stepAIC(modele, scope = list(lower=str_constant,upper=str_full), \n",
    "##                         trace=TRUE, data=train.sample, direction = 'forward')\n",
    "##summary(modele.forward)"
   ]
  },
  {
   "cell_type": "code",
   "execution_count": 894,
   "metadata": {
    "collapsed": false
   },
   "outputs": [
    {
     "name": "stderr",
     "output_type": "stream",
     "text": [
      "Warning message in predict.lm(modelFit, newdata):\n",
      "“prediction from a rank-deficient fit may be misleading”Warning message in predict.lm(modelFit, newdata):\n",
      "“prediction from a rank-deficient fit may be misleading”"
     ]
    },
    {
     "data": {
      "text/plain": [
       "\n",
       "Call:\n",
       "lm(formula = .outcome ~ ., data = dat)\n",
       "\n",
       "Residuals:\n",
       "    Min      1Q  Median      3Q     Max \n",
       "-107870  -11604     142   10997  147050 \n",
       "\n",
       "Coefficients:\n",
       "                              Estimate Std. Error t value Pr(>|t|)    \n",
       "(Intercept)                 -5.634e+05  8.029e+04  -7.017 4.02e-12 ***\n",
       "GrLivArea                    1.701e+01  4.906e+00   3.467 0.000548 ***\n",
       "nKitchenQual                 4.800e+03  1.799e+03   2.668 0.007741 ** \n",
       "GarageCars                  -4.670e+03  1.773e+03  -2.634 0.008554 ** \n",
       "LotArea                      2.135e+00  3.150e-01   6.778 2.01e-11 ***\n",
       "nExterQual                  -3.755e+04  4.771e+03  -7.872 8.52e-15 ***\n",
       "OverallCond                  4.565e+03  7.800e+02   5.853 6.41e-09 ***\n",
       "WoodDeckSF                   1.796e+01  6.317e+00   2.843 0.004556 ** \n",
       "PoolArea                     7.421e+02  4.752e+01  15.617  < 2e-16 ***\n",
       "TotRmsAbvGrd                -2.401e+04  2.477e+03  -9.694  < 2e-16 ***\n",
       "BedroomAbvGr                -1.010e+05  3.416e+04  -2.957 0.003170 ** \n",
       "YearBuilt                    3.254e+02  4.013e+01   8.108 1.40e-15 ***\n",
       "`GrLivArea:BsmtFinSF1`       1.006e-02  2.973e-03   3.382 0.000746 ***\n",
       "`OverallCond:Fireplaces`     5.799e+02  2.336e+02   2.482 0.013208 *  \n",
       "`nKitchenQual:ScreenPorch`   6.530e+01  1.247e+01   5.235 1.98e-07 ***\n",
       "`BsmtFinSF1:ScreenPorch`    -1.239e-01  3.308e-02  -3.746 0.000189 ***\n",
       "`LotArea:BsmtFinSF1`        -9.851e-04  1.894e-04  -5.202 2.37e-07 ***\n",
       "`nExterQual:BsmtFinSF1`      1.070e+01  2.648e+00   4.041 5.71e-05 ***\n",
       "`LotArea:nExterQual`        -4.596e-01  1.490e-01  -3.084 0.002097 ** \n",
       "`GrLivArea:nExterQual`       2.792e+01  2.487e+00  11.227  < 2e-16 ***\n",
       "`BedroomAbvGr:OverallQual`  -5.360e+03  8.268e+02  -6.483 1.37e-10 ***\n",
       "`TotRmsAbvGrd:OverallQual`   4.040e+03  3.633e+02  11.120  < 2e-16 ***\n",
       "`LotArea:PoolArea`          -3.314e-02  2.100e-03 -15.776  < 2e-16 ***\n",
       "`PoolArea:BsmtFullBath`     -2.154e+02  3.853e+01  -5.590 2.88e-08 ***\n",
       "`BedroomAbvGr:YearRemodAdd`  6.442e+01  1.759e+01   3.661 0.000263 ***\n",
       "`GarageCars:TotalBsmtSF`     1.229e+01  1.081e+00  11.360  < 2e-16 ***\n",
       "---\n",
       "Signif. codes:  0 ‘***’ 0.001 ‘**’ 0.01 ‘*’ 0.05 ‘.’ 0.1 ‘ ’ 1\n",
       "\n",
       "Residual standard error: 23530 on 1071 degrees of freedom\n",
       "Multiple R-squared:  0.919,\tAdjusted R-squared:  0.9171 \n",
       "F-statistic: 486.2 on 25 and 1071 DF,  p-value: < 2.2e-16\n"
      ]
     },
     "metadata": {},
     "output_type": "display_data"
    }
   ],
   "source": [
    "lmFit6 = train(SalePrice ~ GrLivArea + \n",
    "    nKitchenQual + GarageCars + LotArea + \n",
    "    nExterQual + OverallCond + WoodDeckSF + PoolArea + \n",
    "    TotRmsAbvGrd + BedroomAbvGr +\n",
    "    YearBuilt +\n",
    "    GrLivArea:BsmtFinSF1 + \n",
    "               OverallCond:Fireplaces + \n",
    "               nKitchenQual:ScreenPorch +\n",
    "    BsmtFinSF1:ScreenPorch + BsmtFinSF1:LotArea + BsmtFinSF1:nExterQual +\n",
    "    LotArea:nExterQual + GrLivArea:nExterQual + OverallQual:BedroomAbvGr +\n",
    "    OverallQual:TotRmsAbvGrd + \n",
    "    LotArea:PoolArea + BsmtFullBath:PoolArea + \n",
    "    YearRemodAdd:BedroomAbvGr + \n",
    "               TotalBsmtSF:GarageCars,\n",
    "              method='lm',data=train.sample,metric=\"RMSE\")\n",
    "summary(lmFit6)"
   ]
  },
  {
   "cell_type": "code",
   "execution_count": 895,
   "metadata": {
    "collapsed": false
   },
   "outputs": [],
   "source": [
    "lmFit6.prediction=predict(lmFit6$finalModel,newdata=newdata6)"
   ]
  },
  {
   "cell_type": "code",
   "execution_count": 896,
   "metadata": {
    "collapsed": false
   },
   "outputs": [
    {
     "data": {
      "text/html": [
       "0.161911811030811"
      ],
      "text/latex": [
       "0.161911811030811"
      ],
      "text/markdown": [
       "0.161911811030811"
      ],
      "text/plain": [
       "[1] 0.1619118"
      ]
     },
     "metadata": {},
     "output_type": "display_data"
    },
    {
     "data": {
      "text/html": [
       "<strong>132:</strong> 79110.2934240412"
      ],
      "text/latex": [
       "\\textbf{132:} 79110.2934240412"
      ],
      "text/markdown": [
       "**132:** 79110.2934240412"
      ],
      "text/plain": [
       "     132 \n",
       "79110.29 "
      ]
     },
     "metadata": {},
     "output_type": "display_data"
    },
    {
     "data": {
      "text/html": [
       "0.165805782760942"
      ],
      "text/latex": [
       "0.165805782760942"
      ],
      "text/markdown": [
       "0.165805782760942"
      ],
      "text/plain": [
       "[1] 0.1658058"
      ]
     },
     "metadata": {},
     "output_type": "display_data"
    }
   ],
   "source": [
    "rmsle(test.sample$SalePrice[-132],lmFit6.prediction[-132])\n",
    "lmFit6.prediction[132]\n",
    "rmsle(test.sample$SalePrice,lmFit6.prediction)\n",
    "# sans les termes d'O2: rmsle=0.196381157493652 (sans [132]) et [132] = -50285 \n",
    "# sans les termes d'O2 et en enlevant les non significatifs à 1: rmsle=0.194527029435209 (sans [132]) et [132] = -50504\n",
    "# sans les termes d'O2 et en enlevant les non significatifs à 1 et .1: rmsle=0.193857699973822 (sans [132]) et [132] = -49279\n",
    "# avec termes d'O2: rmsle=0.166299140651318 (sans [132]) et [132] = 82571\n",
    "# avec termes d'O2 et en enlevant non signif d'O2: rmsle=0.166088952312004 (sans [132]) et [132] = 82701\n",
    "# avec termes d'O2 et en enlevant non signif d'O2 et qques nn sign d'O1: rmsle=0.165453509793732 (sans [132]) et [132] = 83191\n",
    "# avec termes d'O2 et en enlevant non signif d'O2 et qques nn sign d'O1 + enlever fireplace:\n",
    "# rmsle=0.164499484257763 (sans [132]) et [132] = 83303 et rmsle=0.168938783369886 avec [132]\n",
    "# avec termes d'O2 et en enlevant non signif d'O2 et qques nn sign d'O1 + enlever fireplace + bidouilles:\n",
    "# rmsle=0.164067317122555 (sans [132]) et [132] = 81425 et rmsle=0.168243163779272 avec [132]\n",
    "# avec termes d'O2 et en enlevant non signif d'O2 et qques nn sign d'O1 + enlever fireplace + bidouilles^2:\n",
    "# rmsle=0.161392892520288 (sans [132]) et [132] = 89409 et rmsle=0.166845013282629 avec [132]"
   ]
  },
  {
   "cell_type": "code",
   "execution_count": null,
   "metadata": {
    "collapsed": false
   },
   "outputs": [],
   "source": []
  },
  {
   "cell_type": "code",
   "execution_count": null,
   "metadata": {
    "collapsed": false
   },
   "outputs": [],
   "source": []
  },
  {
   "cell_type": "code",
   "execution_count": 77,
   "metadata": {
    "collapsed": false
   },
   "outputs": [],
   "source": [
    "# Essai des logs, carrés, etc."
   ]
  },
  {
   "cell_type": "code",
   "execution_count": 279,
   "metadata": {
    "collapsed": false
   },
   "outputs": [],
   "source": [
    "train = fread('~/kaggle/house_prices/data/train.csv',\n",
    "              colClasses=c('MiscFeature'='character','PoolQC'='character'))\n",
    "\n",
    "# Il faut renommer les colonnes 1stFlrSF, 2ndFlrSF, et 3SsnPorch pour pas avoir d'emmerdes\n",
    "FirstFlrSF=train$'1stFlrSF'\n",
    "SecondFlrSF=train$'2ndFlrSF'\n",
    "ThreeSsnPorch=train$'3SsnPorch'\n",
    "new_names = names(train)[-which(names(train)=='1stFlrSF'|names(train)=='2ndFlrSF'|names(train)=='3SsnPorch')]\n",
    "to_add = data.table(FirstFlrSF,SecondFlrSF,ThreeSsnPorch)\n",
    "train = cbind(train[,new_names,with=FALSE],to_add)\n",
    "\n",
    "# Transform categorical arguments KitchenQual, ExterQual, BsmtQual, GarageFinish, into numerical\n",
    "\n",
    "# KitchenQual\n",
    "nKitchenQual = numeric(length(train$KitchenQual))\n",
    "nKitchenQual[train$KitchenQual=='TA']=1.0\n",
    "nKitchenQual[train$KitchenQual=='Gd']=2.0\n",
    "nKitchenQual[train$KitchenQual=='Ex']=3.0\n",
    "train=cbind(train,nKitchenQual)\n",
    "\n",
    "# ExterQual\n",
    "nExterQual = numeric(length(train$ExterQual))\n",
    "nExterQual[train$ExterQual=='TA']=1.0\n",
    "nExterQual[train$ExterQual=='Gd']=2.0\n",
    "nExterQual[train$ExterQual=='Ex']=3.0\n",
    "train=cbind(train,nExterQual)\n",
    "\n",
    "# BsmtQual\n",
    "nBsmtQual = numeric(length(train$BsmtQual))\n",
    "nBsmtQual[train$BsmtQual=='TA']=1.0\n",
    "nBsmtQual[train$BsmtQual=='Gd']=2.0\n",
    "nBsmtQual[train$BsmtQual=='Ex']=3.0\n",
    "train=cbind(train,nBsmtQual)\n",
    "\n",
    "# GarageFinish\n",
    "nGarageFinish = numeric(length(train$GarageFinish))\n",
    "nGarageFinish[train$GarageFinish=='Unf']=1.0\n",
    "nGarageFinish[train$GarageFinish=='RFn']=2.0\n",
    "nGarageFinish[train$GarageFinish=='Fin']=3.0\n",
    "train=cbind(train,nGarageFinish)\n",
    "\n",
    "# Full and half bathrooms\n",
    "train$Bath = train$FullBath + train$HalfBath\n",
    "train$BsmtBaths = train$BsmtFullBath + train$BsmtHalfBath\n",
    "\n",
    "# Take log of SalePrice\n",
    "train$log_SalePrice = train[,.(log_SalePrice=log(SalePrice))]\n",
    "\n",
    "# Take log of a few features\n",
    "train$log_LotArea = train[,.(log_LotArea=log(LotArea))]\n",
    "train$log_OverallQual = train[,.(log_OverallQual=log(OverallQual))]\n",
    "train$log_YearBuilt = train[,.(log_YearBuilt=log(YearBuilt))]\n",
    "train$log_YearRemodAdd = train[,.(log_YearRemodAdd=log(YearRemodAdd))]\n",
    "train$log_GrLivArea = train[,.(log_GrLivArea=log(GrLivArea))]\n",
    "train$log_Bath = train[,.(log_Bath=log(1+Bath))]\n",
    "train$log_nKitchenQual = train[,.(log_nKitchenQual=log(1+nKitchenQual))]\n",
    "train$log_nBsmtQual = train[,.(log_nBsmtQual=log(1+nBsmtQual))]\n",
    "train$log_nExterQual = train[,.(log_nExterQual=log(1+nExterQual))]\n",
    "train$log_nGarageFinish = train[,.(log_nGarageFinish=log(1+nGarageFinish))]\n",
    "train$log_BsmtFinSF1 = train[,.(log(1+BsmtFinSF1))]\n",
    "train$log_GarageCars = train[,.(log(1+GarageCars))]\n",
    "train$log_TotalBsmtSF = train[,.(log(1+TotalBsmtSF))]\n",
    "train$log_KitchenAbvGr = train[,.(log(1+KitchenAbvGr))]\n",
    "train$log_BedroomAbvGr = train[,.(log(1+BedroomAbvGr))]\n",
    "train$log_TotRmsAbvGrd = train[,.(log(TotRmsAbvGrd))]\n",
    "train$log_OverallCond = train[,.(log(OverallCond))]\n",
    "\n",
    "# Try exp of a few features\n",
    "# None useful\n",
    "\n",
    "# Try powers of a few features\n",
    "train$OverallQual_Square = train$OverallQual*train$OverallQual\n",
    "train$OverallQual_3 = train$OverallQual*train$OverallQual*train$OverallQual\n",
    "train$GrLivArea_Square = train$GrLivArea*train$GrLivArea\n",
    "train$TotalBsmtSF_on_GrLivArea = train$TotalBsmtSF/train$GrLivArea\n",
    "train$OverallCond_sqrt = sqrt(train$OverallCond)\n",
    "train$OverallCond_square = train$OverallCond*train$OverallCond\n",
    "train$LotArea_sqrt = sqrt(train$LotArea)\n",
    "train$FirstFlrSF_sqrt = sqrt(train$FirstFlrSF)\n",
    "train$TotRmsAbvGrd_sqrt = sqrt(train$TotRmsAbvGrd)"
   ]
  },
  {
   "cell_type": "code",
   "execution_count": null,
   "metadata": {
    "collapsed": false
   },
   "outputs": [],
   "source": []
  },
  {
   "cell_type": "code",
   "execution_count": 262,
   "metadata": {
    "collapsed": false
   },
   "outputs": [],
   "source": [
    "#str(train)"
   ]
  },
  {
   "cell_type": "code",
   "execution_count": 207,
   "metadata": {
    "collapsed": false,
    "scrolled": false
   },
   "outputs": [
    {
     "data": {
      "text/html": [
       "<table>\n",
       "<thead><tr><th></th><th scope=col>Id</th><th scope=col>MSSubClass</th><th scope=col>MSZoning</th><th scope=col>LotFrontage</th><th scope=col>LotArea</th><th scope=col>Street</th><th scope=col>Alley</th><th scope=col>LotShape</th><th scope=col>LandContour</th><th scope=col>Utilities</th><th scope=col>⋯</th><th scope=col>log_YearRemodAdd</th><th scope=col>log_GrLivArea</th><th scope=col>log_FullBath</th><th scope=col>log_nKitchenQual</th><th scope=col>log_nBsmtQual</th><th scope=col>log_nExterQual</th><th scope=col>log_nGarageFinish</th><th scope=col>FirstFlrSF</th><th scope=col>SecondFlrSF</th><th scope=col>ThreeSsnPorch</th></tr></thead>\n",
       "<tbody>\n",
       "\t<tr><th scope=row>1</th><td>1               </td><td>60              </td><td>RL              </td><td>65              </td><td>8450            </td><td>Pave            </td><td>NA              </td><td>Reg             </td><td>Lvl             </td><td>AllPub          </td><td>⋯               </td><td>7.60240133566582</td><td>7.44424864949671</td><td>1.09861228866811</td><td>1.09861228866811</td><td>1.09861228866811</td><td>1.09861228866811</td><td>1.09861228866811</td><td>856             </td><td>854             </td><td>0               </td></tr>\n",
       "\t<tr><th scope=row>2</th><td>2                </td><td>20               </td><td>RL               </td><td>80               </td><td>9600             </td><td>Pave             </td><td>NA               </td><td>Reg              </td><td>Lvl              </td><td>AllPub           </td><td>⋯                </td><td>7.58882987830781 </td><td>7.14045304310116 </td><td>1.09861228866811 </td><td>0.693147180559945</td><td>1.09861228866811 </td><td>0.693147180559945</td><td>1.09861228866811 </td><td>1262             </td><td>0                </td><td>0                </td></tr>\n",
       "\t<tr><th scope=row>3</th><td>3               </td><td>60              </td><td>RL              </td><td>68              </td><td>11250           </td><td>Pave            </td><td>NA              </td><td>IR1             </td><td>Lvl             </td><td>AllPub          </td><td>⋯               </td><td>7.60190195987517</td><td>7.48773376143644</td><td>1.09861228866811</td><td>1.09861228866811</td><td>1.09861228866811</td><td>1.09861228866811</td><td>1.09861228866811</td><td>920             </td><td>866             </td><td>0               </td></tr>\n",
       "\t<tr><th scope=row>4</th><td>4                </td><td>70               </td><td>RL               </td><td>60               </td><td>9550             </td><td>Pave             </td><td>NA               </td><td>IR1              </td><td>Lvl              </td><td>AllPub           </td><td>⋯                </td><td>7.58578882173203 </td><td>7.44833386089748 </td><td>0.693147180559945</td><td>1.09861228866811 </td><td>0.693147180559945</td><td>0.693147180559945</td><td>0.693147180559945</td><td>961              </td><td>756              </td><td>0                </td></tr>\n",
       "\t<tr><th scope=row>5</th><td>5               </td><td>60              </td><td>RL              </td><td>84              </td><td>14260           </td><td>Pave            </td><td>NA              </td><td>IR1             </td><td>Lvl             </td><td>AllPub          </td><td>⋯               </td><td>7.60090245954208</td><td>7.69530313496357</td><td>1.09861228866811</td><td>1.09861228866811</td><td>1.09861228866811</td><td>1.09861228866811</td><td>1.09861228866811</td><td>1145            </td><td>1053            </td><td>0               </td></tr>\n",
       "\t<tr><th scope=row>6</th><td>6                </td><td>50               </td><td>RL               </td><td>85               </td><td>14115            </td><td>Pave             </td><td>NA               </td><td>IR1              </td><td>Lvl              </td><td>AllPub           </td><td>⋯                </td><td>7.59839932932396 </td><td>7.21670948670946 </td><td>0.693147180559945</td><td>0.693147180559945</td><td>1.09861228866811 </td><td>0.693147180559945</td><td>0.693147180559945</td><td>796              </td><td>566              </td><td>320              </td></tr>\n",
       "</tbody>\n",
       "</table>\n"
      ],
      "text/latex": [
       "\\begin{tabular}{r|lllllllllllllllllllllllllllllllllllllllllllllllllllllllllllllllllllllllllllllllllllllllllllllllll}\n",
       "  & Id & MSSubClass & MSZoning & LotFrontage & LotArea & Street & Alley & LotShape & LandContour & Utilities & ⋯ & log\\_YearRemodAdd & log\\_GrLivArea & log\\_FullBath & log\\_nKitchenQual & log\\_nBsmtQual & log\\_nExterQual & log\\_nGarageFinish & FirstFlrSF & SecondFlrSF & ThreeSsnPorch\\\\\n",
       "\\hline\n",
       "\t1 & 1                & 60               & RL               & 65               & 8450             & Pave             & NA               & Reg              & Lvl              & AllPub           & ⋯                & 7.60240133566582 & 7.44424864949671 & 1.09861228866811 & 1.09861228866811 & 1.09861228866811 & 1.09861228866811 & 1.09861228866811 & 856              & 854              & 0               \\\\\n",
       "\t2 & 2                 & 20                & RL                & 80                & 9600              & Pave              & NA                & Reg               & Lvl               & AllPub            & ⋯                 & 7.58882987830781  & 7.14045304310116  & 1.09861228866811  & 0.693147180559945 & 1.09861228866811  & 0.693147180559945 & 1.09861228866811  & 1262              & 0                 & 0                \\\\\n",
       "\t3 & 3                & 60               & RL               & 68               & 11250            & Pave             & NA               & IR1              & Lvl              & AllPub           & ⋯                & 7.60190195987517 & 7.48773376143644 & 1.09861228866811 & 1.09861228866811 & 1.09861228866811 & 1.09861228866811 & 1.09861228866811 & 920              & 866              & 0               \\\\\n",
       "\t4 & 4                 & 70                & RL                & 60                & 9550              & Pave              & NA                & IR1               & Lvl               & AllPub            & ⋯                 & 7.58578882173203  & 7.44833386089748  & 0.693147180559945 & 1.09861228866811  & 0.693147180559945 & 0.693147180559945 & 0.693147180559945 & 961               & 756               & 0                \\\\\n",
       "\t5 & 5                & 60               & RL               & 84               & 14260            & Pave             & NA               & IR1              & Lvl              & AllPub           & ⋯                & 7.60090245954208 & 7.69530313496357 & 1.09861228866811 & 1.09861228866811 & 1.09861228866811 & 1.09861228866811 & 1.09861228866811 & 1145             & 1053             & 0               \\\\\n",
       "\t6 & 6                 & 50                & RL                & 85                & 14115             & Pave              & NA                & IR1               & Lvl               & AllPub            & ⋯                 & 7.59839932932396  & 7.21670948670946  & 0.693147180559945 & 0.693147180559945 & 1.09861228866811  & 0.693147180559945 & 0.693147180559945 & 796               & 566               & 320              \\\\\n",
       "\\end{tabular}\n"
      ],
      "text/plain": [
       "  Id MSSubClass MSZoning LotFrontage LotArea Street Alley LotShape LandContour\n",
       "1  1         60       RL          65    8450   Pave  <NA>      Reg         Lvl\n",
       "2  2         20       RL          80    9600   Pave  <NA>      Reg         Lvl\n",
       "3  3         60       RL          68   11250   Pave  <NA>      IR1         Lvl\n",
       "4  4         70       RL          60    9550   Pave  <NA>      IR1         Lvl\n",
       "5  5         60       RL          84   14260   Pave  <NA>      IR1         Lvl\n",
       "6  6         50       RL          85   14115   Pave  <NA>      IR1         Lvl\n",
       "  Utilities ⋯ log_YearRemodAdd log_GrLivArea log_FullBath log_nKitchenQual\n",
       "1    AllPub ⋯         7.602401      7.444249    1.0986123        1.0986123\n",
       "2    AllPub ⋯         7.588830      7.140453    1.0986123        0.6931472\n",
       "3    AllPub ⋯         7.601902      7.487734    1.0986123        1.0986123\n",
       "4    AllPub ⋯         7.585789      7.448334    0.6931472        1.0986123\n",
       "5    AllPub ⋯         7.600902      7.695303    1.0986123        1.0986123\n",
       "6    AllPub ⋯         7.598399      7.216709    0.6931472        0.6931472\n",
       "  log_nBsmtQual log_nExterQual log_nGarageFinish FirstFlrSF SecondFlrSF\n",
       "1     1.0986123      1.0986123         1.0986123        856         854\n",
       "2     1.0986123      0.6931472         1.0986123       1262           0\n",
       "3     1.0986123      1.0986123         1.0986123        920         866\n",
       "4     0.6931472      0.6931472         0.6931472        961         756\n",
       "5     1.0986123      1.0986123         1.0986123       1145        1053\n",
       "6     1.0986123      0.6931472         0.6931472        796         566\n",
       "  ThreeSsnPorch\n",
       "1             0\n",
       "2             0\n",
       "3             0\n",
       "4             0\n",
       "5             0\n",
       "6           320"
      ]
     },
     "metadata": {},
     "output_type": "display_data"
    }
   ],
   "source": [
    "head(train)"
   ]
  },
  {
   "cell_type": "code",
   "execution_count": 283,
   "metadata": {
    "collapsed": false
   },
   "outputs": [],
   "source": [
    "kept_features7 = c(\"LotArea\",\"OverallQual\",\"YearBuilt\",\"YearRemodAdd\",\"nKitchenQual\",\"nExterQual\",\n",
    "                   \"nBsmtQual\",\"GrLivArea\",\"Bath\",\"nGarageFinish\",\n",
    "                  \"log_LotArea\",\"log_OverallQual\",\"log_YearBuilt\",\"log_YearRemodAdd\",\"log_nKitchenQual\",\"log_nExterQual\",\n",
    "                   \"log_nBsmtQual\",\"log_GrLivArea\",\"log_Bath\",\"log_nGarageFinish\",\n",
    "                   \"BsmtFinSF1\",\"GarageCars\",\"TotalBsmtSF\",\"KitchenAbvGr\",\"BedroomAbvGr\",\"TotRmsAbvGrd\",\"OverallCond\",\n",
    "                  \"log_BsmtFinSF1\",\"log_GarageCars\",\"log_TotalBsmtSF\",\"log_KitchenAbvGr\",\"log_BedroomAbvGr\",\n",
    "                   \"log_TotRmsAbvGrd\",\"log_OverallCond\",\"OverallQual_Square\",\"OverallQual_3\",\n",
    "                    \"GrLivArea_Square\",\"TotalBsmtSF_on_GrLivArea\",\"OverallCond_sqrt\",\n",
    "                    \"OverallCond_square\",\"LotArea_sqrt\",\"FirstFlrSF_sqrt\",\"TotRmsAbvGrd_sqrt\")\n",
    "\n",
    "\n",
    "        #\"LotArea\", \"OverallQual\", \"OverallCond\", \"YearBuilt\", \"YearRemodAdd\", \"BsmtFinSF1\", \"BsmtFinSF2\",\n",
    "        #         \"BsmtUnfSF\", \"TotalBsmtSF\", \"LowQualFinSF\", \"GrLivArea\", \"BsmtFullBath\",\n",
    "        #        \"BsmtHalfBath\", \"FullBath\", \"HalfBath\", \"BedroomAbvGr\", \"KitchenAbvGr\", \"TotRmsAbvGrd\", \"Fireplaces\",\n",
    "        #       \"GarageCars\", \"GarageArea\", \"WoodDeckSF\", \"OpenPorchSF\", \"EnclosedPorch\", \"ScreenPorch\", \n",
    "        #      \"MiscVal\", \"MoSold\", \"YrSold\",\"PoolArea\",\"FirstFlrSF\",\"SecondFlrSF\",\"ThreeSsnPorch\",\"nKitchenQual\",\n",
    "        #     \"nExterQual\",\"nBsmtQual\",\"nGarageFinish\"\n",
    "                \n",
    "train.kept7 = train[,c(kept_features7,\"log_SalePrice\",\"SalePrice\"),with=FALSE]"
   ]
  },
  {
   "cell_type": "code",
   "execution_count": 284,
   "metadata": {
    "collapsed": false
   },
   "outputs": [],
   "source": [
    "set.seed(4)\n",
    "inTrain = createDataPartition(train.kept7$log_SalePrice,p=.75,list=FALSE)\n",
    "#print(inTrain)\n",
    "train.sample = train.kept7[inTrain,]\n",
    "test.sample = train.kept7[-inTrain,]"
   ]
  },
  {
   "cell_type": "code",
   "execution_count": 289,
   "metadata": {
    "collapsed": false
   },
   "outputs": [],
   "source": [
    "# modèle trivial réduit à la constante\n",
    "str_constant = '~ 1'\n",
    "\n",
    "# modèle complet incluant toutes les explicatives potentielles\n",
    "str_full = \"~ LotArea + OverallQual + YearBuilt + YearRemodAdd + GrLivArea + \n",
    "                            Bath + nKitchenQual + nBsmtQual + nExterQual + nGarageFinish + log_LotArea + log_OverallQual + log_YearBuilt + log_YearRemodAdd + log_GrLivArea + \n",
    "                            log_Bath + log_nKitchenQual + log_nBsmtQual + log_nExterQual + log_nGarageFinish + \n",
    "                            BsmtFinSF1 + GarageCars + TotalBsmtSF + KitchenAbvGr + BedroomAbvGr + TotRmsAbvGrd + \n",
    "                            OverallCond + log_BsmtFinSF1 + log_GarageCars + log_TotalBsmtSF + log_KitchenAbvGr + \n",
    "                            log_BedroomAbvGr + log_TotRmsAbvGrd + log_OverallCond +\n",
    "                            OverallQual_Square + OverallQual_3 + GrLivArea_Square + TotalBsmtSF_on_GrLivArea +\n",
    "                            OverallCond_sqrt + OverallCond_square + LotArea_sqrt + FirstFlrSF_sqrt + TotRmsAbvGrd_sqrt\"\n",
    "\n",
    "\n",
    "\n",
    "                            "
   ]
  },
  {
   "cell_type": "code",
   "execution_count": 290,
   "metadata": {
    "collapsed": false
   },
   "outputs": [],
   "source": [
    "#str(train.sample)"
   ]
  },
  {
   "cell_type": "code",
   "execution_count": 4,
   "metadata": {
    "collapsed": false
   },
   "outputs": [],
   "source": [
    "# départ modèle avec la seule constante + sélection forward\n",
    "\n",
    "#modele = lm(log_SalePrice ~ 1, data = train.sample)\n",
    "#modele.forward = stepAIC(modele, scope = list(lower=str_constant,upper=str_full), \n",
    "#                         trace=TRUE, data=train.sample, direction = 'forward')\n",
    "#summary(modele.forward)"
   ]
  },
  {
   "cell_type": "code",
   "execution_count": 323,
   "metadata": {
    "collapsed": false
   },
   "outputs": [
    {
     "data": {
      "text/plain": [
       "\n",
       "Call:\n",
       "lm(formula = .outcome ~ ., data = dat)\n",
       "\n",
       "Residuals:\n",
       "     Min       1Q   Median       3Q      Max \n",
       "-0.90153 -0.06939  0.00729  0.08223  0.51717 \n",
       "\n",
       "Coefficients:\n",
       "                           Estimate Std. Error t value Pr(>|t|)    \n",
       "(Intercept)              -2.001e+01  3.324e+00  -6.019 2.39e-09 ***\n",
       "OverallQual               7.537e-02  5.682e-03  13.266  < 2e-16 ***\n",
       "log_YearBuilt             3.911e+00  4.394e-01   8.900  < 2e-16 ***\n",
       "log_LotArea               1.003e-01  9.582e-03  10.468  < 2e-16 ***\n",
       "log_BsmtFinSF1            1.462e-02  1.575e-03   9.283  < 2e-16 ***\n",
       "GarageCars                4.797e-02  2.797e-02   1.715 0.086663 .  \n",
       "nBsmtQual                 1.489e-01  3.247e-02   4.587 5.02e-06 ***\n",
       "nKitchenQual              6.016e-02  9.358e-03   6.429 1.92e-10 ***\n",
       "TotalBsmtSF              -1.241e-04  3.213e-05  -3.862 0.000119 ***\n",
       "log_KitchenAbvGr         -3.150e-01  5.492e-02  -5.736 1.26e-08 ***\n",
       "log_nBsmtQual            -3.092e-01  7.112e-02  -4.348 1.50e-05 ***\n",
       "GrLivArea                 8.162e-04  4.262e-05  19.150  < 2e-16 ***\n",
       "log_BedroomAbvGr         -6.144e-02  2.381e-02  -2.580 0.010009 *  \n",
       "log_GarageCars            5.385e-03  6.102e-02   0.088 0.929696    \n",
       "TotalBsmtSF_on_GrLivArea  3.618e-01  5.159e-02   7.014 4.08e-12 ***\n",
       "GrLivArea_Square         -1.042e-07  7.499e-09 -13.895  < 2e-16 ***\n",
       "---\n",
       "Signif. codes:  0 ‘***’ 0.001 ‘**’ 0.01 ‘*’ 0.05 ‘.’ 0.1 ‘ ’ 1\n",
       "\n",
       "Residual standard error: 0.1403 on 1081 degrees of freedom\n",
       "Multiple R-squared:  0.8812,\tAdjusted R-squared:  0.8796 \n",
       "F-statistic: 534.7 on 15 and 1081 DF,  p-value: < 2.2e-16\n"
      ]
     },
     "metadata": {},
     "output_type": "display_data"
    }
   ],
   "source": [
    "lmFit6 = train(log_SalePrice ~ OverallQual +\n",
    "               log_YearBuilt + \n",
    "    log_LotArea + log_BsmtFinSF1 + GarageCars + \n",
    "    nBsmtQual + nKitchenQual + TotalBsmtSF + log_KitchenAbvGr + \n",
    "    log_nBsmtQual + GrLivArea + log_BedroomAbvGr + log_GarageCars +\n",
    "    TotalBsmtSF_on_GrLivArea + GrLivArea_Square +\n",
    "    log_BedroomAbvGr + nKitchenQual,# + OverallQual_3,\n",
    "              method='lm',data=train.sample,metric=\"RMSE\")\n",
    "summary(lmFit6)"
   ]
  },
  {
   "cell_type": "code",
   "execution_count": 324,
   "metadata": {
    "collapsed": false
   },
   "outputs": [],
   "source": [
    "lmFit6.prediction=exp(predict(lmFit6$finalModel,newdata=test.sample))"
   ]
  },
  {
   "cell_type": "code",
   "execution_count": 325,
   "metadata": {
    "collapsed": false
   },
   "outputs": [
    {
     "data": {
      "text/html": [
       "0.145126797897209"
      ],
      "text/latex": [
       "0.145126797897209"
      ],
      "text/markdown": [
       "0.145126797897209"
      ],
      "text/plain": [
       "[1] 0.1451268"
      ]
     },
     "metadata": {},
     "output_type": "display_data"
    },
    {
     "data": {
      "text/html": [
       "<strong>132:</strong> 37667.7321563207"
      ],
      "text/latex": [
       "\\textbf{132:} 37667.7321563207"
      ],
      "text/markdown": [
       "**132:** 37667.7321563207"
      ],
      "text/plain": [
       "     132 \n",
       "37667.73 "
      ]
     },
     "metadata": {},
     "output_type": "display_data"
    },
    {
     "data": {
      "text/html": [
       "0.144943861896015"
      ],
      "text/latex": [
       "0.144943861896015"
      ],
      "text/markdown": [
       "0.144943861896015"
      ],
      "text/plain": [
       "[1] 0.1449439"
      ]
     },
     "metadata": {},
     "output_type": "display_data"
    }
   ],
   "source": [
    "rmsle(test.sample$SalePrice[-132],lmFit6.prediction[-132])\n",
    "lmFit6.prediction[132]\n",
    "rmsle(test.sample$SalePrice,lmFit6.prediction)\n",
    "# sans les termes d'O2 et en enlevant les non significatifs à 1 et .1: rmsle=0.193857699973822 (sans [132]) et [132] = -49279\n",
    "# avec termes d'O2: rmsle=0.166299140651318 (sans [132]) et [132] = 82571\n",
    "# avec termes d'O2 et en enlevant non signif d'O2 et qques nn sign d'O1 + enlever fireplace + bidouilles^2:\n",
    "# rmsle=0.161392892520288 (sans [132]) et [132] = 89409 et rmsle=0.166845013282629 avec [132]"
   ]
  },
  {
   "cell_type": "code",
   "execution_count": null,
   "metadata": {
    "collapsed": false
   },
   "outputs": [],
   "source": []
  },
  {
   "cell_type": "code",
   "execution_count": null,
   "metadata": {
    "collapsed": false,
    "scrolled": true
   },
   "outputs": [],
   "source": []
  },
  {
   "cell_type": "code",
   "execution_count": 332,
   "metadata": {
    "collapsed": false
   },
   "outputs": [],
   "source": [
    "library('lars')\n",
    "library('elasticnet')\n",
    "library('survival')\n",
    "library('penalized')"
   ]
  },
  {
   "cell_type": "code",
   "execution_count": 345,
   "metadata": {
    "collapsed": false
   },
   "outputs": [],
   "source": [
    "ridgeGrid = expand.grid(lambda1 = c(.1,.5,1,5),lambda2 = c(.1,.5,1,5))\n",
    "#ridgeGrid"
   ]
  },
  {
   "cell_type": "code",
   "execution_count": 346,
   "metadata": {
    "collapsed": false
   },
   "outputs": [],
   "source": [
    "bootControl <- trainControl(number = 4, verboseIter = TRUE)"
   ]
  },
  {
   "cell_type": "code",
   "execution_count": null,
   "metadata": {
    "collapsed": false
   },
   "outputs": [],
   "source": []
  },
  {
   "cell_type": "code",
   "execution_count": null,
   "metadata": {
    "collapsed": true
   },
   "outputs": [],
   "source": []
  },
  {
   "cell_type": "code",
   "execution_count": null,
   "metadata": {
    "collapsed": true
   },
   "outputs": [],
   "source": []
  },
  {
   "cell_type": "code",
   "execution_count": 1,
   "metadata": {
    "collapsed": false
   },
   "outputs": [],
   "source": [
    "#lmFit7 = train(log_SalePrice ~ OverallQual +\n",
    "#               log_YearBuilt + \n",
    "#    log_LotArea + log_BsmtFinSF1 + GarageCars + \n",
    "#    nBsmtQual + nKitchenQual + TotalBsmtSF + log_KitchenAbvGr + \n",
    "#    log_nBsmtQual + GrLivArea + log_BedroomAbvGr + log_GarageCars +\n",
    "#    TotalBsmtSF_on_GrLivArea + GrLivArea_Square +\n",
    "#    log_BedroomAbvGr + nKitchenQual,# + OverallQual_3,\n",
    "#              method='penalized',data=train.sample,metric=\"RMSE\",trControl=bootControl,tuneGrid=ridgeGrid)\n",
    "#print(lmFit7)"
   ]
  },
  {
   "cell_type": "code",
   "execution_count": null,
   "metadata": {
    "collapsed": false
   },
   "outputs": [],
   "source": []
  },
  {
   "cell_type": "code",
   "execution_count": 358,
   "metadata": {
    "collapsed": false
   },
   "outputs": [],
   "source": [
    "lmFit7.prediction=exp(predict(lmFit7,newdata=test.sample))"
   ]
  },
  {
   "cell_type": "code",
   "execution_count": 359,
   "metadata": {
    "collapsed": false
   },
   "outputs": [
    {
     "data": {
      "text/html": [
       "0.144799508291549"
      ],
      "text/latex": [
       "0.144799508291549"
      ],
      "text/markdown": [
       "0.144799508291549"
      ],
      "text/plain": [
       "[1] 0.1447995"
      ]
     },
     "metadata": {},
     "output_type": "display_data"
    },
    {
     "data": {
      "text/html": [
       "<strong>132:</strong> 36305.0239694305"
      ],
      "text/latex": [
       "\\textbf{132:} 36305.0239694305"
      ],
      "text/markdown": [
       "**132:** 36305.0239694305"
      ],
      "text/plain": [
       "     132 \n",
       "36305.02 "
      ]
     },
     "metadata": {},
     "output_type": "display_data"
    },
    {
     "data": {
      "text/html": [
       "0.14465976113013"
      ],
      "text/latex": [
       "0.14465976113013"
      ],
      "text/markdown": [
       "0.14465976113013"
      ],
      "text/plain": [
       "[1] 0.1446598"
      ]
     },
     "metadata": {},
     "output_type": "display_data"
    }
   ],
   "source": [
    "rmsle(test.sample$SalePrice[-132],lmFit7.prediction[-132])\n",
    "lmFit7.prediction[132]\n",
    "rmsle(test.sample$SalePrice,lmFit7.prediction)\n",
    "# sans les termes d'O2 et en enlevant les non significatifs à 1 et .1: rmsle=0.193857699973822 (sans [132]) et [132] = -49279\n",
    "# avec termes d'O2: rmsle=0.166299140651318 (sans [132]) et [132] = 82571\n",
    "# avec termes d'O2 et en enlevant non signif d'O2 et qques nn sign d'O1 + enlever fireplace + bidouilles^2:\n",
    "# rmsle=0.161392892520288 (sans [132]) et [132] = 89409 et rmsle=0.166845013282629 avec [132]"
   ]
  },
  {
   "cell_type": "code",
   "execution_count": null,
   "metadata": {
    "collapsed": false
   },
   "outputs": [],
   "source": []
  },
  {
   "cell_type": "code",
   "execution_count": null,
   "metadata": {
    "collapsed": true
   },
   "outputs": [],
   "source": []
  },
  {
   "cell_type": "code",
   "execution_count": null,
   "metadata": {
    "collapsed": true
   },
   "outputs": [],
   "source": []
  },
  {
   "cell_type": "code",
   "execution_count": null,
   "metadata": {
    "collapsed": true
   },
   "outputs": [],
   "source": []
  },
  {
   "cell_type": "code",
   "execution_count": null,
   "metadata": {
    "collapsed": true
   },
   "outputs": [],
   "source": []
  },
  {
   "cell_type": "code",
   "execution_count": null,
   "metadata": {
    "collapsed": true
   },
   "outputs": [],
   "source": []
  },
  {
   "cell_type": "code",
   "execution_count": 1,
   "metadata": {
    "collapsed": true
   },
   "outputs": [],
   "source": [
    "# Essai avec regression classique, masse de features, à l'O2"
   ]
  },
  {
   "cell_type": "code",
   "execution_count": 4,
   "metadata": {
    "collapsed": false
   },
   "outputs": [],
   "source": [
    "train = fread('~/kaggle/house_prices/data/train.csv',\n",
    "              colClasses=c('MiscFeature'='character','PoolQC'='character'))\n",
    "\n",
    "# Il faut renommer les colonnes 1stFlrSF, 2ndFlrSF, et 3SsnPorch pour pas avoir d'emmerdes\n",
    "FirstFlrSF=train$'1stFlrSF'\n",
    "SecondFlrSF=train$'2ndFlrSF'\n",
    "ThreeSsnPorch=train$'3SsnPorch'\n",
    "new_names = names(train)[-which(names(train)=='1stFlrSF'|names(train)=='2ndFlrSF'|names(train)=='3SsnPorch')]\n",
    "to_add = data.table(FirstFlrSF,SecondFlrSF,ThreeSsnPorch)\n",
    "train = cbind(train[,new_names,with=FALSE],to_add)\n",
    "\n",
    "# Transform categorical arguments KitchenQual, ExterQual, BsmtQual, GarageFinish, into numerical\n",
    "\n",
    "# KitchenQual\n",
    "nKitchenQual = numeric(length(train$KitchenQual))\n",
    "nKitchenQual[train$KitchenQual=='TA']=1.0\n",
    "nKitchenQual[train$KitchenQual=='Gd']=2.0\n",
    "nKitchenQual[train$KitchenQual=='Ex']=3.0\n",
    "train=cbind(train,nKitchenQual)\n",
    "\n",
    "# ExterQual\n",
    "nExterQual = numeric(length(train$ExterQual))\n",
    "nExterQual[train$ExterQual=='TA']=1.0\n",
    "nExterQual[train$ExterQual=='Gd']=2.0\n",
    "nExterQual[train$ExterQual=='Ex']=3.0\n",
    "train=cbind(train,nExterQual)\n",
    "\n",
    "# BsmtQual\n",
    "nBsmtQual = numeric(length(train$BsmtQual))\n",
    "nBsmtQual[train$BsmtQual=='TA']=1.0\n",
    "nBsmtQual[train$BsmtQual=='Gd']=2.0\n",
    "nBsmtQual[train$BsmtQual=='Ex']=3.0\n",
    "train=cbind(train,nBsmtQual)\n",
    "\n",
    "# GarageFinish\n",
    "nGarageFinish = numeric(length(train$GarageFinish))\n",
    "nGarageFinish[train$GarageFinish=='Unf']=1.0\n",
    "nGarageFinish[train$GarageFinish=='RFn']=2.0\n",
    "nGarageFinish[train$GarageFinish=='Fin']=3.0\n",
    "train=cbind(train,nGarageFinish)\n",
    "\n",
    "# Full and half bathrooms\n",
    "train$Bath = train$FullBath + train$HalfBath\n",
    "train$BsmtBaths = train$BsmtFullBath + train$BsmtHalfBath\n",
    "\n",
    "# Take log of SalePrice\n",
    "train$log_SalePrice = train[,.(log_SalePrice=log(SalePrice))]\n",
    "\n",
    "# Take log of a few features\n",
    "train$log_LotArea = train[,.(log_LotArea=log(LotArea))]\n",
    "train$log_OverallQual = train[,.(log_OverallQual=log(OverallQual))]\n",
    "train$log_YearBuilt = train[,.(log_YearBuilt=log(YearBuilt))]\n",
    "train$log_YearRemodAdd = train[,.(log_YearRemodAdd=log(YearRemodAdd))]\n",
    "train$log_GrLivArea = train[,.(log_GrLivArea=log(GrLivArea))]\n",
    "train$log_Bath = train[,.(log_Bath=log(1+Bath))]\n",
    "train$log_nKitchenQual = train[,.(log_nKitchenQual=log(1+nKitchenQual))]\n",
    "train$log_nBsmtQual = train[,.(log_nBsmtQual=log(1+nBsmtQual))]\n",
    "train$log_nExterQual = train[,.(log_nExterQual=log(1+nExterQual))]\n",
    "train$log_nGarageFinish = train[,.(log_nGarageFinish=log(1+nGarageFinish))]\n",
    "train$log_BsmtFinSF1 = train[,.(log(1+BsmtFinSF1))]\n",
    "train$log_GarageCars = train[,.(log(1+GarageCars))]\n",
    "train$log_TotalBsmtSF = train[,.(log(1+TotalBsmtSF))]\n",
    "train$log_KitchenAbvGr = train[,.(log(1+KitchenAbvGr))]\n",
    "train$log_BedroomAbvGr = train[,.(log(1+BedroomAbvGr))]\n",
    "train$log_TotRmsAbvGrd = train[,.(log(TotRmsAbvGrd))]\n",
    "train$log_OverallCond = train[,.(log(OverallCond))]\n",
    "\n",
    "# Try exp of a few features\n",
    "# None useful\n",
    "\n",
    "# Try powers of a few features\n",
    "train$OverallQual_Square = train$OverallQual*train$OverallQual\n",
    "train$OverallQual_3 = train$OverallQual*train$OverallQual*train$OverallQual\n",
    "train$GrLivArea_Square = train$GrLivArea*train$GrLivArea\n",
    "train$TotalBsmtSF_on_GrLivArea = train$TotalBsmtSF/train$GrLivArea\n",
    "train$OverallCond_sqrt = sqrt(train$OverallCond)\n",
    "train$OverallCond_square = train$OverallCond*train$OverallCond\n",
    "train$LotArea_sqrt = sqrt(train$LotArea)\n",
    "train$FirstFlrSF_sqrt = sqrt(train$FirstFlrSF)\n",
    "train$TotRmsAbvGrd_sqrt = sqrt(train$TotRmsAbvGrd)"
   ]
  },
  {
   "cell_type": "code",
   "execution_count": 262,
   "metadata": {
    "collapsed": false
   },
   "outputs": [],
   "source": [
    "#str(train)"
   ]
  },
  {
   "cell_type": "code",
   "execution_count": 207,
   "metadata": {
    "collapsed": false,
    "scrolled": false
   },
   "outputs": [
    {
     "data": {
      "text/html": [
       "<table>\n",
       "<thead><tr><th></th><th scope=col>Id</th><th scope=col>MSSubClass</th><th scope=col>MSZoning</th><th scope=col>LotFrontage</th><th scope=col>LotArea</th><th scope=col>Street</th><th scope=col>Alley</th><th scope=col>LotShape</th><th scope=col>LandContour</th><th scope=col>Utilities</th><th scope=col>⋯</th><th scope=col>log_YearRemodAdd</th><th scope=col>log_GrLivArea</th><th scope=col>log_FullBath</th><th scope=col>log_nKitchenQual</th><th scope=col>log_nBsmtQual</th><th scope=col>log_nExterQual</th><th scope=col>log_nGarageFinish</th><th scope=col>FirstFlrSF</th><th scope=col>SecondFlrSF</th><th scope=col>ThreeSsnPorch</th></tr></thead>\n",
       "<tbody>\n",
       "\t<tr><th scope=row>1</th><td>1               </td><td>60              </td><td>RL              </td><td>65              </td><td>8450            </td><td>Pave            </td><td>NA              </td><td>Reg             </td><td>Lvl             </td><td>AllPub          </td><td>⋯               </td><td>7.60240133566582</td><td>7.44424864949671</td><td>1.09861228866811</td><td>1.09861228866811</td><td>1.09861228866811</td><td>1.09861228866811</td><td>1.09861228866811</td><td>856             </td><td>854             </td><td>0               </td></tr>\n",
       "\t<tr><th scope=row>2</th><td>2                </td><td>20               </td><td>RL               </td><td>80               </td><td>9600             </td><td>Pave             </td><td>NA               </td><td>Reg              </td><td>Lvl              </td><td>AllPub           </td><td>⋯                </td><td>7.58882987830781 </td><td>7.14045304310116 </td><td>1.09861228866811 </td><td>0.693147180559945</td><td>1.09861228866811 </td><td>0.693147180559945</td><td>1.09861228866811 </td><td>1262             </td><td>0                </td><td>0                </td></tr>\n",
       "\t<tr><th scope=row>3</th><td>3               </td><td>60              </td><td>RL              </td><td>68              </td><td>11250           </td><td>Pave            </td><td>NA              </td><td>IR1             </td><td>Lvl             </td><td>AllPub          </td><td>⋯               </td><td>7.60190195987517</td><td>7.48773376143644</td><td>1.09861228866811</td><td>1.09861228866811</td><td>1.09861228866811</td><td>1.09861228866811</td><td>1.09861228866811</td><td>920             </td><td>866             </td><td>0               </td></tr>\n",
       "\t<tr><th scope=row>4</th><td>4                </td><td>70               </td><td>RL               </td><td>60               </td><td>9550             </td><td>Pave             </td><td>NA               </td><td>IR1              </td><td>Lvl              </td><td>AllPub           </td><td>⋯                </td><td>7.58578882173203 </td><td>7.44833386089748 </td><td>0.693147180559945</td><td>1.09861228866811 </td><td>0.693147180559945</td><td>0.693147180559945</td><td>0.693147180559945</td><td>961              </td><td>756              </td><td>0                </td></tr>\n",
       "\t<tr><th scope=row>5</th><td>5               </td><td>60              </td><td>RL              </td><td>84              </td><td>14260           </td><td>Pave            </td><td>NA              </td><td>IR1             </td><td>Lvl             </td><td>AllPub          </td><td>⋯               </td><td>7.60090245954208</td><td>7.69530313496357</td><td>1.09861228866811</td><td>1.09861228866811</td><td>1.09861228866811</td><td>1.09861228866811</td><td>1.09861228866811</td><td>1145            </td><td>1053            </td><td>0               </td></tr>\n",
       "\t<tr><th scope=row>6</th><td>6                </td><td>50               </td><td>RL               </td><td>85               </td><td>14115            </td><td>Pave             </td><td>NA               </td><td>IR1              </td><td>Lvl              </td><td>AllPub           </td><td>⋯                </td><td>7.59839932932396 </td><td>7.21670948670946 </td><td>0.693147180559945</td><td>0.693147180559945</td><td>1.09861228866811 </td><td>0.693147180559945</td><td>0.693147180559945</td><td>796              </td><td>566              </td><td>320              </td></tr>\n",
       "</tbody>\n",
       "</table>\n"
      ],
      "text/latex": [
       "\\begin{tabular}{r|lllllllllllllllllllllllllllllllllllllllllllllllllllllllllllllllllllllllllllllllllllllllllllllllll}\n",
       "  & Id & MSSubClass & MSZoning & LotFrontage & LotArea & Street & Alley & LotShape & LandContour & Utilities & ⋯ & log\\_YearRemodAdd & log\\_GrLivArea & log\\_FullBath & log\\_nKitchenQual & log\\_nBsmtQual & log\\_nExterQual & log\\_nGarageFinish & FirstFlrSF & SecondFlrSF & ThreeSsnPorch\\\\\n",
       "\\hline\n",
       "\t1 & 1                & 60               & RL               & 65               & 8450             & Pave             & NA               & Reg              & Lvl              & AllPub           & ⋯                & 7.60240133566582 & 7.44424864949671 & 1.09861228866811 & 1.09861228866811 & 1.09861228866811 & 1.09861228866811 & 1.09861228866811 & 856              & 854              & 0               \\\\\n",
       "\t2 & 2                 & 20                & RL                & 80                & 9600              & Pave              & NA                & Reg               & Lvl               & AllPub            & ⋯                 & 7.58882987830781  & 7.14045304310116  & 1.09861228866811  & 0.693147180559945 & 1.09861228866811  & 0.693147180559945 & 1.09861228866811  & 1262              & 0                 & 0                \\\\\n",
       "\t3 & 3                & 60               & RL               & 68               & 11250            & Pave             & NA               & IR1              & Lvl              & AllPub           & ⋯                & 7.60190195987517 & 7.48773376143644 & 1.09861228866811 & 1.09861228866811 & 1.09861228866811 & 1.09861228866811 & 1.09861228866811 & 920              & 866              & 0               \\\\\n",
       "\t4 & 4                 & 70                & RL                & 60                & 9550              & Pave              & NA                & IR1               & Lvl               & AllPub            & ⋯                 & 7.58578882173203  & 7.44833386089748  & 0.693147180559945 & 1.09861228866811  & 0.693147180559945 & 0.693147180559945 & 0.693147180559945 & 961               & 756               & 0                \\\\\n",
       "\t5 & 5                & 60               & RL               & 84               & 14260            & Pave             & NA               & IR1              & Lvl              & AllPub           & ⋯                & 7.60090245954208 & 7.69530313496357 & 1.09861228866811 & 1.09861228866811 & 1.09861228866811 & 1.09861228866811 & 1.09861228866811 & 1145             & 1053             & 0               \\\\\n",
       "\t6 & 6                 & 50                & RL                & 85                & 14115             & Pave              & NA                & IR1               & Lvl               & AllPub            & ⋯                 & 7.59839932932396  & 7.21670948670946  & 0.693147180559945 & 0.693147180559945 & 1.09861228866811  & 0.693147180559945 & 0.693147180559945 & 796               & 566               & 320              \\\\\n",
       "\\end{tabular}\n"
      ],
      "text/plain": [
       "  Id MSSubClass MSZoning LotFrontage LotArea Street Alley LotShape LandContour\n",
       "1  1         60       RL          65    8450   Pave  <NA>      Reg         Lvl\n",
       "2  2         20       RL          80    9600   Pave  <NA>      Reg         Lvl\n",
       "3  3         60       RL          68   11250   Pave  <NA>      IR1         Lvl\n",
       "4  4         70       RL          60    9550   Pave  <NA>      IR1         Lvl\n",
       "5  5         60       RL          84   14260   Pave  <NA>      IR1         Lvl\n",
       "6  6         50       RL          85   14115   Pave  <NA>      IR1         Lvl\n",
       "  Utilities ⋯ log_YearRemodAdd log_GrLivArea log_FullBath log_nKitchenQual\n",
       "1    AllPub ⋯         7.602401      7.444249    1.0986123        1.0986123\n",
       "2    AllPub ⋯         7.588830      7.140453    1.0986123        0.6931472\n",
       "3    AllPub ⋯         7.601902      7.487734    1.0986123        1.0986123\n",
       "4    AllPub ⋯         7.585789      7.448334    0.6931472        1.0986123\n",
       "5    AllPub ⋯         7.600902      7.695303    1.0986123        1.0986123\n",
       "6    AllPub ⋯         7.598399      7.216709    0.6931472        0.6931472\n",
       "  log_nBsmtQual log_nExterQual log_nGarageFinish FirstFlrSF SecondFlrSF\n",
       "1     1.0986123      1.0986123         1.0986123        856         854\n",
       "2     1.0986123      0.6931472         1.0986123       1262           0\n",
       "3     1.0986123      1.0986123         1.0986123        920         866\n",
       "4     0.6931472      0.6931472         0.6931472        961         756\n",
       "5     1.0986123      1.0986123         1.0986123       1145        1053\n",
       "6     1.0986123      0.6931472         0.6931472        796         566\n",
       "  ThreeSsnPorch\n",
       "1             0\n",
       "2             0\n",
       "3             0\n",
       "4             0\n",
       "5             0\n",
       "6           320"
      ]
     },
     "metadata": {},
     "output_type": "display_data"
    }
   ],
   "source": [
    "head(train)"
   ]
  },
  {
   "cell_type": "code",
   "execution_count": 5,
   "metadata": {
    "collapsed": false
   },
   "outputs": [],
   "source": [
    "kept_features7 = c(\"LotArea\",\"OverallQual\",\"YearBuilt\",\"YearRemodAdd\",\"nKitchenQual\",\"nExterQual\",\n",
    "                   \"nBsmtQual\",\"GrLivArea\",\"Bath\",\"nGarageFinish\",\n",
    "                  \"log_LotArea\",\"log_OverallQual\",\"log_YearBuilt\",\"log_YearRemodAdd\",\"log_nKitchenQual\",\"log_nExterQual\",\n",
    "                   \"log_nBsmtQual\",\"log_GrLivArea\",\"log_Bath\",\"log_nGarageFinish\",\n",
    "                   \"BsmtFinSF1\",\"GarageCars\",\"TotalBsmtSF\",\"KitchenAbvGr\",\"BedroomAbvGr\",\"TotRmsAbvGrd\",\"OverallCond\",\n",
    "                  \"log_BsmtFinSF1\",\"log_GarageCars\",\"log_TotalBsmtSF\",\"log_KitchenAbvGr\",\"log_BedroomAbvGr\",\n",
    "                   \"log_TotRmsAbvGrd\",\"log_OverallCond\",\"OverallQual_Square\",\"OverallQual_3\",\n",
    "                    \"GrLivArea_Square\",\"TotalBsmtSF_on_GrLivArea\",\"OverallCond_sqrt\",\n",
    "                    \"OverallCond_square\",\"LotArea_sqrt\",\"FirstFlrSF_sqrt\",\"TotRmsAbvGrd_sqrt\")\n",
    "\n",
    "\n",
    "        #\"LotArea\", \"OverallQual\", \"OverallCond\", \"YearBuilt\", \"YearRemodAdd\", \"BsmtFinSF1\", \"BsmtFinSF2\",\n",
    "        #         \"BsmtUnfSF\", \"TotalBsmtSF\", \"LowQualFinSF\", \"GrLivArea\", \"BsmtFullBath\",\n",
    "        #        \"BsmtHalfBath\", \"FullBath\", \"HalfBath\", \"BedroomAbvGr\", \"KitchenAbvGr\", \"TotRmsAbvGrd\", \"Fireplaces\",\n",
    "        #       \"GarageCars\", \"GarageArea\", \"WoodDeckSF\", \"OpenPorchSF\", \"EnclosedPorch\", \"ScreenPorch\", \n",
    "        #      \"MiscVal\", \"MoSold\", \"YrSold\",\"PoolArea\",\"FirstFlrSF\",\"SecondFlrSF\",\"ThreeSsnPorch\",\"nKitchenQual\",\n",
    "        #     \"nExterQual\",\"nBsmtQual\",\"nGarageFinish\"\n",
    "                \n",
    "train.kept7 = train[,c(kept_features7,\"log_SalePrice\",\"SalePrice\"),with=FALSE]"
   ]
  },
  {
   "cell_type": "code",
   "execution_count": 6,
   "metadata": {
    "collapsed": false
   },
   "outputs": [],
   "source": [
    "set.seed(4)\n",
    "inTrain = createDataPartition(train.kept7$log_SalePrice,p=.75,list=FALSE)\n",
    "#print(inTrain)\n",
    "train.sample = train.kept7[inTrain,]\n",
    "test.sample = train.kept7[-inTrain,]"
   ]
  },
  {
   "cell_type": "code",
   "execution_count": 7,
   "metadata": {
    "collapsed": false
   },
   "outputs": [],
   "source": [
    "# modèle trivial réduit à la constante\n",
    "str_constant = '~ 1'\n",
    "\n",
    "# modèle complet incluant toutes les explicatives potentielles\n",
    "str_full = \"~ (LotArea + OverallQual + YearBuilt + YearRemodAdd + GrLivArea + \n",
    "                            Bath + nKitchenQual + nBsmtQual + nExterQual + nGarageFinish + log_LotArea + log_OverallQual + log_YearBuilt + log_YearRemodAdd + log_GrLivArea + \n",
    "                            log_Bath + log_nKitchenQual + log_nBsmtQual + log_nExterQual + log_nGarageFinish + \n",
    "                            BsmtFinSF1 + GarageCars + TotalBsmtSF + KitchenAbvGr + BedroomAbvGr + TotRmsAbvGrd + \n",
    "                            OverallCond + log_BsmtFinSF1 + log_GarageCars + log_TotalBsmtSF + log_KitchenAbvGr + \n",
    "                            log_BedroomAbvGr + log_TotRmsAbvGrd + log_OverallCond +\n",
    "                            OverallQual_Square + OverallQual_3 + GrLivArea_Square + TotalBsmtSF_on_GrLivArea +\n",
    "                            OverallCond_sqrt + OverallCond_square + LotArea_sqrt + FirstFlrSF_sqrt + TotRmsAbvGrd_sqrt)^2\"\n",
    "\n",
    "\n",
    "\n",
    "                            "
   ]
  },
  {
   "cell_type": "code",
   "execution_count": 8,
   "metadata": {
    "collapsed": false
   },
   "outputs": [],
   "source": [
    "#str(train.sample)"
   ]
  },
  {
   "cell_type": "code",
   "execution_count": 2,
   "metadata": {
    "collapsed": false
   },
   "outputs": [],
   "source": [
    "# départ modèle avec la seule constante + sélection forward\n",
    "\n",
    "#modele = lm(log_SalePrice ~ 1, data = train.sample)\n",
    "#modele.forward = stepAIC(modele, scope = list(lower=str_constant,upper=str_full), \n",
    "#                         trace=TRUE, data=train.sample, direction = 'forward')\n",
    "#summary(modele.forward)"
   ]
  },
  {
   "cell_type": "code",
   "execution_count": null,
   "metadata": {
    "collapsed": true
   },
   "outputs": [],
   "source": []
  },
  {
   "cell_type": "code",
   "execution_count": null,
   "metadata": {
    "collapsed": true
   },
   "outputs": [],
   "source": []
  },
  {
   "cell_type": "code",
   "execution_count": null,
   "metadata": {
    "collapsed": true
   },
   "outputs": [],
   "source": []
  },
  {
   "cell_type": "code",
   "execution_count": 3,
   "metadata": {
    "collapsed": true
   },
   "outputs": [],
   "source": [
    "# Let's try a SVR"
   ]
  },
  {
   "cell_type": "code",
   "execution_count": 200,
   "metadata": {
    "collapsed": false
   },
   "outputs": [],
   "source": [
    "train = fread('~/kaggle/house_prices/data/train.csv',\n",
    "              colClasses=c('MiscFeature'='character','PoolQC'='character'))\n",
    "\n",
    "# Il faut renommer les colonnes 1stFlrSF, 2ndFlrSF, et 3SsnPorch pour pas avoir d'emmerdes\n",
    "FirstFlrSF=train$'1stFlrSF'\n",
    "SecondFlrSF=train$'2ndFlrSF'\n",
    "ThreeSsnPorch=train$'3SsnPorch'\n",
    "new_names = names(train)[-which(names(train)=='1stFlrSF'|names(train)=='2ndFlrSF'|names(train)=='3SsnPorch')]\n",
    "to_add = data.table(FirstFlrSF,SecondFlrSF,ThreeSsnPorch)\n",
    "train = cbind(train[,new_names,with=FALSE],to_add)\n",
    "\n",
    "# Transform categorical arguments KitchenQual, ExterQual, BsmtQual, GarageFinish, into numerical\n",
    "\n",
    "# KitchenQual\n",
    "nKitchenQual = numeric(length(train$KitchenQual))\n",
    "nKitchenQual[train$KitchenQual=='TA']=1.0\n",
    "nKitchenQual[train$KitchenQual=='Gd']=2.0\n",
    "nKitchenQual[train$KitchenQual=='Ex']=3.0\n",
    "train=cbind(train,nKitchenQual)\n",
    "\n",
    "# ExterQual\n",
    "nExterQual = numeric(length(train$ExterQual))\n",
    "nExterQual[train$ExterQual=='TA']=1.0\n",
    "nExterQual[train$ExterQual=='Gd']=2.0\n",
    "nExterQual[train$ExterQual=='Ex']=3.0\n",
    "train=cbind(train,nExterQual)\n",
    "\n",
    "# BsmtQual\n",
    "nBsmtQual = numeric(length(train$BsmtQual))\n",
    "nBsmtQual[train$BsmtQual=='TA']=1.0\n",
    "nBsmtQual[train$BsmtQual=='Gd']=2.0\n",
    "nBsmtQual[train$BsmtQual=='Ex']=3.0\n",
    "train=cbind(train,nBsmtQual)\n",
    "\n",
    "# GarageFinish\n",
    "nGarageFinish = numeric(length(train$GarageFinish))\n",
    "nGarageFinish[train$GarageFinish=='Unf']=1.0\n",
    "nGarageFinish[train$GarageFinish=='RFn']=2.0\n",
    "nGarageFinish[train$GarageFinish=='Fin']=3.0\n",
    "train=cbind(train,nGarageFinish)\n",
    "\n",
    "# Full and half bathrooms\n",
    "train$Bath = train$FullBath + train$HalfBath\n",
    "train$BsmtBaths = train$BsmtFullBath + train$BsmtHalfBath\n",
    "\n",
    "# Take log of SalePrice\n",
    "train$log_SalePrice = train[,.(log_SalePrice=log(SalePrice))]\n",
    "\n",
    "# Take log of a few features\n",
    "train$log_LotArea = train[,.(log_LotArea=log(LotArea))]\n",
    "train$log_OverallQual = train[,.(log_OverallQual=log(OverallQual))]\n",
    "train$log_YearBuilt = train[,.(log_YearBuilt=log(YearBuilt))]\n",
    "train$log_YearRemodAdd = train[,.(log_YearRemodAdd=log(YearRemodAdd))]\n",
    "train$log_GrLivArea = train[,.(log_GrLivArea=log(GrLivArea))]\n",
    "train$log_Bath = train[,.(log_Bath=log(1+Bath))]\n",
    "train$log_nKitchenQual = train[,.(log_nKitchenQual=log(1+nKitchenQual))]\n",
    "train$log_nBsmtQual = train[,.(log_nBsmtQual=log(1+nBsmtQual))]\n",
    "train$log_nExterQual = train[,.(log_nExterQual=log(1+nExterQual))]\n",
    "train$log_nGarageFinish = train[,.(log_nGarageFinish=log(1+nGarageFinish))]\n",
    "train$log_BsmtFinSF1 = train[,.(log(1+BsmtFinSF1))]\n",
    "train$log_GarageCars = train[,.(log(1+GarageCars))]\n",
    "train$log_TotalBsmtSF = train[,.(log(1+TotalBsmtSF))]\n",
    "train$log_KitchenAbvGr = train[,.(log(1+KitchenAbvGr))]\n",
    "train$log_BedroomAbvGr = train[,.(log(1+BedroomAbvGr))]\n",
    "train$log_TotRmsAbvGrd = train[,.(log(TotRmsAbvGrd))]\n",
    "train$log_OverallCond = train[,.(log(OverallCond))]\n",
    "\n",
    "# Try exp of a few features\n",
    "# None useful\n",
    "\n",
    "# Try powers of a few features\n",
    "train$OverallQual_Square = train$OverallQual*train$OverallQual\n",
    "train$OverallQual_3 = train$OverallQual*train$OverallQual*train$OverallQual\n",
    "train$GrLivArea_Square = train$GrLivArea*train$GrLivArea\n",
    "train$TotalBsmtSF_on_GrLivArea = train$TotalBsmtSF/train$GrLivArea\n",
    "train$OverallCond_sqrt = sqrt(train$OverallCond)\n",
    "train$OverallCond_square = train$OverallCond*train$OverallCond\n",
    "train$LotArea_sqrt = sqrt(train$LotArea)\n",
    "train$FirstFlrSF_sqrt = sqrt(train$FirstFlrSF)\n",
    "train$TotRmsAbvGrd_sqrt = sqrt(train$TotRmsAbvGrd)"
   ]
  },
  {
   "cell_type": "code",
   "execution_count": 201,
   "metadata": {
    "collapsed": false
   },
   "outputs": [],
   "source": [
    "kept_features8 = c(\"LotArea\",\"OverallQual\",\"YearBuilt\",\"YearRemodAdd\",\"nKitchenQual\",\"nExterQual\",\n",
    "                   \"nBsmtQual\",\"GrLivArea\",\"Bath\",\"nGarageFinish\",\n",
    "                   \"BsmtFinSF1\",\"GarageCars\",\"TotalBsmtSF\",\"KitchenAbvGr\",\"BedroomAbvGr\",\"TotRmsAbvGrd\",\"OverallCond\",\n",
    "                   \"TotalBsmtSF_on_GrLivArea\")\n",
    "\n",
    "\n",
    "        #\"LotArea\", \"OverallQual\", \"OverallCond\", \"YearBuilt\", \"YearRemodAdd\", \"BsmtFinSF1\", \"BsmtFinSF2\",\n",
    "        #         \"BsmtUnfSF\", \"TotalBsmtSF\", \"LowQualFinSF\", \"GrLivArea\", \"BsmtFullBath\",\n",
    "        #        \"BsmtHalfBath\", \"FullBath\", \"HalfBath\", \"BedroomAbvGr\", \"KitchenAbvGr\", \"TotRmsAbvGrd\", \"Fireplaces\",\n",
    "        #       \"GarageCars\", \"GarageArea\", \"WoodDeckSF\", \"OpenPorchSF\", \"EnclosedPorch\", \"ScreenPorch\", \n",
    "        #      \"MiscVal\", \"MoSold\", \"YrSold\",\"PoolArea\",\"FirstFlrSF\",\"SecondFlrSF\",\"ThreeSsnPorch\",\"nKitchenQual\",\n",
    "        #     \"nExterQual\",\"nBsmtQual\",\"nGarageFinish\"\n",
    "                \n",
    "train.kept8 = train[,c(kept_features8,\"SalePrice\"),with=FALSE]"
   ]
  },
  {
   "cell_type": "code",
   "execution_count": 202,
   "metadata": {
    "collapsed": false
   },
   "outputs": [],
   "source": [
    "set.seed(5)\n",
    "inTrain = createDataPartition(train.kept8$SalePrice,p=.75,list=FALSE)\n",
    "#print(inTrain)\n",
    "train.sample = train.kept8[inTrain,-\"SalePrice\",with=FALSE]\n",
    "train.target = train.kept8[inTrain,.(SalePrice=as.numeric(SalePrice))]\n",
    "test.sample = train.kept8[-inTrain,-\"SalePrice\",with=FALSE]\n",
    "test.target = train.kept8[-inTrain,.(SalePrice=as.numeric(SalePrice))]"
   ]
  },
  {
   "cell_type": "code",
   "execution_count": 203,
   "metadata": {
    "collapsed": false
   },
   "outputs": [
    {
     "data": {
      "text/html": [
       "1097"
      ],
      "text/latex": [
       "1097"
      ],
      "text/markdown": [
       "1097"
      ],
      "text/plain": [
       "[1] 1097"
      ]
     },
     "metadata": {},
     "output_type": "display_data"
    },
    {
     "data": {
      "text/html": [
       "1097"
      ],
      "text/latex": [
       "1097"
      ],
      "text/markdown": [
       "1097"
      ],
      "text/plain": [
       "[1] 1097"
      ]
     },
     "metadata": {},
     "output_type": "display_data"
    },
    {
     "name": "stdout",
     "output_type": "stream",
     "text": [
      "Classes ‘data.table’ and 'data.frame':\t1097 obs. of  18 variables:\n",
      " $ LotArea                 : int  8450 9600 11250 9550 14115 10084 10382 7420 11200 11924 ...\n",
      " $ OverallQual             : int  7 6 7 7 5 8 7 5 5 9 ...\n",
      " $ YearBuilt               : int  2003 1976 2001 1915 1993 2004 1973 1939 1965 2005 ...\n",
      " $ YearRemodAdd            : int  2003 1976 2002 1970 1995 2005 1973 1950 1965 2006 ...\n",
      " $ nKitchenQual            : num  2 1 2 2 1 2 1 1 1 3 ...\n",
      " $ nExterQual              : num  2 1 2 1 1 2 1 1 1 3 ...\n",
      " $ nBsmtQual               : num  2 2 2 1 2 3 2 1 1 3 ...\n",
      " $ GrLivArea               : int  1710 1262 1786 1717 1362 1694 2090 1077 1040 2324 ...\n",
      " $ Bath                    : int  3 2 3 1 2 2 3 1 1 3 ...\n",
      " $ nGarageFinish           : num  2 2 2 1 1 2 2 2 1 3 ...\n",
      " $ BsmtFinSF1              : int  706 978 486 216 732 1369 859 851 906 998 ...\n",
      " $ GarageCars              : int  2 2 2 3 2 2 2 1 1 3 ...\n",
      " $ TotalBsmtSF             : int  856 1262 920 756 796 1686 1107 991 1040 1175 ...\n",
      " $ KitchenAbvGr            : int  1 1 1 1 1 1 1 2 1 1 ...\n",
      " $ BedroomAbvGr            : int  3 3 3 3 1 3 3 2 3 4 ...\n",
      " $ TotRmsAbvGrd            : int  8 6 6 7 5 7 7 5 5 11 ...\n",
      " $ OverallCond             : int  5 8 5 5 5 5 6 6 5 5 ...\n",
      " $ TotalBsmtSF_on_GrLivArea: num  0.501 1 0.515 0.44 0.584 ...\n",
      " - attr(*, \".internal.selfref\")=<externalptr> \n"
     ]
    }
   ],
   "source": [
    "nrow(train.sample)\n",
    "nrow(train.target)\n",
    "str(train.sample)"
   ]
  },
  {
   "cell_type": "code",
   "execution_count": 205,
   "metadata": {
    "collapsed": false
   },
   "outputs": [
    {
     "data": {
      "text/html": [
       "<table>\n",
       "<thead><tr><th></th><th scope=col>C</th><th scope=col>sigma</th></tr></thead>\n",
       "<tbody>\n",
       "\t<tr><th scope=row>1</th><td>0.25</td><td>0.01</td></tr>\n",
       "\t<tr><th scope=row>2</th><td>0.50</td><td>0.01</td></tr>\n",
       "\t<tr><th scope=row>3</th><td>1.00</td><td>0.01</td></tr>\n",
       "\t<tr><th scope=row>4</th><td>0.25</td><td>0.05</td></tr>\n",
       "\t<tr><th scope=row>5</th><td>0.50</td><td>0.05</td></tr>\n",
       "\t<tr><th scope=row>6</th><td>1.00</td><td>0.05</td></tr>\n",
       "\t<tr><th scope=row>7</th><td>0.25</td><td>0.10</td></tr>\n",
       "\t<tr><th scope=row>8</th><td>0.5</td><td>0.1</td></tr>\n",
       "\t<tr><th scope=row>9</th><td>1.0</td><td>0.1</td></tr>\n",
       "\t<tr><th scope=row>10</th><td>0.25</td><td>0.50</td></tr>\n",
       "\t<tr><th scope=row>11</th><td>0.5</td><td>0.5</td></tr>\n",
       "\t<tr><th scope=row>12</th><td>1.0</td><td>0.5</td></tr>\n",
       "</tbody>\n",
       "</table>\n"
      ],
      "text/latex": [
       "\\begin{tabular}{r|ll}\n",
       "  & C & sigma\\\\\n",
       "\\hline\n",
       "\t1 & 0.25 & 0.01\\\\\n",
       "\t2 & 0.50 & 0.01\\\\\n",
       "\t3 & 1.00 & 0.01\\\\\n",
       "\t4 & 0.25 & 0.05\\\\\n",
       "\t5 & 0.50 & 0.05\\\\\n",
       "\t6 & 1.00 & 0.05\\\\\n",
       "\t7 & 0.25 & 0.10\\\\\n",
       "\t8 & 0.5 & 0.1\\\\\n",
       "\t9 & 1.0 & 0.1\\\\\n",
       "\t10 & 0.25 & 0.50\\\\\n",
       "\t11 & 0.5 & 0.5\\\\\n",
       "\t12 & 1.0 & 0.5\\\\\n",
       "\\end{tabular}\n"
      ],
      "text/plain": [
       "      C sigma\n",
       "1  0.25  0.01\n",
       "2  0.50  0.01\n",
       "3  1.00  0.01\n",
       "4  0.25  0.05\n",
       "5  0.50  0.05\n",
       "6  1.00  0.05\n",
       "7  0.25  0.10\n",
       "8  0.50  0.10\n",
       "9  1.00  0.10\n",
       "10 0.25  0.50\n",
       "11 0.50  0.50\n",
       "12 1.00  0.50"
      ]
     },
     "metadata": {},
     "output_type": "display_data"
    }
   ],
   "source": [
    "bootControl <- trainControl(number = 50, verboseIter=TRUE)\n",
    "tuneGrid = expand.grid(C=c(.25,.5,1),sigma=c(.01,.05,.1,.5))\n",
    "#bootControl\n",
    "tuneGrid\n",
    "set.seed(6)"
   ]
  },
  {
   "cell_type": "code",
   "execution_count": 211,
   "metadata": {
    "collapsed": false
   },
   "outputs": [
    {
     "name": "stdout",
     "output_type": "stream",
     "text": [
      "[1] \"svmFit = train(x=train.sample,y=train.target$SalePrice,method='svmRadial',tuneLength=5,trControl=bootControl,tuneGrid = tuneGrid, preProcess=c(\\\"center\\\",\\\"scale\\\"))\"\n"
     ]
    }
   ],
   "source": [
    "svmFit = train(x=train.sample,y=train.target$SalePrice,\n",
    "              method='svmRadial',tuneLength=5,trControl=bootControl,\n",
    "               tuneGrid = tuneGrid, preProcess=c(\"center\",\"scale\"))\n",
    "#summary(svmFit)"
   ]
  },
  {
   "cell_type": "code",
   "execution_count": 213,
   "metadata": {
    "collapsed": false
   },
   "outputs": [
    {
     "name": "stdout",
     "output_type": "stream",
     "text": [
      "[1] \"svmFit.prediction=predict(svmFit$finalModel,newdata=test.sample)\"\n"
     ]
    }
   ],
   "source": [
    "svmFit.prediction=predict(svmFit$finalModel,newdata=test.sample)"
   ]
  },
  {
   "cell_type": "code",
   "execution_count": 212,
   "metadata": {
    "collapsed": false
   },
   "outputs": [
    {
     "name": "stdout",
     "output_type": "stream",
     "text": [
      "[1] \"rmsle(test.target$SalePrice,svmFit.prediction)\"\n"
     ]
    }
   ],
   "source": [
    "rmsle(test.target$SalePrice,svmFit.prediction)\n",
    "# sans GardenRatio rmsle=0.144718347370209"
   ]
  },
  {
   "cell_type": "code",
   "execution_count": null,
   "metadata": {
    "collapsed": true
   },
   "outputs": [],
   "source": []
  },
  {
   "cell_type": "code",
   "execution_count": null,
   "metadata": {
    "collapsed": true
   },
   "outputs": [],
   "source": []
  },
  {
   "cell_type": "code",
   "execution_count": null,
   "metadata": {
    "collapsed": true
   },
   "outputs": [],
   "source": []
  }
 ],
 "metadata": {
  "kernelspec": {
   "display_name": "R",
   "language": "R",
   "name": "ir"
  },
  "language_info": {
   "codemirror_mode": "r",
   "file_extension": ".r",
   "mimetype": "text/x-r-source",
   "name": "R",
   "pygments_lexer": "r",
   "version": "3.3.1"
  }
 },
 "nbformat": 4,
 "nbformat_minor": 1
}
