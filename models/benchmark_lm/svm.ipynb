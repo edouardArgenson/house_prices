{
 "cells": [
  {
   "cell_type": "code",
   "execution_count": 73,
   "metadata": {
    "collapsed": true
   },
   "outputs": [],
   "source": [
    "library('lattice')\n",
    "library('ggplot2')\n",
    "library('caret')\n",
    "library('data.table')\n",
    "library('Metrics')\n",
    "library('MASS')\n",
    "library('e1071')\n",
    "library('kernlab')"
   ]
  },
  {
   "cell_type": "code",
   "execution_count": 158,
   "metadata": {
    "collapsed": true
   },
   "outputs": [],
   "source": [
    "train = fread('~/kaggle/house_prices/data/train.csv',\n",
    "              colClasses=c('MiscFeature'='character','PoolQC'='character','Alley'='character'))\n",
    "\n",
    "# Il faut renommer les colonnes 1stFlrSF, 2ndFlrSF, et 3SsnPorch pour pas avoir d'emmerdes\n",
    "FirstFlrSF=train$'1stFlrSF'\n",
    "SecondFlrSF=train$'2ndFlrSF'\n",
    "ThreeSsnPorch=train$'3SsnPorch'\n",
    "new_names = names(train)[-which(names(train)=='1stFlrSF'|names(train)=='2ndFlrSF'|names(train)=='3SsnPorch')]\n",
    "to_add = data.table(FirstFlrSF,SecondFlrSF,ThreeSsnPorch)\n",
    "train = cbind(train[,new_names,with=FALSE],to_add)\n",
    "\n",
    "# Transform categorical arguments KitchenQual, ExterQual, BsmtQual, GarageFinish, into numerical\n",
    "\n",
    "# KitchenQual\n",
    "nKitchenQual = numeric(length(train$KitchenQual))\n",
    "nKitchenQual[train$KitchenQual=='TA']=1.0\n",
    "nKitchenQual[train$KitchenQual=='Gd']=2.0\n",
    "nKitchenQual[train$KitchenQual=='Ex']=3.0\n",
    "train=cbind(train,nKitchenQual)\n",
    "\n",
    "# ExterQual\n",
    "nExterQual = numeric(length(train$ExterQual))\n",
    "nExterQual[train$ExterQual=='TA']=1.0\n",
    "nExterQual[train$ExterQual=='Gd']=2.0\n",
    "nExterQual[train$ExterQual=='Ex']=3.0\n",
    "train=cbind(train,nExterQual)\n",
    "\n",
    "# BsmtQual\n",
    "nBsmtQual = numeric(length(train$BsmtQual))\n",
    "nBsmtQual[train$BsmtQual=='TA']=1.0\n",
    "nBsmtQual[train$BsmtQual=='Gd']=2.0\n",
    "nBsmtQual[train$BsmtQual=='Ex']=3.0\n",
    "train=cbind(train,nBsmtQual)\n",
    "\n",
    "# GarageFinish\n",
    "nGarageFinish = numeric(length(train$GarageFinish))\n",
    "nGarageFinish[train$GarageFinish=='Unf']=1.0\n",
    "nGarageFinish[train$GarageFinish=='RFn']=2.0\n",
    "nGarageFinish[train$GarageFinish=='Fin']=3.0\n",
    "train=cbind(train,nGarageFinish)\n",
    "\n",
    "# Full and half bathrooms\n",
    "train$Bath = train$FullBath + train$HalfBath\n",
    "train$BsmtBaths = train$BsmtFullBath + train$BsmtHalfBath\n",
    "\n",
    "# Take log of SalePrice\n",
    "train$log_SalePrice = train[,.(log_SalePrice=log(SalePrice))]\n",
    "\n",
    "# Take log of a few features\n",
    "train$log_LotArea = train[,.(log_LotArea=log(LotArea))]\n",
    "train$log_OverallQual = train[,.(log_OverallQual=log(OverallQual))]\n",
    "train$log_YearBuilt = train[,.(log_YearBuilt=log(YearBuilt))]\n",
    "train$log_YearRemodAdd = train[,.(log_YearRemodAdd=log(YearRemodAdd))]\n",
    "train$log_GrLivArea = train[,.(log_GrLivArea=log(GrLivArea))]\n",
    "train$log_Bath = train[,.(log_Bath=log(1+Bath))]\n",
    "train$log_nKitchenQual = train[,.(log_nKitchenQual=log(1+nKitchenQual))]\n",
    "train$log_nBsmtQual = train[,.(log_nBsmtQual=log(1+nBsmtQual))]\n",
    "train$log_nExterQual = train[,.(log_nExterQual=log(1+nExterQual))]\n",
    "train$log_nGarageFinish = train[,.(log_nGarageFinish=log(1+nGarageFinish))]\n",
    "train$log_BsmtFinSF1 = train[,.(log(1+BsmtFinSF1))]\n",
    "train$log_GarageCars = train[,.(log(1+GarageCars))]\n",
    "train$log_TotalBsmtSF = train[,.(log(1+TotalBsmtSF))]\n",
    "train$log_KitchenAbvGr = train[,.(log(1+KitchenAbvGr))]\n",
    "train$log_BedroomAbvGr = train[,.(log(1+BedroomAbvGr))]\n",
    "train$log_TotRmsAbvGrd = train[,.(log(TotRmsAbvGrd))]\n",
    "train$log_OverallCond = train[,.(log(OverallCond))]\n",
    "\n",
    "# Try exp of a few features\n",
    "# None useful\n",
    "\n",
    "# Try powers of a few features\n",
    "train$OverallQual_Square = train$OverallQual*train$OverallQual\n",
    "train$OverallQual_3 = train$OverallQual*train$OverallQual*train$OverallQual\n",
    "train$GrLivArea_Square = train$GrLivArea*train$GrLivArea\n",
    "train$TotalBsmtSF_on_GrLivArea = train$TotalBsmtSF/train$GrLivArea\n",
    "train$OverallCond_sqrt = sqrt(train$OverallCond)\n",
    "train$OverallCond_square = train$OverallCond*train$OverallCond\n",
    "train$LotArea_sqrt = sqrt(train$LotArea)\n",
    "train$FirstFlrSF_sqrt = sqrt(train$FirstFlrSF)\n",
    "train$TotRmsAbvGrd_sqrt = sqrt(train$TotRmsAbvGrd)"
   ]
  },
  {
   "cell_type": "code",
   "execution_count": 159,
   "metadata": {
    "collapsed": false
   },
   "outputs": [],
   "source": [
    "test = fread('~/kaggle/house_prices/data/test.csv',\n",
    "              colClasses=c('MiscFeature'='character','PoolQC'='character','Alley'='character'))\n",
    "\n",
    "# Il faut renommer les colonnes 1stFlrSF, 2ndFlrSF, et 3SsnPorch pour pas avoir d'emmerdes\n",
    "FirstFlrSF=test$'1stFlrSF'\n",
    "SecondFlrSF=test$'2ndFlrSF'\n",
    "ThreeSsnPorch=test$'3SsnPorch'\n",
    "new_names = names(test)[-which(names(test)=='1stFlrSF'|names(test)=='2ndFlrSF'|names(test)=='3SsnPorch')]\n",
    "to_add = data.table(FirstFlrSF,SecondFlrSF,ThreeSsnPorch)\n",
    "test = cbind(test[,new_names,with=FALSE],to_add)\n",
    "\n",
    "# Transform categorical arguments KitchenQual, ExterQual, BsmtQual, GarageFinish, into numerical\n",
    "\n",
    "# KitchenQual\n",
    "nKitchenQual = numeric(length(test$KitchenQual))\n",
    "nKitchenQual[test$KitchenQual=='TA']=1.0\n",
    "nKitchenQual[test$KitchenQual=='Gd']=2.0\n",
    "nKitchenQual[test$KitchenQual=='Ex']=3.0\n",
    "test=cbind(test,nKitchenQual)\n",
    "\n",
    "# ExterQual\n",
    "nExterQual = numeric(length(test$ExterQual))\n",
    "nExterQual[test$ExterQual=='TA']=1.0\n",
    "nExterQual[test$ExterQual=='Gd']=2.0\n",
    "nExterQual[test$ExterQual=='Ex']=3.0\n",
    "test=cbind(test,nExterQual)\n",
    "\n",
    "# BsmtQual\n",
    "nBsmtQual = numeric(length(test$BsmtQual))\n",
    "nBsmtQual[test$BsmtQual=='TA']=1.0\n",
    "nBsmtQual[test$BsmtQual=='Gd']=2.0\n",
    "nBsmtQual[test$BsmtQual=='Ex']=3.0\n",
    "test=cbind(test,nBsmtQual)\n",
    "\n",
    "# GarageFinish\n",
    "nGarageFinish = numeric(length(test$GarageFinish))\n",
    "nGarageFinish[test$GarageFinish=='Unf']=1.0\n",
    "nGarageFinish[test$GarageFinish=='RFn']=2.0\n",
    "nGarageFinish[test$GarageFinish=='Fin']=3.0\n",
    "test=cbind(test,nGarageFinish)\n",
    "\n",
    "# Full and half bathrooms\n",
    "test$Bath = test$FullBath + test$HalfBath\n",
    "test$BsmtBaths = test$BsmtFullBath + test$BsmtHalfBath\n",
    "\n",
    "# TotalBsmtSF_on_GrLivArea\n",
    "test$TotalBsmtSF_on_GrLivArea = test$TotalBsmtSF/test$GrLivArea\n",
    "\n",
    "# Missing feature:\n",
    "test[1117,\"GarageCars\"] = 0\n",
    "test[661,\"BsmtFinSF1\"] = 0\n",
    "test[661,\"TotalBsmtSF\"] = 0\n",
    "test[661,\"TotalBsmtSF_on_GrLivArea\"] = 0"
   ]
  },
  {
   "cell_type": "code",
   "execution_count": 160,
   "metadata": {
    "collapsed": false
   },
   "outputs": [],
   "source": [
    "kept_features = c(\"LotArea\",\"OverallQual\",\"YearBuilt\",\"YearRemodAdd\",\"nKitchenQual\",\"nExterQual\",\n",
    "                   \"nBsmtQual\",\"GrLivArea\",\"Bath\",\"nGarageFinish\",\n",
    "                   \"BsmtFinSF1\",\"GarageCars\",\"TotalBsmtSF\",\"KitchenAbvGr\",\"BedroomAbvGr\",\"TotRmsAbvGrd\",\"OverallCond\",\n",
    "                   \"TotalBsmtSF_on_GrLivArea\")\n",
    "\n",
    "\n",
    "        #\"LotArea\", \"OverallQual\", \"OverallCond\", \"YearBuilt\", \"YearRemodAdd\", \"BsmtFinSF1\", \"BsmtFinSF2\",\n",
    "        #         \"BsmtUnfSF\", \"TotalBsmtSF\", \"LowQualFinSF\", \"GrLivArea\", \"BsmtFullBath\",\n",
    "        #        \"BsmtHalfBath\", \"FullBath\", \"HalfBath\", \"BedroomAbvGr\", \"KitchenAbvGr\", \"TotRmsAbvGrd\", \"Fireplaces\",\n",
    "        #       \"GarageCars\", \"GarageArea\", \"WoodDeckSF\", \"OpenPorchSF\", \"EnclosedPorch\", \"ScreenPorch\", \n",
    "        #      \"MiscVal\", \"MoSold\", \"YrSold\",\"PoolArea\",\"FirstFlrSF\",\"SecondFlrSF\",\"ThreeSsnPorch\",\"nKitchenQual\",\n",
    "        #     \"nExterQual\",\"nBsmtQual\",\"nGarageFinish\"\n",
    "                \n",
    "train.kept = train[,c(kept_features,\"SalePrice\"),with=FALSE]\n",
    "test.kept = test[,kept_features,with=FALSE]"
   ]
  },
  {
   "cell_type": "code",
   "execution_count": null,
   "metadata": {
    "collapsed": true
   },
   "outputs": [],
   "source": []
  },
  {
   "cell_type": "code",
   "execution_count": null,
   "metadata": {
    "collapsed": true
   },
   "outputs": [],
   "source": []
  },
  {
   "cell_type": "code",
   "execution_count": 161,
   "metadata": {
    "collapsed": false
   },
   "outputs": [],
   "source": [
    "## For tests on train data\n",
    "#set.seed(5)\n",
    "#inTrain = createDataPartition(train.kept$SalePrice,p=.75,list=FALSE)\n",
    "##print(inTrain)\n",
    "#train.sample = train.kept[inTrain,-\"SalePrice\",with=FALSE]\n",
    "#train.target = train.kept[inTrain,.(SalePrice=as.numeric(SalePrice))]\n",
    "#test.sample = train.kept[-inTrain,-\"SalePrice\",with=FALSE]\n",
    "#test.target = train.kept[-inTrain,.(SalePrice=as.numeric(SalePrice))]\n",
    "\n",
    "# For predictions for leaderboard\n",
    "train.sample = train.kept[,-\"SalePrice\",with=FALSE]\n",
    "train.target = train.kept[,.(SalePrice=as.numeric(SalePrice))]\n",
    "test.sample = scale(test.kept)\n",
    "#test.target = train.kept8[-inTrain,.(SalePrice=as.numeric(SalePrice))]"
   ]
  },
  {
   "cell_type": "code",
   "execution_count": 162,
   "metadata": {
    "collapsed": true
   },
   "outputs": [],
   "source": [
    "bootControl <- trainControl(number = 50, verboseIter=TRUE)\n",
    "tuneGrid = expand.grid(C=c(1.25),sigma=c(.015))\n",
    "#bootControl\n",
    "#tuneGrid\n",
    "set.seed(6)"
   ]
  },
  {
   "cell_type": "code",
   "execution_count": 95,
   "metadata": {
    "collapsed": false
   },
   "outputs": [
    {
     "name": "stdout",
     "output_type": "stream",
     "text": [
      "+ Resample01: C=1.25, sigma=0.015 \n",
      "- Resample01: C=1.25, sigma=0.015 \n",
      "+ Resample02: C=1.25, sigma=0.015 \n",
      "- Resample02: C=1.25, sigma=0.015 \n",
      "+ Resample03: C=1.25, sigma=0.015 \n",
      "- Resample03: C=1.25, sigma=0.015 \n",
      "+ Resample04: C=1.25, sigma=0.015 \n",
      "- Resample04: C=1.25, sigma=0.015 \n",
      "+ Resample05: C=1.25, sigma=0.015 \n",
      "- Resample05: C=1.25, sigma=0.015 \n",
      "+ Resample06: C=1.25, sigma=0.015 \n",
      "- Resample06: C=1.25, sigma=0.015 \n",
      "+ Resample07: C=1.25, sigma=0.015 \n",
      "- Resample07: C=1.25, sigma=0.015 \n",
      "+ Resample08: C=1.25, sigma=0.015 \n",
      "- Resample08: C=1.25, sigma=0.015 \n",
      "+ Resample09: C=1.25, sigma=0.015 \n",
      "- Resample09: C=1.25, sigma=0.015 \n",
      "+ Resample10: C=1.25, sigma=0.015 \n",
      "- Resample10: C=1.25, sigma=0.015 \n",
      "+ Resample11: C=1.25, sigma=0.015 \n",
      "- Resample11: C=1.25, sigma=0.015 \n",
      "+ Resample12: C=1.25, sigma=0.015 \n",
      "- Resample12: C=1.25, sigma=0.015 \n",
      "+ Resample13: C=1.25, sigma=0.015 \n",
      "- Resample13: C=1.25, sigma=0.015 \n",
      "+ Resample14: C=1.25, sigma=0.015 \n",
      "- Resample14: C=1.25, sigma=0.015 \n",
      "+ Resample15: C=1.25, sigma=0.015 \n",
      "- Resample15: C=1.25, sigma=0.015 \n",
      "+ Resample16: C=1.25, sigma=0.015 \n",
      "- Resample16: C=1.25, sigma=0.015 \n",
      "+ Resample17: C=1.25, sigma=0.015 \n",
      "- Resample17: C=1.25, sigma=0.015 \n",
      "+ Resample18: C=1.25, sigma=0.015 \n",
      "- Resample18: C=1.25, sigma=0.015 \n",
      "+ Resample19: C=1.25, sigma=0.015 \n",
      "- Resample19: C=1.25, sigma=0.015 \n",
      "+ Resample20: C=1.25, sigma=0.015 \n",
      "- Resample20: C=1.25, sigma=0.015 \n",
      "+ Resample21: C=1.25, sigma=0.015 \n",
      "- Resample21: C=1.25, sigma=0.015 \n",
      "+ Resample22: C=1.25, sigma=0.015 \n",
      "- Resample22: C=1.25, sigma=0.015 \n",
      "+ Resample23: C=1.25, sigma=0.015 \n",
      "- Resample23: C=1.25, sigma=0.015 \n",
      "+ Resample24: C=1.25, sigma=0.015 \n",
      "- Resample24: C=1.25, sigma=0.015 \n",
      "+ Resample25: C=1.25, sigma=0.015 \n",
      "- Resample25: C=1.25, sigma=0.015 \n",
      "+ Resample26: C=1.25, sigma=0.015 \n",
      "- Resample26: C=1.25, sigma=0.015 \n",
      "+ Resample27: C=1.25, sigma=0.015 \n",
      "- Resample27: C=1.25, sigma=0.015 \n",
      "+ Resample28: C=1.25, sigma=0.015 \n",
      "- Resample28: C=1.25, sigma=0.015 \n",
      "+ Resample29: C=1.25, sigma=0.015 \n",
      "- Resample29: C=1.25, sigma=0.015 \n",
      "+ Resample30: C=1.25, sigma=0.015 \n",
      "- Resample30: C=1.25, sigma=0.015 \n",
      "+ Resample31: C=1.25, sigma=0.015 \n",
      "- Resample31: C=1.25, sigma=0.015 \n",
      "+ Resample32: C=1.25, sigma=0.015 \n",
      "- Resample32: C=1.25, sigma=0.015 \n",
      "+ Resample33: C=1.25, sigma=0.015 \n",
      "- Resample33: C=1.25, sigma=0.015 \n",
      "+ Resample34: C=1.25, sigma=0.015 \n",
      "- Resample34: C=1.25, sigma=0.015 \n",
      "+ Resample35: C=1.25, sigma=0.015 \n",
      "- Resample35: C=1.25, sigma=0.015 \n",
      "+ Resample36: C=1.25, sigma=0.015 \n",
      "- Resample36: C=1.25, sigma=0.015 \n",
      "+ Resample37: C=1.25, sigma=0.015 \n",
      "- Resample37: C=1.25, sigma=0.015 \n",
      "+ Resample38: C=1.25, sigma=0.015 \n",
      "- Resample38: C=1.25, sigma=0.015 \n",
      "+ Resample39: C=1.25, sigma=0.015 \n",
      "- Resample39: C=1.25, sigma=0.015 \n",
      "+ Resample40: C=1.25, sigma=0.015 \n",
      "- Resample40: C=1.25, sigma=0.015 \n",
      "+ Resample41: C=1.25, sigma=0.015 \n",
      "- Resample41: C=1.25, sigma=0.015 \n",
      "+ Resample42: C=1.25, sigma=0.015 \n",
      "- Resample42: C=1.25, sigma=0.015 \n",
      "+ Resample43: C=1.25, sigma=0.015 \n",
      "- Resample43: C=1.25, sigma=0.015 \n",
      "+ Resample44: C=1.25, sigma=0.015 \n",
      "- Resample44: C=1.25, sigma=0.015 \n",
      "+ Resample45: C=1.25, sigma=0.015 \n",
      "- Resample45: C=1.25, sigma=0.015 \n",
      "+ Resample46: C=1.25, sigma=0.015 \n",
      "- Resample46: C=1.25, sigma=0.015 \n",
      "+ Resample47: C=1.25, sigma=0.015 \n",
      "- Resample47: C=1.25, sigma=0.015 \n",
      "+ Resample48: C=1.25, sigma=0.015 \n",
      "- Resample48: C=1.25, sigma=0.015 \n",
      "+ Resample49: C=1.25, sigma=0.015 \n",
      "- Resample49: C=1.25, sigma=0.015 \n",
      "+ Resample50: C=1.25, sigma=0.015 \n",
      "- Resample50: C=1.25, sigma=0.015 \n",
      "Aggregating results\n",
      "Fitting final model on full training set\n"
     ]
    }
   ],
   "source": [
    "svmFit = train(x=train.sample,y=train.target$SalePrice,method='svmRadial',\n",
    "               tuneLength=5,trControl=bootControl,tuneGrid = tuneGrid, preProcess=c(\"center\",\"scale\"))\n",
    "#summary(svmFit)"
   ]
  },
  {
   "cell_type": "code",
   "execution_count": null,
   "metadata": {
    "collapsed": true
   },
   "outputs": [],
   "source": []
  },
  {
   "cell_type": "code",
   "execution_count": null,
   "metadata": {
    "collapsed": true
   },
   "outputs": [],
   "source": []
  },
  {
   "cell_type": "code",
   "execution_count": null,
   "metadata": {
    "collapsed": true
   },
   "outputs": [],
   "source": []
  },
  {
   "cell_type": "code",
   "execution_count": null,
   "metadata": {
    "collapsed": true
   },
   "outputs": [],
   "source": []
  },
  {
   "cell_type": "code",
   "execution_count": null,
   "metadata": {
    "collapsed": true
   },
   "outputs": [],
   "source": []
  },
  {
   "cell_type": "code",
   "execution_count": 163,
   "metadata": {
    "collapsed": false
   },
   "outputs": [],
   "source": [
    "svmFit.prediction=predict(svmFit$finalModel,newdata=test.sample)"
   ]
  },
  {
   "cell_type": "code",
   "execution_count": 164,
   "metadata": {
    "collapsed": false
   },
   "outputs": [
    {
     "data": {
      "text/html": [
       "<table>\n",
       "<tbody>\n",
       "\t<tr><td>126035.2</td></tr>\n",
       "\t<tr><td>176378.7</td></tr>\n",
       "\t<tr><td>197271.3</td></tr>\n",
       "\t<tr><td>197658.6</td></tr>\n",
       "\t<tr><td>177574.1</td></tr>\n",
       "\t<tr><td>174263.9</td></tr>\n",
       "</tbody>\n",
       "</table>\n"
      ],
      "text/latex": [
       "\\begin{tabular}{l}\n",
       "\t 126035.2\\\\\n",
       "\t 176378.7\\\\\n",
       "\t 197271.3\\\\\n",
       "\t 197658.6\\\\\n",
       "\t 177574.1\\\\\n",
       "\t 174263.9\\\\\n",
       "\\end{tabular}\n"
      ],
      "text/markdown": [
       "1. 126035.205907618\n",
       "2. 176378.723658264\n",
       "3. 197271.34484677\n",
       "4. 197658.58693827\n",
       "5. 177574.076334091\n",
       "6. 174263.920988256\n",
       "\n",
       "\n"
      ],
      "text/plain": [
       "         [,1]\n",
       "[1,] 126035.2\n",
       "[2,] 176378.7\n",
       "[3,] 197271.3\n",
       "[4,] 197658.6\n",
       "[5,] 177574.1\n",
       "[6,] 174263.9"
      ]
     },
     "metadata": {},
     "output_type": "display_data"
    },
    {
     "data": {
      "text/html": [
       "'matrix'"
      ],
      "text/latex": [
       "'matrix'"
      ],
      "text/markdown": [
       "'matrix'"
      ],
      "text/plain": [
       "[1] \"matrix\""
      ]
     },
     "metadata": {},
     "output_type": "display_data"
    }
   ],
   "source": [
    "head(svmFit.prediction)\n",
    "class(svmFit.prediction)"
   ]
  },
  {
   "cell_type": "code",
   "execution_count": 165,
   "metadata": {
    "collapsed": false
   },
   "outputs": [],
   "source": [
    "to_predict = data.table(Id=fread('~/kaggle/house_prices/data/sample_submission.csv')$Id)\n",
    "predictions = cbind(to_predict,svmFit.prediction)\n",
    "colnames(predictions)[2] <- \"SalePrice\""
   ]
  },
  {
   "cell_type": "code",
   "execution_count": 166,
   "metadata": {
    "collapsed": false
   },
   "outputs": [
    {
     "data": {
      "text/html": [
       "<table>\n",
       "<thead><tr><th></th><th scope=col>Id</th><th scope=col>SalePrice</th></tr></thead>\n",
       "<tbody>\n",
       "\t<tr><th scope=row>1</th><td>  2577.0</td><td>141599.1</td></tr>\n",
       "</tbody>\n",
       "</table>\n"
      ],
      "text/latex": [
       "\\begin{tabular}{r|ll}\n",
       "  & Id & SalePrice\\\\\n",
       "\\hline\n",
       "\t1 &   2577.0 & 141599.1\\\\\n",
       "\\end{tabular}\n"
      ],
      "text/plain": [
       "    Id SalePrice\n",
       "1 2577  141599.1"
      ]
     },
     "metadata": {},
     "output_type": "display_data"
    },
    {
     "data": {
      "text/html": [
       "<dl class=dl-horizontal>\n",
       "\t<dt>LotArea</dt>\n",
       "\t\t<dd>-0.153195119528792</dd>\n",
       "\t<dt>OverallQual</dt>\n",
       "\t\t<dd>-0.750843798839486</dd>\n",
       "\t<dt>YearBuilt</dt>\n",
       "\t\t<dd>-1.59123614946263</dd>\n",
       "\t<dt>YearRemodAdd</dt>\n",
       "\t\t<dd>0.725834281786448</dd>\n",
       "\t<dt>nKitchenQual</dt>\n",
       "\t\t<dd>0.741504012432737</dd>\n",
       "\t<dt>nExterQual</dt>\n",
       "\t\t<dd>-0.677869077367577</dd>\n",
       "\t<dt>nBsmtQual</dt>\n",
       "\t\t<dd>0.627060252619858</dd>\n",
       "\t<dt>GrLivArea</dt>\n",
       "\t\t<dd>0.704237958712808</dd>\n",
       "\t<dt>Bath</dt>\n",
       "\t\t<dd>0.0631812969353485</dd>\n",
       "\t<dt>nGarageFinish</dt>\n",
       "\t\t<dd>-1.90247669260134</dd>\n",
       "\t<dt>BsmtFinSF1</dt>\n",
       "\t\t<dd>0.239638925968347</dd>\n",
       "\t<dt>GarageCars</dt>\n",
       "\t\t<dd>-2.27127514249345</dd>\n",
       "\t<dt>TotalBsmtSF</dt>\n",
       "\t\t<dd>-0.420207193273042</dd>\n",
       "\t<dt>KitchenAbvGr</dt>\n",
       "\t\t<dd>-0.203839970495936</dd>\n",
       "\t<dt>BedroomAbvGr</dt>\n",
       "\t\t<dd>0.175936914691476</dd>\n",
       "\t<dt>TotRmsAbvGrd</dt>\n",
       "\t\t<dd>-0.255283136149073</dd>\n",
       "\t<dt>OverallCond</dt>\n",
       "\t\t<dd>0.400628677795674</dd>\n",
       "\t<dt>TotalBsmtSF_on_GrLivArea</dt>\n",
       "\t\t<dd>-0.950196017308463</dd>\n",
       "</dl>\n"
      ],
      "text/latex": [
       "\\begin{description*}\n",
       "\\item[LotArea] -0.153195119528792\n",
       "\\item[OverallQual] -0.750843798839486\n",
       "\\item[YearBuilt] -1.59123614946263\n",
       "\\item[YearRemodAdd] 0.725834281786448\n",
       "\\item[nKitchenQual] 0.741504012432737\n",
       "\\item[nExterQual] -0.677869077367577\n",
       "\\item[nBsmtQual] 0.627060252619858\n",
       "\\item[GrLivArea] 0.704237958712808\n",
       "\\item[Bath] 0.0631812969353485\n",
       "\\item[nGarageFinish] -1.90247669260134\n",
       "\\item[BsmtFinSF1] 0.239638925968347\n",
       "\\item[GarageCars] -2.27127514249345\n",
       "\\item[TotalBsmtSF] -0.420207193273042\n",
       "\\item[KitchenAbvGr] -0.203839970495936\n",
       "\\item[BedroomAbvGr] 0.175936914691476\n",
       "\\item[TotRmsAbvGrd] -0.255283136149073\n",
       "\\item[OverallCond] 0.400628677795674\n",
       "\\item[TotalBsmtSF\\textbackslash{}\\_on\\textbackslash{}\\_GrLivArea] -0.950196017308463\n",
       "\\end{description*}\n"
      ],
      "text/markdown": [
       "LotArea\n",
       ":   -0.153195119528792OverallQual\n",
       ":   -0.750843798839486YearBuilt\n",
       ":   -1.59123614946263YearRemodAdd\n",
       ":   0.725834281786448nKitchenQual\n",
       ":   0.741504012432737nExterQual\n",
       ":   -0.677869077367577nBsmtQual\n",
       ":   0.627060252619858GrLivArea\n",
       ":   0.704237958712808Bath\n",
       ":   0.0631812969353485nGarageFinish\n",
       ":   -1.90247669260134BsmtFinSF1\n",
       ":   0.239638925968347GarageCars\n",
       ":   -2.27127514249345TotalBsmtSF\n",
       ":   -0.420207193273042KitchenAbvGr\n",
       ":   -0.203839970495936BedroomAbvGr\n",
       ":   0.175936914691476TotRmsAbvGrd\n",
       ":   -0.255283136149073OverallCond\n",
       ":   0.400628677795674TotalBsmtSF_on_GrLivArea\n",
       ":   -0.950196017308463\n",
       "\n"
      ],
      "text/plain": [
       "                 LotArea              OverallQual                YearBuilt \n",
       "              -0.1531951               -0.7508438               -1.5912361 \n",
       "            YearRemodAdd             nKitchenQual               nExterQual \n",
       "               0.7258343                0.7415040               -0.6778691 \n",
       "               nBsmtQual                GrLivArea                     Bath \n",
       "               0.6270603                0.7042380                0.0631813 \n",
       "           nGarageFinish               BsmtFinSF1               GarageCars \n",
       "              -1.9024767                0.2396389               -2.2712751 \n",
       "             TotalBsmtSF             KitchenAbvGr             BedroomAbvGr \n",
       "              -0.4202072               -0.2038400                0.1759369 \n",
       "            TotRmsAbvGrd              OverallCond TotalBsmtSF_on_GrLivArea \n",
       "              -0.2552831                0.4006287               -0.9501960 "
      ]
     },
     "metadata": {},
     "output_type": "display_data"
    }
   ],
   "source": [
    "predictions[1117]\n",
    "test.sample[1117,]"
   ]
  },
  {
   "cell_type": "code",
   "execution_count": 167,
   "metadata": {
    "collapsed": false
   },
   "outputs": [
    {
     "data": {
      "text/html": [
       "<table>\n",
       "<thead><tr><th></th><th scope=col>Id</th><th scope=col>SalePrice</th></tr></thead>\n",
       "<tbody>\n",
       "\t<tr><th scope=row>1</th><td> 2121.00</td><td>87195.37</td></tr>\n",
       "</tbody>\n",
       "</table>\n"
      ],
      "text/latex": [
       "\\begin{tabular}{r|ll}\n",
       "  & Id & SalePrice\\\\\n",
       "\\hline\n",
       "\t1 &  2121.00 & 87195.37\\\\\n",
       "\\end{tabular}\n"
      ],
      "text/plain": [
       "    Id SalePrice\n",
       "1 2121  87195.37"
      ]
     },
     "metadata": {},
     "output_type": "display_data"
    },
    {
     "data": {
      "text/html": [
       "0"
      ],
      "text/latex": [
       "0"
      ],
      "text/markdown": [
       "0"
      ],
      "text/plain": [
       "[1] 0"
      ]
     },
     "metadata": {},
     "output_type": "display_data"
    },
    {
     "data": {
      "text/html": [
       "<dl class=dl-horizontal>\n",
       "\t<dt>LotArea</dt>\n",
       "\t\t<dd>-0.782796389016252</dd>\n",
       "\t<dt>OverallQual</dt>\n",
       "\t\t<dd>-1.44682925151217</dd>\n",
       "\t<dt>YearBuilt</dt>\n",
       "\t\t<dd>-0.834410009661662</dd>\n",
       "\t<dt>YearRemodAdd</dt>\n",
       "\t\t<dd>-1.59309223379629</dd>\n",
       "\t<dt>nKitchenQual</dt>\n",
       "\t\t<dd>-0.769465755918329</dd>\n",
       "\t<dt>nExterQual</dt>\n",
       "\t\t<dd>-0.677869077367577</dd>\n",
       "\t<dt>nBsmtQual</dt>\n",
       "\t\t<dd>-2.02093079968802</dd>\n",
       "\t<dt>GrLivArea</dt>\n",
       "\t\t<dd>-1.21517116516334</dd>\n",
       "\t<dt>Bath</dt>\n",
       "\t\t<dd>-1.1659055327803</dd>\n",
       "\t<dt>nGarageFinish</dt>\n",
       "\t\t<dd>-0.793964913645528</dd>\n",
       "\t<dt>BsmtFinSF1</dt>\n",
       "\t\t<dd>-0.964076463936499</dd>\n",
       "\t<dt>GarageCars</dt>\n",
       "\t\t<dd>-0.984366236513667</dd>\n",
       "\t<dt>TotalBsmtSF</dt>\n",
       "\t\t<dd>-2.35666706918239</dd>\n",
       "\t<dt>KitchenAbvGr</dt>\n",
       "\t\t<dd>-0.203839970495936</dd>\n",
       "\t<dt>BedroomAbvGr</dt>\n",
       "\t\t<dd>-1.0291896511999</dd>\n",
       "\t<dt>TotRmsAbvGrd</dt>\n",
       "\t\t<dd>-1.58075678611881</dd>\n",
       "\t<dt>OverallCond</dt>\n",
       "\t\t<dd>1.2985046238846</dd>\n",
       "\t<dt>TotalBsmtSF_on_GrLivArea</dt>\n",
       "\t\t<dd>-2.65233638624194</dd>\n",
       "</dl>\n"
      ],
      "text/latex": [
       "\\begin{description*}\n",
       "\\item[LotArea] -0.782796389016252\n",
       "\\item[OverallQual] -1.44682925151217\n",
       "\\item[YearBuilt] -0.834410009661662\n",
       "\\item[YearRemodAdd] -1.59309223379629\n",
       "\\item[nKitchenQual] -0.769465755918329\n",
       "\\item[nExterQual] -0.677869077367577\n",
       "\\item[nBsmtQual] -2.02093079968802\n",
       "\\item[GrLivArea] -1.21517116516334\n",
       "\\item[Bath] -1.1659055327803\n",
       "\\item[nGarageFinish] -0.793964913645528\n",
       "\\item[BsmtFinSF1] -0.964076463936499\n",
       "\\item[GarageCars] -0.984366236513667\n",
       "\\item[TotalBsmtSF] -2.35666706918239\n",
       "\\item[KitchenAbvGr] -0.203839970495936\n",
       "\\item[BedroomAbvGr] -1.0291896511999\n",
       "\\item[TotRmsAbvGrd] -1.58075678611881\n",
       "\\item[OverallCond] 1.2985046238846\n",
       "\\item[TotalBsmtSF\\textbackslash{}\\_on\\textbackslash{}\\_GrLivArea] -2.65233638624194\n",
       "\\end{description*}\n"
      ],
      "text/markdown": [
       "LotArea\n",
       ":   -0.782796389016252OverallQual\n",
       ":   -1.44682925151217YearBuilt\n",
       ":   -0.834410009661662YearRemodAdd\n",
       ":   -1.59309223379629nKitchenQual\n",
       ":   -0.769465755918329nExterQual\n",
       ":   -0.677869077367577nBsmtQual\n",
       ":   -2.02093079968802GrLivArea\n",
       ":   -1.21517116516334Bath\n",
       ":   -1.1659055327803nGarageFinish\n",
       ":   -0.793964913645528BsmtFinSF1\n",
       ":   -0.964076463936499GarageCars\n",
       ":   -0.984366236513667TotalBsmtSF\n",
       ":   -2.35666706918239KitchenAbvGr\n",
       ":   -0.203839970495936BedroomAbvGr\n",
       ":   -1.0291896511999TotRmsAbvGrd\n",
       ":   -1.58075678611881OverallCond\n",
       ":   1.2985046238846TotalBsmtSF_on_GrLivArea\n",
       ":   -2.65233638624194\n",
       "\n"
      ],
      "text/plain": [
       "                 LotArea              OverallQual                YearBuilt \n",
       "              -0.7827964               -1.4468293               -0.8344100 \n",
       "            YearRemodAdd             nKitchenQual               nExterQual \n",
       "              -1.5930922               -0.7694658               -0.6778691 \n",
       "               nBsmtQual                GrLivArea                     Bath \n",
       "              -2.0209308               -1.2151712               -1.1659055 \n",
       "           nGarageFinish               BsmtFinSF1               GarageCars \n",
       "              -0.7939649               -0.9640765               -0.9843662 \n",
       "             TotalBsmtSF             KitchenAbvGr             BedroomAbvGr \n",
       "              -2.3566671               -0.2038400               -1.0291897 \n",
       "            TotRmsAbvGrd              OverallCond TotalBsmtSF_on_GrLivArea \n",
       "              -1.5807568                1.2985046               -2.6523364 "
      ]
     },
     "metadata": {},
     "output_type": "display_data"
    }
   ],
   "source": [
    "predictions[661,]\n",
    "sum(predictions[,is.na(SalePrice)])\n",
    "test.sample[661,]"
   ]
  },
  {
   "cell_type": "code",
   "execution_count": null,
   "metadata": {
    "collapsed": true
   },
   "outputs": [],
   "source": []
  },
  {
   "cell_type": "code",
   "execution_count": 168,
   "metadata": {
    "collapsed": false
   },
   "outputs": [],
   "source": [
    "write.csv(predictions,'~/kaggle/house_prices/data/submission_svm_1.csv',row.names=FALSE)\n",
    "# leaderboard score = 0.13999"
   ]
  },
  {
   "cell_type": "code",
   "execution_count": null,
   "metadata": {
    "collapsed": true
   },
   "outputs": [],
   "source": []
  },
  {
   "cell_type": "code",
   "execution_count": 50,
   "metadata": {
    "collapsed": false
   },
   "outputs": [
    {
     "data": {
      "text/html": [
       "0.133114212491771"
      ],
      "text/latex": [
       "0.133114212491771"
      ],
      "text/markdown": [
       "0.133114212491771"
      ],
      "text/plain": [
       "[1] 0.1331142"
      ]
     },
     "metadata": {},
     "output_type": "display_data"
    }
   ],
   "source": [
    "#rmsle(test.target$SalePrice,svmFit.prediction)\n",
    "# sans GardenRatio rmsle=0.144718347370209"
   ]
  }
 ],
 "metadata": {
  "kernelspec": {
   "display_name": "R",
   "language": "R",
   "name": "ir"
  },
  "language_info": {
   "codemirror_mode": "r",
   "file_extension": ".r",
   "mimetype": "text/x-r-source",
   "name": "R",
   "pygments_lexer": "r",
   "version": "3.3.1"
  }
 },
 "nbformat": 4,
 "nbformat_minor": 1
}
