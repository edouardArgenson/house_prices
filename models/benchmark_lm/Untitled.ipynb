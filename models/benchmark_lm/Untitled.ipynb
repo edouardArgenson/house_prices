{
 "cells": [
  {
   "cell_type": "code",
   "execution_count": 32,
   "metadata": {
    "collapsed": false
   },
   "outputs": [],
   "source": [
    "library('lattice')\n",
    "library('ggplot2')\n",
    "library('caret')\n",
    "library('data.table')\n",
    "library('Metrics')\n",
    "library('MASS')\n",
    "library('e1071')\n",
    "library('kernlab')\n",
    "library('plotmo')\n",
    "library('plotrix')\n",
    "library('TeachingDemos')\n",
    "library('earth')"
   ]
  },
  {
   "cell_type": "code",
   "execution_count": 33,
   "metadata": {
    "collapsed": true
   },
   "outputs": [],
   "source": [
    "train = fread('~/kaggle/house_prices/data/train.csv',\n",
    "              colClasses=c('MiscFeature'='character','PoolQC'='character','Alley'='character'))\n",
    "\n",
    "# Il faut renommer les colonnes 1stFlrSF, 2ndFlrSF, et 3SsnPorch pour pas avoir d'emmerdes\n",
    "FirstFlrSF=train$'1stFlrSF'\n",
    "SecondFlrSF=train$'2ndFlrSF'\n",
    "ThreeSsnPorch=train$'3SsnPorch'\n",
    "new_names = names(train)[-which(names(train)=='1stFlrSF'|names(train)=='2ndFlrSF'|names(train)=='3SsnPorch')]\n",
    "to_add = data.table(FirstFlrSF,SecondFlrSF,ThreeSsnPorch)\n",
    "train = cbind(train[,new_names,with=FALSE],to_add)\n",
    "\n",
    "# Transform categorical arguments KitchenQual, ExterQual, BsmtQual, GarageFinish, into numerical\n",
    "\n",
    "# KitchenQual\n",
    "nKitchenQual = numeric(length(train$KitchenQual))\n",
    "nKitchenQual[train$KitchenQual=='TA']=1.0\n",
    "nKitchenQual[train$KitchenQual=='Gd']=2.0\n",
    "nKitchenQual[train$KitchenQual=='Ex']=3.0\n",
    "train=cbind(train,nKitchenQual)\n",
    "\n",
    "# ExterQual\n",
    "nExterQual = numeric(length(train$ExterQual))\n",
    "nExterQual[train$ExterQual=='TA']=1.0\n",
    "nExterQual[train$ExterQual=='Gd']=2.0\n",
    "nExterQual[train$ExterQual=='Ex']=3.0\n",
    "train=cbind(train,nExterQual)\n",
    "\n",
    "# BsmtQual\n",
    "nBsmtQual = numeric(length(train$BsmtQual))\n",
    "nBsmtQual[train$BsmtQual=='TA']=1.0\n",
    "nBsmtQual[train$BsmtQual=='Gd']=2.0\n",
    "nBsmtQual[train$BsmtQual=='Ex']=3.0\n",
    "train=cbind(train,nBsmtQual)\n",
    "\n",
    "# GarageFinish\n",
    "nGarageFinish = numeric(length(train$GarageFinish))\n",
    "nGarageFinish[train$GarageFinish=='Unf']=1.0\n",
    "nGarageFinish[train$GarageFinish=='RFn']=2.0\n",
    "nGarageFinish[train$GarageFinish=='Fin']=3.0\n",
    "train=cbind(train,nGarageFinish)\n",
    "\n",
    "# Full and half bathrooms\n",
    "train$Bath = train$FullBath + train$HalfBath\n",
    "train$BsmtBaths = train$BsmtFullBath + train$BsmtHalfBath\n",
    "\n",
    "# Take log of SalePrice\n",
    "train$log_SalePrice = train[,.(log_SalePrice=log(SalePrice))]\n",
    "\n",
    "# Take log of a few features\n",
    "train$log_LotArea = train[,.(log_LotArea=log(LotArea))]\n",
    "train$log_OverallQual = train[,.(log_OverallQual=log(OverallQual))]\n",
    "train$log_YearBuilt = train[,.(log_YearBuilt=log(YearBuilt))]\n",
    "train$log_YearRemodAdd = train[,.(log_YearRemodAdd=log(YearRemodAdd))]\n",
    "train$log_GrLivArea = train[,.(log_GrLivArea=log(GrLivArea))]\n",
    "train$log_Bath = train[,.(log_Bath=log(1+Bath))]\n",
    "train$log_nKitchenQual = train[,.(log_nKitchenQual=log(1+nKitchenQual))]\n",
    "train$log_nBsmtQual = train[,.(log_nBsmtQual=log(1+nBsmtQual))]\n",
    "train$log_nExterQual = train[,.(log_nExterQual=log(1+nExterQual))]\n",
    "train$log_nGarageFinish = train[,.(log_nGarageFinish=log(1+nGarageFinish))]\n",
    "train$log_BsmtFinSF1 = train[,.(log(1+BsmtFinSF1))]\n",
    "train$log_GarageCars = train[,.(log(1+GarageCars))]\n",
    "train$log_TotalBsmtSF = train[,.(log(1+TotalBsmtSF))]\n",
    "train$log_KitchenAbvGr = train[,.(log(1+KitchenAbvGr))]\n",
    "train$log_BedroomAbvGr = train[,.(log(1+BedroomAbvGr))]\n",
    "train$log_TotRmsAbvGrd = train[,.(log(TotRmsAbvGrd))]\n",
    "train$log_OverallCond = train[,.(log(OverallCond))]\n",
    "\n",
    "# Try exp of a few features\n",
    "# None useful\n",
    "\n",
    "# Try powers of a few features\n",
    "train$OverallQual_Square = train$OverallQual*train$OverallQual\n",
    "train$OverallQual_3 = train$OverallQual*train$OverallQual*train$OverallQual\n",
    "train$GrLivArea_Square = train$GrLivArea*train$GrLivArea\n",
    "train$TotalBsmtSF_on_GrLivArea = train$TotalBsmtSF/train$GrLivArea\n",
    "train$OverallCond_sqrt = sqrt(train$OverallCond)\n",
    "train$OverallCond_square = train$OverallCond*train$OverallCond\n",
    "train$LotArea_sqrt = sqrt(train$LotArea)\n",
    "train$FirstFlrSF_sqrt = sqrt(train$FirstFlrSF)\n",
    "train$TotRmsAbvGrd_sqrt = sqrt(train$TotRmsAbvGrd)"
   ]
  },
  {
   "cell_type": "code",
   "execution_count": 34,
   "metadata": {
    "collapsed": true
   },
   "outputs": [],
   "source": [
    "test = fread('~/kaggle/house_prices/data/test.csv',\n",
    "              colClasses=c('MiscFeature'='character','PoolQC'='character','Alley'='character'))\n",
    "\n",
    "# Il faut renommer les colonnes 1stFlrSF, 2ndFlrSF, et 3SsnPorch pour pas avoir d'emmerdes\n",
    "FirstFlrSF=test$'1stFlrSF'\n",
    "SecondFlrSF=test$'2ndFlrSF'\n",
    "ThreeSsnPorch=test$'3SsnPorch'\n",
    "new_names = names(test)[-which(names(test)=='1stFlrSF'|names(test)=='2ndFlrSF'|names(test)=='3SsnPorch')]\n",
    "to_add = data.table(FirstFlrSF,SecondFlrSF,ThreeSsnPorch)\n",
    "test = cbind(test[,new_names,with=FALSE],to_add)\n",
    "\n",
    "# Transform categorical arguments KitchenQual, ExterQual, BsmtQual, GarageFinish, into numerical\n",
    "\n",
    "# KitchenQual\n",
    "nKitchenQual = numeric(length(test$KitchenQual))\n",
    "nKitchenQual[test$KitchenQual=='TA']=1.0\n",
    "nKitchenQual[test$KitchenQual=='Gd']=2.0\n",
    "nKitchenQual[test$KitchenQual=='Ex']=3.0\n",
    "test=cbind(test,nKitchenQual)\n",
    "\n",
    "# ExterQual\n",
    "nExterQual = numeric(length(test$ExterQual))\n",
    "nExterQual[test$ExterQual=='TA']=1.0\n",
    "nExterQual[test$ExterQual=='Gd']=2.0\n",
    "nExterQual[test$ExterQual=='Ex']=3.0\n",
    "test=cbind(test,nExterQual)\n",
    "\n",
    "# BsmtQual\n",
    "nBsmtQual = numeric(length(test$BsmtQual))\n",
    "nBsmtQual[test$BsmtQual=='TA']=1.0\n",
    "nBsmtQual[test$BsmtQual=='Gd']=2.0\n",
    "nBsmtQual[test$BsmtQual=='Ex']=3.0\n",
    "test=cbind(test,nBsmtQual)\n",
    "\n",
    "# GarageFinish\n",
    "nGarageFinish = numeric(length(test$GarageFinish))\n",
    "nGarageFinish[test$GarageFinish=='Unf']=1.0\n",
    "nGarageFinish[test$GarageFinish=='RFn']=2.0\n",
    "nGarageFinish[test$GarageFinish=='Fin']=3.0\n",
    "test=cbind(test,nGarageFinish)\n",
    "\n",
    "# Full and half bathrooms\n",
    "test$Bath = test$FullBath + test$HalfBath\n",
    "test$BsmtBaths = test$BsmtFullBath + test$BsmtHalfBath\n",
    "\n",
    "# TotalBsmtSF_on_GrLivArea\n",
    "test$TotalBsmtSF_on_GrLivArea = test$TotalBsmtSF/test$GrLivArea\n",
    "\n",
    "# Missing feature:\n",
    "test[1117,\"GarageCars\"] = 0\n",
    "test[661,\"BsmtFinSF1\"] = 0\n",
    "test[661,\"TotalBsmtSF\"] = 0\n",
    "test[661,\"TotalBsmtSF_on_GrLivArea\"] = 0"
   ]
  },
  {
   "cell_type": "code",
   "execution_count": 35,
   "metadata": {
    "collapsed": false
   },
   "outputs": [],
   "source": [
    "kept_features = c(\"LotArea\",\"OverallQual\",\"YearBuilt\",\"YearRemodAdd\",\"nKitchenQual\",\"nExterQual\",\n",
    "                   \"nBsmtQual\",\"GrLivArea\",\"Bath\",\"nGarageFinish\",\n",
    "                   \"BsmtFinSF1\",\"GarageCars\",\"TotalBsmtSF\",\"KitchenAbvGr\",\"BedroomAbvGr\",\"TotRmsAbvGrd\",\"OverallCond\",\n",
    "                   \"TotalBsmtSF_on_GrLivArea\")\n",
    "\n",
    "\n",
    "\n",
    "#kept_features = c(\"LotArea\",\"OverallQual\",\"YearBuilt\",\"YearRemodAdd\",\"nKitchenQual\",\"nExterQual\",\n",
    "#                   \"nBsmtQual\",\"GrLivArea\",\"Bath\",\"nGarageFinish\",\n",
    "#                   \"BsmtFinSF1\",\"GarageCars\",\"TotalBsmtSF\",\"KitchenAbvGr\",\"BedroomAbvGr\",\"TotRmsAbvGrd\",\"OverallCond\",\n",
    "#                   \"TotalBsmtSF_on_GrLivArea\")\n",
    "\n",
    "\n",
    "   \n",
    "train.kept = train[,c(kept_features,\"SalePrice\"),with=FALSE]\n",
    "test.kept = test[,kept_features,with=FALSE]"
   ]
  },
  {
   "cell_type": "code",
   "execution_count": 36,
   "metadata": {
    "collapsed": false
   },
   "outputs": [],
   "source": [
    "# For tests on train data\n",
    "set.seed(5)\n",
    "inTrain = createDataPartition(train.kept$SalePrice,p=.75,list=FALSE)\n",
    "#print(inTrain)\n",
    "train.sample = train.kept[inTrain,-\"SalePrice\",with=FALSE]\n",
    "train.target = train.kept[inTrain,.(SalePrice=as.numeric(SalePrice))]\n",
    "test.sample = train.kept[-inTrain,-\"SalePrice\",with=FALSE]\n",
    "test.target = train.kept[-inTrain,.(SalePrice=as.numeric(SalePrice))]\n",
    "\n",
    "## For predictions for leaderboard\n",
    "#train.sample = train.kept[,-\"SalePrice\",with=FALSE]\n",
    "#train.target = train.kept[,.(SalePrice=as.numeric(SalePrice))]\n",
    "#test.sample = scale(test.kept)\n",
    "##test.target = train.kept8[-inTrain,.(SalePrice=as.numeric(SalePrice))]"
   ]
  },
  {
   "cell_type": "code",
   "execution_count": 37,
   "metadata": {
    "collapsed": true
   },
   "outputs": [],
   "source": [
    "bootControl <- trainControl(number = 50, verboseIter=TRUE)\n",
    "#tuneGrid = expand.grid(k=c(15))\n",
    "#bootControl\n",
    "#tuneGrid\n",
    "set.seed(6)"
   ]
  },
  {
   "cell_type": "code",
   "execution_count": null,
   "metadata": {
    "collapsed": false
   },
   "outputs": [],
   "source": [
    "bagEarthFit = train(x=train.sample,y=train.target$SalePrice,method='bagEarth',\n",
    "               trControl=bootControl,tuneLength=10)"
   ]
  },
  {
   "cell_type": "code",
   "execution_count": 23,
   "metadata": {
    "collapsed": false
   },
   "outputs": [],
   "source": [
    "knnFit.prediction=predict(knnFit$finalModel,newdata=test.sample)"
   ]
  },
  {
   "cell_type": "code",
   "execution_count": null,
   "metadata": {
    "collapsed": true
   },
   "outputs": [],
   "source": [
    "rmsle(test.target$SalePrice,svmFit.prediction)"
   ]
  }
 ],
 "metadata": {
  "kernelspec": {
   "display_name": "R",
   "language": "R",
   "name": "ir"
  },
  "language_info": {
   "codemirror_mode": "r",
   "file_extension": ".r",
   "mimetype": "text/x-r-source",
   "name": "R",
   "pygments_lexer": "r",
   "version": "3.3.1"
  }
 },
 "nbformat": 4,
 "nbformat_minor": 1
}
